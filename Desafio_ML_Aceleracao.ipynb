{
 "cells": [
  {
   "cell_type": "code",
   "execution_count": null,
   "id": "740a0c9e-634b-494f-b7a9-d4e6bbd56249",
   "metadata": {
    "scrolled": false
   },
   "outputs": [],
   "source": [
    "import shap\n",
    "import numpy as np\n",
    "import pandas as pd\n",
    "import seaborn as sns\n",
    "from matplotlib import pyplot as plt"
   ]
  },
  {
   "cell_type": "code",
   "execution_count": null,
   "id": "4b15479d",
   "metadata": {
    "scrolled": false
   },
   "outputs": [],
   "source": [
    "# Bibliotecas dos Modelos Utilizados\n",
    "from sklearn.linear_model import LogisticRegression  # Regressão Logística.\n",
    "from sklearn.svm import SVC                          # Máquinas de Vetores de Suporte (SVM).\n",
    "from sklearn.neighbors import KNeighborsClassifier   # K-Vizinhos Mais Próximos\n",
    "from sklearn.tree import DecisionTreeClassifier      # Árvore de Decisões de Classificação.\n",
    "from sklearn.ensemble import RandomForestClassifier  # Floresta Aleatória.\n",
    "from xgboost import XGBClassifier                    # Extreme Gradient Boosting."
   ]
  },
  {
   "cell_type": "code",
   "execution_count": null,
   "id": "b0e9571a",
   "metadata": {
    "scrolled": false
   },
   "outputs": [],
   "source": [
    "# Análise de Dados\n",
    "from sklearn.decomposition import PCA\n",
    "\n",
    "# Treinamento\n",
    "from sklearn.model_selection import train_test_split\n",
    "from sklearn.metrics import accuracy_score, classification_report\n",
    "\n",
    "# Avalição\n",
    "from sklearn.model_selection import KFold, cross_val_score, cross_val_predict\n",
    "from sklearn.inspection import plot_partial_dependence\n",
    "from sklearn.metrics import precision_recall_curve, confusion_matrix, roc_curve, auc, roc_auc_score, accuracy_score, precision_score, recall_score, classification_report\n",
    "from sklearn.preprocessing import label_binarize\n",
    "\n",
    "# Tuning\n",
    "from sklearn.model_selection import GridSearchCV"
   ]
  },
  {
   "cell_type": "markdown",
   "id": "8c69ece5",
   "metadata": {},
   "source": [
    "# Análise de Dados"
   ]
  },
  {
   "cell_type": "code",
   "execution_count": null,
   "id": "a741b4b4",
   "metadata": {
    "scrolled": true
   },
   "outputs": [],
   "source": [
    "# Carregar o DataFrame a partir de um arquivo Excel\n",
    "caminho_arquivo_excel = 'C:\\\\Users\\\\Andre\\\\Desktop\\\\Julia\\\\Mangue_Baja\\\\DESAFIO TÉCNICO\\\\anonymizedData.xlsx'\n",
    "nome_da_pagina = 'P_Aceleration'  # Nome da página desejada\n",
    "\n",
    "# Lê o arquivo Excel com todas as páginas/sheets\n",
    "xl = pd.ExcelFile(caminho_arquivo_excel)\n",
    "\n",
    "df = xl.parse(nome_da_pagina)\n",
    "\n",
    "# Vê dados \n",
    "df.head()"
   ]
  },
  {
   "cell_type": "code",
   "execution_count": null,
   "id": "eca81726",
   "metadata": {
    "scrolled": true
   },
   "outputs": [],
   "source": [
    "# Remove as colunas que não trazem dados relevantes as provas\n",
    "colunas_a_remover = [\n",
    "    'DP_Entre-Eixo',\n",
    "    'DP_Bitola Dianteira',\n",
    "    'DP_Bitola Traseira',\n",
    "    'DP_Altura',\n",
    "    'DP_Comprimento',\n",
    "    'DP_Altura do CG com relacao ao chao',\n",
    "    'DMV_Lado Direito',\n",
    "    'ST_Curso Positivo de projeto',\n",
    "    'SD_Curso Positivo de projeto',\n",
    "    'SD_Curso Negativo de projeto',\n",
    "    'ST_Curso Negativo de projeto',\n",
    "    'D_Relacao',\n",
    "    'D_Curso total da cremalheira',\n",
    "    'D_Inclinacao do pino mestre',\n",
    "    'D_Angulo de caster',\n",
    "    'FD_Pressao no sistema a 07g ',\n",
    "    'FD_Forca no pedal a 07g ',\n",
    "    'FD_Curso total do pedal ',\n",
    "    'FD_Diametro do disco ',\n",
    "    'FT_Pressao no sistema a 07g ',\n",
    "    'FT_Diametro do disco ',\n",
    "    'CD_Raio mínimo de curva do protótipo',\n",
    "    'CD_Velocidade crítica para uma curva de raio de 10 m',\n",
    "    'CD_Distancia de frenagem de 35 a 0 em asfalto',\n",
    "    'CD_Distancia de frenagem de 35 a 0 em terra batida',\n",
    "    'CD_Ganho de rolagem por aceleracao lateral',\n",
    "    'CD_Ganho de arfagem em aceleracao longitudinal',\n",
    "    'CD_Ganho de arfagem em desaceleracao longitudinal'\n",
    "]\n",
    "\n",
    "# Remove as colunas especificadas\n",
    "df = df.drop(colunas_a_remover, axis=1)"
   ]
  },
  {
   "cell_type": "code",
   "execution_count": null,
   "id": "2f6b20a5",
   "metadata": {
    "scrolled": true
   },
   "outputs": [],
   "source": [
    "# Informação básica\n",
    "df.info()"
   ]
  },
  {
   "cell_type": "code",
   "execution_count": null,
   "id": "83830cdb",
   "metadata": {
    "scrolled": true
   },
   "outputs": [],
   "source": [
    "#Descrição de dados\n",
    "df.describe()"
   ]
  },
  {
   "cell_type": "markdown",
   "id": "15993f75",
   "metadata": {},
   "source": [
    "## Limpeza"
   ]
  },
  {
   "cell_type": "code",
   "execution_count": null,
   "id": "662ca05f",
   "metadata": {
    "scrolled": true
   },
   "outputs": [],
   "source": [
    "# Limpar o Dataset das colunas com muitos valores nulos\n",
    "\n",
    "limite_nulos = 725 # Define o limite de valores nulos permitidos\n",
    "\n",
    "# Remove as colunas com mais de limite_nulos valores nulos\n",
    "df = df.dropna(thresh=len(df) - limite_nulos, axis=1)\n",
    "\n",
    "# Checar \n",
    "df.isnull().sum()"
   ]
  },
  {
   "cell_type": "code",
   "execution_count": null,
   "id": "7ca382d7",
   "metadata": {
    "scrolled": true
   },
   "outputs": [],
   "source": [
    "# Verifique quais linhas têm mais de 8 valores iguais nulos\n",
    "linhas_quase_nulas = df[df.isnull().sum(axis=1) > 8]\n",
    "\n",
    "# Exiba as linhas que atendem à condição\n",
    "print(linhas_quase_nulas.index)\n",
    "\n",
    "# Exclua as linhas com base nos índices coletados\n",
    "df = df.drop(linhas_quase_nulas.index)\n",
    "\n",
    "# Exiba o DataFrame resultante\n",
    "print(df)"
   ]
  },
  {
   "cell_type": "code",
   "execution_count": null,
   "id": "089d5bfa",
   "metadata": {
    "scrolled": true
   },
   "outputs": [],
   "source": [
    "# Pela análise dos dados se percebe que as colunas de Dimensões de Pneus trazem muitos valores zerados\n",
    "df = df.drop(['SD_Dimensoes dos pneus'], axis=1)\n",
    "df = df.drop(['ST_Dimensoes dos pneus'], axis=1)"
   ]
  },
  {
   "cell_type": "code",
   "execution_count": null,
   "id": "04cd2472",
   "metadata": {},
   "outputs": [],
   "source": [
    "# Mapeie os valores existentes para os novos valores\n",
    "mapeamento = {1: 0, 2: 1, 3: 2, 4: 3, 5: 4}\n",
    "\n",
    "# Use a função 'replace' para fazer a substituição\n",
    "df['P_Aceleracao'] = df['P_Aceleracao'].replace(mapeamento)\n",
    "\n",
    "print(df)"
   ]
  },
  {
   "cell_type": "code",
   "execution_count": null,
   "id": "c8233afb",
   "metadata": {
    "scrolled": false
   },
   "outputs": [],
   "source": [
    "# Especifique o caminho para o arquivo Excel\n",
    "caminho_arquivo = \"C:\\\\Users\\\\Andre\\\\Desktop\\\\Julia\\\\Mangue_Baja\\\\DESAFIO TÉCNICO\\\\Arquivo_Processado.xlsx\"\n",
    "\n",
    "# Salvar o DataFrame na planilha 'P_Aceleration'\n",
    "df.to_excel(caminho_arquivo, sheet_name='P_Aceleration', index=0)"
   ]
  },
  {
   "cell_type": "code",
   "execution_count": null,
   "id": "e74ba481",
   "metadata": {
    "scrolled": false
   },
   "outputs": [],
   "source": [
    "# Boxplots\n",
    "for coluna in df.columns: # Loop para gerar boxplots para cada variável\n",
    "    plt.boxplot(coluna)\n",
    "    plt.title(f'Boxplot da {coluna}')\n",
    "    plt.ylabel(coluna)\n",
    "    plt.show()"
   ]
  },
  {
   "cell_type": "code",
   "execution_count": null,
   "id": "a2564f34",
   "metadata": {},
   "outputs": [],
   "source": [
    "# Boxplots por Classes\n",
    "for coluna in df.columns:\n",
    "    if coluna != 'P_Aceleracao':  # Excluindo a coluna de classe das análises\n",
    "        plt.figure(figsize=(8, 6))\n",
    "        sns.boxplot(x='P_Aceleracao', y=coluna, data=df)\n",
    "        plt.title(f'Boxplot da {coluna} por P_Aceleracao')\n",
    "        plt.ylabel(coluna)\n",
    "        plt.xlabel('P_Aceleracao')\n",
    "        plt.show()"
   ]
  },
  {
   "cell_type": "code",
   "execution_count": null,
   "id": "99203c90",
   "metadata": {
    "scrolled": true
   },
   "outputs": [],
   "source": [
    "# Tratar Outliers e valores nulos\n",
    "colunas_a_tratar = df.columns.difference(['P_Aceleracao']) # Lista das colunas a serem tratadas \n",
    "\n",
    "\n",
    "# Lista das classes únicas na coluna 'Classe'\n",
    "classes_unicas = df['P_Aceleracao'].unique()\n",
    "\n",
    "# Função para tratar uma coluna específica em uma classe\n",
    "def tratar_coluna_para_classe(data, classe, coluna):\n",
    "    dados_classe = data[data['P_Aceleracao'] == classe]\n",
    "    \n",
    "    # Calcula a mediana dos valores não nulos da coluna para esta classe\n",
    "    mediana = dados_classe[coluna].median()\n",
    "    \n",
    "    # Calcula o desvio padrão dos valores não nulos da coluna para esta classe\n",
    "    desvio_padrao = dados_classe[coluna].std()\n",
    "    \n",
    "    # Define o limite superior e inferior com base no desvio padrão\n",
    "    limite_superior = mediana + (2 * desvio_padrao)\n",
    "    limite_inferior = mediana - (2 * desvio_padrao)\n",
    "    \n",
    "    # Substitui os valores que são nulos ou estão fora do limite pelo valor da mediana\n",
    "    dados_classe[coluna] = dados_classe[coluna].apply(lambda x: mediana if pd.isna(x) or x > limite_superior or x < limite_inferior else x)\n",
    "    \n",
    "    return dados_classe\n",
    "\n",
    "# Loop para tratar todas as colunas para cada classe\n",
    "dados_tratados = []\n",
    "for classe in classes_unicas:\n",
    "    dados_classe = df[df['P_Aceleracao'] == classe].copy()  # Crie uma cópia dos dados da classe\n",
    "    for coluna in colunas_a_tratar:\n",
    "        dados_classe = tratar_coluna_para_classe(dados_classe, classe, coluna)\n",
    "    dados_tratados.append(dados_classe)\n",
    "\n",
    "# Concatena os dados tratados de volta em um único DataFrame\n",
    "df = pd.concat(dados_tratados)\n",
    "\n",
    "print(df)"
   ]
  },
  {
   "cell_type": "code",
   "execution_count": null,
   "id": "e827bffb",
   "metadata": {
    "scrolled": true
   },
   "outputs": [],
   "source": [
    "# Especifique o caminho para o arquivo Excel\n",
    "caminho_arquivo = \"C:\\\\Users\\\\Andre\\\\Desktop\\\\Julia\\\\Mangue_Baja\\\\DESAFIO TÉCNICO\\\\Arquivo_Processado_semO.xlsx\"\n",
    "\n",
    "# Salvar o DataFrame na planilha 'P_Aceleration'\n",
    "df.to_excel(caminho_arquivo, sheet_name='P_Aceleration', index=0)"
   ]
  },
  {
   "cell_type": "markdown",
   "id": "8b474f80",
   "metadata": {},
   "source": [
    "## Análise de Variáveis"
   ]
  },
  {
   "cell_type": "code",
   "execution_count": null,
   "id": "84d71f7d",
   "metadata": {
    "scrolled": true
   },
   "outputs": [],
   "source": [
    "data_corr = df.drop(['P_Aceleracao'], axis=1)\n",
    "# Análise de correlação dos parâmetros\n",
    "correlation = df.corr()"
   ]
  },
  {
   "cell_type": "code",
   "execution_count": null,
   "id": "906cdfae",
   "metadata": {
    "scrolled": false
   },
   "outputs": [],
   "source": [
    "# Plot da matriz de correlação\n",
    "plt.figure(figsize=(10, 8))\n",
    "\n",
    "plot = sns.heatmap(correlation, annot = True, fmt=\".1f\", linewidths=0.5)\n",
    "plt.show()"
   ]
  },
  {
   "cell_type": "code",
   "execution_count": null,
   "id": "b946080d",
   "metadata": {
    "scrolled": true
   },
   "outputs": [],
   "source": [
    "# Aplicar PCA para reduzir variáveis de alta correlação - Massa\n",
    "variaveis_reduzidas = df[['MV_Eixo dianteiro', 'MV_Eixo Traseiro']]\n",
    "\n",
    "pca = PCA(n_components=1)\n",
    "variavel_reduzida = pca.fit_transform(variaveis_reduzidas)\n",
    "\n",
    "# Remove as colunas reduzidas\n",
    "colunas_a_remover = [\n",
    "    'MV_Eixo dianteiro',\n",
    "    'MV_Eixo Traseiro',\n",
    "]\n",
    "\n",
    "df = df.drop(colunas_a_remover, axis=1)\n",
    "\n",
    "# Escolha a posição (índice) onde deseja inserir a nova coluna\n",
    "posicao_desejada = 0\n",
    "\n",
    "# Insira a nova coluna no DataFrame na posição desejada\n",
    "df.insert(posicao_desejada, 'Massa', variavel_reduzida)\n",
    "\n",
    "print(df)"
   ]
  },
  {
   "cell_type": "code",
   "execution_count": null,
   "id": "d305c379",
   "metadata": {
    "scrolled": true
   },
   "outputs": [],
   "source": [
    "# Aplicar PCA para reduzir variáveis de alta correlação - Velocidade em 100 m\n",
    "variaveis_reduzidas = df[['CD_Velocidade maxima de 0 a 100 metros em asfalto ', 'CD_Velocidade maxima de 0 a 100 metros em terra batida ']]\n",
    "\n",
    "pca = PCA(n_components=1)\n",
    "variavel_reduzida = pca.fit_transform(variaveis_reduzidas)\n",
    "\n",
    "# Remove as colunas reduzidas\n",
    "colunas_a_remover = [\n",
    "    'CD_Velocidade maxima de 0 a 100 metros em asfalto ',\n",
    "    'CD_Velocidade maxima de 0 a 100 metros em terra batida '\n",
    "]\n",
    "\n",
    "df = df.drop(colunas_a_remover, axis=1)\n",
    "\n",
    "# Escolha a posição (índice) onde deseja inserir a nova coluna\n",
    "posicao_desejada = 8\n",
    "\n",
    "# Insira a nova coluna no DataFrame na posição desejada\n",
    "df.insert(posicao_desejada, 'CD_Velocidade em 100 m', variavel_reduzida)\n",
    "\n",
    "print(df)"
   ]
  },
  {
   "cell_type": "code",
   "execution_count": null,
   "id": "a52e4814",
   "metadata": {
    "scrolled": true
   },
   "outputs": [],
   "source": [
    "# Aplicar PCA para reduzir variáveis de alta correlação - Tempo para atingir velocidade maxima\n",
    "variaveis_reduzidas = df[['CD_Tempo para atingir velocidade maxima em asfalto', 'CD_Tempo para atingir velocidade maxima em terra batida']]\n",
    "\n",
    "pca = PCA(n_components=1)\n",
    "variavel_reduzida = pca.fit_transform(variaveis_reduzidas)\n",
    "\n",
    "# Remove as colunas reduzidas\n",
    "colunas_a_remover = [\n",
    "    'CD_Tempo para atingir velocidade maxima em asfalto',\n",
    "    'CD_Tempo para atingir velocidade maxima em terra batida'\n",
    "]\n",
    "\n",
    "df = df.drop(colunas_a_remover, axis=1)\n",
    "\n",
    "# Escolha a posição (índice) onde deseja inserir a nova coluna\n",
    "posicao_desejada = 9\n",
    "\n",
    "# Insira a nova coluna no DataFrame na posição desejada\n",
    "df.insert(posicao_desejada, 'CD_Tempo para atingir velocidade maxima', variavel_reduzida)\n",
    "\n",
    "print(df)"
   ]
  },
  {
   "cell_type": "code",
   "execution_count": null,
   "id": "2560af82",
   "metadata": {},
   "outputs": [],
   "source": [
    "# Dividir o conjunto de dados em treinamento e teste\n",
    "dados_treino, dados_teste = train_test_split(df, test_size=0.3)\n",
    "\n",
    "# Separar X e Y\n",
    "X = df.iloc[:, :-1]\n",
    "Y = df.iloc[:, -1]\n",
    "\n",
    "X_treino = dados_treino.iloc[:, :-1]\n",
    "Y_treino = dados_treino.iloc[:, -1]\n",
    "\n",
    "X_teste = dados_teste.iloc[:, :-1]\n",
    "Y_teste = dados_teste.iloc[:, -1]\n",
    "\n",
    "print(Y_teste)"
   ]
  },
  {
   "cell_type": "markdown",
   "id": "6ec742fb",
   "metadata": {},
   "source": [
    "# Escolha do Modelo"
   ]
  },
  {
   "cell_type": "markdown",
   "id": "2551aa5a",
   "metadata": {},
   "source": [
    "## Regressão Logística:"
   ]
  },
  {
   "cell_type": "code",
   "execution_count": null,
   "id": "d8929d1a-63a4-45ae-bfab-b17c284253a9",
   "metadata": {
    "scrolled": true
   },
   "outputs": [],
   "source": [
    "# Modelo de regressão logística.\n",
    "model_LR = LogisticRegression()\n",
    "model_LR.fit(X_treino, Y_treino)"
   ]
  },
  {
   "cell_type": "code",
   "execution_count": null,
   "id": "5f300c28-a56b-498a-a619-37c70f934234",
   "metadata": {
    "scrolled": true
   },
   "outputs": [],
   "source": [
    "# Avaliação do desempenho do modelo.\n",
    "Y_pred = model_LR.predict(X_teste)\n",
    "\n",
    "acuracia = accuracy_score(Y_teste, Y_pred)\n",
    "relatorio_classificacao = classification_report(Y_teste, Y_pred)\n",
    "    \n",
    "print(f\"Desempenho para Regressão Logística:\")\n",
    "print(f'Acurácia: {acuracia:.2f}')\n",
    "print('Relatório de Classificação:')\n",
    "print(relatorio_classificacao)"
   ]
  },
  {
   "cell_type": "code",
   "execution_count": null,
   "id": "95474d74",
   "metadata": {
    "scrolled": true
   },
   "outputs": [],
   "source": [
    "# Analisar os resíduos\n",
    "residuos = Y_teste - Y_pred\n",
    "\n",
    "# Plote um gráfico de dispersão dos resíduos em relação às previsões\n",
    "plt.scatter(Y_pred, residuos)\n",
    "plt.xlabel('Previsões')\n",
    "plt.ylabel('Resíduos')\n",
    "plt.show()"
   ]
  },
  {
   "cell_type": "markdown",
   "id": "9ecf29b2",
   "metadata": {},
   "source": [
    "## Máquinas de Vetores de Suporte (SVM)"
   ]
  },
  {
   "cell_type": "code",
   "execution_count": null,
   "id": "6f19f784-20cd-4184-b54c-68c55174dcd0",
   "metadata": {
    "scrolled": true
   },
   "outputs": [],
   "source": [
    "# Modelo SVM com um kernel linear e \"um contra todos\"\n",
    "model_SVM = SVC(kernel='linear', decision_function_shape='ovr')\n",
    "model_SVM.fit(X_treino, Y_treino)"
   ]
  },
  {
   "cell_type": "code",
   "execution_count": null,
   "id": "c134d47e",
   "metadata": {
    "scrolled": true
   },
   "outputs": [],
   "source": [
    "# Avaliação do desempenho do modelo.\n",
    "Y_pred = model_SVM.predict(X_teste)\n",
    "\n",
    "acuracia = accuracy_score(Y_teste, Y_pred)\n",
    "relatorio_classificacao = classification_report(Y_teste, Y_pred)\n",
    "    \n",
    "print(f\"Desempenho para Máquinas de Vetores de Suporte:\")\n",
    "print(f'Acurácia: {acuracia:.2f}')\n",
    "print('Relatório de Classificação:')\n",
    "print(relatorio_classificacao)"
   ]
  },
  {
   "cell_type": "code",
   "execution_count": null,
   "id": "68c1e3a5",
   "metadata": {
    "scrolled": true
   },
   "outputs": [],
   "source": [
    "# Analisar os resíduos\n",
    "residuos = Y_teste - Y_pred\n",
    "\n",
    "# Plote um gráfico de dispersão dos resíduos em relação às previsões\n",
    "plt.scatter(Y_pred, residuos)\n",
    "plt.xlabel('Previsões')\n",
    "plt.ylabel('Resíduos')\n",
    "plt.show()"
   ]
  },
  {
   "cell_type": "markdown",
   "id": "cd21bad2",
   "metadata": {},
   "source": [
    "## K-Nearest Neighbors"
   ]
  },
  {
   "cell_type": "code",
   "execution_count": null,
   "id": "43b03294",
   "metadata": {
    "scrolled": true
   },
   "outputs": [],
   "source": [
    "k = 3  # Número de vizinhos (Altere por necessidade)\n",
    "\n",
    "# Modelo de K-Vizinhos Mais Próximos (K-Nearest Neighbors - KNN).\n",
    "model_KNN = KNeighborsClassifier(n_neighbors=k)\n",
    "model_KNN.fit(X_treino, Y_treino)"
   ]
  },
  {
   "cell_type": "code",
   "execution_count": null,
   "id": "ed68dfa3",
   "metadata": {
    "scrolled": true
   },
   "outputs": [],
   "source": [
    "# Avaliação do desempenho do modelo usando as métricas de erro quadrático médio (RMSE) e o coeficiente de determinação (R2).\n",
    "Y_pred = model_KNN.predict(X_teste)\n",
    "\n",
    "acuracia = accuracy_score(Y_teste, Y_pred)\n",
    "relatorio_classificacao = classification_report(Y_teste, Y_pred)\n",
    "    \n",
    "print(f\"Desempenho para K-Vizinhos Mais Próximos:\")\n",
    "print(f'Acurácia: {acuracia:.2f}')\n",
    "print('Relatório de Classificação:')\n",
    "print(relatorio_classificacao)"
   ]
  },
  {
   "cell_type": "code",
   "execution_count": null,
   "id": "9c5ebdfc",
   "metadata": {
    "scrolled": true
   },
   "outputs": [],
   "source": [
    "# Analisar os resíduos\n",
    "residuos = Y_teste - Y_pred\n",
    "\n",
    "# Plote um gráfico de dispersão dos resíduos em relação às previsões\n",
    "plt.scatter(Y_pred, residuos)\n",
    "plt.xlabel('Previsões')\n",
    "plt.ylabel('Resíduos')\n",
    "plt.show()"
   ]
  },
  {
   "cell_type": "markdown",
   "id": "9ccc13df",
   "metadata": {},
   "source": [
    "## Decision Tree Classifier"
   ]
  },
  {
   "cell_type": "code",
   "execution_count": null,
   "id": "7f4b40e0",
   "metadata": {
    "scrolled": true
   },
   "outputs": [],
   "source": [
    "# Modelo de Árvore de Decisão de Classificação.\n",
    "model_DTC = DecisionTreeClassifier()\n",
    "model_DTC.fit(X_treino, Y_treino)"
   ]
  },
  {
   "cell_type": "code",
   "execution_count": null,
   "id": "c5a4658a",
   "metadata": {
    "scrolled": true
   },
   "outputs": [],
   "source": [
    "# Avaliação do desempenho do modelo usando as métricas de erro quadrático médio (RMSE) e o coeficiente de determinação (R2).\n",
    "Y_pred = model_DTC.predict(X_teste)\n",
    "\n",
    "acuracia = accuracy_score(Y_teste, Y_pred)\n",
    "relatorio_classificacao = classification_report(Y_teste, Y_pred)\n",
    "    \n",
    "print(f\"Desempenho para Árvore de Decisão de Classificação:\")\n",
    "print(f'Acurácia: {acuracia:.2f}')\n",
    "print('Relatório de Classificação:')\n",
    "print(relatorio_classificacao)"
   ]
  },
  {
   "cell_type": "code",
   "execution_count": null,
   "id": "a6d48304",
   "metadata": {
    "scrolled": true
   },
   "outputs": [],
   "source": [
    "# Analisar os resíduos\n",
    "residuos = Y_teste - Y_pred\n",
    "\n",
    "# Plote um gráfico de dispersão dos resíduos em relação às previsões\n",
    "plt.scatter(Y_pred, residuos)\n",
    "plt.xlabel('Previsões')\n",
    "plt.ylabel('Resíduos')\n",
    "plt.show()"
   ]
  },
  {
   "cell_type": "markdown",
   "id": "eda417dd",
   "metadata": {},
   "source": [
    "## Random Forest Classifier"
   ]
  },
  {
   "cell_type": "code",
   "execution_count": null,
   "id": "bcd0c505",
   "metadata": {
    "scrolled": true
   },
   "outputs": [],
   "source": [
    "# Modelo de Regressão de Floresta Aleatória.\n",
    "model_RFC = RandomForestClassifier()\n",
    "model_RFC.fit(X_treino, Y_treino)"
   ]
  },
  {
   "cell_type": "code",
   "execution_count": null,
   "id": "43ed6de8",
   "metadata": {
    "scrolled": true
   },
   "outputs": [],
   "source": [
    "# Avaliação do desempenho do modelo.\n",
    "Y_pred = model_RFC.predict(X_teste)\n",
    "\n",
    "acuracia = accuracy_score(Y_teste, Y_pred)\n",
    "relatorio_classificacao = classification_report(Y_teste, Y_pred)\n",
    "    \n",
    "print(f\"Desempenho para Regressão de Floresta Aleatória:\")\n",
    "print(f'Acurácia: {acuracia:.2f}')\n",
    "print('Relatório de Classificação:')\n",
    "print(relatorio_classificacao)"
   ]
  },
  {
   "cell_type": "code",
   "execution_count": null,
   "id": "66da8ceb",
   "metadata": {
    "scrolled": true
   },
   "outputs": [],
   "source": [
    "# Analisar os resíduos.\n",
    "residuos = Y_teste - Y_pred\n",
    "\n",
    "# Plote um gráfico de dispersão dos resíduos em relação às previsões\n",
    "plt.scatter(Y_pred, residuos)\n",
    "plt.xlabel('Previsões')\n",
    "plt.ylabel('Resíduos')\n",
    "plt.show()"
   ]
  },
  {
   "cell_type": "markdown",
   "id": "d20c5a1a",
   "metadata": {},
   "source": [
    "## XGBoost"
   ]
  },
  {
   "cell_type": "code",
   "execution_count": null,
   "id": "043ca87d",
   "metadata": {
    "scrolled": false
   },
   "outputs": [],
   "source": [
    "# Modelo de Extreme Gradient Boosting.\n",
    "model_XGB = XGBClassifier()\n",
    "model_XGB.fit(X_treino, Y_treino)"
   ]
  },
  {
   "cell_type": "code",
   "execution_count": null,
   "id": "d5a9dbf6",
   "metadata": {
    "scrolled": true
   },
   "outputs": [],
   "source": [
    "# Avaliação do desempenho do modelo usando as métricas de erro quadrático médio (RMSE) e o coeficiente de determinação (R2).\n",
    "Y_pred = model_XGB.predict(X_teste)\n",
    "\n",
    "acuracia = accuracy_score(Y_teste, Y_pred)\n",
    "relatorio_classificacao = classification_report(Y_teste, Y_pred)\n",
    "    \n",
    "print(f\"Desempenho para Extreme Gradient Boosting:\")\n",
    "print(f'Acurácia: {acuracia:.2f}')\n",
    "print('Relatório de Classificação:')\n",
    "print(relatorio_classificacao)"
   ]
  },
  {
   "cell_type": "code",
   "execution_count": null,
   "id": "1c005554",
   "metadata": {
    "scrolled": true
   },
   "outputs": [],
   "source": [
    "# Analisar os resíduos\n",
    "residuos = Y_teste - Y_pred\n",
    "\n",
    "# Plote um gráfico de dispersão dos resíduos em relação às previsões\n",
    "plt.scatter(Y_pred, residuos)\n",
    "plt.xlabel('Previsões')\n",
    "plt.ylabel('Resíduos')\n",
    "plt.show()"
   ]
  },
  {
   "cell_type": "markdown",
   "id": "2c2755bc",
   "metadata": {},
   "source": [
    "# Treinamento do Modelo"
   ]
  },
  {
   "cell_type": "markdown",
   "id": "3bdaf487",
   "metadata": {},
   "source": [
    "## Bootstraps"
   ]
  },
  {
   "cell_type": "code",
   "execution_count": null,
   "id": "9ea575e3",
   "metadata": {},
   "outputs": [],
   "source": [
    "n_iterations = 100  # Número de iterações do Bootstrap\n",
    "\n",
    "# Lista para armazenar as métricas de desempenho em cada iteração\n",
    "performance_metrics = []\n",
    "\n",
    "for _ in range(n_iterations):\n",
    "    # Amostragem Bootstrap: crie um conjunto de treinamento com reamostragem\n",
    "    indices_amostra = np.random.choice(len(X_treino), size=len(X_treino), replace=True)\n",
    "    X_bootstrap = X_treino.iloc[indices_amostra]  \n",
    "    y_bootstrap = Y_treino.iloc[indices_amostra]\n",
    "\n",
    "    # Crie e treine seu modelo\n",
    "    model_XGB.fit(X_bootstrap, y_bootstrap)\n",
    "\n",
    "    # Avalie o modelo no conjunto de teste\n",
    "    desempenho = model_XGB.score(X_teste, Y_teste)  # Mede a acurácia\n",
    "    performance_metrics.append(desempenho)"
   ]
  },
  {
   "cell_type": "code",
   "execution_count": null,
   "id": "1b1e60b6",
   "metadata": {
    "scrolled": true
   },
   "outputs": [],
   "source": [
    "# Calcule as métricas resumidas (por exemplo, média e desvio padrão)\n",
    "media_desempenho = np.mean(performance_metrics)\n",
    "desvio_padrao_desempenho = np.std(performance_metrics)\n",
    "\n",
    "# Imprima as métricas resumidas\n",
    "print(f'Média do desempenho: {media_desempenho:.4f}')\n",
    "print(f'Desvio Padrão do desempenho: {desvio_padrao_desempenho:.4f}')"
   ]
  },
  {
   "cell_type": "markdown",
   "id": "3e3017c1",
   "metadata": {},
   "source": [
    "# Avaliação do Modelo"
   ]
  },
  {
   "cell_type": "markdown",
   "id": "0dac3811",
   "metadata": {},
   "source": [
    "## Cross-Validation"
   ]
  },
  {
   "cell_type": "code",
   "execution_count": null,
   "id": "91201032",
   "metadata": {
    "scrolled": true
   },
   "outputs": [],
   "source": [
    "# Número de classes\n",
    "n_classes = 5\n",
    "\n",
    "kfold = KFold(n_splits=5, shuffle=True, random_state=42)"
   ]
  },
  {
   "cell_type": "code",
   "execution_count": null,
   "id": "6dff749b",
   "metadata": {},
   "outputs": [],
   "source": [
    "# Calcule a média das pontuações para avaliação de Acurácia do modelo\n",
    "def intervalo(results):\n",
    "    mean = results.mean()\n",
    "    dv = results.std()\n",
    "    print('Acurácia média: {:.2f}%'.format(mean * 100))\n",
    "    print('Intervalo de acurácia: [{:.2f}% ~ {:.2f}%]'.format((mean - 2 * dv) * 100, (mean + 2 * dv) * 100))\n",
    "\n",
    "scores = cross_val_score(model_XGB, X_treino, Y_treino, cv=kfold, scoring='accuracy') # Checar Modelo\n",
    "intervalo(scores)"
   ]
  },
  {
   "cell_type": "code",
   "execution_count": null,
   "id": "6ea56f70",
   "metadata": {
    "scrolled": true
   },
   "outputs": [],
   "source": [
    "# Calcule a média das pontuações para avaliação de Precisão do modelo\n",
    "def intervalo_prec(results):\n",
    "    mean = results.mean()\n",
    "    dv = results.std()\n",
    "    print('Precisão média: {:.2f}%'.format(mean * 100))\n",
    "    print('Intervalo de acurácia: [{:.2f}% ~ {:.2f}%]'.format((mean - 2 * dv) * 100, (mean + 2 * dv) * 100))\n",
    "\n",
    "scores = cross_val_score(model_XGB, X_treino, Y_treino, cv=kfold, scoring='precision_macro') # Checar Modelo\n",
    "intervalo_prec(scores)"
   ]
  },
  {
   "cell_type": "code",
   "execution_count": null,
   "id": "dcd27d3e",
   "metadata": {
    "scrolled": true
   },
   "outputs": [],
   "source": [
    "# Calcule a média das pontuações para avaliação de Recall do modelo\n",
    "def intervalo_recall(results):\n",
    "    mean = results.mean()\n",
    "    dv = results.std()\n",
    "    print('Recall médio: {:.2f}%'.format(mean * 100))\n",
    "    print('Intervalo de acurácia: [{:.2f}% ~ {:.2f}%]'.format((mean - 2 * dv) * 100, (mean + 2 * dv) * 100))\n",
    "\n",
    "scores = cross_val_score(model_XGB, X_treino, Y_treino, cv=kfold, scoring='recall_macro') # Checar Modelo\n",
    "intervalo_recall(scores)"
   ]
  },
  {
   "cell_type": "code",
   "execution_count": null,
   "id": "cfff3831",
   "metadata": {
    "scrolled": true
   },
   "outputs": [],
   "source": [
    "# Comparar scores de Previsão e Recall\n",
    "# Converta Y_treino para uma matriz binária de classes\n",
    "Y_bin = label_binarize(Y_treino, classes=list(range(5)))\n",
    "\n",
    "# Calcula as curvas de precisão e recall para cada classe\n",
    "precisions = dict()\n",
    "recalls = dict()\n",
    "for i in range(5):\n",
    "    precision, recall, _ = precision_recall_curve(Y_bin[:, i], y_scores[:, i])\n",
    "    precisions[i] = precision\n",
    "    recalls[i] = recall\n",
    "\n",
    "# Plote as curvas de precisão e recall para cada classe\n",
    "fig, ax = plt.subplots(figsize=(12, 3))\n",
    "colors = ['b', 'g', 'r', 'c', 'm']\n",
    "for i, color in zip(range(5), colors):\n",
    "    plt.plot(recalls[i], precisions[i], color, lw=2, label='Classe {}'.format(i))\n",
    "\n",
    "plt.xlabel('Recall')\n",
    "plt.ylabel('Precisão')\n",
    "plt.legend(loc='center')\n",
    "plt.title('Curvas de Precisão x Recall para Classes', fontsize=14)\n",
    "plt.show()"
   ]
  },
  {
   "cell_type": "code",
   "execution_count": null,
   "id": "bdbc48e8",
   "metadata": {
    "scrolled": true
   },
   "outputs": [],
   "source": [
    "# Matriz de Confusão\n",
    "Y_pred = cross_val_predict(model_XGB, X_treino, Y_treino, cv=kfold) # Checar Modelo\n",
    "\n",
    "fig, ax = plt.subplots()\n",
    "sns.heatmap(confusion_matrix(Y_treino, Y_pred), annot=True, ax=ax, fmt='d', cmap='Reds', cbar=False, square=True)\n",
    "ax.set_title(\"Matriz de Confusão\", fontsize=18)\n",
    "ax.set_ylabel(\"True label\")\n",
    "ax.set_xlabel(\"Predicted Label\")\n",
    "plt.tight_layout()"
   ]
  },
  {
   "cell_type": "code",
   "execution_count": null,
   "id": "d1470dc0",
   "metadata": {
    "scrolled": true
   },
   "outputs": [],
   "source": [
    "# Relatório do modelo\n",
    "print('Relatório de classificação:\\n', classification_report(Y_treino, Y_pred, digits=4))"
   ]
  },
  {
   "cell_type": "code",
   "execution_count": null,
   "id": "74539aab",
   "metadata": {
    "scrolled": true
   },
   "outputs": [],
   "source": [
    "# Receiver operating characteristic — ROC\n",
    "\n",
    "# Converta Y_treino para uma matriz binária de classes\n",
    "Y_bin = label_binarize(Y_treino, classes=list(range(5)))\n",
    "\n",
    "# Calcula as curvas ROC para cada classe\n",
    "fpr = dict()\n",
    "tpr = dict()\n",
    "roc_auc = dict()\n",
    "for i in range(5):\n",
    "    fpr[i], tpr[i], _ = roc_curve(Y_bin[:, i], y_scores[:, i])\n",
    "    roc_auc[i] = auc(fpr[i], tpr[i])\n",
    "\n",
    "# Plote as curvas ROC para cada classe\n",
    "fig, ax = plt.subplots(figsize=(12, 4))\n",
    "colors = ['b', 'g', 'r', 'c', 'm']\n",
    "for i, color in zip(range(5), colors):\n",
    "    plt.plot(fpr[i], tpr[i], color, lw=2, label='Classe {}'.format(i))\n",
    "\n",
    "plt.plot([0, 1], [0, 1], 'k--')\n",
    "plt.xlim([0.0, 1.0])\n",
    "plt.ylim([0.0, 1.05])\n",
    "plt.xlabel('Taxa de Falsos Positivos')\n",
    "plt.ylabel('Taxa de Verdadeiros Positivos')\n",
    "plt.legend(loc='lower right')\n",
    "plt.title('Curvas ROC para Classes', fontsize=14)\n",
    "plt.show()"
   ]
  },
  {
   "cell_type": "code",
   "execution_count": null,
   "id": "6a42ecb9",
   "metadata": {
    "scrolled": true
   },
   "outputs": [],
   "source": [
    "# Área sob a Curva\n",
    "print('Área sob a curva ROC: {:.4f}'.format(roc_auc_score(Y_treino, y_scores, multi_class='ovr', average='macro')))"
   ]
  },
  {
   "cell_type": "code",
   "execution_count": null,
   "id": "8334b100",
   "metadata": {
    "scrolled": true
   },
   "outputs": [],
   "source": [
    "# Treinamento do modelo \n",
    "model_XGB.fit(X_treino, Y_treino) # Checar modelo\n",
    "\n",
    "# Fazer previsões no conjunto de teste\n",
    "Y_pred_teste = model_XGB.predict(X_teste)\n",
    "\n",
    "# Acurácia no conjunto de teste\n",
    "accuracy = accuracy_score(Y_teste, Y_pred_teste)\n",
    "print('Acurácia no conjunto de teste: {:.2f}%'.format(accuracy * 100))\n",
    "\n",
    "# Precisão no conjunto de teste\n",
    "precision = precision_score(Y_teste, Y_pred_teste, average='macro')\n",
    "print('Precisão no conjunto de teste: {:.2f}%'.format(precision * 100))\n",
    "\n",
    "# Recall no conjunto de teste\n",
    "recall = recall_score(Y_teste, Y_pred_teste, average='macro')\n",
    "print('Recall no conjunto de teste: {:.2f}%'.format(recall * 100))\n",
    "\n",
    "# Relatório de classificação no conjunto de teste\n",
    "print('Relatório de classificação no conjunto de teste:\\n', classification_report(Y_teste, Y_pred_teste, digits=4))"
   ]
  },
  {
   "cell_type": "markdown",
   "id": "855c4d7a",
   "metadata": {},
   "source": [
    "## Análise de Variáveis "
   ]
  },
  {
   "cell_type": "code",
   "execution_count": null,
   "id": "5d189752",
   "metadata": {
    "scrolled": false
   },
   "outputs": [],
   "source": [
    "# Analisar variáveis que mais afetam o modelo\n",
    "importances = model_XGB.feature_importances_\n",
    "\n",
    "# Classifique as importâncias das características\n",
    "indices_ordenados = np.argsort(importances)[::-1]\n",
    "\n",
    "print(importances)"
   ]
  },
  {
   "cell_type": "code",
   "execution_count": null,
   "id": "ebd5e713",
   "metadata": {
    "scrolled": true
   },
   "outputs": [],
   "source": [
    "# Analisar como uma variável afeta as previsões\n",
    "colunas = df.columns[:-1].tolist() # Separar as variáveis\n",
    "\n",
    "# Crie PDPs para as variáveis escolhidas\n",
    "plot_partial_dependence(model_XGB, X_treino, features=colunas, target=Y_treino.all())\n",
    "plt.figure(figsize=(10, 8))\n",
    "plt.show()"
   ]
  },
  {
   "cell_type": "code",
   "execution_count": null,
   "id": "63ffa90b",
   "metadata": {
    "scrolled": true
   },
   "outputs": [],
   "source": [
    "# Crie um objeto explainer\n",
    "explainer = shap.Explainer(model_XGB, X_treino)\n",
    "\n",
    "# Calcule os valores Shapley para um exemplo de dado específico\n",
    "shap_values = explainer.shap_values(X_teste)\n",
    "\n",
    "# Visualize os valores Shapley\n",
    "shap.summary_plot(shap_values, X_teste)"
   ]
  },
  {
   "cell_type": "markdown",
   "id": "9854cec8",
   "metadata": {},
   "source": [
    "# Aprimoramento de Parâmetros"
   ]
  },
  {
   "cell_type": "markdown",
   "id": "84cbe274",
   "metadata": {},
   "source": [
    "## Tuning"
   ]
  },
  {
   "cell_type": "code",
   "execution_count": null,
   "id": "8a7a6963",
   "metadata": {
    "scrolled": true
   },
   "outputs": [],
   "source": [
    "# Exemplo de Tuning\n",
    "param_grid = {\n",
    "    'n_estimators': [100, 200, 300],  # Número de árvores na floresta\n",
    "    'max_depth': [3, 4, 5],         # Profundidade máxima das árvores\n",
    "    'learning_rate': [0.1, 0.01],   # Taxa de aprendizado\n",
    "    'subsample': [0.8, 0.9, 1.0],   # Fração de amostras usadas para treinamento de cada árvore\n",
    "    'colsample_bytree': [0.8, 0.9, 1.0],  # Fração de colunas usadas para treinamento de cada árvore\n",
    "    'min_child_weight': [1, 5, 10],  # Peso mínimo das amostras necessárias em uma folha\n",
    "    'gamma': [0, 0.1, 0.2],         # Regularização gamma (parâmetro de penalização)\n",
    "    'reg_alpha': [0, 0.1, 0.2],     # Regularização L1 (parâmetro de penalização)\n",
    "    'reg_lambda': [1, 1.1, 1.2]     # Regularização L2 (parâmetro de penalização)\n",
    "}\n",
    "\n",
    "grid_search = GridSearchCV(estimator=model_XGB, param_grid=param_grid, cv=5)\n",
    "\n",
    "grid_search.fit(X_treino, Y_treino)\n",
    "\n",
    "best_params = grid_search.best_params_\n",
    "best_estimator = grid_search.best_estimator_"
   ]
  },
  {
   "cell_type": "code",
   "execution_count": null,
   "id": "93ce91df",
   "metadata": {
    "scrolled": true
   },
   "outputs": [],
   "source": [
    "# Ajustar um modelo de RandomForestRegressor\n",
    "model_XGB.fit(X_treino, Y_treino)\n",
    "\n",
    "# Configure o modelo com os melhores parâmetros\n",
    "model_XGB.set_params(**best_params)"
   ]
  },
  {
   "cell_type": "code",
   "execution_count": null,
   "id": "66a9cc7f",
   "metadata": {
    "scrolled": true
   },
   "outputs": [],
   "source": [
    "# Avaliação do desempenho do modelo usando as métricas de erro quadrático médio (RMSE) e o coeficiente de determinação (R2).\n",
    "Y_pred = model_XGB.predict(X_teste)\n",
    "\n",
    "acuracia = accuracy_score(Y_teste, Y_pred)\n",
    "relatorio_classificacao = classification_report(Y_teste, Y_pred)\n",
    "    \n",
    "print(f\"Desempenho para Extreme Gradient Boosting:\")\n",
    "print(f'Acurácia: {acuracia:.2f}')\n",
    "print('Relatório de Classificação:')\n",
    "print(relatorio_classificacao)"
   ]
  },
  {
   "cell_type": "markdown",
   "id": "8fcf1e59",
   "metadata": {},
   "source": [
    "## Redução de Dimensão"
   ]
  },
  {
   "cell_type": "code",
   "execution_count": null,
   "id": "e2033b6a",
   "metadata": {
    "scrolled": true
   },
   "outputs": [],
   "source": [
    "# Selecione um número específico de características mais importantes\n",
    "num_caracteristicas_selecionadas = 3  # Por exemplo, selecione as 3 mais importantes\n",
    "\n",
    "X_treino_selecionado = X_treino[:, indices_ordenados[:num_caracteristicas_selecionadas]]\n",
    "X_teste_selecionado = X_teste[:, indices_ordenados[:num_caracteristicas_selecionadas]]\n",
    "\n",
    "# Em seguida, treine seu modelo no conjunto de dados com características selecionadas\n",
    "model_XGB.fit(X_treino_selecionado, Y_treino)"
   ]
  },
  {
   "cell_type": "code",
   "execution_count": null,
   "id": "563f0f98",
   "metadata": {
    "scrolled": true
   },
   "outputs": [],
   "source": [
    "# Avaliação do desempenho do modelo usando as métricas de erro quadrático médio (RMSE) e o coeficiente de determinação (R2).\n",
    "Y_pred = model_XGB.predict(X_teste)\n",
    "\n",
    "acuracia = accuracy_score(Y_teste, Y_pred)\n",
    "relatorio_classificacao = classification_report(Y_teste, Y_pred)\n",
    "    \n",
    "print(f\"Desempenho para Extreme Gradient Boosting:\")\n",
    "print(f'Acurácia: {acuracia:.2f}')\n",
    "print('Relatório de Classificação:')\n",
    "print(relatorio_classificacao)"
   ]
  },
  {
   "cell_type": "markdown",
   "id": "6f760345",
   "metadata": {},
   "source": [
    "# Predição"
   ]
  },
  {
   "cell_type": "code",
   "execution_count": null,
   "id": "c03415bd",
   "metadata": {
    "scrolled": true
   },
   "outputs": [],
   "source": [
    "# Valor único para fazer a previsão\n",
    "X_prev = np.array([6]).reshape(-1, 1) # Colocar os valores pedidos\n",
    "\n",
    "# Faça a previsão\n",
    "previsao = modelo_carregado.predict(X_prev)\n",
    "\n",
    "# Imprima a previsão\n",
    "print(f'A previsão para X_prev é: {previsao[0]:.2f}')"
   ]
  }
 ],
 "metadata": {
  "kernelspec": {
   "display_name": "Python 3 (ipykernel)",
   "language": "python",
   "name": "python3"
  },
  "language_info": {
   "codemirror_mode": {
    "name": "ipython",
    "version": 3
   },
   "file_extension": ".py",
   "mimetype": "text/x-python",
   "name": "python",
   "nbconvert_exporter": "python",
   "pygments_lexer": "ipython3",
   "version": "3.9.7"
  }
 },
 "nbformat": 4,
 "nbformat_minor": 5
}

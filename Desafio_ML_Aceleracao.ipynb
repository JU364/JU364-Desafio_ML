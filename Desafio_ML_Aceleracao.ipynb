{
 "cells": [
  {
   "cell_type": "code",
   "execution_count": 1,
   "id": "740a0c9e-634b-494f-b7a9-d4e6bbd56249",
   "metadata": {
    "scrolled": true
   },
   "outputs": [
    {
     "name": "stderr",
     "output_type": "stream",
     "text": [
      "Using `tqdm.autonotebook.tqdm` in notebook mode. Use `tqdm.tqdm` instead to force console mode (e.g. in jupyter console)\n"
     ]
    }
   ],
   "source": [
    "import shap\n",
    "import numpy as np\n",
    "import pandas as pd\n",
    "import seaborn as sns\n",
    "from matplotlib import pyplot as plt\n",
    "import joblib\n",
    "from openpyxl import load_workbook\n",
    "from imblearn.over_sampling import SMOTE\n",
    "from collections import Counter"
   ]
  },
  {
   "cell_type": "code",
   "execution_count": 2,
   "id": "4b15479d",
   "metadata": {
    "scrolled": true
   },
   "outputs": [],
   "source": [
    "# Bibliotecas dos Modelos Utilizados\n",
    "from sklearn.tree import DecisionTreeClassifier      # Árvore de Decisões de Classificação.\n",
    "from sklearn.ensemble import RandomForestClassifier  # Floresta Aleatória.\n",
    "from xgboost import XGBClassifier                    # Extreme Gradient Boosting."
   ]
  },
  {
   "cell_type": "code",
   "execution_count": 3,
   "id": "b0e9571a",
   "metadata": {
    "scrolled": true
   },
   "outputs": [],
   "source": [
    "# Análise de Dados\n",
    "from sklearn.decomposition import PCA\n",
    "\n",
    "# Treinamento\n",
    "from sklearn.model_selection import train_test_split\n",
    "from sklearn.metrics import accuracy_score, classification_report\n",
    "\n",
    "# Avalição\n",
    "from sklearn.model_selection import KFold, cross_val_score, cross_val_predict\n",
    "from sklearn.metrics import precision_recall_curve, confusion_matrix, roc_curve, auc, roc_auc_score, accuracy_score, precision_score, recall_score, classification_report\n",
    "from sklearn.preprocessing import label_binarize\n",
    "\n",
    "# Tuning\n",
    "from sklearn.model_selection import GridSearchCV"
   ]
  },
  {
   "cell_type": "markdown",
   "id": "8c69ece5",
   "metadata": {},
   "source": [
    "# Análise de Dados"
   ]
  },
  {
   "cell_type": "code",
   "execution_count": 69,
   "id": "a741b4b4",
   "metadata": {
    "collapsed": true
   },
   "outputs": [
    {
     "data": {
      "text/html": [
       "<div>\n",
       "<style scoped>\n",
       "    .dataframe tbody tr th:only-of-type {\n",
       "        vertical-align: middle;\n",
       "    }\n",
       "\n",
       "    .dataframe tbody tr th {\n",
       "        vertical-align: top;\n",
       "    }\n",
       "\n",
       "    .dataframe thead th {\n",
       "        text-align: right;\n",
       "    }\n",
       "</style>\n",
       "<table border=\"1\" class=\"dataframe\">\n",
       "  <thead>\n",
       "    <tr style=\"text-align: right;\">\n",
       "      <th></th>\n",
       "      <th>DP_Entre-Eixo</th>\n",
       "      <th>DP_Bitola Dianteira</th>\n",
       "      <th>DP_Bitola Traseira</th>\n",
       "      <th>DP_Altura</th>\n",
       "      <th>DP_Comprimento</th>\n",
       "      <th>DP_Altura do CG com relacao ao chao</th>\n",
       "      <th>MV_Eixo dianteiro</th>\n",
       "      <th>MV_Eixo Traseiro</th>\n",
       "      <th>DMV_Dianteira</th>\n",
       "      <th>DMV_Lado Direito</th>\n",
       "      <th>...</th>\n",
       "      <th>CD_Distancia de frenagem de 35 a 0 em asfalto</th>\n",
       "      <th>CD_Distancia de frenagem de 35 a 0 em terra batida</th>\n",
       "      <th>CD_Ganho de rolagem por aceleracao lateral</th>\n",
       "      <th>CD_Ganho de arfagem em aceleracao longitudinal</th>\n",
       "      <th>CD_Ganho de arfagem em desaceleracao longitudinal</th>\n",
       "      <th>CD_Velocidade maxima de 0 a 100 metros em asfalto</th>\n",
       "      <th>CD_Velocidade maxima de 0 a 100 metros em terra batida</th>\n",
       "      <th>CD_Tempo para atingir velocidade maxima em asfalto</th>\n",
       "      <th>CD_Tempo para atingir velocidade maxima em terra batida</th>\n",
       "      <th>P_Aceleracao</th>\n",
       "    </tr>\n",
       "  </thead>\n",
       "  <tbody>\n",
       "    <tr>\n",
       "      <th>0</th>\n",
       "      <td>1409.565056</td>\n",
       "      <td>1291.374765</td>\n",
       "      <td>1127.937101</td>\n",
       "      <td>1663.806440</td>\n",
       "      <td>2056.763003</td>\n",
       "      <td>NaN</td>\n",
       "      <td>77.103974</td>\n",
       "      <td>95.577887</td>\n",
       "      <td>0.454945</td>\n",
       "      <td>0.500616</td>\n",
       "      <td>...</td>\n",
       "      <td>NaN</td>\n",
       "      <td>NaN</td>\n",
       "      <td>NaN</td>\n",
       "      <td>NaN</td>\n",
       "      <td>NaN</td>\n",
       "      <td>NaN</td>\n",
       "      <td>NaN</td>\n",
       "      <td>NaN</td>\n",
       "      <td>NaN</td>\n",
       "      <td>1</td>\n",
       "    </tr>\n",
       "    <tr>\n",
       "      <th>1</th>\n",
       "      <td>1507.926208</td>\n",
       "      <td>1309.115732</td>\n",
       "      <td>1242.659913</td>\n",
       "      <td>1530.587966</td>\n",
       "      <td>2098.250774</td>\n",
       "      <td>NaN</td>\n",
       "      <td>71.061984</td>\n",
       "      <td>91.039134</td>\n",
       "      <td>0.409187</td>\n",
       "      <td>NaN</td>\n",
       "      <td>...</td>\n",
       "      <td>NaN</td>\n",
       "      <td>NaN</td>\n",
       "      <td>NaN</td>\n",
       "      <td>NaN</td>\n",
       "      <td>NaN</td>\n",
       "      <td>53.401821</td>\n",
       "      <td>47.982676</td>\n",
       "      <td>5.691769</td>\n",
       "      <td>10.846115</td>\n",
       "      <td>1</td>\n",
       "    </tr>\n",
       "    <tr>\n",
       "      <th>2</th>\n",
       "      <td>1513.425447</td>\n",
       "      <td>1301.218322</td>\n",
       "      <td>1241.176354</td>\n",
       "      <td>1669.921950</td>\n",
       "      <td>2135.010554</td>\n",
       "      <td>NaN</td>\n",
       "      <td>72.050229</td>\n",
       "      <td>93.021177</td>\n",
       "      <td>0.415841</td>\n",
       "      <td>NaN</td>\n",
       "      <td>...</td>\n",
       "      <td>NaN</td>\n",
       "      <td>NaN</td>\n",
       "      <td>NaN</td>\n",
       "      <td>NaN</td>\n",
       "      <td>NaN</td>\n",
       "      <td>51.888566</td>\n",
       "      <td>51.800628</td>\n",
       "      <td>6.321324</td>\n",
       "      <td>4.606555</td>\n",
       "      <td>1</td>\n",
       "    </tr>\n",
       "    <tr>\n",
       "      <th>3</th>\n",
       "      <td>1369.669287</td>\n",
       "      <td>1262.398125</td>\n",
       "      <td>1180.965717</td>\n",
       "      <td>1368.187563</td>\n",
       "      <td>1987.070532</td>\n",
       "      <td>550.848527</td>\n",
       "      <td>102.342058</td>\n",
       "      <td>152.610215</td>\n",
       "      <td>0.434121</td>\n",
       "      <td>0.588756</td>\n",
       "      <td>...</td>\n",
       "      <td>NaN</td>\n",
       "      <td>NaN</td>\n",
       "      <td>NaN</td>\n",
       "      <td>NaN</td>\n",
       "      <td>NaN</td>\n",
       "      <td>NaN</td>\n",
       "      <td>NaN</td>\n",
       "      <td>NaN</td>\n",
       "      <td>NaN</td>\n",
       "      <td>1</td>\n",
       "    </tr>\n",
       "    <tr>\n",
       "      <th>4</th>\n",
       "      <td>1384.641327</td>\n",
       "      <td>1362.557218</td>\n",
       "      <td>1171.793778</td>\n",
       "      <td>1654.978161</td>\n",
       "      <td>1976.940021</td>\n",
       "      <td>NaN</td>\n",
       "      <td>84.700554</td>\n",
       "      <td>102.049056</td>\n",
       "      <td>0.457152</td>\n",
       "      <td>NaN</td>\n",
       "      <td>...</td>\n",
       "      <td>NaN</td>\n",
       "      <td>NaN</td>\n",
       "      <td>NaN</td>\n",
       "      <td>NaN</td>\n",
       "      <td>NaN</td>\n",
       "      <td>46.084792</td>\n",
       "      <td>42.528714</td>\n",
       "      <td>12.293491</td>\n",
       "      <td>4.819045</td>\n",
       "      <td>1</td>\n",
       "    </tr>\n",
       "  </tbody>\n",
       "</table>\n",
       "<p>5 rows × 49 columns</p>\n",
       "</div>"
      ],
      "text/plain": [
       "   DP_Entre-Eixo  DP_Bitola Dianteira  DP_Bitola Traseira    DP_Altura  \\\n",
       "0    1409.565056          1291.374765         1127.937101  1663.806440   \n",
       "1    1507.926208          1309.115732         1242.659913  1530.587966   \n",
       "2    1513.425447          1301.218322         1241.176354  1669.921950   \n",
       "3    1369.669287          1262.398125         1180.965717  1368.187563   \n",
       "4    1384.641327          1362.557218         1171.793778  1654.978161   \n",
       "\n",
       "   DP_Comprimento  DP_Altura do CG com relacao ao chao  MV_Eixo dianteiro  \\\n",
       "0     2056.763003                                  NaN          77.103974   \n",
       "1     2098.250774                                  NaN          71.061984   \n",
       "2     2135.010554                                  NaN          72.050229   \n",
       "3     1987.070532                           550.848527         102.342058   \n",
       "4     1976.940021                                  NaN          84.700554   \n",
       "\n",
       "   MV_Eixo Traseiro  DMV_Dianteira  DMV_Lado Direito  ...  \\\n",
       "0         95.577887       0.454945          0.500616  ...   \n",
       "1         91.039134       0.409187               NaN  ...   \n",
       "2         93.021177       0.415841               NaN  ...   \n",
       "3        152.610215       0.434121          0.588756  ...   \n",
       "4        102.049056       0.457152               NaN  ...   \n",
       "\n",
       "   CD_Distancia de frenagem de 35 a 0 em asfalto  \\\n",
       "0                                            NaN   \n",
       "1                                            NaN   \n",
       "2                                            NaN   \n",
       "3                                            NaN   \n",
       "4                                            NaN   \n",
       "\n",
       "   CD_Distancia de frenagem de 35 a 0 em terra batida  \\\n",
       "0                                                NaN    \n",
       "1                                                NaN    \n",
       "2                                                NaN    \n",
       "3                                                NaN    \n",
       "4                                                NaN    \n",
       "\n",
       "   CD_Ganho de rolagem por aceleracao lateral  \\\n",
       "0                                         NaN   \n",
       "1                                         NaN   \n",
       "2                                         NaN   \n",
       "3                                         NaN   \n",
       "4                                         NaN   \n",
       "\n",
       "   CD_Ganho de arfagem em aceleracao longitudinal  \\\n",
       "0                                             NaN   \n",
       "1                                             NaN   \n",
       "2                                             NaN   \n",
       "3                                             NaN   \n",
       "4                                             NaN   \n",
       "\n",
       "   CD_Ganho de arfagem em desaceleracao longitudinal  \\\n",
       "0                                                NaN   \n",
       "1                                                NaN   \n",
       "2                                                NaN   \n",
       "3                                                NaN   \n",
       "4                                                NaN   \n",
       "\n",
       "   CD_Velocidade maxima de 0 a 100 metros em asfalto   \\\n",
       "0                                                NaN    \n",
       "1                                          53.401821    \n",
       "2                                          51.888566    \n",
       "3                                                NaN    \n",
       "4                                          46.084792    \n",
       "\n",
       "   CD_Velocidade maxima de 0 a 100 metros em terra batida   \\\n",
       "0                                                NaN         \n",
       "1                                          47.982676         \n",
       "2                                          51.800628         \n",
       "3                                                NaN         \n",
       "4                                          42.528714         \n",
       "\n",
       "   CD_Tempo para atingir velocidade maxima em asfalto  \\\n",
       "0                                                NaN    \n",
       "1                                           5.691769    \n",
       "2                                           6.321324    \n",
       "3                                                NaN    \n",
       "4                                          12.293491    \n",
       "\n",
       "   CD_Tempo para atingir velocidade maxima em terra batida  P_Aceleracao  \n",
       "0                                                NaN                   1  \n",
       "1                                          10.846115                   1  \n",
       "2                                           4.606555                   1  \n",
       "3                                                NaN                   1  \n",
       "4                                           4.819045                   1  \n",
       "\n",
       "[5 rows x 49 columns]"
      ]
     },
     "execution_count": 69,
     "metadata": {},
     "output_type": "execute_result"
    }
   ],
   "source": [
    "# Carregar o DataFrame a partir de um arquivo Excel\n",
    "caminho_arquivo_excel = 'C:\\\\Users\\\\Andre\\\\Desktop\\\\Julia\\\\Mangue_Baja\\\\DESAFIO TÉCNICO\\\\anonymizedData.xlsx'\n",
    "nome_da_pagina = 'P_Aceleration'  # Nome da página desejada\n",
    "\n",
    "# Lê o arquivo Excel com todas as páginas/sheets\n",
    "xl = pd.ExcelFile(caminho_arquivo_excel)\n",
    "\n",
    "df = xl.parse(nome_da_pagina)\n",
    "\n",
    "# Vê dados \n",
    "df.head()"
   ]
  },
  {
   "cell_type": "code",
   "execution_count": 70,
   "id": "d634f92e",
   "metadata": {
    "collapsed": true
   },
   "outputs": [
    {
     "name": "stdout",
     "output_type": "stream",
     "text": [
      "      DP_Entre-Eixo  DP_Bitola Dianteira  DP_Bitola Traseira    DP_Altura  \\\n",
      "0       1409.565056          1291.374765         1127.937101  1663.806440   \n",
      "1       1507.926208          1309.115732         1242.659913  1530.587966   \n",
      "2       1513.425447          1301.218322         1241.176354  1669.921950   \n",
      "3       1369.669287          1262.398125         1180.965717  1368.187563   \n",
      "4       1384.641327          1362.557218         1171.793778  1654.978161   \n",
      "...             ...                  ...                 ...          ...   \n",
      "996     1366.260071          1344.071570         1265.280794  1564.856065   \n",
      "997     1505.649795          1318.139122         1233.642827  1540.427717   \n",
      "998     1404.823434          1328.158609         1248.488797  1473.317271   \n",
      "999             NaN                  NaN                 NaN          NaN   \n",
      "1000    1380.000000          1300.000000         1190.000000  1551.720000   \n",
      "\n",
      "      DP_Comprimento  DP_Altura do CG com relacao ao chao  MV_Eixo dianteiro  \\\n",
      "0        2056.763003                                  NaN          77.103974   \n",
      "1        2098.250774                                  NaN          71.061984   \n",
      "2        2135.010554                                  NaN          72.050229   \n",
      "3        1987.070532                           550.848527         102.342058   \n",
      "4        1976.940021                                  NaN          84.700554   \n",
      "...              ...                                  ...                ...   \n",
      "996      2017.699129                           511.403579          70.709528   \n",
      "997      2071.767520                           524.770000          60.558489   \n",
      "998      2112.283148                           465.442715          69.774043   \n",
      "999              NaN                                  NaN                NaN   \n",
      "1000     1880.000000                           469.600000         114.320000   \n",
      "\n",
      "      MV_Eixo Traseiro  DMV_Dianteira  DMV_Lado Direito  ...  \\\n",
      "0            95.577887       0.454945          0.500616  ...   \n",
      "1            91.039134       0.409187               NaN  ...   \n",
      "2            93.021177       0.415841               NaN  ...   \n",
      "3           152.610215       0.434121          0.588756  ...   \n",
      "4           102.049056       0.457152               NaN  ...   \n",
      "...                ...            ...               ...  ...   \n",
      "996          98.908065       0.401583          0.509744  ...   \n",
      "997         107.230112       0.352453          0.634537  ...   \n",
      "998          96.836258       0.410884          0.500000  ...   \n",
      "999                NaN            NaN               NaN  ...   \n",
      "1000         86.580000       0.432000          0.519000  ...   \n",
      "\n",
      "      CD_Distancia de frenagem de 35 a 0 em asfalto  \\\n",
      "0                                               NaN   \n",
      "1                                               NaN   \n",
      "2                                               NaN   \n",
      "3                                               NaN   \n",
      "4                                               NaN   \n",
      "...                                             ...   \n",
      "996                                             NaN   \n",
      "997                                        4.106942   \n",
      "998                                             NaN   \n",
      "999                                             NaN   \n",
      "1000                                       6.469900   \n",
      "\n",
      "      CD_Distancia de frenagem de 35 a 0 em terra batida  \\\n",
      "0                                                   NaN    \n",
      "1                                                   NaN    \n",
      "2                                                   NaN    \n",
      "3                                                   NaN    \n",
      "4                                                   NaN    \n",
      "...                                                 ...    \n",
      "996                                                 NaN    \n",
      "997                                            4.303154    \n",
      "998                                                 NaN    \n",
      "999                                                 NaN    \n",
      "1000                                           8.728700    \n",
      "\n",
      "      CD_Ganho de rolagem por aceleracao lateral  \\\n",
      "0                                            NaN   \n",
      "1                                            NaN   \n",
      "2                                            NaN   \n",
      "3                                            NaN   \n",
      "4                                            NaN   \n",
      "...                                          ...   \n",
      "996                                          NaN   \n",
      "997                                          NaN   \n",
      "998                                          NaN   \n",
      "999                                          NaN   \n",
      "1000                                         3.6   \n",
      "\n",
      "      CD_Ganho de arfagem em aceleracao longitudinal  \\\n",
      "0                                                NaN   \n",
      "1                                                NaN   \n",
      "2                                                NaN   \n",
      "3                                                NaN   \n",
      "4                                                NaN   \n",
      "...                                              ...   \n",
      "996                                              NaN   \n",
      "997                                              NaN   \n",
      "998                                              NaN   \n",
      "999                                              NaN   \n",
      "1000                                             0.0   \n",
      "\n",
      "      CD_Ganho de arfagem em desaceleracao longitudinal  \\\n",
      "0                                                   NaN   \n",
      "1                                                   NaN   \n",
      "2                                                   NaN   \n",
      "3                                                   NaN   \n",
      "4                                                   NaN   \n",
      "...                                                 ...   \n",
      "996                                                 NaN   \n",
      "997                                                 NaN   \n",
      "998                                                 NaN   \n",
      "999                                                 NaN   \n",
      "1000                                                0.0   \n",
      "\n",
      "      CD_Velocidade maxima de 0 a 100 metros em asfalto   \\\n",
      "0                                                   NaN    \n",
      "1                                             53.401821    \n",
      "2                                             51.888566    \n",
      "3                                                   NaN    \n",
      "4                                             46.084792    \n",
      "...                                                 ...    \n",
      "996                                                 NaN    \n",
      "997                                                 NaN    \n",
      "998                                                 NaN    \n",
      "999                                                 NaN    \n",
      "1000                                          43.000000    \n",
      "\n",
      "      CD_Velocidade maxima de 0 a 100 metros em terra batida   \\\n",
      "0                                                   NaN         \n",
      "1                                             47.982676         \n",
      "2                                             51.800628         \n",
      "3                                                   NaN         \n",
      "4                                             42.528714         \n",
      "...                                                 ...         \n",
      "996                                                 NaN         \n",
      "997                                                 NaN         \n",
      "998                                                 NaN         \n",
      "999                                                 NaN         \n",
      "1000                                          41.000000         \n",
      "\n",
      "      CD_Tempo para atingir velocidade maxima em asfalto  \\\n",
      "0                                                   NaN    \n",
      "1                                              5.691769    \n",
      "2                                              6.321324    \n",
      "3                                                   NaN    \n",
      "4                                             12.293491    \n",
      "...                                                 ...    \n",
      "996                                                 NaN    \n",
      "997                                            9.247290    \n",
      "998                                                 NaN    \n",
      "999                                                 NaN    \n",
      "1000                                           4.200000    \n",
      "\n",
      "      CD_Tempo para atingir velocidade maxima em terra batida  P_Aceleracao  \n",
      "0                                                   NaN                 1.0  \n",
      "1                                             10.846115                 1.0  \n",
      "2                                              4.606555                 1.0  \n",
      "3                                                   NaN                 1.0  \n",
      "4                                              4.819045                 1.0  \n",
      "...                                                 ...                 ...  \n",
      "996                                                 NaN                 5.0  \n",
      "997                                            9.848214                 5.0  \n",
      "998                                                 NaN                 5.0  \n",
      "999                                                 NaN                 5.0  \n",
      "1000                                           4.400000                 5.0  \n",
      "\n",
      "[1001 rows x 49 columns]\n"
     ]
    }
   ],
   "source": [
    "# Linha a ser adicionada\n",
    "linha = \"1380,0000/ 1300/ 1190,0000/ 1551,7200/ 1880/ 469,6/ 114,32/ 86,58/ 0,432/ 0,519/ 629,4/ 788,8/ 189,6000/ 170/ 62/ 22,0000/ 0/ 0/ 245/ 62/ 22/ 0/ 0/ 2/ 69,4/6,8000/ 15/ 39/ 370,3/ 81/ 180/ 52/ 160,0000/ 7,0800/ 20,7/ 38/ 9,5/ 2080/ 30/ 6,4699/ 8,7287/ 3,6/ 0/ 0/ 43/ 41/ 4,2/ 4,4/ 5/\"\n",
    "\n",
    "# Separar os valores da linha\n",
    "valores = linha.split(\"/\")\n",
    "\n",
    "# Converter os valores para float\n",
    "valores_float = [float(valor.replace(\",\", \".\")) for valor in valores[:-1]]\n",
    "\n",
    "# Adicionar a nova linha ao final do DataFrame existente\n",
    "df.loc[len(df)] = valores_float\n",
    "\n",
    "# Verificar o DataFrame atualizado\n",
    "print(df)"
   ]
  },
  {
   "cell_type": "code",
   "execution_count": 71,
   "id": "eca81726",
   "metadata": {
    "scrolled": true
   },
   "outputs": [],
   "source": [
    "# Remove as colunas que não trazem dados relevantes as provas\n",
    "colunas_a_remover = [\n",
    "    'DP_Entre-Eixo',\n",
    "    'DP_Bitola Dianteira',\n",
    "    'DP_Bitola Traseira',\n",
    "    'DP_Altura',\n",
    "    'DP_Comprimento',\n",
    "    'DP_Altura do CG com relacao ao chao',\n",
    "    'DMV_Lado Direito',\n",
    "    'ST_Curso Positivo de projeto',\n",
    "    'SD_Curso Positivo de projeto',\n",
    "    'SD_Curso Negativo de projeto',\n",
    "    'ST_Curso Negativo de projeto',\n",
    "    'D_Relacao',\n",
    "    'D_Curso total da cremalheira',\n",
    "    'D_Inclinacao do pino mestre',\n",
    "    'D_Angulo de caster',\n",
    "    'FD_Pressao no sistema a 07g ',\n",
    "    'FD_Forca no pedal a 07g ',\n",
    "    'FD_Curso total do pedal ',\n",
    "    'FD_Diametro do disco ',\n",
    "    'FT_Pressao no sistema a 07g ',\n",
    "    'FT_Diametro do disco ',\n",
    "    'CD_Raio mínimo de curva do protótipo',\n",
    "]\n",
    "\n",
    "# Remove as colunas especificadas\n",
    "df = df.drop(colunas_a_remover, axis=1)"
   ]
  },
  {
   "cell_type": "code",
   "execution_count": 34,
   "id": "2f6b20a5",
   "metadata": {
    "collapsed": true
   },
   "outputs": [
    {
     "name": "stdout",
     "output_type": "stream",
     "text": [
      "<class 'pandas.core.frame.DataFrame'>\n",
      "Int64Index: 1001 entries, 0 to 1000\n",
      "Data columns (total 27 columns):\n",
      " #   Column                                                   Non-Null Count  Dtype  \n",
      "---  ------                                                   --------------  -----  \n",
      " 0   MV_Eixo dianteiro                                        736 non-null    float64\n",
      " 1   MV_Eixo Traseiro                                         736 non-null    float64\n",
      " 2   DMV_Dianteira                                            736 non-null    float64\n",
      " 3   PCG_X                                                    736 non-null    float64\n",
      " 4   PCG_Y                                                    961 non-null    float64\n",
      " 5   PCG_Z                                                    736 non-null    float64\n",
      " 6   SD_Dimensoes dos pneus                                   1001 non-null   float64\n",
      " 7   SD_Cambagem estatica                                     217 non-null    float64\n",
      " 8   SD_Convergência estatica                                 171 non-null    float64\n",
      " 9   ST_Dimensoes dos pneus                                   1001 non-null   float64\n",
      " 10  ST_Cambagem estatica                                     205 non-null    float64\n",
      " 11  ST_Convergência estatica                                 196 non-null    float64\n",
      " 12  MT_Potência maxima do motor                              279 non-null    float64\n",
      " 13  MT_Torque maximo do motor                                283 non-null    float64\n",
      " 14  MT_Relacao total_max                                     763 non-null    float64\n",
      " 15  MT_Relacao total_min                                     751 non-null    float64\n",
      " 16  CD_Velocidade crítica para uma curva de raio de 10 m     25 non-null     float64\n",
      " 17  CD_Distancia de frenagem de 35 a 0 em asfalto            59 non-null     float64\n",
      " 18  CD_Distancia de frenagem de 35 a 0 em terra batida       59 non-null     float64\n",
      " 19  CD_Ganho de rolagem por aceleracao lateral               40 non-null     float64\n",
      " 20  CD_Ganho de arfagem em aceleracao longitudinal           18 non-null     float64\n",
      " 21  CD_Ganho de arfagem em desaceleracao longitudinal        18 non-null     float64\n",
      " 22  CD_Velocidade maxima de 0 a 100 metros em asfalto        368 non-null    float64\n",
      " 23  CD_Velocidade maxima de 0 a 100 metros em terra batida   350 non-null    float64\n",
      " 24  CD_Tempo para atingir velocidade maxima em asfalto       332 non-null    float64\n",
      " 25  CD_Tempo para atingir velocidade maxima em terra batida  317 non-null    float64\n",
      " 26  P_Aceleracao                                             1001 non-null   float64\n",
      "dtypes: float64(27)\n",
      "memory usage: 219.0 KB\n"
     ]
    }
   ],
   "source": [
    "# Informação básica\n",
    "df.info()"
   ]
  },
  {
   "cell_type": "code",
   "execution_count": 35,
   "id": "83830cdb",
   "metadata": {
    "collapsed": true
   },
   "outputs": [
    {
     "data": {
      "text/html": [
       "<div>\n",
       "<style scoped>\n",
       "    .dataframe tbody tr th:only-of-type {\n",
       "        vertical-align: middle;\n",
       "    }\n",
       "\n",
       "    .dataframe tbody tr th {\n",
       "        vertical-align: top;\n",
       "    }\n",
       "\n",
       "    .dataframe thead th {\n",
       "        text-align: right;\n",
       "    }\n",
       "</style>\n",
       "<table border=\"1\" class=\"dataframe\">\n",
       "  <thead>\n",
       "    <tr style=\"text-align: right;\">\n",
       "      <th></th>\n",
       "      <th>MV_Eixo dianteiro</th>\n",
       "      <th>MV_Eixo Traseiro</th>\n",
       "      <th>DMV_Dianteira</th>\n",
       "      <th>PCG_X</th>\n",
       "      <th>PCG_Y</th>\n",
       "      <th>PCG_Z</th>\n",
       "      <th>SD_Dimensoes dos pneus</th>\n",
       "      <th>SD_Cambagem estatica</th>\n",
       "      <th>SD_Convergência estatica</th>\n",
       "      <th>ST_Dimensoes dos pneus</th>\n",
       "      <th>...</th>\n",
       "      <th>CD_Distancia de frenagem de 35 a 0 em asfalto</th>\n",
       "      <th>CD_Distancia de frenagem de 35 a 0 em terra batida</th>\n",
       "      <th>CD_Ganho de rolagem por aceleracao lateral</th>\n",
       "      <th>CD_Ganho de arfagem em aceleracao longitudinal</th>\n",
       "      <th>CD_Ganho de arfagem em desaceleracao longitudinal</th>\n",
       "      <th>CD_Velocidade maxima de 0 a 100 metros em asfalto</th>\n",
       "      <th>CD_Velocidade maxima de 0 a 100 metros em terra batida</th>\n",
       "      <th>CD_Tempo para atingir velocidade maxima em asfalto</th>\n",
       "      <th>CD_Tempo para atingir velocidade maxima em terra batida</th>\n",
       "      <th>P_Aceleracao</th>\n",
       "    </tr>\n",
       "  </thead>\n",
       "  <tbody>\n",
       "    <tr>\n",
       "      <th>count</th>\n",
       "      <td>736.000000</td>\n",
       "      <td>736.000000</td>\n",
       "      <td>736.000000</td>\n",
       "      <td>736.000000</td>\n",
       "      <td>961.000000</td>\n",
       "      <td>736.000000</td>\n",
       "      <td>1001.000000</td>\n",
       "      <td>217.000000</td>\n",
       "      <td>171.000000</td>\n",
       "      <td>1001.000000</td>\n",
       "      <td>...</td>\n",
       "      <td>59.000000</td>\n",
       "      <td>59.000000</td>\n",
       "      <td>40.000000</td>\n",
       "      <td>18.000000</td>\n",
       "      <td>18.000000</td>\n",
       "      <td>368.000000</td>\n",
       "      <td>350.000000</td>\n",
       "      <td>332.000000</td>\n",
       "      <td>317.000000</td>\n",
       "      <td>1001.000000</td>\n",
       "    </tr>\n",
       "    <tr>\n",
       "      <th>mean</th>\n",
       "      <td>75.742159</td>\n",
       "      <td>105.275504</td>\n",
       "      <td>0.417622</td>\n",
       "      <td>298.232713</td>\n",
       "      <td>126.452897</td>\n",
       "      <td>-358.056922</td>\n",
       "      <td>5.616384</td>\n",
       "      <td>-0.011329</td>\n",
       "      <td>-0.049582</td>\n",
       "      <td>5.667333</td>\n",
       "      <td>...</td>\n",
       "      <td>5.123168</td>\n",
       "      <td>6.392703</td>\n",
       "      <td>2.740855</td>\n",
       "      <td>2.604544</td>\n",
       "      <td>3.213774</td>\n",
       "      <td>51.505127</td>\n",
       "      <td>48.510200</td>\n",
       "      <td>7.241816</td>\n",
       "      <td>8.001323</td>\n",
       "      <td>3.001998</td>\n",
       "    </tr>\n",
       "    <tr>\n",
       "      <th>std</th>\n",
       "      <td>12.851807</td>\n",
       "      <td>15.148057</td>\n",
       "      <td>0.027909</td>\n",
       "      <td>247.093361</td>\n",
       "      <td>215.937543</td>\n",
       "      <td>9101.432111</td>\n",
       "      <td>9.547811</td>\n",
       "      <td>1.274362</td>\n",
       "      <td>0.545407</td>\n",
       "      <td>9.632145</td>\n",
       "      <td>...</td>\n",
       "      <td>1.189524</td>\n",
       "      <td>1.890010</td>\n",
       "      <td>1.460375</td>\n",
       "      <td>2.200003</td>\n",
       "      <td>2.226785</td>\n",
       "      <td>5.275059</td>\n",
       "      <td>4.892754</td>\n",
       "      <td>3.562100</td>\n",
       "      <td>4.137584</td>\n",
       "      <td>1.415626</td>\n",
       "    </tr>\n",
       "    <tr>\n",
       "      <th>min</th>\n",
       "      <td>49.346397</td>\n",
       "      <td>74.999317</td>\n",
       "      <td>0.321092</td>\n",
       "      <td>-280.395678</td>\n",
       "      <td>-82.802037</td>\n",
       "      <td>-160203.550648</td>\n",
       "      <td>0.000000</td>\n",
       "      <td>-10.000000</td>\n",
       "      <td>-2.000000</td>\n",
       "      <td>0.000000</td>\n",
       "      <td>...</td>\n",
       "      <td>2.400000</td>\n",
       "      <td>2.800000</td>\n",
       "      <td>0.080000</td>\n",
       "      <td>0.000000</td>\n",
       "      <td>0.000000</td>\n",
       "      <td>41.583219</td>\n",
       "      <td>34.741983</td>\n",
       "      <td>3.640547</td>\n",
       "      <td>2.986824</td>\n",
       "      <td>1.000000</td>\n",
       "    </tr>\n",
       "    <tr>\n",
       "      <th>25%</th>\n",
       "      <td>68.148606</td>\n",
       "      <td>95.384711</td>\n",
       "      <td>0.399367</td>\n",
       "      <td>94.390904</td>\n",
       "      <td>-1.311776</td>\n",
       "      <td>156.010790</td>\n",
       "      <td>0.000000</td>\n",
       "      <td>0.000000</td>\n",
       "      <td>0.000000</td>\n",
       "      <td>0.000000</td>\n",
       "      <td>...</td>\n",
       "      <td>4.609644</td>\n",
       "      <td>4.684335</td>\n",
       "      <td>1.704708</td>\n",
       "      <td>1.288925</td>\n",
       "      <td>2.520000</td>\n",
       "      <td>47.546484</td>\n",
       "      <td>44.802526</td>\n",
       "      <td>4.503626</td>\n",
       "      <td>4.945486</td>\n",
       "      <td>2.000000</td>\n",
       "    </tr>\n",
       "    <tr>\n",
       "      <th>50%</th>\n",
       "      <td>73.184882</td>\n",
       "      <td>102.764444</td>\n",
       "      <td>0.418091</td>\n",
       "      <td>210.841619</td>\n",
       "      <td>4.418976</td>\n",
       "      <td>253.739731</td>\n",
       "      <td>0.000000</td>\n",
       "      <td>0.000000</td>\n",
       "      <td>0.000000</td>\n",
       "      <td>0.000000</td>\n",
       "      <td>...</td>\n",
       "      <td>5.100000</td>\n",
       "      <td>6.221027</td>\n",
       "      <td>2.620000</td>\n",
       "      <td>2.000000</td>\n",
       "      <td>3.190840</td>\n",
       "      <td>50.914342</td>\n",
       "      <td>48.638045</td>\n",
       "      <td>6.325990</td>\n",
       "      <td>6.678368</td>\n",
       "      <td>3.000000</td>\n",
       "    </tr>\n",
       "    <tr>\n",
       "      <th>75%</th>\n",
       "      <td>81.787294</td>\n",
       "      <td>110.439127</td>\n",
       "      <td>0.439665</td>\n",
       "      <td>523.897388</td>\n",
       "      <td>179.073212</td>\n",
       "      <td>390.374394</td>\n",
       "      <td>21.000000</td>\n",
       "      <td>0.000000</td>\n",
       "      <td>0.000000</td>\n",
       "      <td>21.000000</td>\n",
       "      <td>...</td>\n",
       "      <td>5.627509</td>\n",
       "      <td>8.300374</td>\n",
       "      <td>3.944136</td>\n",
       "      <td>2.930000</td>\n",
       "      <td>3.284737</td>\n",
       "      <td>55.006004</td>\n",
       "      <td>52.243000</td>\n",
       "      <td>8.914973</td>\n",
       "      <td>9.816846</td>\n",
       "      <td>4.000000</td>\n",
       "    </tr>\n",
       "    <tr>\n",
       "      <th>max</th>\n",
       "      <td>131.054554</td>\n",
       "      <td>170.655014</td>\n",
       "      <td>0.479293</td>\n",
       "      <td>861.160830</td>\n",
       "      <td>978.086870</td>\n",
       "      <td>951.530932</td>\n",
       "      <td>23.000000</td>\n",
       "      <td>4.282447</td>\n",
       "      <td>5.000000</td>\n",
       "      <td>23.000000</td>\n",
       "      <td>...</td>\n",
       "      <td>7.498859</td>\n",
       "      <td>9.600000</td>\n",
       "      <td>5.718225</td>\n",
       "      <td>9.353248</td>\n",
       "      <td>11.033394</td>\n",
       "      <td>69.516951</td>\n",
       "      <td>58.775697</td>\n",
       "      <td>25.359216</td>\n",
       "      <td>28.982584</td>\n",
       "      <td>5.000000</td>\n",
       "    </tr>\n",
       "  </tbody>\n",
       "</table>\n",
       "<p>8 rows × 27 columns</p>\n",
       "</div>"
      ],
      "text/plain": [
       "       MV_Eixo dianteiro  MV_Eixo Traseiro  DMV_Dianteira       PCG_X  \\\n",
       "count         736.000000        736.000000     736.000000  736.000000   \n",
       "mean           75.742159        105.275504       0.417622  298.232713   \n",
       "std            12.851807         15.148057       0.027909  247.093361   \n",
       "min            49.346397         74.999317       0.321092 -280.395678   \n",
       "25%            68.148606         95.384711       0.399367   94.390904   \n",
       "50%            73.184882        102.764444       0.418091  210.841619   \n",
       "75%            81.787294        110.439127       0.439665  523.897388   \n",
       "max           131.054554        170.655014       0.479293  861.160830   \n",
       "\n",
       "            PCG_Y          PCG_Z  SD_Dimensoes dos pneus  \\\n",
       "count  961.000000     736.000000             1001.000000   \n",
       "mean   126.452897    -358.056922                5.616384   \n",
       "std    215.937543    9101.432111                9.547811   \n",
       "min    -82.802037 -160203.550648                0.000000   \n",
       "25%     -1.311776     156.010790                0.000000   \n",
       "50%      4.418976     253.739731                0.000000   \n",
       "75%    179.073212     390.374394               21.000000   \n",
       "max    978.086870     951.530932               23.000000   \n",
       "\n",
       "       SD_Cambagem estatica  SD_Convergência estatica  ST_Dimensoes dos pneus  \\\n",
       "count            217.000000                171.000000             1001.000000   \n",
       "mean              -0.011329                 -0.049582                5.667333   \n",
       "std                1.274362                  0.545407                9.632145   \n",
       "min              -10.000000                 -2.000000                0.000000   \n",
       "25%                0.000000                  0.000000                0.000000   \n",
       "50%                0.000000                  0.000000                0.000000   \n",
       "75%                0.000000                  0.000000               21.000000   \n",
       "max                4.282447                  5.000000               23.000000   \n",
       "\n",
       "       ...  CD_Distancia de frenagem de 35 a 0 em asfalto  \\\n",
       "count  ...                                      59.000000   \n",
       "mean   ...                                       5.123168   \n",
       "std    ...                                       1.189524   \n",
       "min    ...                                       2.400000   \n",
       "25%    ...                                       4.609644   \n",
       "50%    ...                                       5.100000   \n",
       "75%    ...                                       5.627509   \n",
       "max    ...                                       7.498859   \n",
       "\n",
       "       CD_Distancia de frenagem de 35 a 0 em terra batida  \\\n",
       "count                                          59.000000    \n",
       "mean                                            6.392703    \n",
       "std                                             1.890010    \n",
       "min                                             2.800000    \n",
       "25%                                             4.684335    \n",
       "50%                                             6.221027    \n",
       "75%                                             8.300374    \n",
       "max                                             9.600000    \n",
       "\n",
       "       CD_Ganho de rolagem por aceleracao lateral  \\\n",
       "count                                   40.000000   \n",
       "mean                                     2.740855   \n",
       "std                                      1.460375   \n",
       "min                                      0.080000   \n",
       "25%                                      1.704708   \n",
       "50%                                      2.620000   \n",
       "75%                                      3.944136   \n",
       "max                                      5.718225   \n",
       "\n",
       "       CD_Ganho de arfagem em aceleracao longitudinal  \\\n",
       "count                                       18.000000   \n",
       "mean                                         2.604544   \n",
       "std                                          2.200003   \n",
       "min                                          0.000000   \n",
       "25%                                          1.288925   \n",
       "50%                                          2.000000   \n",
       "75%                                          2.930000   \n",
       "max                                          9.353248   \n",
       "\n",
       "       CD_Ganho de arfagem em desaceleracao longitudinal  \\\n",
       "count                                          18.000000   \n",
       "mean                                            3.213774   \n",
       "std                                             2.226785   \n",
       "min                                             0.000000   \n",
       "25%                                             2.520000   \n",
       "50%                                             3.190840   \n",
       "75%                                             3.284737   \n",
       "max                                            11.033394   \n",
       "\n",
       "       CD_Velocidade maxima de 0 a 100 metros em asfalto   \\\n",
       "count                                         368.000000    \n",
       "mean                                           51.505127    \n",
       "std                                             5.275059    \n",
       "min                                            41.583219    \n",
       "25%                                            47.546484    \n",
       "50%                                            50.914342    \n",
       "75%                                            55.006004    \n",
       "max                                            69.516951    \n",
       "\n",
       "       CD_Velocidade maxima de 0 a 100 metros em terra batida   \\\n",
       "count                                         350.000000         \n",
       "mean                                           48.510200         \n",
       "std                                             4.892754         \n",
       "min                                            34.741983         \n",
       "25%                                            44.802526         \n",
       "50%                                            48.638045         \n",
       "75%                                            52.243000         \n",
       "max                                            58.775697         \n",
       "\n",
       "       CD_Tempo para atingir velocidade maxima em asfalto  \\\n",
       "count                                         332.000000    \n",
       "mean                                            7.241816    \n",
       "std                                             3.562100    \n",
       "min                                             3.640547    \n",
       "25%                                             4.503626    \n",
       "50%                                             6.325990    \n",
       "75%                                             8.914973    \n",
       "max                                            25.359216    \n",
       "\n",
       "       CD_Tempo para atingir velocidade maxima em terra batida  P_Aceleracao  \n",
       "count                                         317.000000         1001.000000  \n",
       "mean                                            8.001323            3.001998  \n",
       "std                                             4.137584            1.415626  \n",
       "min                                             2.986824            1.000000  \n",
       "25%                                             4.945486            2.000000  \n",
       "50%                                             6.678368            3.000000  \n",
       "75%                                             9.816846            4.000000  \n",
       "max                                            28.982584            5.000000  \n",
       "\n",
       "[8 rows x 27 columns]"
      ]
     },
     "execution_count": 35,
     "metadata": {},
     "output_type": "execute_result"
    }
   ],
   "source": [
    "#Descrição de dados\n",
    "df.describe()"
   ]
  },
  {
   "cell_type": "code",
   "execution_count": 36,
   "id": "c3384e8e",
   "metadata": {
    "collapsed": true
   },
   "outputs": [
    {
     "name": "stdout",
     "output_type": "stream",
     "text": [
      "'MV_Eixo dianteiro' tem 0.\n",
      "'MV_Eixo Traseiro' tem 0.\n",
      "'DMV_Dianteira' tem 0.\n",
      "'PCG_X' tem 0.\n",
      "'PCG_Y' tem 46.\n",
      "'PCG_Z' tem 0.\n",
      "'SD_Dimensoes dos pneus' tem 743.\n",
      "'SD_Cambagem estatica' tem 134.\n",
      "'SD_Convergência estatica' tem 147.\n",
      "'ST_Dimensoes dos pneus' tem 743.\n",
      "'ST_Cambagem estatica' tem 132.\n",
      "'ST_Convergência estatica' tem 149.\n",
      "'MT_Potência maxima do motor' tem 0.\n",
      "'MT_Torque maximo do motor' tem 0.\n",
      "'MT_Relacao total_max' tem 0.\n",
      "'MT_Relacao total_min' tem 0.\n",
      "'CD_Velocidade crítica para uma curva de raio de 10 m' tem 0.\n",
      "'CD_Distancia de frenagem de 35 a 0 em asfalto' tem 0.\n",
      "'CD_Distancia de frenagem de 35 a 0 em terra batida' tem 0.\n",
      "'CD_Ganho de rolagem por aceleracao lateral' tem 0.\n",
      "'CD_Ganho de arfagem em aceleracao longitudinal' tem 1.\n",
      "'CD_Ganho de arfagem em desaceleracao longitudinal' tem 1.\n",
      "'CD_Velocidade maxima de 0 a 100 metros em asfalto ' tem 0.\n",
      "'CD_Velocidade maxima de 0 a 100 metros em terra batida ' tem 0.\n",
      "'CD_Tempo para atingir velocidade maxima em asfalto' tem 0.\n",
      "'CD_Tempo para atingir velocidade maxima em terra batida' tem 0.\n",
      "'P_Aceleracao' tem 0.\n"
     ]
    }
   ],
   "source": [
    "# Inicialize um dicionário para armazenar o número de zeros em cada coluna\n",
    "contagem_zeros = {}\n",
    "\n",
    "# Loop através de todas as colunas\n",
    "for coluna in df.columns:\n",
    "    # Use a função sum() para contar a quantidade de zeros (0) na coluna\n",
    "    zeros_na_coluna = (df[coluna] == 0).sum()\n",
    "    \n",
    "    # Armazene o resultado no dicionário\n",
    "    contagem_zeros[coluna] = zeros_na_coluna\n",
    "\n",
    "# Exiba a contagem de zeros em cada coluna\n",
    "for coluna, zeros in contagem_zeros.items():\n",
    "    print(f\"'{coluna}' tem {zeros}.\") "
   ]
  },
  {
   "cell_type": "markdown",
   "id": "15993f75",
   "metadata": {},
   "source": [
    "## Limpeza"
   ]
  },
  {
   "cell_type": "code",
   "execution_count": 72,
   "id": "662ca05f",
   "metadata": {
    "collapsed": true
   },
   "outputs": [
    {
     "data": {
      "text/plain": [
       "MV_Eixo dianteiro                                          265\n",
       "MV_Eixo Traseiro                                           265\n",
       "DMV_Dianteira                                              265\n",
       "PCG_X                                                      265\n",
       "PCG_Y                                                       40\n",
       "PCG_Z                                                      265\n",
       "SD_Dimensoes dos pneus                                       0\n",
       "ST_Dimensoes dos pneus                                       0\n",
       "MT_Relacao total_max                                       238\n",
       "MT_Relacao total_min                                       250\n",
       "CD_Velocidade maxima de 0 a 100 metros em asfalto          633\n",
       "CD_Velocidade maxima de 0 a 100 metros em terra batida     651\n",
       "CD_Tempo para atingir velocidade maxima em asfalto         669\n",
       "CD_Tempo para atingir velocidade maxima em terra batida    684\n",
       "P_Aceleracao                                                 0\n",
       "dtype: int64"
      ]
     },
     "execution_count": 72,
     "metadata": {},
     "output_type": "execute_result"
    }
   ],
   "source": [
    "# Limpar o Dataset das colunas com muitos valores nulos\n",
    "\n",
    "limite_nulos = 700 # Define o limite de valores nulos permitidos\n",
    "\n",
    "# Remove as colunas com mais de limite_nulos valores nulos\n",
    "df = df.dropna(thresh=len(df) - limite_nulos, axis=1)\n",
    "\n",
    "# Checar \n",
    "df.isnull().sum()"
   ]
  },
  {
   "cell_type": "code",
   "execution_count": 73,
   "id": "f93139ca",
   "metadata": {
    "collapsed": true
   },
   "outputs": [
    {
     "name": "stdout",
     "output_type": "stream",
     "text": [
      "Int64Index([206, 209, 211, 212, 213, 217, 221, 225, 228, 229,\n",
      "            ...\n",
      "            980, 983, 984, 985, 987, 989, 990, 993, 994, 999],\n",
      "           dtype='int64', length=265)\n",
      "      MV_Eixo dianteiro  MV_Eixo Traseiro  DMV_Dianteira       PCG_X  \\\n",
      "0             77.103974         95.577887       0.454945  208.702782   \n",
      "1             71.061984         91.039134       0.409187  514.604278   \n",
      "2             72.050229         93.021177       0.415841  491.093155   \n",
      "3            102.342058        152.610215       0.434121   85.197422   \n",
      "4             84.700554        102.049056       0.457152  368.632469   \n",
      "...                 ...               ...            ...         ...   \n",
      "995           72.221809         90.226812       0.441886  107.916108   \n",
      "996           70.709528         98.908065       0.401583   69.576836   \n",
      "997           60.558489        107.230112       0.352453  523.000000   \n",
      "998           69.774043         96.836258       0.410884  109.438324   \n",
      "1000         114.320000         86.580000       0.432000  629.400000   \n",
      "\n",
      "           PCG_Y       PCG_Z  SD_Dimensoes dos pneus  ST_Dimensoes dos pneus  \\\n",
      "0     -22.463140  198.449195                    21.0                    22.0   \n",
      "1     560.618361  630.194867                     0.0                     0.0   \n",
      "2     378.006613  715.564748                     0.0                     0.0   \n",
      "3      -2.070284  288.244467                    21.0                    21.0   \n",
      "4     549.636182   39.025558                     0.0                     0.0   \n",
      "...          ...         ...                     ...                     ...   \n",
      "995     6.642557  170.670043                    23.0                    23.0   \n",
      "996     2.948500  213.702451                    23.0                    23.0   \n",
      "997   -50.000000  189.770000                    22.0                    23.0   \n",
      "998     9.533358  112.004513                    23.0                    22.0   \n",
      "1000  788.800000  189.600000                    22.0                    22.0   \n",
      "\n",
      "      MT_Relacao total_max  MT_Relacao total_min  \\\n",
      "0                27.844530              5.094629   \n",
      "1                36.113022              5.714850   \n",
      "2                41.200706              5.665436   \n",
      "3                31.048865              5.471739   \n",
      "4                27.621722              4.931802   \n",
      "...                    ...                   ...   \n",
      "995              30.070000              6.939000   \n",
      "996              27.642635              5.291697   \n",
      "997              29.480000              7.370000   \n",
      "998              28.128109              6.607169   \n",
      "1000             38.000000              9.500000   \n",
      "\n",
      "      CD_Velocidade maxima de 0 a 100 metros em asfalto   \\\n",
      "0                                                   NaN    \n",
      "1                                             53.401821    \n",
      "2                                             51.888566    \n",
      "3                                                   NaN    \n",
      "4                                             46.084792    \n",
      "...                                                 ...    \n",
      "995                                           52.114949    \n",
      "996                                                 NaN    \n",
      "997                                                 NaN    \n",
      "998                                                 NaN    \n",
      "1000                                          43.000000    \n",
      "\n",
      "      CD_Velocidade maxima de 0 a 100 metros em terra batida   \\\n",
      "0                                                   NaN         \n",
      "1                                             47.982676         \n",
      "2                                             51.800628         \n",
      "3                                                   NaN         \n",
      "4                                             42.528714         \n",
      "...                                                 ...         \n",
      "995                                           49.024215         \n",
      "996                                                 NaN         \n",
      "997                                                 NaN         \n",
      "998                                                 NaN         \n",
      "1000                                          41.000000         \n",
      "\n",
      "      CD_Tempo para atingir velocidade maxima em asfalto  \\\n",
      "0                                                   NaN    \n",
      "1                                              5.691769    \n",
      "2                                              6.321324    \n",
      "3                                                   NaN    \n",
      "4                                             12.293491    \n",
      "...                                                 ...    \n",
      "995                                            8.408078    \n",
      "996                                                 NaN    \n",
      "997                                            9.247290    \n",
      "998                                                 NaN    \n",
      "1000                                           4.200000    \n",
      "\n",
      "      CD_Tempo para atingir velocidade maxima em terra batida  P_Aceleracao  \n",
      "0                                                   NaN                 1.0  \n",
      "1                                             10.846115                 1.0  \n",
      "2                                              4.606555                 1.0  \n",
      "3                                                   NaN                 1.0  \n",
      "4                                              4.819045                 1.0  \n",
      "...                                                 ...                 ...  \n",
      "995                                                 NaN                 5.0  \n",
      "996                                                 NaN                 5.0  \n",
      "997                                            9.848214                 5.0  \n",
      "998                                                 NaN                 5.0  \n",
      "1000                                           4.400000                 5.0  \n",
      "\n",
      "[736 rows x 15 columns]\n"
     ]
    }
   ],
   "source": [
    "# Verifique quais linhas têm mais de 8 valores iguais nulos\n",
    "linhas_quase_nulas = df[df.isnull().sum(axis=1) > 8]\n",
    "\n",
    "# Exiba as linhas que atendem à condição\n",
    "print(linhas_quase_nulas.index)\n",
    "\n",
    "# Exclua as linhas com base nos índices coletados\n",
    "df = df.drop(linhas_quase_nulas.index)\n",
    "\n",
    "# Exiba o DataFrame resultante\n",
    "print(df)"
   ]
  },
  {
   "cell_type": "code",
   "execution_count": 74,
   "id": "01c9c420",
   "metadata": {
    "scrolled": true
   },
   "outputs": [],
   "source": [
    "# Pela análise dos dados se percebe que as colunas de Dimensões de Pneus trazem muitos valores zerados\n",
    "df = df.drop(['SD_Dimensoes dos pneus'], axis=1)\n",
    "df = df.drop(['ST_Dimensoes dos pneus'], axis=1)"
   ]
  },
  {
   "cell_type": "code",
   "execution_count": 75,
   "id": "df46237a",
   "metadata": {
    "collapsed": true
   },
   "outputs": [
    {
     "name": "stdout",
     "output_type": "stream",
     "text": [
      "0       0.0\n",
      "1       0.0\n",
      "2       0.0\n",
      "3       0.0\n",
      "4       0.0\n",
      "       ... \n",
      "995     4.0\n",
      "996     4.0\n",
      "997     4.0\n",
      "998     4.0\n",
      "1000    4.0\n",
      "Name: P_Aceleracao, Length: 736, dtype: float64\n"
     ]
    }
   ],
   "source": [
    "# Mapeie os valores existentes para os novos valores\n",
    "mapeamento = {1: 0, 2: 1, 3: 2, 4: 3, 5: 4}\n",
    "\n",
    "# Use a função 'replace' para fazer a substituição\n",
    "df['P_Aceleracao'] = df['P_Aceleracao'].replace(mapeamento)\n",
    "\n",
    "print(df['P_Aceleracao'])"
   ]
  },
  {
   "cell_type": "code",
   "execution_count": null,
   "id": "c8233afb",
   "metadata": {
    "scrolled": true
   },
   "outputs": [],
   "source": [
    "# Especifique o caminho para o arquivo Excel\n",
    "caminho_arquivo = \"C:\\\\Users\\\\Andre\\\\Desktop\\\\Julia\\\\Mangue_Baja\\\\DESAFIO TÉCNICO\\\\Arquivo_Processado_semO.xlsx\"\n",
    "\n",
    "# Salvar o DataFrame na planilha 'P_Aceleration'\n",
    "df.to_excel(caminho_arquivo, sheet_name='P_Aceleration', index=0)"
   ]
  },
  {
   "cell_type": "code",
   "execution_count": null,
   "id": "1f1c9b81",
   "metadata": {
    "scrolled": true
   },
   "outputs": [],
   "source": [
    "# Boxplots por Classes\n",
    "for coluna in df.columns:\n",
    "    if coluna != 'P_Aceleracao':  # Excluindo a coluna de classe das análises\n",
    "        plt.figure(figsize=(8, 6))\n",
    "        sns.boxplot(x='P_Aceleracao', y=coluna, data=df)\n",
    "        plt.title(f'Boxplot da {coluna} por P_Aceleracao')\n",
    "        plt.ylabel(coluna)\n",
    "        plt.xlabel('P_Aceleracao')\n",
    "        plt.show()"
   ]
  },
  {
   "cell_type": "code",
   "execution_count": 76,
   "id": "818e1cef",
   "metadata": {
    "collapsed": true
   },
   "outputs": [
    {
     "name": "stdout",
     "output_type": "stream",
     "text": [
      "      MV_Eixo dianteiro  MV_Eixo Traseiro  DMV_Dianteira       PCG_X  \\\n",
      "0             77.103974         95.577887       0.454945  208.702782   \n",
      "1             71.061984         91.039134       0.409187  514.604278   \n",
      "2             72.050229         93.021177       0.415841  491.093155   \n",
      "3            102.342058        100.491972       0.434121   85.197422   \n",
      "4             84.700554        102.049056       0.457152  368.632469   \n",
      "...                 ...               ...            ...         ...   \n",
      "995           72.221809         90.226812       0.441886  107.916108   \n",
      "996           70.709528         98.908065       0.401583   69.576836   \n",
      "997           60.558489        107.230112       0.352453  523.000000   \n",
      "998           69.774043         96.836258       0.410884  109.438324   \n",
      "1000          66.888232         86.580000       0.432000  139.552625   \n",
      "\n",
      "           PCG_Y       PCG_Z  MT_Relacao total_max  MT_Relacao total_min  \\\n",
      "0     -22.463140  198.449195             27.844530              5.094629   \n",
      "1      69.508500  630.194867             36.113022              5.714850   \n",
      "2     378.006613  265.328190             29.132920              5.665436   \n",
      "3      -2.070284  288.244467             31.048865              5.471739   \n",
      "4      69.508500   39.025558             27.621722              4.931802   \n",
      "...          ...         ...                   ...                   ...   \n",
      "995     6.642557  170.670043             30.070000              6.939000   \n",
      "996     2.948500  213.702451             27.642635              5.291697   \n",
      "997   -50.000000  189.770000             29.480000              7.370000   \n",
      "998     9.533358  112.004513             28.128109              6.607169   \n",
      "1000    0.016100  189.600000             29.480000              5.956629   \n",
      "\n",
      "      CD_Velocidade maxima de 0 a 100 metros em asfalto   \\\n",
      "0                                             49.710400    \n",
      "1                                             53.401821    \n",
      "2                                             51.888566    \n",
      "3                                             49.710400    \n",
      "4                                             46.084792    \n",
      "...                                                 ...    \n",
      "995                                           52.114949    \n",
      "996                                           54.062386    \n",
      "997                                           54.062386    \n",
      "998                                           54.062386    \n",
      "1000                                          54.062386    \n",
      "\n",
      "      CD_Velocidade maxima de 0 a 100 metros em terra batida   \\\n",
      "0                                             46.266223         \n",
      "1                                             47.982676         \n",
      "2                                             51.800628         \n",
      "3                                             46.266223         \n",
      "4                                             42.528714         \n",
      "...                                                 ...         \n",
      "995                                           49.024215         \n",
      "996                                           51.209740         \n",
      "997                                           51.209740         \n",
      "998                                           51.209740         \n",
      "1000                                          51.209740         \n",
      "\n",
      "      CD_Tempo para atingir velocidade maxima em asfalto  \\\n",
      "0                                              6.809650    \n",
      "1                                              5.691769    \n",
      "2                                              6.321324    \n",
      "3                                              6.809650    \n",
      "4                                              6.809650    \n",
      "...                                                 ...    \n",
      "995                                            8.408078    \n",
      "996                                            7.808795    \n",
      "997                                            9.247290    \n",
      "998                                            7.808795    \n",
      "1000                                           4.200000    \n",
      "\n",
      "      CD_Tempo para atingir velocidade maxima em terra batida  P_Aceleracao  \n",
      "0                                              7.852435                 0.0  \n",
      "1                                             10.846115                 0.0  \n",
      "2                                              4.606555                 0.0  \n",
      "3                                              7.852435                 0.0  \n",
      "4                                              4.819045                 0.0  \n",
      "...                                                 ...                 ...  \n",
      "995                                            8.312332                 4.0  \n",
      "996                                            8.312332                 4.0  \n",
      "997                                            9.848214                 4.0  \n",
      "998                                            8.312332                 4.0  \n",
      "1000                                           4.400000                 4.0  \n",
      "\n",
      "[736 rows x 13 columns]\n"
     ]
    }
   ],
   "source": [
    "# Tratar Outliers e valores nulos\n",
    "colunas_a_tratar = df.columns.difference(['P_Aceleracao']) # Lista das colunas a serem tratadas \n",
    "\n",
    "\n",
    "# Lista das classes únicas na coluna 'Classe'\n",
    "classes_unicas = df['P_Aceleracao'].unique()\n",
    "\n",
    "# Função para tratar uma coluna específica em uma classe\n",
    "def tratar_coluna_para_classe(data, classe, coluna):\n",
    "    dados_classe = data[data['P_Aceleracao'] == classe]\n",
    "    \n",
    "    # Calcula a mediana dos valores não nulos da coluna para esta classe\n",
    "    mediana = dados_classe[coluna].median()\n",
    "    \n",
    "    # Calcula o desvio padrão dos valores não nulos da coluna para esta classe\n",
    "    desvio_padrao = dados_classe[coluna].std()\n",
    "    \n",
    "    # Define o limite superior e inferior com base no desvio padrão\n",
    "    limite_superior = mediana + (2 * desvio_padrao)\n",
    "    limite_inferior = mediana - (2 * desvio_padrao)\n",
    "    \n",
    "    # Substitui os valores que são nulos ou estão fora do limite pelo valor da mediana\n",
    "    dados_classe[coluna] = dados_classe[coluna].apply(lambda x: mediana if pd.isna(x) or x > limite_superior or x < limite_inferior else x)\n",
    "    \n",
    "    return dados_classe\n",
    "\n",
    "# Loop para tratar todas as colunas para cada classe\n",
    "dados_tratados = []\n",
    "for classe in classes_unicas:\n",
    "    dados_classe = df[df['P_Aceleracao'] == classe].copy()  # Crie uma cópia dos dados da classe\n",
    "    for coluna in colunas_a_tratar:\n",
    "        dados_classe = tratar_coluna_para_classe(dados_classe, classe, coluna)\n",
    "    dados_tratados.append(dados_classe)\n",
    "\n",
    "# Concatena os dados tratados de volta em um único DataFrame\n",
    "df_tratado = pd.concat(dados_tratados)\n",
    "\n",
    "print(df_tratado)"
   ]
  },
  {
   "cell_type": "code",
   "execution_count": null,
   "id": "9b3f8053",
   "metadata": {
    "scrolled": true
   },
   "outputs": [],
   "source": [
    "# Boxplots por Classes\n",
    "for coluna in df_tratado.columns:\n",
    "    if coluna != 'P_Aceleracao':  # Excluindo a coluna de classe das análises\n",
    "        plt.figure(figsize=(8, 6))\n",
    "        sns.boxplot(x='P_Aceleracao', y=coluna, data=df_tratado)\n",
    "        plt.title(f'Boxplot da {coluna} por P_Aceleracao')\n",
    "        plt.ylabel(coluna)\n",
    "        plt.xlabel('P_Aceleracao')\n",
    "        plt.show()"
   ]
  },
  {
   "cell_type": "code",
   "execution_count": 77,
   "id": "d45d731a",
   "metadata": {
    "scrolled": true
   },
   "outputs": [],
   "source": [
    "df = df_tratado"
   ]
  },
  {
   "cell_type": "code",
   "execution_count": null,
   "id": "9d0069f3",
   "metadata": {
    "scrolled": true
   },
   "outputs": [],
   "source": [
    "# Especifique o caminho para o arquivo Excel\n",
    "caminho_arquivo = \"C:\\\\Users\\\\Andre\\\\Desktop\\\\Julia\\\\Mangue_Baja\\\\DESAFIO TÉCNICO\\\\Arquivo_Processado_semO.xlsx\"\n",
    "\n",
    "# Salvar o DataFrame na planilha 'P_Aceleration'\n",
    "df.to_excel(caminho_arquivo, sheet_name='P_Aceleration', index=0)"
   ]
  },
  {
   "cell_type": "markdown",
   "id": "8b474f80",
   "metadata": {},
   "source": [
    "## Análise de Variáveis"
   ]
  },
  {
   "cell_type": "code",
   "execution_count": null,
   "id": "84d71f7d",
   "metadata": {
    "scrolled": true
   },
   "outputs": [],
   "source": [
    "data_corr = df.drop(['P_Aceleracao'], axis=1)\n",
    "# Análise de correlação dos parâmetros\n",
    "correlation = df.corr()"
   ]
  },
  {
   "cell_type": "code",
   "execution_count": null,
   "id": "906cdfae",
   "metadata": {
    "scrolled": true
   },
   "outputs": [],
   "source": [
    "# Plot da matriz de correlação\n",
    "plt.figure(figsize=(10, 8))\n",
    "\n",
    "plot = sns.heatmap(correlation, annot = True, fmt=\".1f\", linewidths=0.5)\n",
    "plt.show()"
   ]
  },
  {
   "cell_type": "code",
   "execution_count": 78,
   "id": "14f6ce25",
   "metadata": {
    "collapsed": true
   },
   "outputs": [
    {
     "name": "stdout",
     "output_type": "stream",
     "text": [
      "          Massa  DMV_Dianteira       PCG_X       PCG_Y       PCG_Z  \\\n",
      "0     -3.213880       0.454945  208.702782  -22.463140  198.449195   \n",
      "1    -10.567705       0.409187  514.604278   69.508500  630.194867   \n",
      "2     -8.412126       0.415841  491.093155  378.006613  265.328190   \n",
      "3     16.709562       0.434121   85.197422   -2.070284  288.244467   \n",
      "4      6.619715       0.457152  368.632469   69.508500   39.025558   \n",
      "...         ...            ...         ...         ...         ...   \n",
      "995  -10.450001       0.441886  107.916108    6.642557  170.670043   \n",
      "996   -4.745423       0.401583   69.576836    2.948500  213.702451   \n",
      "997   -4.843765       0.352453  523.000000  -50.000000  189.770000   \n",
      "998   -6.936237       0.410884  109.438324    9.533358  112.004513   \n",
      "1000 -16.665088       0.432000  139.552625    0.016100  189.600000   \n",
      "\n",
      "      MT_Relacao total_max  MT_Relacao total_min  \\\n",
      "0                27.844530              5.094629   \n",
      "1                36.113022              5.714850   \n",
      "2                29.132920              5.665436   \n",
      "3                31.048865              5.471739   \n",
      "4                27.621722              4.931802   \n",
      "...                    ...                   ...   \n",
      "995              30.070000              6.939000   \n",
      "996              27.642635              5.291697   \n",
      "997              29.480000              7.370000   \n",
      "998              28.128109              6.607169   \n",
      "1000             29.480000              5.956629   \n",
      "\n",
      "      CD_Velocidade maxima de 0 a 100 metros em asfalto   \\\n",
      "0                                             49.710400    \n",
      "1                                             53.401821    \n",
      "2                                             51.888566    \n",
      "3                                             49.710400    \n",
      "4                                             46.084792    \n",
      "...                                                 ...    \n",
      "995                                           52.114949    \n",
      "996                                           54.062386    \n",
      "997                                           54.062386    \n",
      "998                                           54.062386    \n",
      "1000                                          54.062386    \n",
      "\n",
      "      CD_Velocidade maxima de 0 a 100 metros em terra batida   \\\n",
      "0                                             46.266223         \n",
      "1                                             47.982676         \n",
      "2                                             51.800628         \n",
      "3                                             46.266223         \n",
      "4                                             42.528714         \n",
      "...                                                 ...         \n",
      "995                                           49.024215         \n",
      "996                                           51.209740         \n",
      "997                                           51.209740         \n",
      "998                                           51.209740         \n",
      "1000                                          51.209740         \n",
      "\n",
      "      CD_Tempo para atingir velocidade maxima em asfalto  \\\n",
      "0                                              6.809650    \n",
      "1                                              5.691769    \n",
      "2                                              6.321324    \n",
      "3                                              6.809650    \n",
      "4                                              6.809650    \n",
      "...                                                 ...    \n",
      "995                                            8.408078    \n",
      "996                                            7.808795    \n",
      "997                                            9.247290    \n",
      "998                                            7.808795    \n",
      "1000                                           4.200000    \n",
      "\n",
      "      CD_Tempo para atingir velocidade maxima em terra batida  P_Aceleracao  \n",
      "0                                              7.852435                 0.0  \n",
      "1                                             10.846115                 0.0  \n",
      "2                                              4.606555                 0.0  \n",
      "3                                              7.852435                 0.0  \n",
      "4                                              4.819045                 0.0  \n",
      "...                                                 ...                 ...  \n",
      "995                                            8.312332                 4.0  \n",
      "996                                            8.312332                 4.0  \n",
      "997                                            9.848214                 4.0  \n",
      "998                                            8.312332                 4.0  \n",
      "1000                                           4.400000                 4.0  \n",
      "\n",
      "[736 rows x 12 columns]\n"
     ]
    }
   ],
   "source": [
    "# Aplicar PCA para reduzir variáveis de alta correlação - Massa\n",
    "variaveis_reduzidas = df[['MV_Eixo dianteiro', 'MV_Eixo Traseiro']]\n",
    "\n",
    "pca = PCA(n_components=1)\n",
    "variavel_reduzida = pca.fit_transform(variaveis_reduzidas)\n",
    "\n",
    "# Remove as colunas reduzidas\n",
    "colunas_a_remover = [\n",
    "    'MV_Eixo dianteiro',\n",
    "    'MV_Eixo Traseiro',\n",
    "]\n",
    "\n",
    "df = df.drop(colunas_a_remover, axis=1)\n",
    "\n",
    "# Escolha a posição (índice) onde deseja inserir a nova coluna\n",
    "posicao_desejada = 0\n",
    "\n",
    "# Insira a nova coluna no DataFrame na posição desejada\n",
    "df.insert(posicao_desejada, 'Massa', variavel_reduzida)\n",
    "\n",
    "print(df)"
   ]
  },
  {
   "cell_type": "code",
   "execution_count": 79,
   "id": "c2ff55b1",
   "metadata": {
    "collapsed": true
   },
   "outputs": [
    {
     "name": "stdout",
     "output_type": "stream",
     "text": [
      "          Massa  DMV_Dianteira       PCG_X       PCG_Y       PCG_Z  \\\n",
      "0     -3.213880       0.454945  208.702782  -22.463140  198.449195   \n",
      "1    -10.567705       0.409187  514.604278   69.508500  630.194867   \n",
      "2     -8.412126       0.415841  491.093155  378.006613  265.328190   \n",
      "3     16.709562       0.434121   85.197422   -2.070284  288.244467   \n",
      "4      6.619715       0.457152  368.632469   69.508500   39.025558   \n",
      "...         ...            ...         ...         ...         ...   \n",
      "995  -10.450001       0.441886  107.916108    6.642557  170.670043   \n",
      "996   -4.745423       0.401583   69.576836    2.948500  213.702451   \n",
      "997   -4.843765       0.352453  523.000000  -50.000000  189.770000   \n",
      "998   -6.936237       0.410884  109.438324    9.533358  112.004513   \n",
      "1000 -16.665088       0.432000  139.552625    0.016100  189.600000   \n",
      "\n",
      "      MT_Relacao total_max  MT_Relacao total_min  CD_Velocidade em 100 m  \\\n",
      "0                27.844530              5.094629               -2.629481   \n",
      "1                36.113022              5.714850                1.156778   \n",
      "2                29.132920              5.665436                2.884115   \n",
      "3                31.048865              5.471739               -2.629481   \n",
      "4                27.621722              4.931802               -7.836285   \n",
      "...                    ...                   ...                     ...   \n",
      "995              30.070000              6.939000                1.026259   \n",
      "996              27.642635              5.291697                3.952100   \n",
      "997              29.480000              7.370000                3.952100   \n",
      "998              28.128109              6.607169                3.952100   \n",
      "1000             29.480000              5.956629                3.952100   \n",
      "\n",
      "      CD_Tempo para atingir velocidade maxima em asfalto  \\\n",
      "0                                              6.809650    \n",
      "1                                              5.691769    \n",
      "2                                              6.321324    \n",
      "3                                              6.809650    \n",
      "4                                              6.809650    \n",
      "...                                                 ...    \n",
      "995                                            8.408078    \n",
      "996                                            7.808795    \n",
      "997                                            9.247290    \n",
      "998                                            7.808795    \n",
      "1000                                           4.200000    \n",
      "\n",
      "      CD_Tempo para atingir velocidade maxima em terra batida  P_Aceleracao  \n",
      "0                                              7.852435                 0.0  \n",
      "1                                             10.846115                 0.0  \n",
      "2                                              4.606555                 0.0  \n",
      "3                                              7.852435                 0.0  \n",
      "4                                              4.819045                 0.0  \n",
      "...                                                 ...                 ...  \n",
      "995                                            8.312332                 4.0  \n",
      "996                                            8.312332                 4.0  \n",
      "997                                            9.848214                 4.0  \n",
      "998                                            8.312332                 4.0  \n",
      "1000                                           4.400000                 4.0  \n",
      "\n",
      "[736 rows x 11 columns]\n"
     ]
    }
   ],
   "source": [
    "# Aplicar PCA para reduzir variáveis de alta correlação - Velocidade em 100 m\n",
    "variaveis_reduzidas = df[['CD_Velocidade maxima de 0 a 100 metros em asfalto ', 'CD_Velocidade maxima de 0 a 100 metros em terra batida ']]\n",
    "\n",
    "pca = PCA(n_components=1)\n",
    "variavel_reduzida = pca.fit_transform(variaveis_reduzidas)\n",
    "\n",
    "# Remove as colunas reduzidas\n",
    "colunas_a_remover = [\n",
    "    'CD_Velocidade maxima de 0 a 100 metros em asfalto ',\n",
    "    'CD_Velocidade maxima de 0 a 100 metros em terra batida '\n",
    "]\n",
    "\n",
    "df = df.drop(colunas_a_remover, axis=1)\n",
    "\n",
    "# Escolha a posição (índice) onde deseja inserir a nova coluna\n",
    "posicao_desejada = 7\n",
    "\n",
    "# Insira a nova coluna no DataFrame na posição desejada\n",
    "df.insert(posicao_desejada, 'CD_Velocidade em 100 m', variavel_reduzida)\n",
    "\n",
    "print(df)"
   ]
  },
  {
   "cell_type": "code",
   "execution_count": 80,
   "id": "c165cbb9",
   "metadata": {
    "collapsed": true
   },
   "outputs": [
    {
     "name": "stdout",
     "output_type": "stream",
     "text": [
      "          Massa  DMV_Dianteira       PCG_X       PCG_Y       PCG_Z  \\\n",
      "0     -3.213880       0.454945  208.702782  -22.463140  198.449195   \n",
      "1    -10.567705       0.409187  514.604278   69.508500  630.194867   \n",
      "2     -8.412126       0.415841  491.093155  378.006613  265.328190   \n",
      "3     16.709562       0.434121   85.197422   -2.070284  288.244467   \n",
      "4      6.619715       0.457152  368.632469   69.508500   39.025558   \n",
      "...         ...            ...         ...         ...         ...   \n",
      "995  -10.450001       0.441886  107.916108    6.642557  170.670043   \n",
      "996   -4.745423       0.401583   69.576836    2.948500  213.702451   \n",
      "997   -4.843765       0.352453  523.000000  -50.000000  189.770000   \n",
      "998   -6.936237       0.410884  109.438324    9.533358  112.004513   \n",
      "1000 -16.665088       0.432000  139.552625    0.016100  189.600000   \n",
      "\n",
      "      MT_Relacao total_max  MT_Relacao total_min  CD_Velocidade em 100 m  \\\n",
      "0                27.844530              5.094629               -2.629481   \n",
      "1                36.113022              5.714850                1.156778   \n",
      "2                29.132920              5.665436                2.884115   \n",
      "3                31.048865              5.471739               -2.629481   \n",
      "4                27.621722              4.931802               -7.836285   \n",
      "...                    ...                   ...                     ...   \n",
      "995              30.070000              6.939000                1.026259   \n",
      "996              27.642635              5.291697                3.952100   \n",
      "997              29.480000              7.370000                3.952100   \n",
      "998              28.128109              6.607169                3.952100   \n",
      "1000             29.480000              5.956629                3.952100   \n",
      "\n",
      "      CD_Tempo para atingir velocidade maxima  P_Aceleracao  \n",
      "0                                    1.086920           0.0  \n",
      "1                                    2.737983           0.0  \n",
      "2                                   -1.759761           0.0  \n",
      "3                                    1.086920           0.0  \n",
      "4                                   -1.289848           0.0  \n",
      "...                                       ...           ...  \n",
      "995                                  2.440444           4.0  \n",
      "996                                  2.068082           4.0  \n",
      "997                                  4.165304           4.0  \n",
      "998                                  2.068082           4.0  \n",
      "1000                                -3.239683           4.0  \n",
      "\n",
      "[736 rows x 10 columns]\n"
     ]
    }
   ],
   "source": [
    "# Aplicar PCA para reduzir variáveis de alta correlação - Tempo para atingir velocidade maxima\n",
    "variaveis_reduzidas = df[['CD_Tempo para atingir velocidade maxima em asfalto', 'CD_Tempo para atingir velocidade maxima em terra batida']]\n",
    "\n",
    "pca = PCA(n_components=1)\n",
    "variavel_reduzida = pca.fit_transform(variaveis_reduzidas)\n",
    "\n",
    "# Remove as colunas reduzidas\n",
    "colunas_a_remover = [\n",
    "    'CD_Tempo para atingir velocidade maxima em asfalto',\n",
    "    'CD_Tempo para atingir velocidade maxima em terra batida'\n",
    "]\n",
    "\n",
    "df = df.drop(colunas_a_remover, axis=1)\n",
    "\n",
    "# Escolha a posição (índice) onde deseja inserir a nova coluna\n",
    "posicao_desejada = 8\n",
    "\n",
    "# Insira a nova coluna no DataFrame na posição desejada\n",
    "df.insert(posicao_desejada, 'CD_Tempo para atingir velocidade maxima', variavel_reduzida)\n",
    "\n",
    "print(df)"
   ]
  },
  {
   "cell_type": "code",
   "execution_count": 81,
   "id": "eb0721c2",
   "metadata": {},
   "outputs": [
    {
     "name": "stdout",
     "output_type": "stream",
     "text": [
      "          Massa  DMV_Dianteira       PCG_X   PCG_Y  PCG_Z  \\\n",
      "1000 -16.665088          0.432  139.552625  0.0161  189.6   \n",
      "\n",
      "      MT_Relacao total_max  MT_Relacao total_min  CD_Velocidade em 100 m  \\\n",
      "1000                 29.48              5.956629                  3.9521   \n",
      "\n",
      "      CD_Tempo para atingir velocidade maxima  \n",
      "1000                                -3.239683  \n"
     ]
    }
   ],
   "source": [
    "# Remova a última linha do DataFrame e armazene-a em uma variável separada\n",
    "dados_MB24 = df.iloc[-1]\n",
    "df = df.iloc[:-1]\n",
    "\n",
    "dados_MB24 = dados_MB24.drop('P_Aceleracao')\n",
    "\n",
    "# Converta a série em um DataFrame com uma única linha\n",
    "dados_MB24 = dados_MB24.to_frame().T\n",
    "\n",
    "print(dados_MB24)"
   ]
  },
  {
   "cell_type": "markdown",
   "id": "8c8dedb2",
   "metadata": {},
   "source": [
    "## Balanceamento de Classes"
   ]
  },
  {
   "cell_type": "code",
   "execution_count": 84,
   "id": "e1e7c055",
   "metadata": {
    "scrolled": true
   },
   "outputs": [],
   "source": [
    "# Separar X e Y\n",
    "X = df.iloc[:, :-1]\n",
    "Y = df.iloc[:, -1]"
   ]
  },
  {
   "cell_type": "code",
   "execution_count": 85,
   "id": "fbfd7eb9",
   "metadata": {
    "scrolled": true
   },
   "outputs": [
    {
     "name": "stdout",
     "output_type": "stream",
     "text": [
      "Contagem de classes antes do SMOTE: Counter({0.0: 200, 1.0: 160, 2.0: 127, 3.0: 124, 4.0: 124})\n"
     ]
    }
   ],
   "source": [
    "# Verificar o balanceamento original\n",
    "print('Contagem de classes antes do SMOTE:', Counter(Y))"
   ]
  },
  {
   "cell_type": "code",
   "execution_count": 86,
   "id": "39202cc7",
   "metadata": {
    "scrolled": true
   },
   "outputs": [],
   "source": [
    "# Aplicar SMOTE ao conjunto inteiro\n",
    "smote = SMOTE(sampling_strategy='auto', random_state=1)\n",
    "X, Y = smote.fit_resample(X, Y)"
   ]
  },
  {
   "cell_type": "code",
   "execution_count": 87,
   "id": "4bc5d6f3",
   "metadata": {
    "scrolled": true
   },
   "outputs": [
    {
     "name": "stdout",
     "output_type": "stream",
     "text": [
      "Contagem de classes após o SMOTE: Counter({0.0: 200, 1.0: 200, 2.0: 200, 3.0: 200, 4.0: 200})\n"
     ]
    }
   ],
   "source": [
    "# Verificar a contagem de classes após o SMOTE\n",
    "print('Contagem de classes após o SMOTE:', Counter(Y))"
   ]
  },
  {
   "cell_type": "code",
   "execution_count": 88,
   "id": "b9163d60",
   "metadata": {
    "collapsed": true
   },
   "outputs": [
    {
     "name": "stdout",
     "output_type": "stream",
     "text": [
      "         Massa  DMV_Dianteira       PCG_X       PCG_Y       PCG_Z  \\\n",
      "0    -3.213880       0.454945  208.702782  -22.463140  198.449195   \n",
      "1   -10.567705       0.409187  514.604278   69.508500  630.194867   \n",
      "2    -8.412126       0.415841  491.093155  378.006613  265.328190   \n",
      "3    16.709562       0.434121   85.197422   -2.070284  288.244467   \n",
      "4     6.619715       0.457152  368.632469   69.508500   39.025558   \n",
      "..         ...            ...         ...         ...         ...   \n",
      "995 -18.225184       0.415545  322.650589   -9.086212  257.867349   \n",
      "996 -12.852014       0.404040  141.265291  182.375652  208.185594   \n",
      "997 -11.542656       0.413324   73.246776    6.382785  150.518883   \n",
      "998  -9.257428       0.394534  523.000000  -50.000000  189.770000   \n",
      "999 -12.962643       0.439140   89.400957    2.760295  153.317246   \n",
      "\n",
      "     MT_Relacao total_max  MT_Relacao total_min  CD_Velocidade em 100 m  \\\n",
      "0               27.844530              5.094629               -2.629481   \n",
      "1               36.113022              5.714850                1.156778   \n",
      "2               29.132920              5.665436                2.884115   \n",
      "3               31.048865              5.471739               -2.629481   \n",
      "4               27.621722              4.931802               -7.836285   \n",
      "..                    ...                   ...                     ...   \n",
      "995             31.715033              6.249839                4.700984   \n",
      "996             29.828354              4.810689                6.372894   \n",
      "997             28.835138              6.550526                3.484371   \n",
      "998             29.480000              7.370000                3.952100   \n",
      "999             30.070000              6.939946               -0.879815   \n",
      "\n",
      "     CD_Tempo para atingir velocidade maxima  P_Aceleracao  \n",
      "0                                   1.086920           0.0  \n",
      "1                                   2.737983           0.0  \n",
      "2                                  -1.759761           0.0  \n",
      "3                                   1.086920           0.0  \n",
      "4                                  -1.289848           0.0  \n",
      "..                                       ...           ...  \n",
      "995                                 2.257405           4.0  \n",
      "996                                -3.388273           4.0  \n",
      "997                                 0.821630           4.0  \n",
      "998                                 3.775057           4.0  \n",
      "999                                 1.495611           4.0  \n",
      "\n",
      "[1000 rows x 10 columns]\n"
     ]
    }
   ],
   "source": [
    "# Junte X e Y em um único DataFrame\n",
    "df = pd.concat([X, Y], axis=1)\n",
    "print(df)"
   ]
  },
  {
   "cell_type": "code",
   "execution_count": 89,
   "id": "2560af82",
   "metadata": {
    "collapsed": true
   },
   "outputs": [
    {
     "name": "stdout",
     "output_type": "stream",
     "text": [
      "85     0.0\n",
      "966    4.0\n",
      "505    3.0\n",
      "490    3.0\n",
      "272    1.0\n",
      "      ... \n",
      "688    4.0\n",
      "329    1.0\n",
      "263    1.0\n",
      "773    1.0\n",
      "554    3.0\n",
      "Name: P_Aceleracao, Length: 300, dtype: float64\n"
     ]
    }
   ],
   "source": [
    "# Dividir o conjunto de dados em treinamento e teste\n",
    "dados_treino, dados_teste = train_test_split(df, test_size=0.3)\n",
    "\n",
    "# Separar X e Y\n",
    "X = df.iloc[:, :-1]\n",
    "Y = df.iloc[:, -1]\n",
    "\n",
    "X_treino = dados_treino.iloc[:, :-1]\n",
    "Y_treino = dados_treino.iloc[:, -1]\n",
    "\n",
    "X_teste = dados_teste.iloc[:, :-1]\n",
    "Y_teste = dados_teste.iloc[:, -1]\n",
    "\n",
    "print(Y_teste)"
   ]
  },
  {
   "cell_type": "code",
   "execution_count": 4,
   "id": "33a3dbbb",
   "metadata": {
    "collapsed": true
   },
   "outputs": [
    {
     "name": "stdout",
     "output_type": "stream",
     "text": [
      "         Massa  DMV_Dianteira       PCG_X       PCG_Y       PCG_Z  \\\n",
      "0    -3.213880       0.454945  208.702782  -22.463140  198.449195   \n",
      "1   -10.567705       0.409187  514.604278   69.508500  630.194867   \n",
      "2    -8.412126       0.415841  491.093155  378.006613  265.328190   \n",
      "3    16.709562       0.434121   85.197422   -2.070284  288.244467   \n",
      "4     6.619715       0.457152  368.632469   69.508500   39.025558   \n",
      "..         ...            ...         ...         ...         ...   \n",
      "995 -18.225184       0.415545  322.650589   -9.086212  257.867349   \n",
      "996 -12.852014       0.404040  141.265291  182.375652  208.185594   \n",
      "997 -11.542656       0.413324   73.246776    6.382785  150.518883   \n",
      "998  -9.257428       0.394534  523.000000  -50.000000  189.770000   \n",
      "999 -12.962643       0.439140   89.400957    2.760295  153.317246   \n",
      "\n",
      "     MT_Relacao total_max  MT_Relacao total_min  CD_Velocidade em 100 m  \\\n",
      "0               27.844530              5.094629               -2.629481   \n",
      "1               36.113022              5.714850                1.156778   \n",
      "2               29.132920              5.665436                2.884115   \n",
      "3               31.048865              5.471739               -2.629481   \n",
      "4               27.621722              4.931802               -7.836285   \n",
      "..                    ...                   ...                     ...   \n",
      "995             31.715033              6.249839                4.700984   \n",
      "996             29.828354              4.810689                6.372894   \n",
      "997             28.835138              6.550526                3.484371   \n",
      "998             29.480000              7.370000                3.952100   \n",
      "999             30.070000              6.939946               -0.879815   \n",
      "\n",
      "     CD_Tempo para atingir velocidade maxima  P_Aceleracao  \n",
      "0                                   1.086920             0  \n",
      "1                                   2.737983             0  \n",
      "2                                  -1.759761             0  \n",
      "3                                   1.086920             0  \n",
      "4                                  -1.289848             0  \n",
      "..                                       ...           ...  \n",
      "995                                 2.257405             4  \n",
      "996                                -3.388273             4  \n",
      "997                                 0.821630             4  \n",
      "998                                 3.775057             4  \n",
      "999                                 1.495611             4  \n",
      "\n",
      "[1000 rows x 10 columns]\n"
     ]
    }
   ],
   "source": [
    "# Carregar o DataFrame a partir de um arquivo Excel\n",
    "caminho_arquivo_excel = 'C:\\\\Users\\\\Andre\\\\Desktop\\\\Julia\\\\Mangue_Baja\\\\DESAFIO TÉCNICO\\\\Dados Treino\\\\dadostreino_acel.xlsx'\n",
    "\n",
    "# Lê o arquivo Excel com todas as páginas/sheets\n",
    "xl = pd.ExcelFile(caminho_arquivo_excel)\n",
    "\n",
    "dados_treino = xl.parse()\n",
    "\n",
    "X_treino = dados_treino.iloc[:, :-1]\n",
    "Y_treino = dados_treino.iloc[:, -1]\n",
    "\n",
    "print(dados_treino)"
   ]
  },
  {
   "cell_type": "code",
   "execution_count": 5,
   "id": "414fdd30",
   "metadata": {
    "collapsed": true
   },
   "outputs": [
    {
     "name": "stdout",
     "output_type": "stream",
     "text": [
      "         Massa  DMV_Dianteira       PCG_X       PCG_Y       PCG_Z  \\\n",
      "0    -3.213880       0.454945  208.702782  -22.463140  198.449195   \n",
      "1   -10.567705       0.409187  514.604278   69.508500  630.194867   \n",
      "2    -8.412126       0.415841  491.093155  378.006613  265.328190   \n",
      "3    16.709562       0.434121   85.197422   -2.070284  288.244467   \n",
      "4     6.619715       0.457152  368.632469   69.508500   39.025558   \n",
      "..         ...            ...         ...         ...         ...   \n",
      "995 -18.225184       0.415545  322.650589   -9.086212  257.867349   \n",
      "996 -12.852014       0.404040  141.265291  182.375652  208.185594   \n",
      "997 -11.542656       0.413324   73.246776    6.382785  150.518883   \n",
      "998  -9.257428       0.394534  523.000000  -50.000000  189.770000   \n",
      "999 -12.962643       0.439140   89.400957    2.760295  153.317246   \n",
      "\n",
      "     MT_Relacao total_max  MT_Relacao total_min  CD_Velocidade em 100 m  \\\n",
      "0               27.844530              5.094629               -2.629481   \n",
      "1               36.113022              5.714850                1.156778   \n",
      "2               29.132920              5.665436                2.884115   \n",
      "3               31.048865              5.471739               -2.629481   \n",
      "4               27.621722              4.931802               -7.836285   \n",
      "..                    ...                   ...                     ...   \n",
      "995             31.715033              6.249839                4.700984   \n",
      "996             29.828354              4.810689                6.372894   \n",
      "997             28.835138              6.550526                3.484371   \n",
      "998             29.480000              7.370000                3.952100   \n",
      "999             30.070000              6.939946               -0.879815   \n",
      "\n",
      "     CD_Tempo para atingir velocidade maxima  P_Aceleracao  \n",
      "0                                   1.086920             0  \n",
      "1                                   2.737983             0  \n",
      "2                                  -1.759761             0  \n",
      "3                                   1.086920             0  \n",
      "4                                  -1.289848             0  \n",
      "..                                       ...           ...  \n",
      "995                                 2.257405             4  \n",
      "996                                -3.388273             4  \n",
      "997                                 0.821630             4  \n",
      "998                                 3.775057             4  \n",
      "999                                 1.495611             4  \n",
      "\n",
      "[1000 rows x 10 columns]\n"
     ]
    }
   ],
   "source": [
    "# Carregar o DataFrame a partir de um arquivo Excel\n",
    "caminho_arquivo_excel = 'C:\\\\Users\\\\Andre\\\\Desktop\\\\Julia\\\\Mangue_Baja\\\\DESAFIO TÉCNICO\\\\Dados Teste\\\\dadosteste_acel.xlsx'\n",
    "\n",
    "# Lê o arquivo Excel com todas as páginas/sheets\n",
    "xl = pd.ExcelFile(caminho_arquivo_excel)\n",
    "\n",
    "dados_teste = xl.parse()\n",
    "\n",
    "X_teste = dados_teste.iloc[:, :-1]\n",
    "Y_teste = dados_teste.iloc[:, -1]\n",
    "\n",
    "print(dados_teste)"
   ]
  },
  {
   "cell_type": "markdown",
   "id": "6ec742fb",
   "metadata": {},
   "source": [
    "# Pré-seleção do Modelo"
   ]
  },
  {
   "cell_type": "markdown",
   "id": "d3d5517a",
   "metadata": {},
   "source": [
    "## Árvore de Decisão de Classificação"
   ]
  },
  {
   "cell_type": "code",
   "execution_count": 90,
   "id": "46089873",
   "metadata": {
    "scrolled": true
   },
   "outputs": [
    {
     "data": {
      "text/html": [
       "<style>#sk-container-id-10 {color: black;}#sk-container-id-10 pre{padding: 0;}#sk-container-id-10 div.sk-toggleable {background-color: white;}#sk-container-id-10 label.sk-toggleable__label {cursor: pointer;display: block;width: 100%;margin-bottom: 0;padding: 0.3em;box-sizing: border-box;text-align: center;}#sk-container-id-10 label.sk-toggleable__label-arrow:before {content: \"▸\";float: left;margin-right: 0.25em;color: #696969;}#sk-container-id-10 label.sk-toggleable__label-arrow:hover:before {color: black;}#sk-container-id-10 div.sk-estimator:hover label.sk-toggleable__label-arrow:before {color: black;}#sk-container-id-10 div.sk-toggleable__content {max-height: 0;max-width: 0;overflow: hidden;text-align: left;background-color: #f0f8ff;}#sk-container-id-10 div.sk-toggleable__content pre {margin: 0.2em;color: black;border-radius: 0.25em;background-color: #f0f8ff;}#sk-container-id-10 input.sk-toggleable__control:checked~div.sk-toggleable__content {max-height: 200px;max-width: 100%;overflow: auto;}#sk-container-id-10 input.sk-toggleable__control:checked~label.sk-toggleable__label-arrow:before {content: \"▾\";}#sk-container-id-10 div.sk-estimator input.sk-toggleable__control:checked~label.sk-toggleable__label {background-color: #d4ebff;}#sk-container-id-10 div.sk-label input.sk-toggleable__control:checked~label.sk-toggleable__label {background-color: #d4ebff;}#sk-container-id-10 input.sk-hidden--visually {border: 0;clip: rect(1px 1px 1px 1px);clip: rect(1px, 1px, 1px, 1px);height: 1px;margin: -1px;overflow: hidden;padding: 0;position: absolute;width: 1px;}#sk-container-id-10 div.sk-estimator {font-family: monospace;background-color: #f0f8ff;border: 1px dotted black;border-radius: 0.25em;box-sizing: border-box;margin-bottom: 0.5em;}#sk-container-id-10 div.sk-estimator:hover {background-color: #d4ebff;}#sk-container-id-10 div.sk-parallel-item::after {content: \"\";width: 100%;border-bottom: 1px solid gray;flex-grow: 1;}#sk-container-id-10 div.sk-label:hover label.sk-toggleable__label {background-color: #d4ebff;}#sk-container-id-10 div.sk-serial::before {content: \"\";position: absolute;border-left: 1px solid gray;box-sizing: border-box;top: 0;bottom: 0;left: 50%;z-index: 0;}#sk-container-id-10 div.sk-serial {display: flex;flex-direction: column;align-items: center;background-color: white;padding-right: 0.2em;padding-left: 0.2em;position: relative;}#sk-container-id-10 div.sk-item {position: relative;z-index: 1;}#sk-container-id-10 div.sk-parallel {display: flex;align-items: stretch;justify-content: center;background-color: white;position: relative;}#sk-container-id-10 div.sk-item::before, #sk-container-id-10 div.sk-parallel-item::before {content: \"\";position: absolute;border-left: 1px solid gray;box-sizing: border-box;top: 0;bottom: 0;left: 50%;z-index: -1;}#sk-container-id-10 div.sk-parallel-item {display: flex;flex-direction: column;z-index: 1;position: relative;background-color: white;}#sk-container-id-10 div.sk-parallel-item:first-child::after {align-self: flex-end;width: 50%;}#sk-container-id-10 div.sk-parallel-item:last-child::after {align-self: flex-start;width: 50%;}#sk-container-id-10 div.sk-parallel-item:only-child::after {width: 0;}#sk-container-id-10 div.sk-dashed-wrapped {border: 1px dashed gray;margin: 0 0.4em 0.5em 0.4em;box-sizing: border-box;padding-bottom: 0.4em;background-color: white;}#sk-container-id-10 div.sk-label label {font-family: monospace;font-weight: bold;display: inline-block;line-height: 1.2em;}#sk-container-id-10 div.sk-label-container {text-align: center;}#sk-container-id-10 div.sk-container {/* jupyter's `normalize.less` sets `[hidden] { display: none; }` but bootstrap.min.css set `[hidden] { display: none !important; }` so we also need the `!important` here to be able to override the default hidden behavior on the sphinx rendered scikit-learn.org. See: https://github.com/scikit-learn/scikit-learn/issues/21755 */display: inline-block !important;position: relative;}#sk-container-id-10 div.sk-text-repr-fallback {display: none;}</style><div id=\"sk-container-id-10\" class=\"sk-top-container\"><div class=\"sk-text-repr-fallback\"><pre>DecisionTreeClassifier()</pre><b>In a Jupyter environment, please rerun this cell to show the HTML representation or trust the notebook. <br />On GitHub, the HTML representation is unable to render, please try loading this page with nbviewer.org.</b></div><div class=\"sk-container\" hidden><div class=\"sk-item\"><div class=\"sk-estimator sk-toggleable\"><input class=\"sk-toggleable__control sk-hidden--visually\" id=\"sk-estimator-id-10\" type=\"checkbox\" checked><label for=\"sk-estimator-id-10\" class=\"sk-toggleable__label sk-toggleable__label-arrow\">DecisionTreeClassifier</label><div class=\"sk-toggleable__content\"><pre>DecisionTreeClassifier()</pre></div></div></div></div></div>"
      ],
      "text/plain": [
       "DecisionTreeClassifier()"
      ]
     },
     "execution_count": 90,
     "metadata": {},
     "output_type": "execute_result"
    }
   ],
   "source": [
    "# Modelo de Árvore de Decisão de Classificação.\n",
    "model_DTC = DecisionTreeClassifier()\n",
    "model_DTC.fit(X_treino, Y_treino)"
   ]
  },
  {
   "cell_type": "markdown",
   "id": "eda417dd",
   "metadata": {},
   "source": [
    "## Classificação de Floresta Aleatória"
   ]
  },
  {
   "cell_type": "code",
   "execution_count": 91,
   "id": "bcd0c505",
   "metadata": {
    "scrolled": true
   },
   "outputs": [
    {
     "data": {
      "text/html": [
       "<style>#sk-container-id-11 {color: black;}#sk-container-id-11 pre{padding: 0;}#sk-container-id-11 div.sk-toggleable {background-color: white;}#sk-container-id-11 label.sk-toggleable__label {cursor: pointer;display: block;width: 100%;margin-bottom: 0;padding: 0.3em;box-sizing: border-box;text-align: center;}#sk-container-id-11 label.sk-toggleable__label-arrow:before {content: \"▸\";float: left;margin-right: 0.25em;color: #696969;}#sk-container-id-11 label.sk-toggleable__label-arrow:hover:before {color: black;}#sk-container-id-11 div.sk-estimator:hover label.sk-toggleable__label-arrow:before {color: black;}#sk-container-id-11 div.sk-toggleable__content {max-height: 0;max-width: 0;overflow: hidden;text-align: left;background-color: #f0f8ff;}#sk-container-id-11 div.sk-toggleable__content pre {margin: 0.2em;color: black;border-radius: 0.25em;background-color: #f0f8ff;}#sk-container-id-11 input.sk-toggleable__control:checked~div.sk-toggleable__content {max-height: 200px;max-width: 100%;overflow: auto;}#sk-container-id-11 input.sk-toggleable__control:checked~label.sk-toggleable__label-arrow:before {content: \"▾\";}#sk-container-id-11 div.sk-estimator input.sk-toggleable__control:checked~label.sk-toggleable__label {background-color: #d4ebff;}#sk-container-id-11 div.sk-label input.sk-toggleable__control:checked~label.sk-toggleable__label {background-color: #d4ebff;}#sk-container-id-11 input.sk-hidden--visually {border: 0;clip: rect(1px 1px 1px 1px);clip: rect(1px, 1px, 1px, 1px);height: 1px;margin: -1px;overflow: hidden;padding: 0;position: absolute;width: 1px;}#sk-container-id-11 div.sk-estimator {font-family: monospace;background-color: #f0f8ff;border: 1px dotted black;border-radius: 0.25em;box-sizing: border-box;margin-bottom: 0.5em;}#sk-container-id-11 div.sk-estimator:hover {background-color: #d4ebff;}#sk-container-id-11 div.sk-parallel-item::after {content: \"\";width: 100%;border-bottom: 1px solid gray;flex-grow: 1;}#sk-container-id-11 div.sk-label:hover label.sk-toggleable__label {background-color: #d4ebff;}#sk-container-id-11 div.sk-serial::before {content: \"\";position: absolute;border-left: 1px solid gray;box-sizing: border-box;top: 0;bottom: 0;left: 50%;z-index: 0;}#sk-container-id-11 div.sk-serial {display: flex;flex-direction: column;align-items: center;background-color: white;padding-right: 0.2em;padding-left: 0.2em;position: relative;}#sk-container-id-11 div.sk-item {position: relative;z-index: 1;}#sk-container-id-11 div.sk-parallel {display: flex;align-items: stretch;justify-content: center;background-color: white;position: relative;}#sk-container-id-11 div.sk-item::before, #sk-container-id-11 div.sk-parallel-item::before {content: \"\";position: absolute;border-left: 1px solid gray;box-sizing: border-box;top: 0;bottom: 0;left: 50%;z-index: -1;}#sk-container-id-11 div.sk-parallel-item {display: flex;flex-direction: column;z-index: 1;position: relative;background-color: white;}#sk-container-id-11 div.sk-parallel-item:first-child::after {align-self: flex-end;width: 50%;}#sk-container-id-11 div.sk-parallel-item:last-child::after {align-self: flex-start;width: 50%;}#sk-container-id-11 div.sk-parallel-item:only-child::after {width: 0;}#sk-container-id-11 div.sk-dashed-wrapped {border: 1px dashed gray;margin: 0 0.4em 0.5em 0.4em;box-sizing: border-box;padding-bottom: 0.4em;background-color: white;}#sk-container-id-11 div.sk-label label {font-family: monospace;font-weight: bold;display: inline-block;line-height: 1.2em;}#sk-container-id-11 div.sk-label-container {text-align: center;}#sk-container-id-11 div.sk-container {/* jupyter's `normalize.less` sets `[hidden] { display: none; }` but bootstrap.min.css set `[hidden] { display: none !important; }` so we also need the `!important` here to be able to override the default hidden behavior on the sphinx rendered scikit-learn.org. See: https://github.com/scikit-learn/scikit-learn/issues/21755 */display: inline-block !important;position: relative;}#sk-container-id-11 div.sk-text-repr-fallback {display: none;}</style><div id=\"sk-container-id-11\" class=\"sk-top-container\"><div class=\"sk-text-repr-fallback\"><pre>RandomForestClassifier()</pre><b>In a Jupyter environment, please rerun this cell to show the HTML representation or trust the notebook. <br />On GitHub, the HTML representation is unable to render, please try loading this page with nbviewer.org.</b></div><div class=\"sk-container\" hidden><div class=\"sk-item\"><div class=\"sk-estimator sk-toggleable\"><input class=\"sk-toggleable__control sk-hidden--visually\" id=\"sk-estimator-id-11\" type=\"checkbox\" checked><label for=\"sk-estimator-id-11\" class=\"sk-toggleable__label sk-toggleable__label-arrow\">RandomForestClassifier</label><div class=\"sk-toggleable__content\"><pre>RandomForestClassifier()</pre></div></div></div></div></div>"
      ],
      "text/plain": [
       "RandomForestClassifier()"
      ]
     },
     "execution_count": 91,
     "metadata": {},
     "output_type": "execute_result"
    }
   ],
   "source": [
    "# Modelo de Classificação de Floresta Aleatória.\n",
    "model_RFC = RandomForestClassifier()\n",
    "model_RFC.fit(X_treino, Y_treino)"
   ]
  },
  {
   "cell_type": "markdown",
   "id": "d20c5a1a",
   "metadata": {},
   "source": [
    "## Extreme Gradient Boosting"
   ]
  },
  {
   "cell_type": "code",
   "execution_count": 92,
   "id": "043ca87d",
   "metadata": {
    "scrolled": true
   },
   "outputs": [
    {
     "data": {
      "text/html": [
       "<style>#sk-container-id-12 {color: black;}#sk-container-id-12 pre{padding: 0;}#sk-container-id-12 div.sk-toggleable {background-color: white;}#sk-container-id-12 label.sk-toggleable__label {cursor: pointer;display: block;width: 100%;margin-bottom: 0;padding: 0.3em;box-sizing: border-box;text-align: center;}#sk-container-id-12 label.sk-toggleable__label-arrow:before {content: \"▸\";float: left;margin-right: 0.25em;color: #696969;}#sk-container-id-12 label.sk-toggleable__label-arrow:hover:before {color: black;}#sk-container-id-12 div.sk-estimator:hover label.sk-toggleable__label-arrow:before {color: black;}#sk-container-id-12 div.sk-toggleable__content {max-height: 0;max-width: 0;overflow: hidden;text-align: left;background-color: #f0f8ff;}#sk-container-id-12 div.sk-toggleable__content pre {margin: 0.2em;color: black;border-radius: 0.25em;background-color: #f0f8ff;}#sk-container-id-12 input.sk-toggleable__control:checked~div.sk-toggleable__content {max-height: 200px;max-width: 100%;overflow: auto;}#sk-container-id-12 input.sk-toggleable__control:checked~label.sk-toggleable__label-arrow:before {content: \"▾\";}#sk-container-id-12 div.sk-estimator input.sk-toggleable__control:checked~label.sk-toggleable__label {background-color: #d4ebff;}#sk-container-id-12 div.sk-label input.sk-toggleable__control:checked~label.sk-toggleable__label {background-color: #d4ebff;}#sk-container-id-12 input.sk-hidden--visually {border: 0;clip: rect(1px 1px 1px 1px);clip: rect(1px, 1px, 1px, 1px);height: 1px;margin: -1px;overflow: hidden;padding: 0;position: absolute;width: 1px;}#sk-container-id-12 div.sk-estimator {font-family: monospace;background-color: #f0f8ff;border: 1px dotted black;border-radius: 0.25em;box-sizing: border-box;margin-bottom: 0.5em;}#sk-container-id-12 div.sk-estimator:hover {background-color: #d4ebff;}#sk-container-id-12 div.sk-parallel-item::after {content: \"\";width: 100%;border-bottom: 1px solid gray;flex-grow: 1;}#sk-container-id-12 div.sk-label:hover label.sk-toggleable__label {background-color: #d4ebff;}#sk-container-id-12 div.sk-serial::before {content: \"\";position: absolute;border-left: 1px solid gray;box-sizing: border-box;top: 0;bottom: 0;left: 50%;z-index: 0;}#sk-container-id-12 div.sk-serial {display: flex;flex-direction: column;align-items: center;background-color: white;padding-right: 0.2em;padding-left: 0.2em;position: relative;}#sk-container-id-12 div.sk-item {position: relative;z-index: 1;}#sk-container-id-12 div.sk-parallel {display: flex;align-items: stretch;justify-content: center;background-color: white;position: relative;}#sk-container-id-12 div.sk-item::before, #sk-container-id-12 div.sk-parallel-item::before {content: \"\";position: absolute;border-left: 1px solid gray;box-sizing: border-box;top: 0;bottom: 0;left: 50%;z-index: -1;}#sk-container-id-12 div.sk-parallel-item {display: flex;flex-direction: column;z-index: 1;position: relative;background-color: white;}#sk-container-id-12 div.sk-parallel-item:first-child::after {align-self: flex-end;width: 50%;}#sk-container-id-12 div.sk-parallel-item:last-child::after {align-self: flex-start;width: 50%;}#sk-container-id-12 div.sk-parallel-item:only-child::after {width: 0;}#sk-container-id-12 div.sk-dashed-wrapped {border: 1px dashed gray;margin: 0 0.4em 0.5em 0.4em;box-sizing: border-box;padding-bottom: 0.4em;background-color: white;}#sk-container-id-12 div.sk-label label {font-family: monospace;font-weight: bold;display: inline-block;line-height: 1.2em;}#sk-container-id-12 div.sk-label-container {text-align: center;}#sk-container-id-12 div.sk-container {/* jupyter's `normalize.less` sets `[hidden] { display: none; }` but bootstrap.min.css set `[hidden] { display: none !important; }` so we also need the `!important` here to be able to override the default hidden behavior on the sphinx rendered scikit-learn.org. See: https://github.com/scikit-learn/scikit-learn/issues/21755 */display: inline-block !important;position: relative;}#sk-container-id-12 div.sk-text-repr-fallback {display: none;}</style><div id=\"sk-container-id-12\" class=\"sk-top-container\"><div class=\"sk-text-repr-fallback\"><pre>XGBClassifier(base_score=None, booster=None, callbacks=None,\n",
       "              colsample_bylevel=None, colsample_bynode=None,\n",
       "              colsample_bytree=None, device=None, early_stopping_rounds=None,\n",
       "              enable_categorical=False, eval_metric=None, feature_types=None,\n",
       "              gamma=None, grow_policy=None, importance_type=None,\n",
       "              interaction_constraints=None, learning_rate=None, max_bin=None,\n",
       "              max_cat_threshold=None, max_cat_to_onehot=None,\n",
       "              max_delta_step=None, max_depth=None, max_leaves=None,\n",
       "              min_child_weight=None, missing=nan, monotone_constraints=None,\n",
       "              multi_strategy=None, n_estimators=None, n_jobs=None,\n",
       "              num_parallel_tree=None, objective=&#x27;multi:softprob&#x27;, ...)</pre><b>In a Jupyter environment, please rerun this cell to show the HTML representation or trust the notebook. <br />On GitHub, the HTML representation is unable to render, please try loading this page with nbviewer.org.</b></div><div class=\"sk-container\" hidden><div class=\"sk-item\"><div class=\"sk-estimator sk-toggleable\"><input class=\"sk-toggleable__control sk-hidden--visually\" id=\"sk-estimator-id-12\" type=\"checkbox\" checked><label for=\"sk-estimator-id-12\" class=\"sk-toggleable__label sk-toggleable__label-arrow\">XGBClassifier</label><div class=\"sk-toggleable__content\"><pre>XGBClassifier(base_score=None, booster=None, callbacks=None,\n",
       "              colsample_bylevel=None, colsample_bynode=None,\n",
       "              colsample_bytree=None, device=None, early_stopping_rounds=None,\n",
       "              enable_categorical=False, eval_metric=None, feature_types=None,\n",
       "              gamma=None, grow_policy=None, importance_type=None,\n",
       "              interaction_constraints=None, learning_rate=None, max_bin=None,\n",
       "              max_cat_threshold=None, max_cat_to_onehot=None,\n",
       "              max_delta_step=None, max_depth=None, max_leaves=None,\n",
       "              min_child_weight=None, missing=nan, monotone_constraints=None,\n",
       "              multi_strategy=None, n_estimators=None, n_jobs=None,\n",
       "              num_parallel_tree=None, objective=&#x27;multi:softprob&#x27;, ...)</pre></div></div></div></div></div>"
      ],
      "text/plain": [
       "XGBClassifier(base_score=None, booster=None, callbacks=None,\n",
       "              colsample_bylevel=None, colsample_bynode=None,\n",
       "              colsample_bytree=None, device=None, early_stopping_rounds=None,\n",
       "              enable_categorical=False, eval_metric=None, feature_types=None,\n",
       "              gamma=None, grow_policy=None, importance_type=None,\n",
       "              interaction_constraints=None, learning_rate=None, max_bin=None,\n",
       "              max_cat_threshold=None, max_cat_to_onehot=None,\n",
       "              max_delta_step=None, max_depth=None, max_leaves=None,\n",
       "              min_child_weight=None, missing=nan, monotone_constraints=None,\n",
       "              multi_strategy=None, n_estimators=None, n_jobs=None,\n",
       "              num_parallel_tree=None, objective='multi:softprob', ...)"
      ]
     },
     "execution_count": 92,
     "metadata": {},
     "output_type": "execute_result"
    }
   ],
   "source": [
    "# Modelo de Extreme Gradient Boosting.\n",
    "model_XGB = XGBClassifier()\n",
    "model_XGB.fit(X_treino, Y_treino)"
   ]
  },
  {
   "cell_type": "markdown",
   "id": "2c2755bc",
   "metadata": {},
   "source": [
    "# Refinamento do Modelo"
   ]
  },
  {
   "cell_type": "markdown",
   "id": "b1addef6",
   "metadata": {},
   "source": [
    "## Árvore de Decisão de Classificação"
   ]
  },
  {
   "cell_type": "code",
   "execution_count": 93,
   "id": "7a3b403a",
   "metadata": {
    "scrolled": true
   },
   "outputs": [],
   "source": [
    "# Exemplo de Tuning\n",
    "param_grid = {\n",
    "    'criterion': ['gini', 'entropy'],        # Avaliar a qualidade da divisão\n",
    "    'max_depth': [5, 10, 15],          # Profundidade máxima das árvores \n",
    "    'min_samples_split': [2, 5, 10],         # Número mínimo de amostras necessárias para dividir um nó\n",
    "    'min_samples_leaf': [1, 2, 4],           # Número mínimo de amostras em uma folha\n",
    "    'max_features': ['sqrt', 'log2']   # Número máximo de recursos a serem considerados em cada divisão\n",
    "}\n",
    "grid_search = GridSearchCV(estimator=model_DTC, param_grid=param_grid, cv=5)\n",
    "\n",
    "grid_search.fit(X_treino, Y_treino)\n",
    "\n",
    "best_params = grid_search.best_params_\n",
    "best_estimator = grid_search.best_estimator_"
   ]
  },
  {
   "cell_type": "code",
   "execution_count": 94,
   "id": "1c3df878",
   "metadata": {
    "scrolled": true
   },
   "outputs": [
    {
     "data": {
      "text/html": [
       "<style>#sk-container-id-13 {color: black;}#sk-container-id-13 pre{padding: 0;}#sk-container-id-13 div.sk-toggleable {background-color: white;}#sk-container-id-13 label.sk-toggleable__label {cursor: pointer;display: block;width: 100%;margin-bottom: 0;padding: 0.3em;box-sizing: border-box;text-align: center;}#sk-container-id-13 label.sk-toggleable__label-arrow:before {content: \"▸\";float: left;margin-right: 0.25em;color: #696969;}#sk-container-id-13 label.sk-toggleable__label-arrow:hover:before {color: black;}#sk-container-id-13 div.sk-estimator:hover label.sk-toggleable__label-arrow:before {color: black;}#sk-container-id-13 div.sk-toggleable__content {max-height: 0;max-width: 0;overflow: hidden;text-align: left;background-color: #f0f8ff;}#sk-container-id-13 div.sk-toggleable__content pre {margin: 0.2em;color: black;border-radius: 0.25em;background-color: #f0f8ff;}#sk-container-id-13 input.sk-toggleable__control:checked~div.sk-toggleable__content {max-height: 200px;max-width: 100%;overflow: auto;}#sk-container-id-13 input.sk-toggleable__control:checked~label.sk-toggleable__label-arrow:before {content: \"▾\";}#sk-container-id-13 div.sk-estimator input.sk-toggleable__control:checked~label.sk-toggleable__label {background-color: #d4ebff;}#sk-container-id-13 div.sk-label input.sk-toggleable__control:checked~label.sk-toggleable__label {background-color: #d4ebff;}#sk-container-id-13 input.sk-hidden--visually {border: 0;clip: rect(1px 1px 1px 1px);clip: rect(1px, 1px, 1px, 1px);height: 1px;margin: -1px;overflow: hidden;padding: 0;position: absolute;width: 1px;}#sk-container-id-13 div.sk-estimator {font-family: monospace;background-color: #f0f8ff;border: 1px dotted black;border-radius: 0.25em;box-sizing: border-box;margin-bottom: 0.5em;}#sk-container-id-13 div.sk-estimator:hover {background-color: #d4ebff;}#sk-container-id-13 div.sk-parallel-item::after {content: \"\";width: 100%;border-bottom: 1px solid gray;flex-grow: 1;}#sk-container-id-13 div.sk-label:hover label.sk-toggleable__label {background-color: #d4ebff;}#sk-container-id-13 div.sk-serial::before {content: \"\";position: absolute;border-left: 1px solid gray;box-sizing: border-box;top: 0;bottom: 0;left: 50%;z-index: 0;}#sk-container-id-13 div.sk-serial {display: flex;flex-direction: column;align-items: center;background-color: white;padding-right: 0.2em;padding-left: 0.2em;position: relative;}#sk-container-id-13 div.sk-item {position: relative;z-index: 1;}#sk-container-id-13 div.sk-parallel {display: flex;align-items: stretch;justify-content: center;background-color: white;position: relative;}#sk-container-id-13 div.sk-item::before, #sk-container-id-13 div.sk-parallel-item::before {content: \"\";position: absolute;border-left: 1px solid gray;box-sizing: border-box;top: 0;bottom: 0;left: 50%;z-index: -1;}#sk-container-id-13 div.sk-parallel-item {display: flex;flex-direction: column;z-index: 1;position: relative;background-color: white;}#sk-container-id-13 div.sk-parallel-item:first-child::after {align-self: flex-end;width: 50%;}#sk-container-id-13 div.sk-parallel-item:last-child::after {align-self: flex-start;width: 50%;}#sk-container-id-13 div.sk-parallel-item:only-child::after {width: 0;}#sk-container-id-13 div.sk-dashed-wrapped {border: 1px dashed gray;margin: 0 0.4em 0.5em 0.4em;box-sizing: border-box;padding-bottom: 0.4em;background-color: white;}#sk-container-id-13 div.sk-label label {font-family: monospace;font-weight: bold;display: inline-block;line-height: 1.2em;}#sk-container-id-13 div.sk-label-container {text-align: center;}#sk-container-id-13 div.sk-container {/* jupyter's `normalize.less` sets `[hidden] { display: none; }` but bootstrap.min.css set `[hidden] { display: none !important; }` so we also need the `!important` here to be able to override the default hidden behavior on the sphinx rendered scikit-learn.org. See: https://github.com/scikit-learn/scikit-learn/issues/21755 */display: inline-block !important;position: relative;}#sk-container-id-13 div.sk-text-repr-fallback {display: none;}</style><div id=\"sk-container-id-13\" class=\"sk-top-container\"><div class=\"sk-text-repr-fallback\"><pre>DecisionTreeClassifier(criterion=&#x27;entropy&#x27;, max_depth=15, max_features=&#x27;sqrt&#x27;)</pre><b>In a Jupyter environment, please rerun this cell to show the HTML representation or trust the notebook. <br />On GitHub, the HTML representation is unable to render, please try loading this page with nbviewer.org.</b></div><div class=\"sk-container\" hidden><div class=\"sk-item\"><div class=\"sk-estimator sk-toggleable\"><input class=\"sk-toggleable__control sk-hidden--visually\" id=\"sk-estimator-id-13\" type=\"checkbox\" checked><label for=\"sk-estimator-id-13\" class=\"sk-toggleable__label sk-toggleable__label-arrow\">DecisionTreeClassifier</label><div class=\"sk-toggleable__content\"><pre>DecisionTreeClassifier(criterion=&#x27;entropy&#x27;, max_depth=15, max_features=&#x27;sqrt&#x27;)</pre></div></div></div></div></div>"
      ],
      "text/plain": [
       "DecisionTreeClassifier(criterion='entropy', max_depth=15, max_features='sqrt')"
      ]
     },
     "execution_count": 94,
     "metadata": {},
     "output_type": "execute_result"
    }
   ],
   "source": [
    "# Ajustar um modelo de Árvore de Decisão\n",
    "model_DTC.fit(X_treino, Y_treino)\n",
    "\n",
    "# Configure o modelo com os melhores parâmetros\n",
    "model_DTC.set_params(**best_params)"
   ]
  },
  {
   "cell_type": "markdown",
   "id": "11c053f4",
   "metadata": {},
   "source": [
    "## Classificação de Floresta Aleatória"
   ]
  },
  {
   "cell_type": "code",
   "execution_count": 95,
   "id": "812798c7",
   "metadata": {},
   "outputs": [
    {
     "name": "stderr",
     "output_type": "stream",
     "text": [
      "\n",
      "405 fits failed out of a total of 810.\n",
      "The score on these train-test partitions for these parameters will be set to nan.\n",
      "If these failures are not expected, you can try to debug them by setting error_score='raise'.\n",
      "\n",
      "Below are more details about the failures:\n",
      "--------------------------------------------------------------------------------\n",
      "405 fits failed with the following error:\n",
      "Traceback (most recent call last):\n",
      "  File \"C:\\Users\\Andre\\anaconda3\\lib\\site-packages\\sklearn\\model_selection\\_validation.py\", line 729, in _fit_and_score\n",
      "    estimator.fit(X_train, y_train, **fit_params)\n",
      "  File \"C:\\Users\\Andre\\anaconda3\\lib\\site-packages\\sklearn\\base.py\", line 1145, in wrapper\n",
      "    estimator._validate_params()\n",
      "  File \"C:\\Users\\Andre\\anaconda3\\lib\\site-packages\\sklearn\\base.py\", line 638, in _validate_params\n",
      "    validate_parameter_constraints(\n",
      "  File \"C:\\Users\\Andre\\anaconda3\\lib\\site-packages\\sklearn\\utils\\_param_validation.py\", line 96, in validate_parameter_constraints\n",
      "    raise InvalidParameterError(\n",
      "sklearn.utils._param_validation.InvalidParameterError: The 'max_features' parameter of RandomForestClassifier must be an int in the range [1, inf), a float in the range (0.0, 1.0], a str among {'log2', 'sqrt'} or None. Got 'auto' instead.\n",
      "\n",
      "One or more of the test scores are non-finite: [       nan        nan        nan        nan        nan        nan\n",
      "        nan        nan        nan        nan        nan        nan\n",
      "        nan        nan        nan        nan        nan        nan\n",
      "        nan        nan        nan        nan        nan        nan\n",
      "        nan        nan        nan 0.90571429 0.91857143 0.91285714\n",
      " 0.89857143 0.92428571 0.91571429 0.88857143 0.89142857 0.90285714\n",
      " 0.90428571 0.91142857 0.91571429 0.88428571 0.90857143 0.92142857\n",
      " 0.88857143 0.88285714 0.88571429 0.87       0.88142857 0.90571429\n",
      " 0.89285714 0.88571429 0.90857143 0.89857143 0.89428571 0.89571429\n",
      "        nan        nan        nan        nan        nan        nan\n",
      "        nan        nan        nan        nan        nan        nan\n",
      "        nan        nan        nan        nan        nan        nan\n",
      "        nan        nan        nan        nan        nan        nan\n",
      "        nan        nan        nan 0.89142857 0.92428571 0.92428571\n",
      " 0.88857143 0.91571429 0.92857143 0.88142857 0.89285714 0.91\n",
      " 0.89714286 0.91285714 0.90857143 0.9        0.90857143 0.91\n",
      " 0.88714286 0.88857143 0.90142857 0.85857143 0.88857143 0.89142857\n",
      " 0.87857143 0.87285714 0.91428571 0.86428571 0.88714286 0.89142857\n",
      "        nan        nan        nan        nan        nan        nan\n",
      "        nan        nan        nan        nan        nan        nan\n",
      "        nan        nan        nan        nan        nan        nan\n",
      "        nan        nan        nan        nan        nan        nan\n",
      "        nan        nan        nan 0.89142857 0.90571429 0.92571429\n",
      " 0.89571429 0.92571429 0.91142857 0.89428571 0.89428571 0.90142857\n",
      " 0.90571429 0.90285714 0.91714286 0.89857143 0.90571429 0.91714286\n",
      " 0.87571429 0.89142857 0.89285714 0.87714286 0.89571429 0.91\n",
      " 0.88428571 0.89142857 0.89285714 0.86714286 0.87857143 0.89857143]\n"
     ]
    }
   ],
   "source": [
    "# Exemplo de Tuning\n",
    "param_grid = {\n",
    "    'n_estimators': [10, 20, 30],           # Número de árvores na floresta\n",
    "    'max_depth': [10, 20, 30],        # Profundidade máxima das árvores\n",
    "    'min_samples_split': [2, 5, 10],        # Número mínimo de amostras necessárias para dividir um nó\n",
    "    'min_samples_leaf': [1, 2, 4],          # Número mínimo de amostras em uma folha\n",
    "    'max_features': ['auto', 'sqrt']        # Número máximo de recursos a serem considerados em cada divisão\n",
    "}\n",
    "\n",
    "grid_search = GridSearchCV(estimator=model_RFC, param_grid=param_grid, cv=5)\n",
    "\n",
    "grid_search.fit(X_treino, Y_treino)\n",
    "\n",
    "best_params = grid_search.best_params_\n",
    "best_estimator = grid_search.best_estimator_"
   ]
  },
  {
   "cell_type": "code",
   "execution_count": 96,
   "id": "b55d38a8",
   "metadata": {
    "scrolled": true
   },
   "outputs": [
    {
     "data": {
      "text/html": [
       "<style>#sk-container-id-14 {color: black;}#sk-container-id-14 pre{padding: 0;}#sk-container-id-14 div.sk-toggleable {background-color: white;}#sk-container-id-14 label.sk-toggleable__label {cursor: pointer;display: block;width: 100%;margin-bottom: 0;padding: 0.3em;box-sizing: border-box;text-align: center;}#sk-container-id-14 label.sk-toggleable__label-arrow:before {content: \"▸\";float: left;margin-right: 0.25em;color: #696969;}#sk-container-id-14 label.sk-toggleable__label-arrow:hover:before {color: black;}#sk-container-id-14 div.sk-estimator:hover label.sk-toggleable__label-arrow:before {color: black;}#sk-container-id-14 div.sk-toggleable__content {max-height: 0;max-width: 0;overflow: hidden;text-align: left;background-color: #f0f8ff;}#sk-container-id-14 div.sk-toggleable__content pre {margin: 0.2em;color: black;border-radius: 0.25em;background-color: #f0f8ff;}#sk-container-id-14 input.sk-toggleable__control:checked~div.sk-toggleable__content {max-height: 200px;max-width: 100%;overflow: auto;}#sk-container-id-14 input.sk-toggleable__control:checked~label.sk-toggleable__label-arrow:before {content: \"▾\";}#sk-container-id-14 div.sk-estimator input.sk-toggleable__control:checked~label.sk-toggleable__label {background-color: #d4ebff;}#sk-container-id-14 div.sk-label input.sk-toggleable__control:checked~label.sk-toggleable__label {background-color: #d4ebff;}#sk-container-id-14 input.sk-hidden--visually {border: 0;clip: rect(1px 1px 1px 1px);clip: rect(1px, 1px, 1px, 1px);height: 1px;margin: -1px;overflow: hidden;padding: 0;position: absolute;width: 1px;}#sk-container-id-14 div.sk-estimator {font-family: monospace;background-color: #f0f8ff;border: 1px dotted black;border-radius: 0.25em;box-sizing: border-box;margin-bottom: 0.5em;}#sk-container-id-14 div.sk-estimator:hover {background-color: #d4ebff;}#sk-container-id-14 div.sk-parallel-item::after {content: \"\";width: 100%;border-bottom: 1px solid gray;flex-grow: 1;}#sk-container-id-14 div.sk-label:hover label.sk-toggleable__label {background-color: #d4ebff;}#sk-container-id-14 div.sk-serial::before {content: \"\";position: absolute;border-left: 1px solid gray;box-sizing: border-box;top: 0;bottom: 0;left: 50%;z-index: 0;}#sk-container-id-14 div.sk-serial {display: flex;flex-direction: column;align-items: center;background-color: white;padding-right: 0.2em;padding-left: 0.2em;position: relative;}#sk-container-id-14 div.sk-item {position: relative;z-index: 1;}#sk-container-id-14 div.sk-parallel {display: flex;align-items: stretch;justify-content: center;background-color: white;position: relative;}#sk-container-id-14 div.sk-item::before, #sk-container-id-14 div.sk-parallel-item::before {content: \"\";position: absolute;border-left: 1px solid gray;box-sizing: border-box;top: 0;bottom: 0;left: 50%;z-index: -1;}#sk-container-id-14 div.sk-parallel-item {display: flex;flex-direction: column;z-index: 1;position: relative;background-color: white;}#sk-container-id-14 div.sk-parallel-item:first-child::after {align-self: flex-end;width: 50%;}#sk-container-id-14 div.sk-parallel-item:last-child::after {align-self: flex-start;width: 50%;}#sk-container-id-14 div.sk-parallel-item:only-child::after {width: 0;}#sk-container-id-14 div.sk-dashed-wrapped {border: 1px dashed gray;margin: 0 0.4em 0.5em 0.4em;box-sizing: border-box;padding-bottom: 0.4em;background-color: white;}#sk-container-id-14 div.sk-label label {font-family: monospace;font-weight: bold;display: inline-block;line-height: 1.2em;}#sk-container-id-14 div.sk-label-container {text-align: center;}#sk-container-id-14 div.sk-container {/* jupyter's `normalize.less` sets `[hidden] { display: none; }` but bootstrap.min.css set `[hidden] { display: none !important; }` so we also need the `!important` here to be able to override the default hidden behavior on the sphinx rendered scikit-learn.org. See: https://github.com/scikit-learn/scikit-learn/issues/21755 */display: inline-block !important;position: relative;}#sk-container-id-14 div.sk-text-repr-fallback {display: none;}</style><div id=\"sk-container-id-14\" class=\"sk-top-container\"><div class=\"sk-text-repr-fallback\"><pre>RandomForestClassifier(max_depth=20, min_samples_split=5, n_estimators=30)</pre><b>In a Jupyter environment, please rerun this cell to show the HTML representation or trust the notebook. <br />On GitHub, the HTML representation is unable to render, please try loading this page with nbviewer.org.</b></div><div class=\"sk-container\" hidden><div class=\"sk-item\"><div class=\"sk-estimator sk-toggleable\"><input class=\"sk-toggleable__control sk-hidden--visually\" id=\"sk-estimator-id-14\" type=\"checkbox\" checked><label for=\"sk-estimator-id-14\" class=\"sk-toggleable__label sk-toggleable__label-arrow\">RandomForestClassifier</label><div class=\"sk-toggleable__content\"><pre>RandomForestClassifier(max_depth=20, min_samples_split=5, n_estimators=30)</pre></div></div></div></div></div>"
      ],
      "text/plain": [
       "RandomForestClassifier(max_depth=20, min_samples_split=5, n_estimators=30)"
      ]
     },
     "execution_count": 96,
     "metadata": {},
     "output_type": "execute_result"
    }
   ],
   "source": [
    "# Ajustar um modelo de Floresta Aleatória\n",
    "model_RFC.fit(X_treino, Y_treino)\n",
    "\n",
    "# Configure o modelo com os melhores parâmetros\n",
    "model_RFC.set_params(**best_params)"
   ]
  },
  {
   "cell_type": "markdown",
   "id": "10137dff",
   "metadata": {},
   "source": [
    "## Extreme Gradient Boosting"
   ]
  },
  {
   "cell_type": "code",
   "execution_count": null,
   "id": "80524a98",
   "metadata": {
    "scrolled": true
   },
   "outputs": [],
   "source": [
    "# Exemplo de Tuning\n",
    "param_grid = {\n",
    "    'n_estimators': [100, 200, 300],       # Número de árvores na floresta\n",
    "    'max_depth': [3, 4, 5],                # Profundidade máxima das árvores\n",
    "    'learning_rate': [0.1, 0.01],          # Taxa de aprendizado\n",
    "    'subsample': [0.8, 0.9, 1.0],          # Fração de amostras usadas para treinamento de cada árvore\n",
    "    'min_child_weight': [1, 5, 10],        # Peso mínimo das amostras necessárias em uma folha\n",
    "    'gamma': [0, 0.1, 0.2],                # Regularização gamma (parâmetro de penalização)\n",
    "}\n",
    "\n",
    "#grid_search = GridSearchCV(estimator=model_XGB, param_grid=param_grid, cv=5)\n",
    "\n",
    "#grid_search.fit(X_treino, Y_treino)\n",
    "\n",
    "#best_params = grid_search.best_params_\n",
    "#best_estimator = grid_search.best_estimator_"
   ]
  },
  {
   "cell_type": "code",
   "execution_count": 97,
   "id": "1fa8ae71",
   "metadata": {
    "scrolled": true
   },
   "outputs": [],
   "source": [
    "# Guardar os parâmetros encontrados fora do código\n",
    "#melhores_parametros = grid_search.best_params_\n",
    "\n",
    "# Salvar os melhores parâmetros em um arquivo\n",
    "#joblib.dump(melhores_parametros, 'melhores_parametros_acel.pkl')\n",
    "\n",
    "# Carregar os melhores parâmetros a partir do arquivo\n",
    "melhores_parametros = joblib.load('melhores_parametros_acel.pkl')"
   ]
  },
  {
   "cell_type": "code",
   "execution_count": 98,
   "id": "20d19007",
   "metadata": {
    "scrolled": true
   },
   "outputs": [
    {
     "data": {
      "text/html": [
       "<style>#sk-container-id-15 {color: black;}#sk-container-id-15 pre{padding: 0;}#sk-container-id-15 div.sk-toggleable {background-color: white;}#sk-container-id-15 label.sk-toggleable__label {cursor: pointer;display: block;width: 100%;margin-bottom: 0;padding: 0.3em;box-sizing: border-box;text-align: center;}#sk-container-id-15 label.sk-toggleable__label-arrow:before {content: \"▸\";float: left;margin-right: 0.25em;color: #696969;}#sk-container-id-15 label.sk-toggleable__label-arrow:hover:before {color: black;}#sk-container-id-15 div.sk-estimator:hover label.sk-toggleable__label-arrow:before {color: black;}#sk-container-id-15 div.sk-toggleable__content {max-height: 0;max-width: 0;overflow: hidden;text-align: left;background-color: #f0f8ff;}#sk-container-id-15 div.sk-toggleable__content pre {margin: 0.2em;color: black;border-radius: 0.25em;background-color: #f0f8ff;}#sk-container-id-15 input.sk-toggleable__control:checked~div.sk-toggleable__content {max-height: 200px;max-width: 100%;overflow: auto;}#sk-container-id-15 input.sk-toggleable__control:checked~label.sk-toggleable__label-arrow:before {content: \"▾\";}#sk-container-id-15 div.sk-estimator input.sk-toggleable__control:checked~label.sk-toggleable__label {background-color: #d4ebff;}#sk-container-id-15 div.sk-label input.sk-toggleable__control:checked~label.sk-toggleable__label {background-color: #d4ebff;}#sk-container-id-15 input.sk-hidden--visually {border: 0;clip: rect(1px 1px 1px 1px);clip: rect(1px, 1px, 1px, 1px);height: 1px;margin: -1px;overflow: hidden;padding: 0;position: absolute;width: 1px;}#sk-container-id-15 div.sk-estimator {font-family: monospace;background-color: #f0f8ff;border: 1px dotted black;border-radius: 0.25em;box-sizing: border-box;margin-bottom: 0.5em;}#sk-container-id-15 div.sk-estimator:hover {background-color: #d4ebff;}#sk-container-id-15 div.sk-parallel-item::after {content: \"\";width: 100%;border-bottom: 1px solid gray;flex-grow: 1;}#sk-container-id-15 div.sk-label:hover label.sk-toggleable__label {background-color: #d4ebff;}#sk-container-id-15 div.sk-serial::before {content: \"\";position: absolute;border-left: 1px solid gray;box-sizing: border-box;top: 0;bottom: 0;left: 50%;z-index: 0;}#sk-container-id-15 div.sk-serial {display: flex;flex-direction: column;align-items: center;background-color: white;padding-right: 0.2em;padding-left: 0.2em;position: relative;}#sk-container-id-15 div.sk-item {position: relative;z-index: 1;}#sk-container-id-15 div.sk-parallel {display: flex;align-items: stretch;justify-content: center;background-color: white;position: relative;}#sk-container-id-15 div.sk-item::before, #sk-container-id-15 div.sk-parallel-item::before {content: \"\";position: absolute;border-left: 1px solid gray;box-sizing: border-box;top: 0;bottom: 0;left: 50%;z-index: -1;}#sk-container-id-15 div.sk-parallel-item {display: flex;flex-direction: column;z-index: 1;position: relative;background-color: white;}#sk-container-id-15 div.sk-parallel-item:first-child::after {align-self: flex-end;width: 50%;}#sk-container-id-15 div.sk-parallel-item:last-child::after {align-self: flex-start;width: 50%;}#sk-container-id-15 div.sk-parallel-item:only-child::after {width: 0;}#sk-container-id-15 div.sk-dashed-wrapped {border: 1px dashed gray;margin: 0 0.4em 0.5em 0.4em;box-sizing: border-box;padding-bottom: 0.4em;background-color: white;}#sk-container-id-15 div.sk-label label {font-family: monospace;font-weight: bold;display: inline-block;line-height: 1.2em;}#sk-container-id-15 div.sk-label-container {text-align: center;}#sk-container-id-15 div.sk-container {/* jupyter's `normalize.less` sets `[hidden] { display: none; }` but bootstrap.min.css set `[hidden] { display: none !important; }` so we also need the `!important` here to be able to override the default hidden behavior on the sphinx rendered scikit-learn.org. See: https://github.com/scikit-learn/scikit-learn/issues/21755 */display: inline-block !important;position: relative;}#sk-container-id-15 div.sk-text-repr-fallback {display: none;}</style><div id=\"sk-container-id-15\" class=\"sk-top-container\"><div class=\"sk-text-repr-fallback\"><pre>XGBClassifier(base_score=None, booster=None, callbacks=None,\n",
       "              colsample_bylevel=None, colsample_bynode=None,\n",
       "              colsample_bytree=None, device=None, early_stopping_rounds=None,\n",
       "              enable_categorical=False, eval_metric=None, feature_types=None,\n",
       "              gamma=None, grow_policy=None, importance_type=None,\n",
       "              interaction_constraints=None, learning_rate=None, max_bin=None,\n",
       "              max_cat_threshold=None, max_cat_to_onehot=None,\n",
       "              max_delta_step=None, max_depth=20, max_features=&#x27;sqrt&#x27;,\n",
       "              max_leaves=None, min_child_weight=None, min_samples_leaf=1,\n",
       "              min_samples_split=5, missing=nan, monotone_constraints=None,\n",
       "              multi_strategy=None, n_estimators=30, ...)</pre><b>In a Jupyter environment, please rerun this cell to show the HTML representation or trust the notebook. <br />On GitHub, the HTML representation is unable to render, please try loading this page with nbviewer.org.</b></div><div class=\"sk-container\" hidden><div class=\"sk-item\"><div class=\"sk-estimator sk-toggleable\"><input class=\"sk-toggleable__control sk-hidden--visually\" id=\"sk-estimator-id-15\" type=\"checkbox\" checked><label for=\"sk-estimator-id-15\" class=\"sk-toggleable__label sk-toggleable__label-arrow\">XGBClassifier</label><div class=\"sk-toggleable__content\"><pre>XGBClassifier(base_score=None, booster=None, callbacks=None,\n",
       "              colsample_bylevel=None, colsample_bynode=None,\n",
       "              colsample_bytree=None, device=None, early_stopping_rounds=None,\n",
       "              enable_categorical=False, eval_metric=None, feature_types=None,\n",
       "              gamma=None, grow_policy=None, importance_type=None,\n",
       "              interaction_constraints=None, learning_rate=None, max_bin=None,\n",
       "              max_cat_threshold=None, max_cat_to_onehot=None,\n",
       "              max_delta_step=None, max_depth=20, max_features=&#x27;sqrt&#x27;,\n",
       "              max_leaves=None, min_child_weight=None, min_samples_leaf=1,\n",
       "              min_samples_split=5, missing=nan, monotone_constraints=None,\n",
       "              multi_strategy=None, n_estimators=30, ...)</pre></div></div></div></div></div>"
      ],
      "text/plain": [
       "XGBClassifier(base_score=None, booster=None, callbacks=None,\n",
       "              colsample_bylevel=None, colsample_bynode=None,\n",
       "              colsample_bytree=None, device=None, early_stopping_rounds=None,\n",
       "              enable_categorical=False, eval_metric=None, feature_types=None,\n",
       "              gamma=None, grow_policy=None, importance_type=None,\n",
       "              interaction_constraints=None, learning_rate=None, max_bin=None,\n",
       "              max_cat_threshold=None, max_cat_to_onehot=None,\n",
       "              max_delta_step=None, max_depth=20, max_features='sqrt',\n",
       "              max_leaves=None, min_child_weight=None, min_samples_leaf=1,\n",
       "              min_samples_split=5, missing=nan, monotone_constraints=None,\n",
       "              multi_strategy=None, n_estimators=30, ...)"
      ]
     },
     "execution_count": 98,
     "metadata": {},
     "output_type": "execute_result"
    }
   ],
   "source": [
    "# Ajustar um modelo de XGBoost\n",
    "model_XGB.fit(X_treino, Y_treino)\n",
    "\n",
    "# Configure o modelo com os melhores parâmetros\n",
    "model_XGB.set_params(**best_params)"
   ]
  },
  {
   "cell_type": "markdown",
   "id": "3e3017c1",
   "metadata": {},
   "source": [
    "# Validação Cruzada"
   ]
  },
  {
   "cell_type": "code",
   "execution_count": 99,
   "id": "91201032",
   "metadata": {
    "scrolled": true
   },
   "outputs": [],
   "source": [
    "# Número de classes\n",
    "n_classes = 5\n",
    "\n",
    "kfold = KFold(n_splits=5, shuffle=True, random_state=42)"
   ]
  },
  {
   "cell_type": "markdown",
   "id": "0dac3811",
   "metadata": {},
   "source": [
    "## Árvore de Decisão de Classificação"
   ]
  },
  {
   "cell_type": "code",
   "execution_count": 100,
   "id": "47ec3567",
   "metadata": {
    "scrolled": true
   },
   "outputs": [
    {
     "data": {
      "image/png": "[encoded data removed]",
      "text/plain": [
       "<Figure size 864x288 with 1 Axes>"
      ]
     },
     "metadata": {
      "needs_background": "light"
     },
     "output_type": "display_data"
    }
   ],
   "source": [
    "# Receiver operating characteristic — ROC\n",
    "\n",
    "# Converta Y_treino para uma matriz binária de classes\n",
    "Y_bin = label_binarize(Y_treino, classes=list(range(5)))\n",
    "\n",
    "# Obter as probabilidades em vez das previsões\n",
    "y_scores = cross_val_predict(model_DTC, X_treino, Y_treino, cv=kfold, method='predict_proba')\n",
    "\n",
    "# Calcula as curvas ROC para cada classe\n",
    "fpr = dict()\n",
    "tpr = dict()\n",
    "roc_auc = dict()\n",
    "for i in range(5):\n",
    "    fpr[i], tpr[i], _ = roc_curve(Y_bin[:, i], y_scores[:, i])\n",
    "    roc_auc[i] = auc(fpr[i], tpr[i])\n",
    "\n",
    "# Plote as curvas ROC para cada classe\n",
    "fig, ax = plt.subplots(figsize=(12, 4))\n",
    "colors = ['b', 'g', 'r', 'c', 'm']\n",
    "for i, color in zip(range(5), colors):\n",
    "    plt.plot(fpr[i], tpr[i], color, lw=2, label='Classe {}'.format(i))\n",
    "\n",
    "plt.plot([0, 1], [0, 1], 'k--')\n",
    "plt.xlim([0.0, 1.0])\n",
    "plt.ylim([0.0, 1.05])\n",
    "plt.xlabel('Taxa de Falsos Positivos')\n",
    "plt.ylabel('Taxa de Verdadeiros Positivos')\n",
    "plt.legend(loc='lower right')\n",
    "plt.title('Curvas ROC para DTC', fontsize=14)\n",
    "plt.show()"
   ]
  },
  {
   "cell_type": "code",
   "execution_count": 101,
   "id": "f7df14c5",
   "metadata": {
    "scrolled": true
   },
   "outputs": [
    {
     "name": "stdout",
     "output_type": "stream",
     "text": [
      "Acurácia média: 81.71%\n",
      "Intervalo de acurácia: [78.03% ~ 85.40%]\n"
     ]
    }
   ],
   "source": [
    "# Calcule a média das pontuações para avaliação de Acurácia do modelo\n",
    "def intervalo(results):\n",
    "    mean = results.mean()\n",
    "    dv = results.std()\n",
    "    print('Acurácia média: {:.2f}%'.format(mean * 100))\n",
    "    print('Intervalo de acurácia: [{:.2f}% ~ {:.2f}%]'.format((mean - 2 * dv) * 100, (mean + 2 * dv) * 100))\n",
    "\n",
    "scores = cross_val_score(model_DTC, X_treino, Y_treino, cv=kfold, scoring='accuracy') # Checar Modelo\n",
    "intervalo(scores)"
   ]
  },
  {
   "cell_type": "markdown",
   "id": "92a4c1b5",
   "metadata": {},
   "source": [
    "## Classificação de Floresta Aleatória"
   ]
  },
  {
   "cell_type": "code",
   "execution_count": 102,
   "id": "18051d3f",
   "metadata": {
    "scrolled": true
   },
   "outputs": [
    {
     "data": {
      "image/png": "[encoded data removed]",
      "text/plain": [
       "<Figure size 864x288 with 1 Axes>"
      ]
     },
     "metadata": {
      "needs_background": "light"
     },
     "output_type": "display_data"
    }
   ],
   "source": [
    "# Receiver operating characteristic — ROC\n",
    "\n",
    "# Converta Y_treino para uma matriz binária de classes\n",
    "Y_bin = label_binarize(Y_treino, classes=list(range(5)))\n",
    "\n",
    "# Obter as probabilidades em vez das previsões\n",
    "y_scores = cross_val_predict(model_RFC, X_treino, Y_treino, cv=kfold, method='predict_proba')\n",
    "\n",
    "# Calcula as curvas ROC para cada classe\n",
    "fpr = dict()\n",
    "tpr = dict()\n",
    "roc_auc = dict()\n",
    "for i in range(5):\n",
    "    fpr[i], tpr[i], _ = roc_curve(Y_bin[:, i], y_scores[:, i])\n",
    "    roc_auc[i] = auc(fpr[i], tpr[i])\n",
    "\n",
    "# Plote as curvas ROC para cada classe\n",
    "fig, ax = plt.subplots(figsize=(12, 4))\n",
    "colors = ['b', 'g', 'r', 'c', 'm']\n",
    "for i, color in zip(range(5), colors):\n",
    "    plt.plot(fpr[i], tpr[i], color, lw=2, label='Classe {}'.format(i))\n",
    "\n",
    "plt.plot([0, 1], [0, 1], 'k--')\n",
    "plt.xlim([0.0, 1.0])\n",
    "plt.ylim([0.0, 1.05])\n",
    "plt.xlabel('Taxa de Falsos Positivos')\n",
    "plt.ylabel('Taxa de Verdadeiros Positivos')\n",
    "plt.legend(loc='lower right')\n",
    "plt.title('Curvas ROC para RFC', fontsize=14)\n",
    "plt.show()"
   ]
  },
  {
   "cell_type": "code",
   "execution_count": 103,
   "id": "1d30a3e3",
   "metadata": {
    "scrolled": true
   },
   "outputs": [
    {
     "name": "stdout",
     "output_type": "stream",
     "text": [
      "Acurácia média: 90.43%\n",
      "Intervalo de acurácia: [88.29% ~ 92.57%]\n"
     ]
    }
   ],
   "source": [
    "# Calcule a média das pontuações para avaliação de Acurácia do modelo\n",
    "def intervalo(results):\n",
    "    mean = results.mean()\n",
    "    dv = results.std()\n",
    "    print('Acurácia média: {:.2f}%'.format(mean * 100))\n",
    "    print('Intervalo de acurácia: [{:.2f}% ~ {:.2f}%]'.format((mean - 2 * dv) * 100, (mean + 2 * dv) * 100))\n",
    "\n",
    "scores = cross_val_score(model_RFC, X_treino, Y_treino, cv=kfold, scoring='accuracy') # Checar Modelo\n",
    "intervalo(scores)"
   ]
  },
  {
   "cell_type": "markdown",
   "id": "a8156d68",
   "metadata": {},
   "source": [
    "## Extreme Gradient Boosting"
   ]
  },
  {
   "cell_type": "code",
   "execution_count": 104,
   "id": "477e51e1",
   "metadata": {
    "scrolled": true
   },
   "outputs": [
    {
     "name": "stderr",
     "output_type": "stream",
     "text": [
      "[11:12:11] WARNING: C:\\buildkite-agent\\builds\\buildkite-windows-cpu-autoscaling-group-i-0cec3277c4d9d0165-1\\xgboost\\xgboost-ci-windows\\src\\learner.cc:742: \n",
      "Parameters: { \"max_features\", \"min_samples_leaf\", \"min_samples_split\" } are not used.\n",
      "\n",
      "[11:12:12] WARNING: C:\\buildkite-agent\\builds\\buildkite-windows-cpu-autoscaling-group-i-0cec3277c4d9d0165-1\\xgboost\\xgboost-ci-windows\\src\\learner.cc:742: \n",
      "Parameters: { \"max_features\", \"min_samples_leaf\", \"min_samples_split\" } are not used.\n",
      "\n"
     ]
    },
    {
     "data": {
      "image/png": "[encoded data removed]",
      "text/plain": [
       "<Figure size 864x288 with 1 Axes>"
      ]
     },
     "metadata": {
      "needs_background": "light"
     },
     "output_type": "display_data"
    }
   ],
   "source": [
    "# Receiver operating characteristic — ROC\n",
    "\n",
    "# Converta Y_treino para uma matriz binária de classes\n",
    "Y_bin = label_binarize(Y_treino, classes=list(range(5)))\n",
    "\n",
    "# Obter as probabilidades em vez das previsões\n",
    "y_scores = cross_val_predict(model_XGB, X_treino, Y_treino, cv=kfold, method='predict_proba')\n",
    "\n",
    "# Calcula as curvas ROC para cada classe\n",
    "fpr = dict()\n",
    "tpr = dict()\n",
    "roc_auc = dict()\n",
    "for i in range(5):\n",
    "    fpr[i], tpr[i], _ = roc_curve(Y_bin[:, i], y_scores[:, i])\n",
    "    roc_auc[i] = auc(fpr[i], tpr[i])\n",
    "\n",
    "# Plote as curvas ROC para cada classe\n",
    "fig, ax = plt.subplots(figsize=(12, 4))\n",
    "colors = ['b', 'g', 'r', 'c', 'm']\n",
    "for i, color in zip(range(5), colors):\n",
    "    plt.plot(fpr[i], tpr[i], color, lw=2, label='Classe {}'.format(i))\n",
    "\n",
    "plt.plot([0, 1], [0, 1], 'k--')\n",
    "plt.xlim([0.0, 1.0])\n",
    "plt.ylim([0.0, 1.05])\n",
    "plt.xlabel('Taxa de Falsos Positivos')\n",
    "plt.ylabel('Taxa de Verdadeiros Positivos')\n",
    "plt.legend(loc='lower right')\n",
    "plt.title('Curvas ROC para XGB', fontsize=14)\n",
    "plt.show()"
   ]
  },
  {
   "cell_type": "code",
   "execution_count": 105,
   "id": "aa80bd0c",
   "metadata": {
    "scrolled": true
   },
   "outputs": [
    {
     "name": "stderr",
     "output_type": "stream",
     "text": [
      "[11:12:12] WARNING: C:\\buildkite-agent\\builds\\buildkite-windows-cpu-autoscaling-group-i-0cec3277c4d9d0165-1\\xgboost\\xgboost-ci-windows\\src\\learner.cc:742: \n",
      "Parameters: { \"max_features\", \"min_samples_leaf\", \"min_samples_split\" } are not used.\n",
      "\n",
      "[11:12:13] WARNING: C:\\buildkite-agent\\builds\\buildkite-windows-cpu-autoscaling-group-i-0cec3277c4d9d0165-1\\xgboost\\xgboost-ci-windows\\src\\learner.cc:742: \n",
      "Parameters: { \"max_features\", \"min_samples_leaf\", \"min_samples_split\" } are not used.\n",
      "\n",
      "[11:12:13] WARNING: C:\\buildkite-agent\\builds\\buildkite-windows-cpu-autoscaling-group-i-0cec3277c4d9d0165-1\\xgboost\\xgboost-ci-windows\\src\\learner.cc:742: \n",
      "Parameters: { \"max_features\", \"min_samples_leaf\", \"min_samples_split\" } are not used.\n",
      "\n",
      "[11:12:13] WARNING: C:\\buildkite-agent\\builds\\buildkite-windows-cpu-autoscaling-group-i-0cec3277c4d9d0165-1\\xgboost\\xgboost-ci-windows\\src\\learner.cc:742: \n",
      "Parameters: { \"max_features\", \"min_samples_leaf\", \"min_samples_split\" } are not used.\n",
      "\n"
     ]
    },
    {
     "name": "stdout",
     "output_type": "stream",
     "text": [
      "Acurácia média: 92.43%\n",
      "Intervalo de acurácia: [87.86% ~ 97.00%]\n"
     ]
    },
    {
     "name": "stderr",
     "output_type": "stream",
     "text": [
      "[11:12:13] WARNING: C:\\buildkite-agent\\builds\\buildkite-windows-cpu-autoscaling-group-i-0cec3277c4d9d0165-1\\xgboost\\xgboost-ci-windows\\src\\learner.cc:742: \n",
      "Parameters: { \"max_features\", \"min_samples_leaf\", \"min_samples_split\" } are not used.\n",
      "\n"
     ]
    }
   ],
   "source": [
    "# Calcule a média das pontuações para avaliação de Acurácia do modelo\n",
    "def intervalo(results):\n",
    "    mean = results.mean()\n",
    "    dv = results.std()\n",
    "    print('Acurácia média: {:.2f}%'.format(mean * 100))\n",
    "    print('Intervalo de acurácia: [{:.2f}% ~ {:.2f}%]'.format((mean - 2 * dv) * 100, (mean + 2 * dv) * 100))\n",
    "\n",
    "scores = cross_val_score(model_XGB, X_treino, Y_treino, cv=kfold, scoring='accuracy') # Checar Modelo\n",
    "intervalo(scores)"
   ]
  },
  {
   "cell_type": "markdown",
   "id": "65ab0c52",
   "metadata": {},
   "source": [
    "# Desempate"
   ]
  },
  {
   "cell_type": "code",
   "execution_count": null,
   "id": "5985efa7",
   "metadata": {
    "scrolled": true
   },
   "outputs": [],
   "source": [
    "# Matriz de Confusão\n",
    "Y_pred = cross_val_predict(model_RFC, X_treino, Y_treino, cv=kfold) # Checar Modelo\n",
    "\n",
    "fig, ax = plt.subplots()\n",
    "sns.heatmap(confusion_matrix(Y_treino, Y_pred), annot=True, ax=ax, fmt='d', cmap='Reds', cbar=False, square=True)\n",
    "ax.set_title(\"Matriz de Confusão\", fontsize=18)\n",
    "ax.set_ylabel(\"True label\")\n",
    "ax.set_xlabel(\"Predicted Label\")\n",
    "plt.tight_layout()"
   ]
  },
  {
   "cell_type": "code",
   "execution_count": null,
   "id": "6ed85c98",
   "metadata": {
    "scrolled": true
   },
   "outputs": [],
   "source": [
    "# Matriz de Confusão\n",
    "Y_pred = cross_val_predict(model_XGB, X_treino, Y_treino, cv=kfold) # Checar Modelo\n",
    "\n",
    "fig, ax = plt.subplots()\n",
    "sns.heatmap(confusion_matrix(Y_treino, Y_pred), annot=True, ax=ax, fmt='d', cmap='Reds', cbar=False, square=True)\n",
    "ax.set_title(\"Matriz de Confusão\", fontsize=18)\n",
    "ax.set_ylabel(\"True label\")\n",
    "ax.set_xlabel(\"Predicted Label\")\n",
    "plt.tight_layout()"
   ]
  },
  {
   "cell_type": "markdown",
   "id": "8e2f5eab",
   "metadata": {},
   "source": [
    "# Treinamento"
   ]
  },
  {
   "cell_type": "code",
   "execution_count": 106,
   "id": "2cf7cdcb",
   "metadata": {
    "scrolled": true
   },
   "outputs": [
    {
     "name": "stderr",
     "output_type": "stream",
     "text": [
      "[11:12:13] WARNING: C:\\buildkite-agent\\builds\\buildkite-windows-cpu-autoscaling-group-i-0cec3277c4d9d0165-1\\xgboost\\xgboost-ci-windows\\src\\learner.cc:742: \n",
      "Parameters: { \"max_features\", \"min_samples_leaf\", \"min_samples_split\" } are not used.\n",
      "\n"
     ]
    },
    {
     "data": {
      "text/html": [
       "<style>#sk-container-id-16 {color: black;}#sk-container-id-16 pre{padding: 0;}#sk-container-id-16 div.sk-toggleable {background-color: white;}#sk-container-id-16 label.sk-toggleable__label {cursor: pointer;display: block;width: 100%;margin-bottom: 0;padding: 0.3em;box-sizing: border-box;text-align: center;}#sk-container-id-16 label.sk-toggleable__label-arrow:before {content: \"▸\";float: left;margin-right: 0.25em;color: #696969;}#sk-container-id-16 label.sk-toggleable__label-arrow:hover:before {color: black;}#sk-container-id-16 div.sk-estimator:hover label.sk-toggleable__label-arrow:before {color: black;}#sk-container-id-16 div.sk-toggleable__content {max-height: 0;max-width: 0;overflow: hidden;text-align: left;background-color: #f0f8ff;}#sk-container-id-16 div.sk-toggleable__content pre {margin: 0.2em;color: black;border-radius: 0.25em;background-color: #f0f8ff;}#sk-container-id-16 input.sk-toggleable__control:checked~div.sk-toggleable__content {max-height: 200px;max-width: 100%;overflow: auto;}#sk-container-id-16 input.sk-toggleable__control:checked~label.sk-toggleable__label-arrow:before {content: \"▾\";}#sk-container-id-16 div.sk-estimator input.sk-toggleable__control:checked~label.sk-toggleable__label {background-color: #d4ebff;}#sk-container-id-16 div.sk-label input.sk-toggleable__control:checked~label.sk-toggleable__label {background-color: #d4ebff;}#sk-container-id-16 input.sk-hidden--visually {border: 0;clip: rect(1px 1px 1px 1px);clip: rect(1px, 1px, 1px, 1px);height: 1px;margin: -1px;overflow: hidden;padding: 0;position: absolute;width: 1px;}#sk-container-id-16 div.sk-estimator {font-family: monospace;background-color: #f0f8ff;border: 1px dotted black;border-radius: 0.25em;box-sizing: border-box;margin-bottom: 0.5em;}#sk-container-id-16 div.sk-estimator:hover {background-color: #d4ebff;}#sk-container-id-16 div.sk-parallel-item::after {content: \"\";width: 100%;border-bottom: 1px solid gray;flex-grow: 1;}#sk-container-id-16 div.sk-label:hover label.sk-toggleable__label {background-color: #d4ebff;}#sk-container-id-16 div.sk-serial::before {content: \"\";position: absolute;border-left: 1px solid gray;box-sizing: border-box;top: 0;bottom: 0;left: 50%;z-index: 0;}#sk-container-id-16 div.sk-serial {display: flex;flex-direction: column;align-items: center;background-color: white;padding-right: 0.2em;padding-left: 0.2em;position: relative;}#sk-container-id-16 div.sk-item {position: relative;z-index: 1;}#sk-container-id-16 div.sk-parallel {display: flex;align-items: stretch;justify-content: center;background-color: white;position: relative;}#sk-container-id-16 div.sk-item::before, #sk-container-id-16 div.sk-parallel-item::before {content: \"\";position: absolute;border-left: 1px solid gray;box-sizing: border-box;top: 0;bottom: 0;left: 50%;z-index: -1;}#sk-container-id-16 div.sk-parallel-item {display: flex;flex-direction: column;z-index: 1;position: relative;background-color: white;}#sk-container-id-16 div.sk-parallel-item:first-child::after {align-self: flex-end;width: 50%;}#sk-container-id-16 div.sk-parallel-item:last-child::after {align-self: flex-start;width: 50%;}#sk-container-id-16 div.sk-parallel-item:only-child::after {width: 0;}#sk-container-id-16 div.sk-dashed-wrapped {border: 1px dashed gray;margin: 0 0.4em 0.5em 0.4em;box-sizing: border-box;padding-bottom: 0.4em;background-color: white;}#sk-container-id-16 div.sk-label label {font-family: monospace;font-weight: bold;display: inline-block;line-height: 1.2em;}#sk-container-id-16 div.sk-label-container {text-align: center;}#sk-container-id-16 div.sk-container {/* jupyter's `normalize.less` sets `[hidden] { display: none; }` but bootstrap.min.css set `[hidden] { display: none !important; }` so we also need the `!important` here to be able to override the default hidden behavior on the sphinx rendered scikit-learn.org. See: https://github.com/scikit-learn/scikit-learn/issues/21755 */display: inline-block !important;position: relative;}#sk-container-id-16 div.sk-text-repr-fallback {display: none;}</style><div id=\"sk-container-id-16\" class=\"sk-top-container\"><div class=\"sk-text-repr-fallback\"><pre>XGBClassifier(base_score=None, booster=None, callbacks=None,\n",
       "              colsample_bylevel=None, colsample_bynode=None,\n",
       "              colsample_bytree=None, device=None, early_stopping_rounds=None,\n",
       "              enable_categorical=False, eval_metric=None, feature_types=None,\n",
       "              gamma=None, grow_policy=None, importance_type=None,\n",
       "              interaction_constraints=None, learning_rate=None, max_bin=None,\n",
       "              max_cat_threshold=None, max_cat_to_onehot=None,\n",
       "              max_delta_step=None, max_depth=20, max_features=&#x27;sqrt&#x27;,\n",
       "              max_leaves=None, min_child_weight=None, min_samples_leaf=1,\n",
       "              min_samples_split=5, missing=nan, monotone_constraints=None,\n",
       "              multi_strategy=None, n_estimators=30, ...)</pre><b>In a Jupyter environment, please rerun this cell to show the HTML representation or trust the notebook. <br />On GitHub, the HTML representation is unable to render, please try loading this page with nbviewer.org.</b></div><div class=\"sk-container\" hidden><div class=\"sk-item\"><div class=\"sk-estimator sk-toggleable\"><input class=\"sk-toggleable__control sk-hidden--visually\" id=\"sk-estimator-id-16\" type=\"checkbox\" checked><label for=\"sk-estimator-id-16\" class=\"sk-toggleable__label sk-toggleable__label-arrow\">XGBClassifier</label><div class=\"sk-toggleable__content\"><pre>XGBClassifier(base_score=None, booster=None, callbacks=None,\n",
       "              colsample_bylevel=None, colsample_bynode=None,\n",
       "              colsample_bytree=None, device=None, early_stopping_rounds=None,\n",
       "              enable_categorical=False, eval_metric=None, feature_types=None,\n",
       "              gamma=None, grow_policy=None, importance_type=None,\n",
       "              interaction_constraints=None, learning_rate=None, max_bin=None,\n",
       "              max_cat_threshold=None, max_cat_to_onehot=None,\n",
       "              max_delta_step=None, max_depth=20, max_features=&#x27;sqrt&#x27;,\n",
       "              max_leaves=None, min_child_weight=None, min_samples_leaf=1,\n",
       "              min_samples_split=5, missing=nan, monotone_constraints=None,\n",
       "              multi_strategy=None, n_estimators=30, ...)</pre></div></div></div></div></div>"
      ],
      "text/plain": [
       "XGBClassifier(base_score=None, booster=None, callbacks=None,\n",
       "              colsample_bylevel=None, colsample_bynode=None,\n",
       "              colsample_bytree=None, device=None, early_stopping_rounds=None,\n",
       "              enable_categorical=False, eval_metric=None, feature_types=None,\n",
       "              gamma=None, grow_policy=None, importance_type=None,\n",
       "              interaction_constraints=None, learning_rate=None, max_bin=None,\n",
       "              max_cat_threshold=None, max_cat_to_onehot=None,\n",
       "              max_delta_step=None, max_depth=20, max_features='sqrt',\n",
       "              max_leaves=None, min_child_weight=None, min_samples_leaf=1,\n",
       "              min_samples_split=5, missing=nan, monotone_constraints=None,\n",
       "              multi_strategy=None, n_estimators=30, ...)"
      ]
     },
     "execution_count": 106,
     "metadata": {},
     "output_type": "execute_result"
    }
   ],
   "source": [
    "# Treinamento do modelo \n",
    "model_XGB.fit(X_treino, Y_treino) # Checar modelo"
   ]
  },
  {
   "cell_type": "markdown",
   "id": "38b73b15",
   "metadata": {},
   "source": [
    "# Avaliação"
   ]
  },
  {
   "cell_type": "code",
   "execution_count": 107,
   "id": "8334b100",
   "metadata": {
    "scrolled": true
   },
   "outputs": [],
   "source": [
    "# Fazer previsões no conjunto de teste\n",
    "Y_pred = model_XGB.predict(X_teste)"
   ]
  },
  {
   "cell_type": "code",
   "execution_count": 108,
   "id": "cfff3831",
   "metadata": {},
   "outputs": [
    {
     "data": {
      "image/png": "[encoded data removed]",
      "text/plain": [
       "<Figure size 864x216 with 1 Axes>"
      ]
     },
     "metadata": {
      "needs_background": "light"
     },
     "output_type": "display_data"
    }
   ],
   "source": [
    "# Comparar scores de Previsão e Recall\n",
    "# Converta Y_teste para uma matriz binária de classes\n",
    "Y_bin = label_binarize(Y_teste, classes=list(range(5)))\n",
    "\n",
    "# Obter as probabilidades em vez das previsões\n",
    "y_scores = model_XGB.predict_proba(X_teste)\n",
    "\n",
    "# Calcula as curvas de precisão e recall para cada classe\n",
    "precisions = dict()\n",
    "recalls = dict()\n",
    "for i in range(5):\n",
    "    precision, recall, _ = precision_recall_curve(Y_bin[:, i], y_scores[:, i])\n",
    "    precisions[i] = precision\n",
    "    recalls[i] = recall\n",
    "\n",
    "# Plote as curvas de precisão e recall para cada classe\n",
    "fig, ax = plt.subplots(figsize=(12, 3))\n",
    "colors = ['b', 'g', 'r', 'c', 'm']\n",
    "for i, color in zip(range(5), colors):\n",
    "    plt.plot(recalls[i], precisions[i], color, lw=2, label='Classe {}'.format(i))\n",
    "\n",
    "plt.xlabel('Recall')\n",
    "plt.ylabel('Precisão')\n",
    "plt.legend(loc='center')\n",
    "plt.title('Curvas de Precisão x Recall para Classes', fontsize=14)\n",
    "plt.show()"
   ]
  },
  {
   "cell_type": "code",
   "execution_count": 109,
   "id": "bdbc48e8",
   "metadata": {
    "scrolled": true
   },
   "outputs": [
    {
     "name": "stdout",
     "output_type": "stream",
     "text": [
      "Acurácia no conjunto de teste: 0.94\n"
     ]
    }
   ],
   "source": [
    "# Calcule a média das pontuações para avaliação de Acurácia do modelo\n",
    "Y_pred = model_XGB.predict(X_teste)\n",
    "\n",
    "# Calcule a acurácia\n",
    "accuracy = accuracy_score(Y_teste, Y_pred)\n",
    "\n",
    "print(f'Acurácia no conjunto de teste: {accuracy:.2f}')"
   ]
  },
  {
   "cell_type": "markdown",
   "id": "855c4d7a",
   "metadata": {},
   "source": [
    "## Análise de Variáveis "
   ]
  },
  {
   "cell_type": "code",
   "execution_count": null,
   "id": "5d189752",
   "metadata": {
    "scrolled": true
   },
   "outputs": [],
   "source": [
    "# Analisar variáveis que mais afetam o modelo\n",
    "importances = model_XGB.feature_importances_\n",
    "\n",
    "# Classifique as importâncias das características\n",
    "indices_ordenados = np.argsort(importances)[::-1]\n",
    "\n",
    "print(importances)"
   ]
  },
  {
   "cell_type": "code",
   "execution_count": null,
   "id": "63ffa90b",
   "metadata": {
    "scrolled": true
   },
   "outputs": [],
   "source": [
    "# Crie um objeto explainer\n",
    "explainer = shap.Explainer(model_XGB, X_teste)\n",
    "\n",
    "# Calcule os valores Shapley para um exemplo de dado específico\n",
    "shap_values = explainer.shap_values(X_teste)\n",
    "\n",
    "# Visualize os valores Shapley\n",
    "shap.summary_plot(shap_values, X_teste)"
   ]
  },
  {
   "cell_type": "markdown",
   "id": "eedaa3ef",
   "metadata": {},
   "source": [
    "# Predição"
   ]
  },
  {
   "cell_type": "code",
   "execution_count": 30,
   "id": "62b18141",
   "metadata": {
    "collapsed": true
   },
   "outputs": [
    {
     "name": "stdout",
     "output_type": "stream",
     "text": [
      "Index(['Massa', 'DMV_Dianteira', 'PCG_X', 'PCG_Y', 'PCG_Z',\n",
      "       'MT_Relacao total_max', 'MT_Relacao total_min',\n",
      "       'CD_Velocidade em 100 m', 'CD_Tempo para atingir velocidade maxima',\n",
      "       'P_Aceleracao'],\n",
      "      dtype='object')\n"
     ]
    }
   ],
   "source": [
    "print(dados_treino.columns)"
   ]
  },
  {
   "cell_type": "code",
   "execution_count": 50,
   "id": "0fd8521b",
   "metadata": {
    "collapsed": true
   },
   "outputs": [
    {
     "name": "stdout",
     "output_type": "stream",
     "text": [
      "Massa                                      -16.665088\n",
      "DMV_Dianteira                                0.432000\n",
      "PCG_X                                      139.552625\n",
      "PCG_Y                                        0.016100\n",
      "PCG_Z                                      189.600000\n",
      "MT_Relacao total_max                        29.480000\n",
      "MT_Relacao total_min                         5.956629\n",
      "CD_Velocidade em 100 m                       3.952100\n",
      "CD_Tempo para atingir velocidade maxima     -3.239683\n",
      "Name: 1000, dtype: float64\n"
     ]
    }
   ],
   "source": [
    "print(dados_MB24)"
   ]
  },
  {
   "cell_type": "code",
   "execution_count": null,
   "id": "f6071cf7",
   "metadata": {
    "scrolled": true
   },
   "outputs": [],
   "source": [
    "# Especifique o caminho para o arquivo Excel\n",
    "caminho_arquivo = \"C:\\\\Users\\\\Andre\\\\Desktop\\\\Julia\\\\Mangue_Baja\\\\DESAFIO TÉCNICO\\\\MB24.xlsx\"\n",
    "\n",
    "# Salvar o DataFrame na planilha 'P_Aceleration'\n",
    "dados_MB24.to_excel(caminho_arquivo, sheet_name='P_Aceleration', index=0)"
   ]
  },
  {
   "cell_type": "code",
   "execution_count": 110,
   "id": "c03415bd",
   "metadata": {
    "scrolled": false
   },
   "outputs": [
    {
     "name": "stdout",
     "output_type": "stream",
     "text": [
      "A previsão para X_prev é: 4.00\n"
     ]
    }
   ],
   "source": [
    "# Valor único para fazer a previsão\n",
    "X_prev = dados_MB24\n",
    "\n",
    "# Faça a previsão\n",
    "previsao = model_XGB.predict(X_prev)\n",
    "\n",
    "# Imprima a previsão\n",
    "print(f'A previsão para X_prev é: {previsao[0]:.2f}')"
   ]
  }
 ],
 "metadata": {
  "kernelspec": {
   "display_name": "Python 3 (ipykernel)",
   "language": "python",
   "name": "python3"
  },
  "language_info": {
   "codemirror_mode": {
    "name": "ipython",
    "version": 3
   },
   "file_extension": ".py",
   "mimetype": "text/x-python",
   "name": "python",
   "nbconvert_exporter": "python",
   "pygments_lexer": "ipython3",
   "version": "3.9.7"
  }
 },
 "nbformat": 4,
 "nbformat_minor": 5
}

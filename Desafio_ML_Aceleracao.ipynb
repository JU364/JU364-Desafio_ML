{
 "cells": [
  {
   "cell_type": "code",
   "execution_count": 3,
   "id": "740a0c9e-634b-494f-b7a9-d4e6bbd56249",
   "metadata": {
    "collapsed": true
   },
   "outputs": [
    {
     "name": "stderr",
     "output_type": "stream",
     "text": [
      "Using `tqdm.autonotebook.tqdm` in notebook mode. Use `tqdm.tqdm` instead to force console mode (e.g. in jupyter console)\n"
     ]
    }
   ],
   "source": [
    "import shap\n",
    "import numpy as np\n",
    "import pandas as pd\n",
    "import seaborn as sns\n",
    "from matplotlib import pyplot as plt"
   ]
  },
  {
   "cell_type": "code",
   "execution_count": 4,
   "id": "4b15479d",
   "metadata": {
    "collapsed": true
   },
   "outputs": [],
   "source": [
    "# Bibliotecas dos Modelos Utilizados\n",
    "from sklearn.linear_model import LogisticRegression  # Regressão Logística.\n",
    "from sklearn.svm import SVC                          # Máquinas de Vetores de Suporte (SVM).\n",
    "from sklearn.neighbors import KNeighborsClassifier   # K-Vizinhos Mais Próximos\n",
    "from sklearn.tree import DecisionTreeClassifier      # Árvore de Decisões de Classificação.\n",
    "from sklearn.ensemble import RandomForestClassifier  # Floresta Aleatória.\n",
    "from xgboost import XGBClassifier                    # Extreme Gradient Boosting."
   ]
  },
  {
   "cell_type": "code",
   "execution_count": 5,
   "id": "b0e9571a",
   "metadata": {
    "collapsed": true
   },
   "outputs": [],
   "source": [
    "# Análise de Dados\n",
    "from sklearn.decomposition import PCA\n",
    "\n",
    "# Treinamento\n",
    "from sklearn.model_selection import train_test_split\n",
    "from sklearn.metrics import accuracy_score, classification_report\n",
    "\n",
    "# Avalição\n",
    "from sklearn.model_selection import KFold\n",
    "from sklearn.model_selection import cross_val_score\n",
    "from sklearn.inspection import plot_partial_dependence\n",
    "from sklearn.model_selection import cross_val_predict\n",
    "from sklearn.metrics import precision_recall_curve\n",
    "from sklearn.metrics import confusion_matrix\n",
    "from sklearn.metrics import roc_curve\n",
    "from sklearn.metrics import roc_auc_score\n",
    "\n",
    "# Tuning\n",
    "from sklearn.model_selection import GridSearchCV"
   ]
  },
  {
   "cell_type": "markdown",
   "id": "8c69ece5",
   "metadata": {},
   "source": [
    "# Análise de Dados"
   ]
  },
  {
   "cell_type": "code",
   "execution_count": 6,
   "id": "a741b4b4",
   "metadata": {
    "collapsed": true
   },
   "outputs": [
    {
     "name": "stderr",
     "output_type": "stream",
     "text": [
      "Workbook contains no default style, apply openpyxl's default\n"
     ]
    },
    {
     "data": {
      "text/html": [
       "<div>\n",
       "<style scoped>\n",
       "    .dataframe tbody tr th:only-of-type {\n",
       "        vertical-align: middle;\n",
       "    }\n",
       "\n",
       "    .dataframe tbody tr th {\n",
       "        vertical-align: top;\n",
       "    }\n",
       "\n",
       "    .dataframe thead th {\n",
       "        text-align: right;\n",
       "    }\n",
       "</style>\n",
       "<table border=\"1\" class=\"dataframe\">\n",
       "  <thead>\n",
       "    <tr style=\"text-align: right;\">\n",
       "      <th></th>\n",
       "      <th>DP_Entre-Eixo</th>\n",
       "      <th>DP_Bitola Dianteira</th>\n",
       "      <th>DP_Bitola Traseira</th>\n",
       "      <th>DP_Altura</th>\n",
       "      <th>DP_Comprimento</th>\n",
       "      <th>DP_Altura do CG com relacao ao chao</th>\n",
       "      <th>MV_Eixo dianteiro</th>\n",
       "      <th>MV_Eixo Traseiro</th>\n",
       "      <th>DMV_Dianteira</th>\n",
       "      <th>DMV_Lado Direito</th>\n",
       "      <th>...</th>\n",
       "      <th>CD_Distancia de frenagem de 35 a 0 em asfalto</th>\n",
       "      <th>CD_Distancia de frenagem de 35 a 0 em terra batida</th>\n",
       "      <th>CD_Ganho de rolagem por aceleracao lateral</th>\n",
       "      <th>CD_Ganho de arfagem em aceleracao longitudinal</th>\n",
       "      <th>CD_Ganho de arfagem em desaceleracao longitudinal</th>\n",
       "      <th>CD_Velocidade maxima de 0 a 100 metros em asfalto</th>\n",
       "      <th>CD_Velocidade maxima de 0 a 100 metros em terra batida</th>\n",
       "      <th>CD_Tempo para atingir velocidade maxima em asfalto</th>\n",
       "      <th>CD_Tempo para atingir velocidade maxima em terra batida</th>\n",
       "      <th>P_Aceleracao</th>\n",
       "    </tr>\n",
       "  </thead>\n",
       "  <tbody>\n",
       "    <tr>\n",
       "      <th>0</th>\n",
       "      <td>1409.565056</td>\n",
       "      <td>1291.374765</td>\n",
       "      <td>1127.937101</td>\n",
       "      <td>1663.806440</td>\n",
       "      <td>2056.763003</td>\n",
       "      <td>NaN</td>\n",
       "      <td>77.103974</td>\n",
       "      <td>95.577887</td>\n",
       "      <td>0.454945</td>\n",
       "      <td>0.500616</td>\n",
       "      <td>...</td>\n",
       "      <td>NaN</td>\n",
       "      <td>NaN</td>\n",
       "      <td>NaN</td>\n",
       "      <td>NaN</td>\n",
       "      <td>NaN</td>\n",
       "      <td>NaN</td>\n",
       "      <td>NaN</td>\n",
       "      <td>NaN</td>\n",
       "      <td>NaN</td>\n",
       "      <td>1</td>\n",
       "    </tr>\n",
       "    <tr>\n",
       "      <th>1</th>\n",
       "      <td>1507.926208</td>\n",
       "      <td>1309.115732</td>\n",
       "      <td>1242.659913</td>\n",
       "      <td>1530.587966</td>\n",
       "      <td>2098.250774</td>\n",
       "      <td>NaN</td>\n",
       "      <td>71.061984</td>\n",
       "      <td>91.039134</td>\n",
       "      <td>0.409187</td>\n",
       "      <td>NaN</td>\n",
       "      <td>...</td>\n",
       "      <td>NaN</td>\n",
       "      <td>NaN</td>\n",
       "      <td>NaN</td>\n",
       "      <td>NaN</td>\n",
       "      <td>NaN</td>\n",
       "      <td>53.401821</td>\n",
       "      <td>47.982676</td>\n",
       "      <td>5.691769</td>\n",
       "      <td>10.846115</td>\n",
       "      <td>1</td>\n",
       "    </tr>\n",
       "    <tr>\n",
       "      <th>2</th>\n",
       "      <td>1513.425447</td>\n",
       "      <td>1301.218322</td>\n",
       "      <td>1241.176354</td>\n",
       "      <td>1669.921950</td>\n",
       "      <td>2135.010554</td>\n",
       "      <td>NaN</td>\n",
       "      <td>72.050229</td>\n",
       "      <td>93.021177</td>\n",
       "      <td>0.415841</td>\n",
       "      <td>NaN</td>\n",
       "      <td>...</td>\n",
       "      <td>NaN</td>\n",
       "      <td>NaN</td>\n",
       "      <td>NaN</td>\n",
       "      <td>NaN</td>\n",
       "      <td>NaN</td>\n",
       "      <td>51.888566</td>\n",
       "      <td>51.800628</td>\n",
       "      <td>6.321324</td>\n",
       "      <td>4.606555</td>\n",
       "      <td>1</td>\n",
       "    </tr>\n",
       "    <tr>\n",
       "      <th>3</th>\n",
       "      <td>1369.669287</td>\n",
       "      <td>1262.398125</td>\n",
       "      <td>1180.965717</td>\n",
       "      <td>1368.187563</td>\n",
       "      <td>1987.070532</td>\n",
       "      <td>550.848527</td>\n",
       "      <td>102.342058</td>\n",
       "      <td>152.610215</td>\n",
       "      <td>0.434121</td>\n",
       "      <td>0.588756</td>\n",
       "      <td>...</td>\n",
       "      <td>NaN</td>\n",
       "      <td>NaN</td>\n",
       "      <td>NaN</td>\n",
       "      <td>NaN</td>\n",
       "      <td>NaN</td>\n",
       "      <td>NaN</td>\n",
       "      <td>NaN</td>\n",
       "      <td>NaN</td>\n",
       "      <td>NaN</td>\n",
       "      <td>1</td>\n",
       "    </tr>\n",
       "    <tr>\n",
       "      <th>4</th>\n",
       "      <td>1384.641327</td>\n",
       "      <td>1362.557218</td>\n",
       "      <td>1171.793778</td>\n",
       "      <td>1654.978161</td>\n",
       "      <td>1976.940021</td>\n",
       "      <td>NaN</td>\n",
       "      <td>84.700554</td>\n",
       "      <td>102.049056</td>\n",
       "      <td>0.457152</td>\n",
       "      <td>NaN</td>\n",
       "      <td>...</td>\n",
       "      <td>NaN</td>\n",
       "      <td>NaN</td>\n",
       "      <td>NaN</td>\n",
       "      <td>NaN</td>\n",
       "      <td>NaN</td>\n",
       "      <td>46.084792</td>\n",
       "      <td>42.528714</td>\n",
       "      <td>12.293491</td>\n",
       "      <td>4.819045</td>\n",
       "      <td>1</td>\n",
       "    </tr>\n",
       "  </tbody>\n",
       "</table>\n",
       "<p>5 rows × 49 columns</p>\n",
       "</div>"
      ],
      "text/plain": [
       "   DP_Entre-Eixo  DP_Bitola Dianteira  DP_Bitola Traseira    DP_Altura  \\\n",
       "0    1409.565056          1291.374765         1127.937101  1663.806440   \n",
       "1    1507.926208          1309.115732         1242.659913  1530.587966   \n",
       "2    1513.425447          1301.218322         1241.176354  1669.921950   \n",
       "3    1369.669287          1262.398125         1180.965717  1368.187563   \n",
       "4    1384.641327          1362.557218         1171.793778  1654.978161   \n",
       "\n",
       "   DP_Comprimento  DP_Altura do CG com relacao ao chao  MV_Eixo dianteiro  \\\n",
       "0     2056.763003                                  NaN          77.103974   \n",
       "1     2098.250774                                  NaN          71.061984   \n",
       "2     2135.010554                                  NaN          72.050229   \n",
       "3     1987.070532                           550.848527         102.342058   \n",
       "4     1976.940021                                  NaN          84.700554   \n",
       "\n",
       "   MV_Eixo Traseiro  DMV_Dianteira  DMV_Lado Direito  ...  \\\n",
       "0         95.577887       0.454945          0.500616  ...   \n",
       "1         91.039134       0.409187               NaN  ...   \n",
       "2         93.021177       0.415841               NaN  ...   \n",
       "3        152.610215       0.434121          0.588756  ...   \n",
       "4        102.049056       0.457152               NaN  ...   \n",
       "\n",
       "   CD_Distancia de frenagem de 35 a 0 em asfalto  \\\n",
       "0                                            NaN   \n",
       "1                                            NaN   \n",
       "2                                            NaN   \n",
       "3                                            NaN   \n",
       "4                                            NaN   \n",
       "\n",
       "   CD_Distancia de frenagem de 35 a 0 em terra batida  \\\n",
       "0                                                NaN    \n",
       "1                                                NaN    \n",
       "2                                                NaN    \n",
       "3                                                NaN    \n",
       "4                                                NaN    \n",
       "\n",
       "   CD_Ganho de rolagem por aceleracao lateral  \\\n",
       "0                                         NaN   \n",
       "1                                         NaN   \n",
       "2                                         NaN   \n",
       "3                                         NaN   \n",
       "4                                         NaN   \n",
       "\n",
       "   CD_Ganho de arfagem em aceleracao longitudinal  \\\n",
       "0                                             NaN   \n",
       "1                                             NaN   \n",
       "2                                             NaN   \n",
       "3                                             NaN   \n",
       "4                                             NaN   \n",
       "\n",
       "   CD_Ganho de arfagem em desaceleracao longitudinal  \\\n",
       "0                                                NaN   \n",
       "1                                                NaN   \n",
       "2                                                NaN   \n",
       "3                                                NaN   \n",
       "4                                                NaN   \n",
       "\n",
       "   CD_Velocidade maxima de 0 a 100 metros em asfalto   \\\n",
       "0                                                NaN    \n",
       "1                                          53.401821    \n",
       "2                                          51.888566    \n",
       "3                                                NaN    \n",
       "4                                          46.084792    \n",
       "\n",
       "   CD_Velocidade maxima de 0 a 100 metros em terra batida   \\\n",
       "0                                                NaN         \n",
       "1                                          47.982676         \n",
       "2                                          51.800628         \n",
       "3                                                NaN         \n",
       "4                                          42.528714         \n",
       "\n",
       "   CD_Tempo para atingir velocidade maxima em asfalto  \\\n",
       "0                                                NaN    \n",
       "1                                           5.691769    \n",
       "2                                           6.321324    \n",
       "3                                                NaN    \n",
       "4                                          12.293491    \n",
       "\n",
       "   CD_Tempo para atingir velocidade maxima em terra batida  P_Aceleracao  \n",
       "0                                                NaN                   1  \n",
       "1                                          10.846115                   1  \n",
       "2                                           4.606555                   1  \n",
       "3                                                NaN                   1  \n",
       "4                                           4.819045                   1  \n",
       "\n",
       "[5 rows x 49 columns]"
      ]
     },
     "execution_count": 6,
     "metadata": {},
     "output_type": "execute_result"
    }
   ],
   "source": [
    "# Carregar o DataFrame a partir de um arquivo Excel\n",
    "caminho_arquivo_excel = 'C:\\\\Users\\\\Andre\\\\Desktop\\\\Julia\\\\Mangue_Baja\\\\DESAFIO TÉCNICO\\\\anonymizedData.xlsx'\n",
    "nome_da_pagina = 'P_Aceleration'  # Nome da página desejada\n",
    "\n",
    "# Lê o arquivo Excel com todas as páginas/sheets\n",
    "xl = pd.ExcelFile(caminho_arquivo_excel)\n",
    "\n",
    "df = xl.parse(nome_da_pagina)\n",
    "\n",
    "# Vê dados \n",
    "df.head()"
   ]
  },
  {
   "cell_type": "code",
   "execution_count": 7,
   "id": "2f6b20a5",
   "metadata": {
    "collapsed": true
   },
   "outputs": [
    {
     "name": "stdout",
     "output_type": "stream",
     "text": [
      "<class 'pandas.core.frame.DataFrame'>\n",
      "RangeIndex: 1000 entries, 0 to 999\n",
      "Data columns (total 49 columns):\n",
      " #   Column                                                   Non-Null Count  Dtype  \n",
      "---  ------                                                   --------------  -----  \n",
      " 0   DP_Entre-Eixo                                            775 non-null    float64\n",
      " 1   DP_Bitola Dianteira                                      775 non-null    float64\n",
      " 2   DP_Bitola Traseira                                       775 non-null    float64\n",
      " 3   DP_Altura                                                775 non-null    float64\n",
      " 4   DP_Comprimento                                           775 non-null    float64\n",
      " 5   DP_Altura do CG com relacao ao chao                      255 non-null    float64\n",
      " 6   MV_Eixo dianteiro                                        735 non-null    float64\n",
      " 7   MV_Eixo Traseiro                                         735 non-null    float64\n",
      " 8   DMV_Dianteira                                            735 non-null    float64\n",
      " 9   DMV_Lado Direito                                         265 non-null    float64\n",
      " 10  PCG_X                                                    735 non-null    float64\n",
      " 11  PCG_Y                                                    960 non-null    float64\n",
      " 12  PCG_Z                                                    735 non-null    float64\n",
      " 13  SD_Curso Positivo de projeto                             125 non-null    float64\n",
      " 14  SD_Curso Negativo de projeto                             125 non-null    float64\n",
      " 15  SD_Dimensoes dos pneus                                   1000 non-null   float64\n",
      " 16  SD_Cambagem estatica                                     216 non-null    float64\n",
      " 17  SD_Convergência estatica                                 170 non-null    float64\n",
      " 18  ST_Curso Positivo de projeto                             131 non-null    float64\n",
      " 19  ST_Curso Negativo de projeto                             124 non-null    float64\n",
      " 20  ST_Dimensoes dos pneus                                   1000 non-null   float64\n",
      " 21  ST_Cambagem estatica                                     204 non-null    float64\n",
      " 22  ST_Convergência estatica                                 195 non-null    float64\n",
      " 23  D_Relacao                                                640 non-null    float64\n",
      " 24  D_Curso total da cremalheira                             205 non-null    float64\n",
      " 25  D_Inclinacao do pino mestre                              237 non-null    float64\n",
      " 26  D_Angulo de caster                                       242 non-null    float64\n",
      " 27  FD_Pressao no sistema a 07g                              117 non-null    float64\n",
      " 28  FD_Forca no pedal a 07g                                  120 non-null    float64\n",
      " 29  FD_Curso total do pedal                                  125 non-null    float64\n",
      " 30  FD_Diametro do disco                                     278 non-null    float64\n",
      " 31  FT_Pressao no sistema a 07g                              116 non-null    float64\n",
      " 32  FT_Diametro do disco                                     278 non-null    float64\n",
      " 33  MT_Potência maxima do motor                              278 non-null    float64\n",
      " 34  MT_Torque maximo do motor                                282 non-null    float64\n",
      " 35  MT_Relacao total_max                                     762 non-null    float64\n",
      " 36  MT_Relacao total_min                                     750 non-null    float64\n",
      " 37  CD_Raio mínimo de curva do protótipo                     103 non-null    float64\n",
      " 38  CD_Velocidade crítica para uma curva de raio de 10 m     24 non-null     float64\n",
      " 39  CD_Distancia de frenagem de 35 a 0 em asfalto            58 non-null     float64\n",
      " 40  CD_Distancia de frenagem de 35 a 0 em terra batida       58 non-null     float64\n",
      " 41  CD_Ganho de rolagem por aceleracao lateral               39 non-null     float64\n",
      " 42  CD_Ganho de arfagem em aceleracao longitudinal           17 non-null     float64\n",
      " 43  CD_Ganho de arfagem em desaceleracao longitudinal        17 non-null     float64\n",
      " 44  CD_Velocidade maxima de 0 a 100 metros em asfalto        367 non-null    float64\n",
      " 45  CD_Velocidade maxima de 0 a 100 metros em terra batida   349 non-null    float64\n",
      " 46  CD_Tempo para atingir velocidade maxima em asfalto       331 non-null    float64\n",
      " 47  CD_Tempo para atingir velocidade maxima em terra batida  316 non-null    float64\n",
      " 48  P_Aceleracao                                             1000 non-null   int64  \n",
      "dtypes: float64(48), int64(1)\n",
      "memory usage: 382.9 KB\n"
     ]
    }
   ],
   "source": [
    "# Informação básica\n",
    "df.info()"
   ]
  },
  {
   "cell_type": "code",
   "execution_count": 8,
   "id": "83830cdb",
   "metadata": {
    "collapsed": true
   },
   "outputs": [
    {
     "data": {
      "text/html": [
       "<div>\n",
       "<style scoped>\n",
       "    .dataframe tbody tr th:only-of-type {\n",
       "        vertical-align: middle;\n",
       "    }\n",
       "\n",
       "    .dataframe tbody tr th {\n",
       "        vertical-align: top;\n",
       "    }\n",
       "\n",
       "    .dataframe thead th {\n",
       "        text-align: right;\n",
       "    }\n",
       "</style>\n",
       "<table border=\"1\" class=\"dataframe\">\n",
       "  <thead>\n",
       "    <tr style=\"text-align: right;\">\n",
       "      <th></th>\n",
       "      <th>DP_Entre-Eixo</th>\n",
       "      <th>DP_Bitola Dianteira</th>\n",
       "      <th>DP_Bitola Traseira</th>\n",
       "      <th>DP_Altura</th>\n",
       "      <th>DP_Comprimento</th>\n",
       "      <th>DP_Altura do CG com relacao ao chao</th>\n",
       "      <th>MV_Eixo dianteiro</th>\n",
       "      <th>MV_Eixo Traseiro</th>\n",
       "      <th>DMV_Dianteira</th>\n",
       "      <th>DMV_Lado Direito</th>\n",
       "      <th>...</th>\n",
       "      <th>CD_Distancia de frenagem de 35 a 0 em asfalto</th>\n",
       "      <th>CD_Distancia de frenagem de 35 a 0 em terra batida</th>\n",
       "      <th>CD_Ganho de rolagem por aceleracao lateral</th>\n",
       "      <th>CD_Ganho de arfagem em aceleracao longitudinal</th>\n",
       "      <th>CD_Ganho de arfagem em desaceleracao longitudinal</th>\n",
       "      <th>CD_Velocidade maxima de 0 a 100 metros em asfalto</th>\n",
       "      <th>CD_Velocidade maxima de 0 a 100 metros em terra batida</th>\n",
       "      <th>CD_Tempo para atingir velocidade maxima em asfalto</th>\n",
       "      <th>CD_Tempo para atingir velocidade maxima em terra batida</th>\n",
       "      <th>P_Aceleracao</th>\n",
       "    </tr>\n",
       "  </thead>\n",
       "  <tbody>\n",
       "    <tr>\n",
       "      <th>count</th>\n",
       "      <td>775.000000</td>\n",
       "      <td>775.000000</td>\n",
       "      <td>775.000000</td>\n",
       "      <td>775.000000</td>\n",
       "      <td>775.000000</td>\n",
       "      <td>255.000000</td>\n",
       "      <td>735.000000</td>\n",
       "      <td>735.000000</td>\n",
       "      <td>735.000000</td>\n",
       "      <td>265.000000</td>\n",
       "      <td>...</td>\n",
       "      <td>58.000000</td>\n",
       "      <td>58.000000</td>\n",
       "      <td>39.000000</td>\n",
       "      <td>17.000000</td>\n",
       "      <td>17.000000</td>\n",
       "      <td>367.000000</td>\n",
       "      <td>349.000000</td>\n",
       "      <td>331.000000</td>\n",
       "      <td>316.000000</td>\n",
       "      <td>1000.000000</td>\n",
       "    </tr>\n",
       "    <tr>\n",
       "      <th>mean</th>\n",
       "      <td>1431.256099</td>\n",
       "      <td>1326.061413</td>\n",
       "      <td>1240.510739</td>\n",
       "      <td>1519.920304</td>\n",
       "      <td>1996.263295</td>\n",
       "      <td>525.234228</td>\n",
       "      <td>75.689672</td>\n",
       "      <td>105.300940</td>\n",
       "      <td>0.417602</td>\n",
       "      <td>0.507497</td>\n",
       "      <td>...</td>\n",
       "      <td>5.099948</td>\n",
       "      <td>6.352427</td>\n",
       "      <td>2.718826</td>\n",
       "      <td>2.757752</td>\n",
       "      <td>3.402819</td>\n",
       "      <td>51.528302</td>\n",
       "      <td>48.531720</td>\n",
       "      <td>7.251006</td>\n",
       "      <td>8.012719</td>\n",
       "      <td>3.000000</td>\n",
       "    </tr>\n",
       "    <tr>\n",
       "      <th>std</th>\n",
       "      <td>52.613298</td>\n",
       "      <td>83.251848</td>\n",
       "      <td>80.710085</td>\n",
       "      <td>232.956341</td>\n",
       "      <td>76.757692</td>\n",
       "      <td>74.923727</td>\n",
       "      <td>12.781378</td>\n",
       "      <td>15.142636</td>\n",
       "      <td>0.027923</td>\n",
       "      <td>0.044788</td>\n",
       "      <td>...</td>\n",
       "      <td>1.186349</td>\n",
       "      <td>1.880804</td>\n",
       "      <td>1.472717</td>\n",
       "      <td>2.166471</td>\n",
       "      <td>2.141259</td>\n",
       "      <td>5.263468</td>\n",
       "      <td>4.883164</td>\n",
       "      <td>3.563550</td>\n",
       "      <td>4.139160</td>\n",
       "      <td>1.414921</td>\n",
       "    </tr>\n",
       "    <tr>\n",
       "      <th>min</th>\n",
       "      <td>1256.083512</td>\n",
       "      <td>664.058560</td>\n",
       "      <td>712.874705</td>\n",
       "      <td>282.257204</td>\n",
       "      <td>1768.771955</td>\n",
       "      <td>324.307576</td>\n",
       "      <td>49.346397</td>\n",
       "      <td>74.999317</td>\n",
       "      <td>0.321092</td>\n",
       "      <td>0.159454</td>\n",
       "      <td>...</td>\n",
       "      <td>2.400000</td>\n",
       "      <td>2.800000</td>\n",
       "      <td>0.080000</td>\n",
       "      <td>1.216606</td>\n",
       "      <td>1.500000</td>\n",
       "      <td>41.583219</td>\n",
       "      <td>34.741983</td>\n",
       "      <td>3.640547</td>\n",
       "      <td>2.986824</td>\n",
       "      <td>1.000000</td>\n",
       "    </tr>\n",
       "    <tr>\n",
       "      <th>25%</th>\n",
       "      <td>1396.774735</td>\n",
       "      <td>1279.338304</td>\n",
       "      <td>1196.334340</td>\n",
       "      <td>1492.428884</td>\n",
       "      <td>1954.823947</td>\n",
       "      <td>487.350734</td>\n",
       "      <td>68.147729</td>\n",
       "      <td>95.428569</td>\n",
       "      <td>0.399338</td>\n",
       "      <td>0.493641</td>\n",
       "      <td>...</td>\n",
       "      <td>4.514467</td>\n",
       "      <td>4.611276</td>\n",
       "      <td>1.647233</td>\n",
       "      <td>1.317385</td>\n",
       "      <td>2.520000</td>\n",
       "      <td>47.571847</td>\n",
       "      <td>44.806923</td>\n",
       "      <td>4.511780</td>\n",
       "      <td>4.948673</td>\n",
       "      <td>2.000000</td>\n",
       "    </tr>\n",
       "    <tr>\n",
       "      <th>50%</th>\n",
       "      <td>1430.000000</td>\n",
       "      <td>1312.844819</td>\n",
       "      <td>1236.237603</td>\n",
       "      <td>1544.621705</td>\n",
       "      <td>2002.295164</td>\n",
       "      <td>524.770000</td>\n",
       "      <td>73.172271</td>\n",
       "      <td>102.824884</td>\n",
       "      <td>0.418073</td>\n",
       "      <td>0.500474</td>\n",
       "      <td>...</td>\n",
       "      <td>5.100000</td>\n",
       "      <td>6.220592</td>\n",
       "      <td>2.620000</td>\n",
       "      <td>2.000000</td>\n",
       "      <td>3.211507</td>\n",
       "      <td>50.919169</td>\n",
       "      <td>48.639728</td>\n",
       "      <td>6.329295</td>\n",
       "      <td>6.734602</td>\n",
       "      <td>3.000000</td>\n",
       "    </tr>\n",
       "    <tr>\n",
       "      <th>75%</th>\n",
       "      <td>1471.553653</td>\n",
       "      <td>1369.867541</td>\n",
       "      <td>1281.407144</td>\n",
       "      <td>1601.186989</td>\n",
       "      <td>2048.416611</td>\n",
       "      <td>571.307957</td>\n",
       "      <td>81.768813</td>\n",
       "      <td>110.446444</td>\n",
       "      <td>0.439680</td>\n",
       "      <td>0.511765</td>\n",
       "      <td>...</td>\n",
       "      <td>5.597500</td>\n",
       "      <td>8.221157</td>\n",
       "      <td>4.017850</td>\n",
       "      <td>2.930000</td>\n",
       "      <td>3.292020</td>\n",
       "      <td>55.015397</td>\n",
       "      <td>52.249066</td>\n",
       "      <td>8.929033</td>\n",
       "      <td>9.823008</td>\n",
       "      <td>4.000000</td>\n",
       "    </tr>\n",
       "    <tr>\n",
       "      <th>max</th>\n",
       "      <td>1605.728980</td>\n",
       "      <td>1587.444475</td>\n",
       "      <td>1489.495980</td>\n",
       "      <td>2370.000000</td>\n",
       "      <td>2187.600139</td>\n",
       "      <td>838.934455</td>\n",
       "      <td>131.054554</td>\n",
       "      <td>170.655014</td>\n",
       "      <td>0.479293</td>\n",
       "      <td>0.698984</td>\n",
       "      <td>...</td>\n",
       "      <td>7.498859</td>\n",
       "      <td>9.600000</td>\n",
       "      <td>5.718225</td>\n",
       "      <td>9.353248</td>\n",
       "      <td>11.033394</td>\n",
       "      <td>69.516951</td>\n",
       "      <td>58.775697</td>\n",
       "      <td>25.359216</td>\n",
       "      <td>28.982584</td>\n",
       "      <td>5.000000</td>\n",
       "    </tr>\n",
       "  </tbody>\n",
       "</table>\n",
       "<p>8 rows × 49 columns</p>\n",
       "</div>"
      ],
      "text/plain": [
       "       DP_Entre-Eixo  DP_Bitola Dianteira  DP_Bitola Traseira    DP_Altura  \\\n",
       "count     775.000000           775.000000          775.000000   775.000000   \n",
       "mean     1431.256099          1326.061413         1240.510739  1519.920304   \n",
       "std        52.613298            83.251848           80.710085   232.956341   \n",
       "min      1256.083512           664.058560          712.874705   282.257204   \n",
       "25%      1396.774735          1279.338304         1196.334340  1492.428884   \n",
       "50%      1430.000000          1312.844819         1236.237603  1544.621705   \n",
       "75%      1471.553653          1369.867541         1281.407144  1601.186989   \n",
       "max      1605.728980          1587.444475         1489.495980  2370.000000   \n",
       "\n",
       "       DP_Comprimento  DP_Altura do CG com relacao ao chao  MV_Eixo dianteiro  \\\n",
       "count      775.000000                           255.000000         735.000000   \n",
       "mean      1996.263295                           525.234228          75.689672   \n",
       "std         76.757692                            74.923727          12.781378   \n",
       "min       1768.771955                           324.307576          49.346397   \n",
       "25%       1954.823947                           487.350734          68.147729   \n",
       "50%       2002.295164                           524.770000          73.172271   \n",
       "75%       2048.416611                           571.307957          81.768813   \n",
       "max       2187.600139                           838.934455         131.054554   \n",
       "\n",
       "       MV_Eixo Traseiro  DMV_Dianteira  DMV_Lado Direito  ...  \\\n",
       "count        735.000000     735.000000        265.000000  ...   \n",
       "mean         105.300940       0.417602          0.507497  ...   \n",
       "std           15.142636       0.027923          0.044788  ...   \n",
       "min           74.999317       0.321092          0.159454  ...   \n",
       "25%           95.428569       0.399338          0.493641  ...   \n",
       "50%          102.824884       0.418073          0.500474  ...   \n",
       "75%          110.446444       0.439680          0.511765  ...   \n",
       "max          170.655014       0.479293          0.698984  ...   \n",
       "\n",
       "       CD_Distancia de frenagem de 35 a 0 em asfalto  \\\n",
       "count                                      58.000000   \n",
       "mean                                        5.099948   \n",
       "std                                         1.186349   \n",
       "min                                         2.400000   \n",
       "25%                                         4.514467   \n",
       "50%                                         5.100000   \n",
       "75%                                         5.597500   \n",
       "max                                         7.498859   \n",
       "\n",
       "       CD_Distancia de frenagem de 35 a 0 em terra batida  \\\n",
       "count                                          58.000000    \n",
       "mean                                            6.352427    \n",
       "std                                             1.880804    \n",
       "min                                             2.800000    \n",
       "25%                                             4.611276    \n",
       "50%                                             6.220592    \n",
       "75%                                             8.221157    \n",
       "max                                             9.600000    \n",
       "\n",
       "       CD_Ganho de rolagem por aceleracao lateral  \\\n",
       "count                                   39.000000   \n",
       "mean                                     2.718826   \n",
       "std                                      1.472717   \n",
       "min                                      0.080000   \n",
       "25%                                      1.647233   \n",
       "50%                                      2.620000   \n",
       "75%                                      4.017850   \n",
       "max                                      5.718225   \n",
       "\n",
       "       CD_Ganho de arfagem em aceleracao longitudinal  \\\n",
       "count                                       17.000000   \n",
       "mean                                         2.757752   \n",
       "std                                          2.166471   \n",
       "min                                          1.216606   \n",
       "25%                                          1.317385   \n",
       "50%                                          2.000000   \n",
       "75%                                          2.930000   \n",
       "max                                          9.353248   \n",
       "\n",
       "       CD_Ganho de arfagem em desaceleracao longitudinal  \\\n",
       "count                                          17.000000   \n",
       "mean                                            3.402819   \n",
       "std                                             2.141259   \n",
       "min                                             1.500000   \n",
       "25%                                             2.520000   \n",
       "50%                                             3.211507   \n",
       "75%                                             3.292020   \n",
       "max                                            11.033394   \n",
       "\n",
       "       CD_Velocidade maxima de 0 a 100 metros em asfalto   \\\n",
       "count                                         367.000000    \n",
       "mean                                           51.528302    \n",
       "std                                             5.263468    \n",
       "min                                            41.583219    \n",
       "25%                                            47.571847    \n",
       "50%                                            50.919169    \n",
       "75%                                            55.015397    \n",
       "max                                            69.516951    \n",
       "\n",
       "       CD_Velocidade maxima de 0 a 100 metros em terra batida   \\\n",
       "count                                         349.000000         \n",
       "mean                                           48.531720         \n",
       "std                                             4.883164         \n",
       "min                                            34.741983         \n",
       "25%                                            44.806923         \n",
       "50%                                            48.639728         \n",
       "75%                                            52.249066         \n",
       "max                                            58.775697         \n",
       "\n",
       "       CD_Tempo para atingir velocidade maxima em asfalto  \\\n",
       "count                                         331.000000    \n",
       "mean                                            7.251006    \n",
       "std                                             3.563550    \n",
       "min                                             3.640547    \n",
       "25%                                             4.511780    \n",
       "50%                                             6.329295    \n",
       "75%                                             8.929033    \n",
       "max                                            25.359216    \n",
       "\n",
       "       CD_Tempo para atingir velocidade maxima em terra batida  P_Aceleracao  \n",
       "count                                         316.000000         1000.000000  \n",
       "mean                                            8.012719            3.000000  \n",
       "std                                             4.139160            1.414921  \n",
       "min                                             2.986824            1.000000  \n",
       "25%                                             4.948673            2.000000  \n",
       "50%                                             6.734602            3.000000  \n",
       "75%                                             9.823008            4.000000  \n",
       "max                                            28.982584            5.000000  \n",
       "\n",
       "[8 rows x 49 columns]"
      ]
     },
     "execution_count": 8,
     "metadata": {},
     "output_type": "execute_result"
    }
   ],
   "source": [
    "#Descrição de dados\n",
    "df.describe()"
   ]
  },
  {
   "cell_type": "code",
   "execution_count": 9,
   "id": "f9e8154d-e126-4caf-a2b0-25307fa17407",
   "metadata": {
    "collapsed": true
   },
   "outputs": [
    {
     "data": {
      "text/plain": [
       "0"
      ]
     },
     "execution_count": 9,
     "metadata": {},
     "output_type": "execute_result"
    }
   ],
   "source": [
    "# Achar duplicatas\n",
    "df.duplicated().sum()"
   ]
  },
  {
   "cell_type": "code",
   "execution_count": 10,
   "id": "b999b48d",
   "metadata": {
    "collapsed": true
   },
   "outputs": [
    {
     "data": {
      "text/plain": [
       "DP_Entre-Eixo                                              225\n",
       "DP_Bitola Dianteira                                        225\n",
       "DP_Bitola Traseira                                         225\n",
       "DP_Altura                                                  225\n",
       "DP_Comprimento                                             225\n",
       "DP_Altura do CG com relacao ao chao                        745\n",
       "MV_Eixo dianteiro                                          265\n",
       "MV_Eixo Traseiro                                           265\n",
       "DMV_Dianteira                                              265\n",
       "DMV_Lado Direito                                           735\n",
       "PCG_X                                                      265\n",
       "PCG_Y                                                       40\n",
       "PCG_Z                                                      265\n",
       "SD_Curso Positivo de projeto                               875\n",
       "SD_Curso Negativo de projeto                               875\n",
       "SD_Dimensoes dos pneus                                       0\n",
       "SD_Cambagem estatica                                       784\n",
       "SD_Convergência estatica                                   830\n",
       "ST_Curso Positivo de projeto                               869\n",
       "ST_Curso Negativo de projeto                               876\n",
       "ST_Dimensoes dos pneus                                       0\n",
       "ST_Cambagem estatica                                       796\n",
       "ST_Convergência estatica                                   805\n",
       "D_Relacao                                                  360\n",
       "D_Curso total da cremalheira                               795\n",
       "D_Inclinacao do pino mestre                                763\n",
       "D_Angulo de caster                                         758\n",
       "FD_Pressao no sistema a 07g                                883\n",
       "FD_Forca no pedal a 07g                                    880\n",
       "FD_Curso total do pedal                                    875\n",
       "FD_Diametro do disco                                       722\n",
       "FT_Pressao no sistema a 07g                                884\n",
       "FT_Diametro do disco                                       722\n",
       "MT_Potência maxima do motor                                722\n",
       "MT_Torque maximo do motor                                  718\n",
       "MT_Relacao total_max                                       238\n",
       "MT_Relacao total_min                                       250\n",
       "CD_Raio mínimo de curva do protótipo                       897\n",
       "CD_Velocidade crítica para uma curva de raio de 10 m       976\n",
       "CD_Distancia de frenagem de 35 a 0 em asfalto              942\n",
       "CD_Distancia de frenagem de 35 a 0 em terra batida         942\n",
       "CD_Ganho de rolagem por aceleracao lateral                 961\n",
       "CD_Ganho de arfagem em aceleracao longitudinal             983\n",
       "CD_Ganho de arfagem em desaceleracao longitudinal          983\n",
       "CD_Velocidade maxima de 0 a 100 metros em asfalto          633\n",
       "CD_Velocidade maxima de 0 a 100 metros em terra batida     651\n",
       "CD_Tempo para atingir velocidade maxima em asfalto         669\n",
       "CD_Tempo para atingir velocidade maxima em terra batida    684\n",
       "P_Aceleracao                                                 0\n",
       "dtype: int64"
      ]
     },
     "execution_count": 10,
     "metadata": {},
     "output_type": "execute_result"
    }
   ],
   "source": [
    "# Achar valores nulos\n",
    "df.isnull().sum()"
   ]
  },
  {
   "cell_type": "code",
   "execution_count": 11,
   "id": "662ca05f",
   "metadata": {
    "collapsed": true
   },
   "outputs": [
    {
     "data": {
      "text/plain": [
       "DP_Entre-Eixo                                              225\n",
       "DP_Bitola Dianteira                                        225\n",
       "DP_Bitola Traseira                                         225\n",
       "DP_Altura                                                  225\n",
       "DP_Comprimento                                             225\n",
       "MV_Eixo dianteiro                                          265\n",
       "MV_Eixo Traseiro                                           265\n",
       "DMV_Dianteira                                              265\n",
       "PCG_X                                                      265\n",
       "PCG_Y                                                       40\n",
       "PCG_Z                                                      265\n",
       "SD_Dimensoes dos pneus                                       0\n",
       "ST_Dimensoes dos pneus                                       0\n",
       "D_Relacao                                                  360\n",
       "MT_Relacao total_max                                       238\n",
       "MT_Relacao total_min                                       250\n",
       "CD_Velocidade maxima de 0 a 100 metros em asfalto          633\n",
       "CD_Velocidade maxima de 0 a 100 metros em terra batida     651\n",
       "CD_Tempo para atingir velocidade maxima em asfalto         669\n",
       "CD_Tempo para atingir velocidade maxima em terra batida    684\n",
       "P_Aceleracao                                                 0\n",
       "dtype: int64"
      ]
     },
     "execution_count": 11,
     "metadata": {},
     "output_type": "execute_result"
    }
   ],
   "source": [
    "# Limpar o Dataset das colunas com muitos valores nulos\n",
    "\n",
    "limite_nulos = 700 # Define o limite de valores nulos permitidos\n",
    "\n",
    "# Remove as colunas com mais de limite_nulos valores nulos\n",
    "df = df.dropna(thresh=len(df) - limite_nulos, axis=1)\n",
    "\n",
    "# Checar \n",
    "df.isnull().sum()"
   ]
  },
  {
   "cell_type": "code",
   "execution_count": 12,
   "id": "4413251d",
   "metadata": {
    "collapsed": true
   },
   "outputs": [
    {
     "data": {
      "text/plain": [
       "DP_Entre-Eixo                                              0\n",
       "DP_Bitola Dianteira                                        0\n",
       "DP_Bitola Traseira                                         0\n",
       "DP_Altura                                                  0\n",
       "DP_Comprimento                                             0\n",
       "MV_Eixo dianteiro                                          0\n",
       "MV_Eixo Traseiro                                           0\n",
       "DMV_Dianteira                                              0\n",
       "PCG_X                                                      0\n",
       "PCG_Y                                                      0\n",
       "PCG_Z                                                      0\n",
       "SD_Dimensoes dos pneus                                     0\n",
       "ST_Dimensoes dos pneus                                     0\n",
       "D_Relacao                                                  0\n",
       "MT_Relacao total_max                                       0\n",
       "MT_Relacao total_min                                       0\n",
       "CD_Velocidade maxima de 0 a 100 metros em asfalto          0\n",
       "CD_Velocidade maxima de 0 a 100 metros em terra batida     0\n",
       "CD_Tempo para atingir velocidade maxima em asfalto         0\n",
       "CD_Tempo para atingir velocidade maxima em terra batida    0\n",
       "P_Aceleracao                                               0\n",
       "dtype: int64"
      ]
     },
     "execution_count": 12,
     "metadata": {},
     "output_type": "execute_result"
    }
   ],
   "source": [
    "# Substituir valores nulos \n",
    "df.replace(np.nan,'0',inplace = True)\n",
    "\n",
    "# Checar \n",
    "df.isnull().sum()"
   ]
  },
  {
   "cell_type": "code",
   "execution_count": 13,
   "id": "aa314838",
   "metadata": {
    "collapsed": true
   },
   "outputs": [
    {
     "name": "stdout",
     "output_type": "stream",
     "text": [
      "<class 'pandas.core.frame.DataFrame'>\n",
      "RangeIndex: 1000 entries, 0 to 999\n",
      "Data columns (total 21 columns):\n",
      " #   Column                                                   Non-Null Count  Dtype  \n",
      "---  ------                                                   --------------  -----  \n",
      " 0   DP_Entre-Eixo                                            1000 non-null   float64\n",
      " 1   DP_Bitola Dianteira                                      1000 non-null   float64\n",
      " 2   DP_Bitola Traseira                                       1000 non-null   float64\n",
      " 3   DP_Altura                                                1000 non-null   float64\n",
      " 4   DP_Comprimento                                           1000 non-null   float64\n",
      " 5   MV_Eixo dianteiro                                        1000 non-null   float64\n",
      " 6   MV_Eixo Traseiro                                         1000 non-null   float64\n",
      " 7   DMV_Dianteira                                            1000 non-null   float64\n",
      " 8   PCG_X                                                    1000 non-null   float64\n",
      " 9   PCG_Y                                                    1000 non-null   float64\n",
      " 10  PCG_Z                                                    1000 non-null   float64\n",
      " 11  SD_Dimensoes dos pneus                                   1000 non-null   float64\n",
      " 12  ST_Dimensoes dos pneus                                   1000 non-null   float64\n",
      " 13  D_Relacao                                                1000 non-null   float64\n",
      " 14  MT_Relacao total_max                                     1000 non-null   float64\n",
      " 15  MT_Relacao total_min                                     1000 non-null   float64\n",
      " 16  CD_Velocidade maxima de 0 a 100 metros em asfalto        1000 non-null   float64\n",
      " 17  CD_Velocidade maxima de 0 a 100 metros em terra batida   1000 non-null   float64\n",
      " 18  CD_Tempo para atingir velocidade maxima em asfalto       1000 non-null   float64\n",
      " 19  CD_Tempo para atingir velocidade maxima em terra batida  1000 non-null   float64\n",
      " 20  P_Aceleracao                                             1000 non-null   int64  \n",
      "dtypes: float64(20), int64(1)\n",
      "memory usage: 164.2 KB\n"
     ]
    }
   ],
   "source": [
    "# Manter todas as colunas em float\n",
    "for coluna in df.columns:\n",
    "    if df[coluna].dtype != float:\n",
    "        df[coluna] = pd.to_numeric(df[coluna], errors='coerce')\n",
    "\n",
    "# Checar\n",
    "df.info()"
   ]
  },
  {
   "cell_type": "code",
   "execution_count": 22,
   "id": "3fe08090",
   "metadata": {
    "collapsed": true
   },
   "outputs": [
    {
     "name": "stdout",
     "output_type": "stream",
     "text": [
      "Int64Index([400, 401, 405, 406, 407, 408, 409, 410, 416, 417,\n",
      "            ...\n",
      "            980, 983, 984, 985, 987, 989, 990, 993, 994, 999],\n",
      "           dtype='int64', length=225)\n",
      "     DP_Entre-Eixo  DP_Bitola Dianteira  DP_Bitola Traseira    DP_Altura  \\\n",
      "0      1409.565056          1291.374765         1127.937101  1663.806440   \n",
      "1      1507.926208          1309.115732         1242.659913  1530.587966   \n",
      "2      1513.425447          1301.218322         1241.176354  1669.921950   \n",
      "3      1369.669287          1262.398125         1180.965717  1368.187563   \n",
      "4      1384.641327          1362.557218         1171.793778  1654.978161   \n",
      "..             ...                  ...                 ...          ...   \n",
      "992    1496.914947          1348.738646         1260.834065  1526.867980   \n",
      "995    1512.427873          1302.941470         1245.256767  1509.231194   \n",
      "996    1366.260071          1344.071570         1265.280794  1564.856065   \n",
      "997    1505.649795          1318.139122         1233.642827  1540.427717   \n",
      "998    1404.823434          1328.158609         1248.488797  1473.317271   \n",
      "\n",
      "     DP_Comprimento  MV_Eixo dianteiro  MV_Eixo Traseiro  DMV_Dianteira  \\\n",
      "0       2056.763003          77.103974         95.577887       0.454945   \n",
      "1       2098.250774          71.061984         91.039134       0.409187   \n",
      "2       2135.010554          72.050229         93.021177       0.415841   \n",
      "3       1987.070532         102.342058        152.610215       0.434121   \n",
      "4       1976.940021          84.700554        102.049056       0.457152   \n",
      "..              ...                ...               ...            ...   \n",
      "992     2086.249636          65.232887         93.529321       0.404373   \n",
      "995     2109.457027          72.221809         90.226812       0.441886   \n",
      "996     2017.699129          70.709528         98.908065       0.401583   \n",
      "997     2071.767520          60.558489        107.230112       0.352453   \n",
      "998     2112.283148          69.774043         96.836258       0.410884   \n",
      "\n",
      "          PCG_X       PCG_Y  ...  SD_Dimensoes dos pneus  \\\n",
      "0    208.702782  -22.463140  ...                    21.0   \n",
      "1    514.604278  560.618361  ...                     0.0   \n",
      "2    491.093155  378.006613  ...                     0.0   \n",
      "3     85.197422   -2.070284  ...                    21.0   \n",
      "4    368.632469  549.636182  ...                     0.0   \n",
      "..          ...         ...  ...                     ...   \n",
      "992   96.678853    0.957613  ...                    23.0   \n",
      "995  107.916108    6.642557  ...                    23.0   \n",
      "996   69.576836    2.948500  ...                    23.0   \n",
      "997  523.000000  -50.000000  ...                    22.0   \n",
      "998  109.438324    9.533358  ...                    23.0   \n",
      "\n",
      "     ST_Dimensoes dos pneus  D_Relacao  MT_Relacao total_max  \\\n",
      "0                      22.0   2.363351             27.844530   \n",
      "1                       0.0   4.954387             36.113022   \n",
      "2                       0.0   5.934633             41.200706   \n",
      "3                      21.0   7.471144             31.048865   \n",
      "4                       0.0   3.006571             27.621722   \n",
      "..                      ...        ...                   ...   \n",
      "992                    23.0   0.000000             29.912595   \n",
      "995                    23.0   0.000000             30.070000   \n",
      "996                    23.0   2.863992             27.642635   \n",
      "997                    23.0   3.365830             29.480000   \n",
      "998                    22.0   2.463654             28.128109   \n",
      "\n",
      "     MT_Relacao total_min  CD_Velocidade maxima de 0 a 100 metros em asfalto   \\\n",
      "0                5.094629                                           0.000000    \n",
      "1                5.714850                                          53.401821    \n",
      "2                5.665436                                          51.888566    \n",
      "3                5.471739                                           0.000000    \n",
      "4                4.931802                                          46.084792    \n",
      "..                    ...                                                ...    \n",
      "992              6.734184                                          51.095272    \n",
      "995              6.939000                                          52.114949    \n",
      "996              5.291697                                           0.000000    \n",
      "997              7.370000                                           0.000000    \n",
      "998              6.607169                                           0.000000    \n",
      "\n",
      "     CD_Velocidade maxima de 0 a 100 metros em terra batida   \\\n",
      "0                                             0.000000         \n",
      "1                                            47.982676         \n",
      "2                                            51.800628         \n",
      "3                                             0.000000         \n",
      "4                                            42.528714         \n",
      "..                                                 ...         \n",
      "992                                          50.064866         \n",
      "995                                          49.024215         \n",
      "996                                           0.000000         \n",
      "997                                           0.000000         \n",
      "998                                           0.000000         \n",
      "\n",
      "     CD_Tempo para atingir velocidade maxima em asfalto  \\\n",
      "0                                             0.000000    \n",
      "1                                             5.691769    \n",
      "2                                             6.321324    \n",
      "3                                             0.000000    \n",
      "4                                            12.293491    \n",
      "..                                                 ...    \n",
      "992                                          10.926828    \n",
      "995                                           8.408078    \n",
      "996                                           0.000000    \n",
      "997                                           9.247290    \n",
      "998                                           0.000000    \n",
      "\n",
      "     CD_Tempo para atingir velocidade maxima em terra batida  P_Aceleracao  \n",
      "0                                             0.000000                   1  \n",
      "1                                            10.846115                   1  \n",
      "2                                             4.606555                   1  \n",
      "3                                             0.000000                   1  \n",
      "4                                             4.819045                   1  \n",
      "..                                                 ...                 ...  \n",
      "992                                           0.000000                   5  \n",
      "995                                           0.000000                   5  \n",
      "996                                           0.000000                   5  \n",
      "997                                           9.848214                   5  \n",
      "998                                           0.000000                   5  \n",
      "\n",
      "[775 rows x 21 columns]\n"
     ]
    }
   ],
   "source": [
    "# Verifique quais linhas têm mais de 10 valores iguais a zero\n",
    "linhas_quase_nulas = df[(df == 0).sum(axis=1) > 15]\n",
    "\n",
    "# Exiba as linhas que atendem à condição\n",
    "print(linhas_quase_nulas.index)\n",
    "\n",
    "# Exclua as linhas com base nos índices coletados\n",
    "df = df.drop(linhas_quase_nulas.index)\n",
    "\n",
    "# Exiba o DataFrame resultante\n",
    "print(df)"
   ]
  },
  {
   "cell_type": "code",
   "execution_count": 70,
   "id": "c8233afb",
   "metadata": {
    "collapsed": true
   },
   "outputs": [],
   "source": [
    "# Especifique o caminho para o arquivo Excel\n",
    "caminho_arquivo = \"C:\\\\Users\\\\Andre\\\\Desktop\\\\Julia\\\\Mangue_Baja\\\\DESAFIO TÉCNICO\\\\Arquivo_Processado_0.xlsx\"\n",
    "\n",
    "# Salvar o DataFrame na planilha 'P_Aceleration'\n",
    "df.to_excel(caminho_arquivo, sheet_name='P_Aceleration', index=False)"
   ]
  },
  {
   "cell_type": "code",
   "execution_count": 63,
   "id": "e74ba481",
   "metadata": {
    "collapsed": true
   },
   "outputs": [
    {
     "data": {
      "image/png": "[encoded data removed]",
      "text/plain": [
       "<Figure size 432x288 with 1 Axes>"
      ]
     },
     "metadata": {
      "needs_background": "light"
     },
     "output_type": "display_data"
    },
    {
     "data": {
      "image/png": "[encoded data removed]",
      "text/plain": [
       "<Figure size 432x288 with 1 Axes>"
      ]
     },
     "metadata": {
      "needs_background": "light"
     },
     "output_type": "display_data"
    },
    {
     "data": {
      "image/png": "[encoded data removed]",
      "text/plain": [
       "<Figure size 432x288 with 1 Axes>"
      ]
     },
     "metadata": {
      "needs_background": "light"
     },
     "output_type": "display_data"
    },
    {
     "data": {
      "image/png": "[encoded data removed]",
      "text/plain": [
       "<Figure size 432x288 with 1 Axes>"
      ]
     },
     "metadata": {
      "needs_background": "light"
     },
     "output_type": "display_data"
    },
    {
     "data": {
      "image/png": "[encoded data removed]",
      "text/plain": [
       "<Figure size 432x288 with 1 Axes>"
      ]
     },
     "metadata": {
      "needs_background": "light"
     },
     "output_type": "display_data"
    },
    {
     "data": {
      "image/png": "[encoded data removed]",
      "text/plain": [
       "<Figure size 432x288 with 1 Axes>"
      ]
     },
     "metadata": {
      "needs_background": "light"
     },
     "output_type": "display_data"
    },
    {
     "data": {
      "image/png": "[encoded data removed]",
      "text/plain": [
       "<Figure size 432x288 with 1 Axes>"
      ]
     },
     "metadata": {
      "needs_background": "light"
     },
     "output_type": "display_data"
    },
    {
     "data": {
      "image/png": "[encoded data removed]",
      "text/plain": [
       "<Figure size 432x288 with 1 Axes>"
      ]
     },
     "metadata": {
      "needs_background": "light"
     },
     "output_type": "display_data"
    },
    {
     "data": {
      "image/png": "[encoded data removed]",
      "text/plain": [
       "<Figure size 432x288 with 1 Axes>"
      ]
     },
     "metadata": {
      "needs_background": "light"
     },
     "output_type": "display_data"
    },
    {
     "data": {
      "image/png": "[encoded data removed]",
      "text/plain": [
       "<Figure size 432x288 with 1 Axes>"
      ]
     },
     "metadata": {
      "needs_background": "light"
     },
     "output_type": "display_data"
    },
    {
     "data": {
      "image/png": "[encoded data removed]",
      "text/plain": [
       "<Figure size 432x288 with 1 Axes>"
      ]
     },
     "metadata": {
      "needs_background": "light"
     },
     "output_type": "display_data"
    },
    {
     "data": {
      "image/png": "[encoded data removed]",
      "text/plain": [
       "<Figure size 432x288 with 1 Axes>"
      ]
     },
     "metadata": {
      "needs_background": "light"
     },
     "output_type": "display_data"
    },
    {
     "data": {
      "image/png": "[encoded data removed]",
      "text/plain": [
       "<Figure size 432x288 with 1 Axes>"
      ]
     },
     "metadata": {
      "needs_background": "light"
     },
     "output_type": "display_data"
    },
    {
     "data": {
      "image/png": "[encoded data removed]",
      "text/plain": [
       "<Figure size 432x288 with 1 Axes>"
      ]
     },
     "metadata": {
      "needs_background": "light"
     },
     "output_type": "display_data"
    },
    {
     "data": {
      "image/png": "[encoded data removed]",
      "text/plain": [
       "<Figure size 432x288 with 1 Axes>"
      ]
     },
     "metadata": {
      "needs_background": "light"
     },
     "output_type": "display_data"
    },
    {
     "data": {
      "image/png": "[encoded data removed]",
      "text/plain": [
       "<Figure size 432x288 with 1 Axes>"
      ]
     },
     "metadata": {
      "needs_background": "light"
     },
     "output_type": "display_data"
    },
    {
     "data": {
      "image/png": "[encoded data removed]",
      "text/plain": [
       "<Figure size 432x288 with 1 Axes>"
      ]
     },
     "metadata": {
      "needs_background": "light"
     },
     "output_type": "display_data"
    },
    {
     "data": {
      "image/png": "[encoded data removed]",
      "text/plain": [
       "<Figure size 432x288 with 1 Axes>"
      ]
     },
     "metadata": {
      "needs_background": "light"
     },
     "output_type": "display_data"
    },
    {
     "data": {
      "image/png": "[encoded data removed]",
      "text/plain": [
       "<Figure size 432x288 with 1 Axes>"
      ]
     },
     "metadata": {
      "needs_background": "light"
     },
     "output_type": "display_data"
    },
    {
     "data": {
      "image/png": "[encoded data removed]",
      "text/plain": [
       "<Figure size 432x288 with 1 Axes>"
      ]
     },
     "metadata": {
      "needs_background": "light"
     },
     "output_type": "display_data"
    },
    {
     "data": {
      "image/png": "[encoded data removed]",
      "text/plain": [
       "<Figure size 432x288 with 1 Axes>"
      ]
     },
     "metadata": {
      "needs_background": "light"
     },
     "output_type": "display_data"
    }
   ],
   "source": [
    "# Boxplot\n",
    "for coluna in df.columns:          # Loop para gerar boxplots para cada variável\n",
    "    plt.boxplot(df[coluna])\n",
    "    plt.title(f'Boxplot da {coluna}')\n",
    "    plt.ylabel(coluna)\n",
    "    plt.show()"
   ]
  },
  {
   "cell_type": "code",
   "execution_count": 51,
   "id": "7fed5516",
   "metadata": {
    "scrolled": true
   },
   "outputs": [],
   "source": [
    "iqr_limit = 1.5\n",
    "\n",
    "def remove_outliers(df, iqr_limit=1.5):\n",
    "    outliers_removed = df.copy()\n",
    "    for coluna in df.columns:\n",
    "        Q1 = df[coluna].quantile(0.25)\n",
    "        Q3 = df[coluna].quantile(0.75)\n",
    "        IQR = Q3 - Q1\n",
    "        lower_bound = Q1 - iqr_limit * IQR\n",
    "        upper_bound = Q3 + iqr_limit * IQR\n",
    "        outliers_removed = outliers_removed[(outliers_removed[coluna] >= lower_bound) & (outliers_removed[coluna] <= upper_bound)]\n",
    "    return outliers_removed\n",
    "\n",
    "data_sem_outliers = remove_outliers(df, iqr_limit)"
   ]
  },
  {
   "cell_type": "code",
   "execution_count": 57,
   "id": "84d71f7d",
   "metadata": {
    "scrolled": true
   },
   "outputs": [],
   "source": [
    "data_corr = df.drop(['P_Aceleracao'], axis=1)\n",
    "# Análise de correlação dos parâmetros\n",
    "correlation = df.corr()"
   ]
  },
  {
   "cell_type": "code",
   "execution_count": 58,
   "id": "906cdfae",
   "metadata": {
    "collapsed": true
   },
   "outputs": [
    {
     "data": {
      "image/png": "[encoded data removed]",
      "text/plain": [
       "<Figure size 720x576 with 2 Axes>"
      ]
     },
     "metadata": {
      "needs_background": "light"
     },
     "output_type": "display_data"
    }
   ],
   "source": [
    "# Plot da matriz de correlação\n",
    "plt.figure(figsize=(10, 8))\n",
    "\n",
    "plot = sns.heatmap(correlation, annot = True, fmt=\".1f\", linewidths=0.5)\n",
    "plt.show()"
   ]
  },
  {
   "cell_type": "code",
   "execution_count": 75,
   "id": "eeff6d86",
   "metadata": {
    "collapsed": true
   },
   "outputs": [
    {
     "data": {
      "text/html": [
       "<div>\n",
       "<style scoped>\n",
       "    .dataframe tbody tr th:only-of-type {\n",
       "        vertical-align: middle;\n",
       "    }\n",
       "\n",
       "    .dataframe tbody tr th {\n",
       "        vertical-align: top;\n",
       "    }\n",
       "\n",
       "    .dataframe thead th {\n",
       "        text-align: right;\n",
       "    }\n",
       "</style>\n",
       "<table border=\"1\" class=\"dataframe\">\n",
       "  <thead>\n",
       "    <tr style=\"text-align: right;\">\n",
       "      <th></th>\n",
       "      <th>DP_Entre-Eixo</th>\n",
       "      <th>DP_Bitola Dianteira</th>\n",
       "      <th>DP_Bitola Traseira</th>\n",
       "      <th>DP_Altura</th>\n",
       "      <th>DP_Comprimento</th>\n",
       "      <th>MV_Eixo dianteiro</th>\n",
       "      <th>MV_Eixo Traseiro</th>\n",
       "      <th>DMV_Dianteira</th>\n",
       "      <th>PCG_X</th>\n",
       "      <th>PCG_Y</th>\n",
       "      <th>...</th>\n",
       "      <th>SD_Dimensoes dos pneus</th>\n",
       "      <th>ST_Dimensoes dos pneus</th>\n",
       "      <th>D_Relacao</th>\n",
       "      <th>MT_Relacao total_max</th>\n",
       "      <th>MT_Relacao total_min</th>\n",
       "      <th>CD_Velocidade maxima de 0 a 100 metros em asfalto</th>\n",
       "      <th>CD_Velocidade maxima de 0 a 100 metros em terra batida</th>\n",
       "      <th>CD_Tempo para atingir velocidade maxima em asfalto</th>\n",
       "      <th>CD_Tempo para atingir velocidade maxima em terra batida</th>\n",
       "      <th>P_Aceleracao</th>\n",
       "    </tr>\n",
       "  </thead>\n",
       "  <tbody>\n",
       "    <tr>\n",
       "      <th>0</th>\n",
       "      <td>1409.565056</td>\n",
       "      <td>1291.374765</td>\n",
       "      <td>1127.937101</td>\n",
       "      <td>1663.806440</td>\n",
       "      <td>2056.763003</td>\n",
       "      <td>77.103974</td>\n",
       "      <td>95.577887</td>\n",
       "      <td>0.454945</td>\n",
       "      <td>208.702782</td>\n",
       "      <td>-22.463140</td>\n",
       "      <td>...</td>\n",
       "      <td>21.0</td>\n",
       "      <td>22.0</td>\n",
       "      <td>2.363351</td>\n",
       "      <td>27.844530</td>\n",
       "      <td>5.094629</td>\n",
       "      <td>0.000000</td>\n",
       "      <td>0.000000</td>\n",
       "      <td>0.000000</td>\n",
       "      <td>0.000000</td>\n",
       "      <td>1</td>\n",
       "    </tr>\n",
       "    <tr>\n",
       "      <th>1</th>\n",
       "      <td>1507.926208</td>\n",
       "      <td>1309.115732</td>\n",
       "      <td>1242.659913</td>\n",
       "      <td>1530.587966</td>\n",
       "      <td>2098.250774</td>\n",
       "      <td>71.061984</td>\n",
       "      <td>91.039134</td>\n",
       "      <td>0.409187</td>\n",
       "      <td>514.604278</td>\n",
       "      <td>560.618361</td>\n",
       "      <td>...</td>\n",
       "      <td>0.0</td>\n",
       "      <td>0.0</td>\n",
       "      <td>4.954387</td>\n",
       "      <td>36.113022</td>\n",
       "      <td>5.714850</td>\n",
       "      <td>53.401821</td>\n",
       "      <td>47.982676</td>\n",
       "      <td>5.691769</td>\n",
       "      <td>10.846115</td>\n",
       "      <td>1</td>\n",
       "    </tr>\n",
       "    <tr>\n",
       "      <th>2</th>\n",
       "      <td>1513.425447</td>\n",
       "      <td>1301.218322</td>\n",
       "      <td>1241.176354</td>\n",
       "      <td>1669.921950</td>\n",
       "      <td>2135.010554</td>\n",
       "      <td>72.050229</td>\n",
       "      <td>93.021177</td>\n",
       "      <td>0.415841</td>\n",
       "      <td>491.093155</td>\n",
       "      <td>378.006613</td>\n",
       "      <td>...</td>\n",
       "      <td>0.0</td>\n",
       "      <td>0.0</td>\n",
       "      <td>5.934633</td>\n",
       "      <td>41.200706</td>\n",
       "      <td>5.665436</td>\n",
       "      <td>51.888566</td>\n",
       "      <td>51.800628</td>\n",
       "      <td>6.321324</td>\n",
       "      <td>4.606555</td>\n",
       "      <td>1</td>\n",
       "    </tr>\n",
       "    <tr>\n",
       "      <th>3</th>\n",
       "      <td>1369.669287</td>\n",
       "      <td>1262.398125</td>\n",
       "      <td>1180.965717</td>\n",
       "      <td>1368.187563</td>\n",
       "      <td>1987.070532</td>\n",
       "      <td>102.342058</td>\n",
       "      <td>152.610215</td>\n",
       "      <td>0.434121</td>\n",
       "      <td>85.197422</td>\n",
       "      <td>-2.070284</td>\n",
       "      <td>...</td>\n",
       "      <td>21.0</td>\n",
       "      <td>21.0</td>\n",
       "      <td>7.471144</td>\n",
       "      <td>31.048865</td>\n",
       "      <td>5.471739</td>\n",
       "      <td>0.000000</td>\n",
       "      <td>0.000000</td>\n",
       "      <td>0.000000</td>\n",
       "      <td>0.000000</td>\n",
       "      <td>1</td>\n",
       "    </tr>\n",
       "    <tr>\n",
       "      <th>4</th>\n",
       "      <td>1384.641327</td>\n",
       "      <td>1362.557218</td>\n",
       "      <td>1171.793778</td>\n",
       "      <td>1654.978161</td>\n",
       "      <td>1976.940021</td>\n",
       "      <td>84.700554</td>\n",
       "      <td>102.049056</td>\n",
       "      <td>0.457152</td>\n",
       "      <td>368.632469</td>\n",
       "      <td>549.636182</td>\n",
       "      <td>...</td>\n",
       "      <td>0.0</td>\n",
       "      <td>0.0</td>\n",
       "      <td>3.006571</td>\n",
       "      <td>27.621722</td>\n",
       "      <td>4.931802</td>\n",
       "      <td>46.084792</td>\n",
       "      <td>42.528714</td>\n",
       "      <td>12.293491</td>\n",
       "      <td>4.819045</td>\n",
       "      <td>1</td>\n",
       "    </tr>\n",
       "    <tr>\n",
       "      <th>...</th>\n",
       "      <td>...</td>\n",
       "      <td>...</td>\n",
       "      <td>...</td>\n",
       "      <td>...</td>\n",
       "      <td>...</td>\n",
       "      <td>...</td>\n",
       "      <td>...</td>\n",
       "      <td>...</td>\n",
       "      <td>...</td>\n",
       "      <td>...</td>\n",
       "      <td>...</td>\n",
       "      <td>...</td>\n",
       "      <td>...</td>\n",
       "      <td>...</td>\n",
       "      <td>...</td>\n",
       "      <td>...</td>\n",
       "      <td>...</td>\n",
       "      <td>...</td>\n",
       "      <td>...</td>\n",
       "      <td>...</td>\n",
       "      <td>...</td>\n",
       "    </tr>\n",
       "    <tr>\n",
       "      <th>992</th>\n",
       "      <td>1496.914947</td>\n",
       "      <td>1348.738646</td>\n",
       "      <td>1260.834065</td>\n",
       "      <td>1526.867980</td>\n",
       "      <td>2086.249636</td>\n",
       "      <td>65.232887</td>\n",
       "      <td>93.529321</td>\n",
       "      <td>0.404373</td>\n",
       "      <td>96.678853</td>\n",
       "      <td>0.957613</td>\n",
       "      <td>...</td>\n",
       "      <td>23.0</td>\n",
       "      <td>23.0</td>\n",
       "      <td>0.000000</td>\n",
       "      <td>29.912595</td>\n",
       "      <td>6.734184</td>\n",
       "      <td>51.095272</td>\n",
       "      <td>50.064866</td>\n",
       "      <td>10.926828</td>\n",
       "      <td>0.000000</td>\n",
       "      <td>5</td>\n",
       "    </tr>\n",
       "    <tr>\n",
       "      <th>995</th>\n",
       "      <td>1512.427873</td>\n",
       "      <td>1302.941470</td>\n",
       "      <td>1245.256767</td>\n",
       "      <td>1509.231194</td>\n",
       "      <td>2109.457027</td>\n",
       "      <td>72.221809</td>\n",
       "      <td>90.226812</td>\n",
       "      <td>0.441886</td>\n",
       "      <td>107.916108</td>\n",
       "      <td>6.642557</td>\n",
       "      <td>...</td>\n",
       "      <td>23.0</td>\n",
       "      <td>23.0</td>\n",
       "      <td>0.000000</td>\n",
       "      <td>30.070000</td>\n",
       "      <td>6.939000</td>\n",
       "      <td>52.114949</td>\n",
       "      <td>49.024215</td>\n",
       "      <td>8.408078</td>\n",
       "      <td>0.000000</td>\n",
       "      <td>5</td>\n",
       "    </tr>\n",
       "    <tr>\n",
       "      <th>996</th>\n",
       "      <td>1366.260071</td>\n",
       "      <td>1344.071570</td>\n",
       "      <td>1265.280794</td>\n",
       "      <td>1564.856065</td>\n",
       "      <td>2017.699129</td>\n",
       "      <td>70.709528</td>\n",
       "      <td>98.908065</td>\n",
       "      <td>0.401583</td>\n",
       "      <td>69.576836</td>\n",
       "      <td>2.948500</td>\n",
       "      <td>...</td>\n",
       "      <td>23.0</td>\n",
       "      <td>23.0</td>\n",
       "      <td>2.863992</td>\n",
       "      <td>27.642635</td>\n",
       "      <td>5.291697</td>\n",
       "      <td>0.000000</td>\n",
       "      <td>0.000000</td>\n",
       "      <td>0.000000</td>\n",
       "      <td>0.000000</td>\n",
       "      <td>5</td>\n",
       "    </tr>\n",
       "    <tr>\n",
       "      <th>997</th>\n",
       "      <td>1505.649795</td>\n",
       "      <td>1318.139122</td>\n",
       "      <td>1233.642827</td>\n",
       "      <td>1540.427717</td>\n",
       "      <td>2071.767520</td>\n",
       "      <td>60.558489</td>\n",
       "      <td>107.230112</td>\n",
       "      <td>0.352453</td>\n",
       "      <td>523.000000</td>\n",
       "      <td>-50.000000</td>\n",
       "      <td>...</td>\n",
       "      <td>22.0</td>\n",
       "      <td>23.0</td>\n",
       "      <td>3.365830</td>\n",
       "      <td>29.480000</td>\n",
       "      <td>7.370000</td>\n",
       "      <td>0.000000</td>\n",
       "      <td>0.000000</td>\n",
       "      <td>9.247290</td>\n",
       "      <td>9.848214</td>\n",
       "      <td>5</td>\n",
       "    </tr>\n",
       "    <tr>\n",
       "      <th>998</th>\n",
       "      <td>1404.823434</td>\n",
       "      <td>1328.158609</td>\n",
       "      <td>1248.488797</td>\n",
       "      <td>1473.317271</td>\n",
       "      <td>2112.283148</td>\n",
       "      <td>69.774043</td>\n",
       "      <td>96.836258</td>\n",
       "      <td>0.410884</td>\n",
       "      <td>109.438324</td>\n",
       "      <td>9.533358</td>\n",
       "      <td>...</td>\n",
       "      <td>23.0</td>\n",
       "      <td>22.0</td>\n",
       "      <td>2.463654</td>\n",
       "      <td>28.128109</td>\n",
       "      <td>6.607169</td>\n",
       "      <td>0.000000</td>\n",
       "      <td>0.000000</td>\n",
       "      <td>0.000000</td>\n",
       "      <td>0.000000</td>\n",
       "      <td>5</td>\n",
       "    </tr>\n",
       "  </tbody>\n",
       "</table>\n",
       "<p>775 rows × 21 columns</p>\n",
       "</div>"
      ],
      "text/plain": [
       "     DP_Entre-Eixo  DP_Bitola Dianteira  DP_Bitola Traseira    DP_Altura  \\\n",
       "0      1409.565056          1291.374765         1127.937101  1663.806440   \n",
       "1      1507.926208          1309.115732         1242.659913  1530.587966   \n",
       "2      1513.425447          1301.218322         1241.176354  1669.921950   \n",
       "3      1369.669287          1262.398125         1180.965717  1368.187563   \n",
       "4      1384.641327          1362.557218         1171.793778  1654.978161   \n",
       "..             ...                  ...                 ...          ...   \n",
       "992    1496.914947          1348.738646         1260.834065  1526.867980   \n",
       "995    1512.427873          1302.941470         1245.256767  1509.231194   \n",
       "996    1366.260071          1344.071570         1265.280794  1564.856065   \n",
       "997    1505.649795          1318.139122         1233.642827  1540.427717   \n",
       "998    1404.823434          1328.158609         1248.488797  1473.317271   \n",
       "\n",
       "     DP_Comprimento  MV_Eixo dianteiro  MV_Eixo Traseiro  DMV_Dianteira  \\\n",
       "0       2056.763003          77.103974         95.577887       0.454945   \n",
       "1       2098.250774          71.061984         91.039134       0.409187   \n",
       "2       2135.010554          72.050229         93.021177       0.415841   \n",
       "3       1987.070532         102.342058        152.610215       0.434121   \n",
       "4       1976.940021          84.700554        102.049056       0.457152   \n",
       "..              ...                ...               ...            ...   \n",
       "992     2086.249636          65.232887         93.529321       0.404373   \n",
       "995     2109.457027          72.221809         90.226812       0.441886   \n",
       "996     2017.699129          70.709528         98.908065       0.401583   \n",
       "997     2071.767520          60.558489        107.230112       0.352453   \n",
       "998     2112.283148          69.774043         96.836258       0.410884   \n",
       "\n",
       "          PCG_X       PCG_Y  ...  SD_Dimensoes dos pneus  \\\n",
       "0    208.702782  -22.463140  ...                    21.0   \n",
       "1    514.604278  560.618361  ...                     0.0   \n",
       "2    491.093155  378.006613  ...                     0.0   \n",
       "3     85.197422   -2.070284  ...                    21.0   \n",
       "4    368.632469  549.636182  ...                     0.0   \n",
       "..          ...         ...  ...                     ...   \n",
       "992   96.678853    0.957613  ...                    23.0   \n",
       "995  107.916108    6.642557  ...                    23.0   \n",
       "996   69.576836    2.948500  ...                    23.0   \n",
       "997  523.000000  -50.000000  ...                    22.0   \n",
       "998  109.438324    9.533358  ...                    23.0   \n",
       "\n",
       "     ST_Dimensoes dos pneus  D_Relacao  MT_Relacao total_max  \\\n",
       "0                      22.0   2.363351             27.844530   \n",
       "1                       0.0   4.954387             36.113022   \n",
       "2                       0.0   5.934633             41.200706   \n",
       "3                      21.0   7.471144             31.048865   \n",
       "4                       0.0   3.006571             27.621722   \n",
       "..                      ...        ...                   ...   \n",
       "992                    23.0   0.000000             29.912595   \n",
       "995                    23.0   0.000000             30.070000   \n",
       "996                    23.0   2.863992             27.642635   \n",
       "997                    23.0   3.365830             29.480000   \n",
       "998                    22.0   2.463654             28.128109   \n",
       "\n",
       "     MT_Relacao total_min  CD_Velocidade maxima de 0 a 100 metros em asfalto   \\\n",
       "0                5.094629                                           0.000000    \n",
       "1                5.714850                                          53.401821    \n",
       "2                5.665436                                          51.888566    \n",
       "3                5.471739                                           0.000000    \n",
       "4                4.931802                                          46.084792    \n",
       "..                    ...                                                ...    \n",
       "992              6.734184                                          51.095272    \n",
       "995              6.939000                                          52.114949    \n",
       "996              5.291697                                           0.000000    \n",
       "997              7.370000                                           0.000000    \n",
       "998              6.607169                                           0.000000    \n",
       "\n",
       "     CD_Velocidade maxima de 0 a 100 metros em terra batida   \\\n",
       "0                                             0.000000         \n",
       "1                                            47.982676         \n",
       "2                                            51.800628         \n",
       "3                                             0.000000         \n",
       "4                                            42.528714         \n",
       "..                                                 ...         \n",
       "992                                          50.064866         \n",
       "995                                          49.024215         \n",
       "996                                           0.000000         \n",
       "997                                           0.000000         \n",
       "998                                           0.000000         \n",
       "\n",
       "     CD_Tempo para atingir velocidade maxima em asfalto  \\\n",
       "0                                             0.000000    \n",
       "1                                             5.691769    \n",
       "2                                             6.321324    \n",
       "3                                             0.000000    \n",
       "4                                            12.293491    \n",
       "..                                                 ...    \n",
       "992                                          10.926828    \n",
       "995                                           8.408078    \n",
       "996                                           0.000000    \n",
       "997                                           9.247290    \n",
       "998                                           0.000000    \n",
       "\n",
       "     CD_Tempo para atingir velocidade maxima em terra batida  P_Aceleracao  \n",
       "0                                             0.000000                   1  \n",
       "1                                            10.846115                   1  \n",
       "2                                             4.606555                   1  \n",
       "3                                             0.000000                   1  \n",
       "4                                             4.819045                   1  \n",
       "..                                                 ...                 ...  \n",
       "992                                           0.000000                   5  \n",
       "995                                           0.000000                   5  \n",
       "996                                           0.000000                   5  \n",
       "997                                           9.848214                   5  \n",
       "998                                           0.000000                   5  \n",
       "\n",
       "[775 rows x 21 columns]"
      ]
     },
     "execution_count": 75,
     "metadata": {},
     "output_type": "execute_result"
    }
   ],
   "source": [
    "# Selecionar as duas variáveis a serem reduzidas (Variavel1 e Variavel2)\n",
    "variaveis_reduzidas = df[['SD_Dimensoes dos pneus', 'ST_Dimensoes dos pneus']]\n",
    "\n",
    "# Aplicar PCA para reduzir as duas variáveis em uma única variável\n",
    "pca = PCA(n_components=1)\n",
    "variavel_reduzida = pca.fit_transform(variaveis_reduzidas)\n",
    "\n",
    "# Adicione a variável reduzida de volta ao DataFrame original\n",
    "#df['Dimensoes dos pneus'] = variavel_reduzida"
   ]
  },
  {
   "cell_type": "code",
   "execution_count": null,
   "id": "2560af82",
   "metadata": {
    "scrolled": true
   },
   "outputs": [],
   "source": [
    "# Dividir o conjunto de dados em treinamento e teste\n",
    "np.random.seed(456)  # Outra semente para divisão aleatória\n",
    "dados_treino, dados_teste = train_test_split(dados, test_size=0.3)\n",
    "\n",
    "# Separar X e Y\n",
    "X = dados[['Covariate1', 'Covariate2']]\n",
    "Y = dados['Nota']\n",
    "\n",
    "X_treino = dados_treino[['Covariate1', 'Covariate2']]\n",
    "Y_treino = dados_treino['Nota']\n",
    "\n",
    "X_teste = dados_teste[['Covariate1', 'Covariate2']]\n",
    "Y_teste = dados_teste['Nota']\n",
    "\n",
    "print(dados_treino)"
   ]
  },
  {
   "cell_type": "markdown",
   "id": "6ec742fb",
   "metadata": {},
   "source": [
    "# Escolha do Modelo"
   ]
  },
  {
   "cell_type": "markdown",
   "id": "2551aa5a",
   "metadata": {},
   "source": [
    "## Regressão Logística:"
   ]
  },
  {
   "cell_type": "code",
   "execution_count": null,
   "id": "d8929d1a-63a4-45ae-bfab-b17c284253a9",
   "metadata": {
    "scrolled": true
   },
   "outputs": [],
   "source": [
    "# Modelo de regressão logística.\n",
    "model_LR = LogisticRegression()\n",
    "model_LR.fit(X_treino, Y_treino)"
   ]
  },
  {
   "cell_type": "code",
   "execution_count": null,
   "id": "5f300c28-a56b-498a-a619-37c70f934234",
   "metadata": {
    "scrolled": true
   },
   "outputs": [],
   "source": [
    "# Avaliação do desempenho do modelo.\n",
    "Y_pred = model_LR.predict(X_teste)\n",
    "\n",
    "acuracia = accuracy_score(Y_teste, Y_pred)\n",
    "relatorio_classificacao = classification_report(Y_teste, Y_pred)\n",
    "    \n",
    "print(f\"Desempenho para Regressão Logística:\")\n",
    "print(f'Acurácia: {acuracia:.2f}')\n",
    "print('Relatório de Classificação:')\n",
    "print(relatorio_classificacao)"
   ]
  },
  {
   "cell_type": "code",
   "execution_count": null,
   "id": "95474d74",
   "metadata": {
    "scrolled": true
   },
   "outputs": [],
   "source": [
    "# Analisar os resíduos\n",
    "residuos = Y_teste - Y_pred\n",
    "\n",
    "# Plote um gráfico de dispersão dos resíduos em relação às previsões\n",
    "plt.scatter(Y_pred, residuos)\n",
    "plt.xlabel('Previsões')\n",
    "plt.ylabel('Resíduos')\n",
    "plt.show()"
   ]
  },
  {
   "cell_type": "markdown",
   "id": "9ecf29b2",
   "metadata": {},
   "source": [
    "## Máquinas de Vetores de Suporte (SVM)"
   ]
  },
  {
   "cell_type": "code",
   "execution_count": null,
   "id": "6f19f784-20cd-4184-b54c-68c55174dcd0",
   "metadata": {
    "scrolled": true
   },
   "outputs": [],
   "source": [
    "# Modelo SVM com um kernel linear e \"um contra todos\"\n",
    "model_SVM = SVC(kernel='linear', decision_function_shape='ovr')\n",
    "model_SVM.fit(X_treino, Y_treino)"
   ]
  },
  {
   "cell_type": "code",
   "execution_count": null,
   "id": "c134d47e",
   "metadata": {
    "scrolled": true
   },
   "outputs": [],
   "source": [
    "# Avaliação do desempenho do modelo.\n",
    "Y_pred = model_SVM.predict(X_teste)\n",
    "\n",
    "acuracia = accuracy_score(Y_teste, Y_pred)\n",
    "relatorio_classificacao = classification_report(Y_teste, Y_pred)\n",
    "    \n",
    "print(f\"Desempenho para Máquinas de Vetores de Suporte:\")\n",
    "print(f'Acurácia: {acuracia:.2f}')\n",
    "print('Relatório de Classificação:')\n",
    "print(relatorio_classificacao)"
   ]
  },
  {
   "cell_type": "code",
   "execution_count": null,
   "id": "68c1e3a5",
   "metadata": {
    "scrolled": true
   },
   "outputs": [],
   "source": [
    "# Analisar os resíduos\n",
    "residuos = Y_teste - Y_pred\n",
    "\n",
    "# Plote um gráfico de dispersão dos resíduos em relação às previsões\n",
    "plt.scatter(Y_pred, residuos)\n",
    "plt.xlabel('Previsões')\n",
    "plt.ylabel('Resíduos')\n",
    "plt.show()"
   ]
  },
  {
   "cell_type": "markdown",
   "id": "cd21bad2",
   "metadata": {},
   "source": [
    "## K-Nearest Neighbors"
   ]
  },
  {
   "cell_type": "code",
   "execution_count": null,
   "id": "43b03294",
   "metadata": {
    "scrolled": true
   },
   "outputs": [],
   "source": [
    "k = 3  # Número de vizinhos (Altere por necessidade)\n",
    "\n",
    "# Modelo de K-Vizinhos Mais Próximos (K-Nearest Neighbors - KNN).\n",
    "model_KNN = KNeighborsClassifier(n_neighbors=k)\n",
    "model_KNN.fit(X_treino, Y_treino)"
   ]
  },
  {
   "cell_type": "code",
   "execution_count": null,
   "id": "ed68dfa3",
   "metadata": {
    "scrolled": true
   },
   "outputs": [],
   "source": [
    "# Avaliação do desempenho do modelo usando as métricas de erro quadrático médio (RMSE) e o coeficiente de determinação (R2).\n",
    "Y_pred = model_KNN.predict(X_teste)\n",
    "\n",
    "acuracia = accuracy_score(Y_teste, Y_pred)\n",
    "relatorio_classificacao = classification_report(Y_teste, Y_pred)\n",
    "    \n",
    "print(f\"Desempenho para K-Vizinhos Mais Próximos:\")\n",
    "print(f'Acurácia: {acuracia:.2f}')\n",
    "print('Relatório de Classificação:')\n",
    "print(relatorio_classificacao)"
   ]
  },
  {
   "cell_type": "code",
   "execution_count": null,
   "id": "9c5ebdfc",
   "metadata": {
    "scrolled": true
   },
   "outputs": [],
   "source": [
    "# Analisar os resíduos\n",
    "residuos = Y_teste - Y_pred\n",
    "\n",
    "# Plote um gráfico de dispersão dos resíduos em relação às previsões\n",
    "plt.scatter(Y_pred, residuos)\n",
    "plt.xlabel('Previsões')\n",
    "plt.ylabel('Resíduos')\n",
    "plt.show()"
   ]
  },
  {
   "cell_type": "markdown",
   "id": "9ccc13df",
   "metadata": {},
   "source": [
    "## Decision Tree Classifier"
   ]
  },
  {
   "cell_type": "code",
   "execution_count": null,
   "id": "7f4b40e0",
   "metadata": {
    "scrolled": true
   },
   "outputs": [],
   "source": [
    "# Modelo de Árvore de Decisão de Classificação.\n",
    "model_DTC = DecisionTreeClassifier()\n",
    "model_DTC.fit(X_treino, Y_treino)"
   ]
  },
  {
   "cell_type": "code",
   "execution_count": null,
   "id": "c5a4658a",
   "metadata": {
    "scrolled": true
   },
   "outputs": [],
   "source": [
    "# Avaliação do desempenho do modelo usando as métricas de erro quadrático médio (RMSE) e o coeficiente de determinação (R2).\n",
    "Y_pred = model_DTC.predict(X_teste)\n",
    "\n",
    "acuracia = accuracy_score(Y_teste, Y_pred)\n",
    "relatorio_classificacao = classification_report(Y_teste, Y_pred)\n",
    "    \n",
    "print(f\"Desempenho para Árvore de Decisão de Classificação:\")\n",
    "print(f'Acurácia: {acuracia:.2f}')\n",
    "print('Relatório de Classificação:')\n",
    "print(relatorio_classificacao)"
   ]
  },
  {
   "cell_type": "code",
   "execution_count": null,
   "id": "a6d48304",
   "metadata": {
    "scrolled": true
   },
   "outputs": [],
   "source": [
    "# Analisar os resíduos\n",
    "residuos = Y_teste - Y_pred\n",
    "\n",
    "# Plote um gráfico de dispersão dos resíduos em relação às previsões\n",
    "plt.scatter(Y_pred, residuos)\n",
    "plt.xlabel('Previsões')\n",
    "plt.ylabel('Resíduos')\n",
    "plt.show()"
   ]
  },
  {
   "cell_type": "markdown",
   "id": "eda417dd",
   "metadata": {},
   "source": [
    "## Random Forest Classifier"
   ]
  },
  {
   "cell_type": "code",
   "execution_count": null,
   "id": "bcd0c505",
   "metadata": {
    "scrolled": true
   },
   "outputs": [],
   "source": [
    "# Modelo de Regressão de Floresta Aleatória.\n",
    "model_RFC = RandomForestClassifier()\n",
    "model_RFC.fit(X_treino, Y_treino)"
   ]
  },
  {
   "cell_type": "code",
   "execution_count": null,
   "id": "43ed6de8",
   "metadata": {
    "scrolled": true
   },
   "outputs": [],
   "source": [
    "# Avaliação do desempenho do modelo.\n",
    "Y_pred = model_RFC.predict(X_teste)\n",
    "\n",
    "acuracia = accuracy_score(Y_teste, Y_pred)\n",
    "relatorio_classificacao = classification_report(Y_teste, Y_pred)\n",
    "    \n",
    "print(f\"Desempenho para Regressão de Floresta Aleatória:\")\n",
    "print(f'Acurácia: {acuracia:.2f}')\n",
    "print('Relatório de Classificação:')\n",
    "print(relatorio_classificacao)"
   ]
  },
  {
   "cell_type": "code",
   "execution_count": null,
   "id": "66da8ceb",
   "metadata": {
    "scrolled": true
   },
   "outputs": [],
   "source": [
    "# Analisar os resíduos.\n",
    "residuos = Y_teste - Y_pred\n",
    "\n",
    "# Plote um gráfico de dispersão dos resíduos em relação às previsões\n",
    "plt.scatter(Y_pred, residuos)\n",
    "plt.xlabel('Previsões')\n",
    "plt.ylabel('Resíduos')\n",
    "plt.show()"
   ]
  },
  {
   "cell_type": "markdown",
   "id": "d20c5a1a",
   "metadata": {},
   "source": [
    "## XGBoost"
   ]
  },
  {
   "cell_type": "code",
   "execution_count": null,
   "id": "043ca87d",
   "metadata": {
    "scrolled": true
   },
   "outputs": [],
   "source": [
    "# Modelo de Extreme Gradient Boosting.\n",
    "model_XGB = XGBClassifier()\n",
    "model_XGB.fit(X_treinamento, y_treinamento)"
   ]
  },
  {
   "cell_type": "code",
   "execution_count": null,
   "id": "d5a9dbf6",
   "metadata": {
    "scrolled": true
   },
   "outputs": [],
   "source": [
    "# Avaliação do desempenho do modelo usando as métricas de erro quadrático médio (RMSE) e o coeficiente de determinação (R2).\n",
    "Y_pred = model_XGB.predict(X_teste)\n",
    "\n",
    "acuracia = accuracy_score(Y_teste, Y_pred)\n",
    "relatorio_classificacao = classification_report(Y_teste, Y_pred)\n",
    "    \n",
    "print(f\"Desempenho para Extreme Gradient Boosting:\")\n",
    "print(f'Acurácia: {acuracia:.2f}')\n",
    "print('Relatório de Classificação:')\n",
    "print(relatorio_classificacao)"
   ]
  },
  {
   "cell_type": "code",
   "execution_count": null,
   "id": "1c005554",
   "metadata": {
    "scrolled": true
   },
   "outputs": [],
   "source": [
    "# Analisar os resíduos\n",
    "residuos = Y_teste - Y_pred\n",
    "\n",
    "# Plote um gráfico de dispersão dos resíduos em relação às previsões\n",
    "plt.scatter(Y_pred, residuos)\n",
    "plt.xlabel('Previsões')\n",
    "plt.ylabel('Resíduos')\n",
    "plt.show()"
   ]
  },
  {
   "cell_type": "markdown",
   "id": "2c2755bc",
   "metadata": {},
   "source": [
    "# Treinamento do Modelo"
   ]
  },
  {
   "cell_type": "markdown",
   "id": "3bdaf487",
   "metadata": {},
   "source": [
    "## Bootstraps"
   ]
  },
  {
   "cell_type": "code",
   "execution_count": null,
   "id": "9ea575e3",
   "metadata": {
    "scrolled": true
   },
   "outputs": [],
   "source": [
    "n_iterations = 100  # Número de iterações do Bootstrap\n",
    "\n",
    "# Lista para armazenar as métricas de desempenho em cada iteração\n",
    "performance_metrics = []\n",
    "\n",
    "for _ in range(n_iterations):\n",
    "    # Amostragem Bootstrap: crie um conjunto de treinamento com reamostragem\n",
    "    indices_amostra = np.random.choice(len(X_treino), size=len(X_treino), replace=True)\n",
    "    X_bootstrap = X_treino[indices_amostra]\n",
    "    y_bootstrap = Y_treino[indices_amostra]\n",
    "\n",
    "    # Crie e treine seu modelo\n",
    "    model_XGB.fit(X_bootstrap, y_bootstrap)\n",
    "\n",
    "    # Avalie o modelo no conjunto de teste\n",
    "    desempenho = model_XGB.score(X_teste, Y_teste)  # Use a métrica apropriada para o seu problema\n",
    "    performance_metrics.append(desempenho)"
   ]
  },
  {
   "cell_type": "code",
   "execution_count": null,
   "id": "1b1e60b6",
   "metadata": {
    "scrolled": true
   },
   "outputs": [],
   "source": [
    "# Calcule as métricas resumidas (por exemplo, média e desvio padrão)\n",
    "media_desempenho = np.mean(performance_metrics)\n",
    "desvio_padrao_desempenho = np.std(performance_metrics)\n",
    "\n",
    "# Imprima as métricas resumidas\n",
    "print(f'Média do desempenho: {media_desempenho:.4f}')\n",
    "print(f'Desvio Padrão do desempenho: {desvio_padrao_desempenho:.4f}')"
   ]
  },
  {
   "cell_type": "markdown",
   "id": "3e3017c1",
   "metadata": {},
   "source": [
    "# Avaliação do Modelo"
   ]
  },
  {
   "cell_type": "markdown",
   "id": "0dac3811",
   "metadata": {},
   "source": [
    "## Cross-Validation"
   ]
  },
  {
   "cell_type": "code",
   "execution_count": null,
   "id": "91201032",
   "metadata": {
    "scrolled": true
   },
   "outputs": [],
   "source": [
    "# Número de classes\n",
    "n_classes = 5\n",
    "\n",
    "kfold = KFold(n_splits=5, shuffle=True, random_state=42)\n",
    "#kfold = StratifiedKFold(n_splits = 5, shuffle = True) # Caso uma classe prevaleça muita em função da outra"
   ]
  },
  {
   "cell_type": "code",
   "execution_count": null,
   "id": "6dff749b",
   "metadata": {
    "scrolled": true
   },
   "outputs": [],
   "source": [
    "# Calcule a média das pontuações para avaliação de Acurácia do modelo\n",
    "def intervalo(results):\n",
    "    mean = results.mean()\n",
    "    dv = results.std()\n",
    "    print('Acurácia média: {:.2f}%'.format(mean * 100))\n",
    "    print('Intervalo de acurácia: [{:.2f}% ~ {:.2f}%]'.format((mean - 2 * dv) * 100, (mean + 2 * dv) * 100)\n",
    "\n",
    "scores = cross_val_score(model_XGB, X_treino, Y_treino, cv=kfold, scoring='accuracy') # Checar Modelo\n",
    "intervalo(scores)"
   ]
  },
  {
   "cell_type": "code",
   "execution_count": null,
   "id": "6ea56f70",
   "metadata": {
    "scrolled": true
   },
   "outputs": [],
   "source": [
    "# Calcule a média das pontuações para avaliação de Precisão do modelo\n",
    "def intervalo_prec(results):\n",
    "    mean = results.mean()\n",
    "    dv = results.std()\n",
    "    print('Precisão média: {:.2f}%'.format(mean * 100))\n",
    "    print('Intervalo de Precisão: [{:.2f}% ~ {:.2f}%]'.format((mean - 2 * dv) * 100, (mean + 2 * dv) * 100)\n",
    "\n",
    "scores = cross_val_score(model_XGB, X_treino, Y_treino, cv=kfold, scoring='precision_macro') # Checar Modelo\n",
    "intervalo_prec(scores)"
   ]
  },
  {
   "cell_type": "code",
   "execution_count": null,
   "id": "dcd27d3e",
   "metadata": {
    "scrolled": true
   },
   "outputs": [],
   "source": [
    "# Calcule a média das pontuações para avaliação de Recall do modelo\n",
    "def intervalo_recall(results):\n",
    "    mean = results.mean()\n",
    "    dv = results.std()\n",
    "    print('Recall médio: {:.2f}%'.format(mean * 100))\n",
    "    print('Intervalo de Recall: [{:.2f}% ~ {:.2f}%]'.format((mean - 2 * dv) * 100, (mean + 2 * dv) * 100)\n",
    "\n",
    "scores = cross_val_score(model_XGB, X_treino, Y_treino, cv=kfold, scoring='recall_macro') # Checar Modelo\n",
    "intervalo_recall(scores)"
   ]
  },
  {
   "cell_type": "code",
   "execution_count": null,
   "id": "cfff3831",
   "metadata": {
    "scrolled": true
   },
   "outputs": [],
   "source": [
    "# Comparar scores de Previsão e Recall\n",
    "y_scores = cross_val_predict(model_XGB, X_treino, Y_treino, cv=kfold, method='predict_proba')\n",
    "\n",
    "precisions, recalls, thresholds = precision_recall_curve(Y_treino, y_scores, pos_label=1) # Certifique-se de especificar a classe positiva correta\n",
    "\n",
    "fig, ax = plt.subplots(figsize=(12, 3))\n",
    "plt.plot(thresholds, precisions, 'b--', label='Precisão')\n",
    "plt.plot(thresholds, recalls, 'g-', label='Recall')\n",
    "plt.xlabel('Threshold')\n",
    "plt.legend(loc='center right')\n",
    "plt.ylim([0, 1])\n",
    "plt.title('Precisão x Recall', fontsize=14)\n",
    "plt.show()"
   ]
  },
  {
   "cell_type": "code",
   "execution_count": null,
   "id": "bdbc48e8",
   "metadata": {
    "scrolled": true
   },
   "outputs": [],
   "source": [
    "# Matriz de Confusão\n",
    "Y_pred = cross_val_predict(model_XGB, X_treino, Y_treino, cv=kfold) # Checar Modelo\n",
    "\n",
    "fig, ax = plt.subplots()\n",
    "sns.heatmap(confusion_matrix(Y_treino, Y_pred), annot=True, ax=ax, fmt='d', cmap='Reds', cbar=False, square=True)\n",
    "ax.set_title(\"Matriz de Confusão\", fontsize=18)\n",
    "ax.set_ylabel(\"True label\")\n",
    "ax.set_xlabel(\"Predicted Label\")\n",
    "plt.tight_layout()"
   ]
  },
  {
   "cell_type": "code",
   "execution_count": null,
   "id": "d1470dc0",
   "metadata": {
    "scrolled": true
   },
   "outputs": [],
   "source": [
    "# Relatório do modelo\n",
    "print('Relatório de classificação:\\n', classification_report(Y_treino, Y_pred, digits=4))"
   ]
  },
  {
   "cell_type": "code",
   "execution_count": null,
   "id": "74539aab",
   "metadata": {
    "scrolled": true
   },
   "outputs": [],
   "source": [
    "# Receiver operating characteristic — ROC\n",
    "fpr, tpr, thresholds = roc_curve(Y_treino, y_scores[:, 1]) # Certifique-se de especificar a classe positiva correta\n",
    "\n",
    "fig, ax = plt.subplots(figsize=(12, 4))\n",
    "plt.plot(fpr, tpr, linewidth=2, label='Logistic Regression') # Checar Modelo\n",
    "plt.plot([0, 1], [0, 1], 'k--')\n",
    "plt.axis([0, 1, 0, 1])\n",
    "plt.xlabel('Taxa de Falsos Positivos')\n",
    "plt.ylabel('Taxa de Verdadeiros Positivos')\n",
    "plt.legend(loc='lower right')\n",
    "plt.title('Curva ROC', fontsize=14)\n",
    "plt.show()"
   ]
  },
  {
   "cell_type": "code",
   "execution_count": null,
   "id": "6a42ecb9",
   "metadata": {
    "scrolled": true
   },
   "outputs": [],
   "source": [
    "# Área sob a Curva\n",
    "print('Área sob a curva ROC: {:.4f}'.format(roc_auc_score(Y_treino, y_scores, multi_class='ovr', average='macro'))"
   ]
  },
  {
   "cell_type": "code",
   "execution_count": null,
   "id": "8334b100",
   "metadata": {
    "scrolled": true
   },
   "outputs": [],
   "source": [
    "# Treinamento do modelo \n",
    "model_XGB.fit(X_treino, Y_treino) # Checar modelo\n",
    "\n",
    "# Fazer previsões no conjunto de teste\n",
    "Y_pred_teste = model_XGB.predict(X_teste)\n",
    "\n",
    "# Acurácia no conjunto de teste\n",
    "accuracy = accuracy_score(Y_teste, Y_pred_teste)\n",
    "print('Acurácia no conjunto de teste: {:.2f}%'.format(accuracy * 100))\n",
    "\n",
    "# Precisão no conjunto de teste\n",
    "precision = precision_score(Y_teste, Y_pred_teste, average='macro')\n",
    "print('Precisão no conjunto de teste: {:.2f}%'.format(precision * 100))\n",
    "\n",
    "# Recall no conjunto de teste\n",
    "recall = recall_score(Y_teste, Y_pred_teste, average='macro')\n",
    "print('Recall no conjunto de teste: {:.2f}%'.format(recall * 100))\n",
    "\n",
    "# Relatório de classificação no conjunto de teste\n",
    "print('Relatório de classificação no conjunto de teste:\\n', classification_report(Y_teste, Y_pred_teste, digits=4))"
   ]
  },
  {
   "cell_type": "markdown",
   "id": "855c4d7a",
   "metadata": {},
   "source": [
    "## Análise de Variáveis "
   ]
  },
  {
   "cell_type": "code",
   "execution_count": null,
   "id": "5d189752",
   "metadata": {
    "scrolled": true
   },
   "outputs": [],
   "source": [
    "# Analisar variáveis que mais afetam o modelo\n",
    "importances = model_XGB.feature_importances_\n",
    "\n",
    "# Classifique as importâncias das características\n",
    "indices_ordenados = np.argsort(importances)[::-1]\n",
    "\n",
    "print(importances)"
   ]
  },
  {
   "cell_type": "code",
   "execution_count": null,
   "id": "ebd5e713",
   "metadata": {
    "scrolled": true
   },
   "outputs": [],
   "source": [
    "# Analisar como uma variável afeta as previsões\n",
    "features_to_plot = [['Covariate1', 'Covariate2']]\n",
    "\n",
    "# Crie PDPs para as variáveis escolhidas\n",
    "plot_partial_dependence(model_XGB, X_treino, features=features_to_plot)\n",
    "plt.show()"
   ]
  },
  {
   "cell_type": "code",
   "execution_count": null,
   "id": "63ffa90b",
   "metadata": {
    "scrolled": true
   },
   "outputs": [],
   "source": [
    "# Crie um objeto explainer\n",
    "explainer = shap.Explainer(model_XGB, X_treino)\n",
    "\n",
    "# Calcule os valores Shapley para um exemplo de dado específico\n",
    "shap_values = explainer.shap_values(X_teste)\n",
    "\n",
    "# Visualize os valores Shapley\n",
    "shap.summary_plot(shap_values, X_teste)"
   ]
  },
  {
   "cell_type": "markdown",
   "id": "9854cec8",
   "metadata": {},
   "source": [
    "# Aprimoramento de Parâmetros"
   ]
  },
  {
   "cell_type": "markdown",
   "id": "84cbe274",
   "metadata": {},
   "source": [
    "## Tuning"
   ]
  },
  {
   "cell_type": "code",
   "execution_count": null,
   "id": "8a7a6963",
   "metadata": {
    "scrolled": true
   },
   "outputs": [],
   "source": [
    "# Exemplo de Tuning\n",
    "param_grid = {\n",
    "    'n_estimators': [10, 20, 30],           # Número de árvores na floresta\n",
    "    'max_depth': [None, 10, 20, 30],        # Profundidade máxima das árvores\n",
    "    'min_samples_split': [2, 5, 10],        # Número mínimo de amostras necessárias para dividir um nó\n",
    "    'min_samples_leaf': [1, 2, 4],          # Número mínimo de amostras em uma folha\n",
    "    'max_features': ['auto', 'sqrt']        # Número máximo de recursos a serem considerados em cada divisão\n",
    "}\n",
    "\n",
    "grid_search = GridSearchCV(estimator=model_XGB, param_grid=param_grid, cv=5)\n",
    "\n",
    "grid_search.fit(X_treino, Y_treino)\n",
    "\n",
    "best_params = grid_search.best_params_\n",
    "best_estimator = grid_search.best_estimator_"
   ]
  },
  {
   "cell_type": "code",
   "execution_count": null,
   "id": "93ce91df",
   "metadata": {
    "scrolled": true
   },
   "outputs": [],
   "source": [
    "# Ajustar um modelo de RandomForestRegressor\n",
    "model_XGB.fit(X_treino, Y_treino)\n",
    "\n",
    "# Configure o modelo com os melhores parâmetros\n",
    "model_XGB.set_params(**best_params)"
   ]
  },
  {
   "cell_type": "code",
   "execution_count": null,
   "id": "66a9cc7f",
   "metadata": {
    "scrolled": true
   },
   "outputs": [],
   "source": [
    "# Avaliação do desempenho do modelo usando as métricas de erro quadrático médio (RMSE) e o coeficiente de determinação (R2).\n",
    "Y_pred = model_XGB.predict(X_teste)\n",
    "\n",
    "acuracia = accuracy_score(Y_teste, Y_pred)\n",
    "relatorio_classificacao = classification_report(Y_teste, Y_pred)\n",
    "    \n",
    "print(f\"Desempenho para Extreme Gradient Boosting:\")\n",
    "print(f'Acurácia: {acuracia:.2f}')\n",
    "print('Relatório de Classificação:')\n",
    "print(relatorio_classificacao)"
   ]
  },
  {
   "cell_type": "markdown",
   "id": "8fcf1e59",
   "metadata": {},
   "source": [
    "## Redução de Dimensão"
   ]
  },
  {
   "cell_type": "code",
   "execution_count": null,
   "id": "e2033b6a",
   "metadata": {
    "scrolled": true
   },
   "outputs": [],
   "source": [
    "# Selecione um número específico de características mais importantes\n",
    "num_caracteristicas_selecionadas = 3  # Por exemplo, selecione as 3 mais importantes\n",
    "\n",
    "X_treino_selecionado = X_treino[:, indices_ordenados[:num_caracteristicas_selecionadas]]\n",
    "X_teste_selecionado = X_teste[:, indices_ordenados[:num_caracteristicas_selecionadas]]\n",
    "\n",
    "# Em seguida, treine seu modelo no conjunto de dados com características selecionadas\n",
    "model_XGB.fit(X_treino_selecionado, Y_treino)"
   ]
  },
  {
   "cell_type": "code",
   "execution_count": null,
   "id": "563f0f98",
   "metadata": {
    "scrolled": true
   },
   "outputs": [],
   "source": [
    "# Avaliação do desempenho do modelo usando as métricas de erro quadrático médio (RMSE) e o coeficiente de determinação (R2).\n",
    "Y_pred = model_XGB.predict(X_teste)\n",
    "\n",
    "acuracia = accuracy_score(Y_teste, Y_pred)\n",
    "relatorio_classificacao = classification_report(Y_teste, Y_pred)\n",
    "    \n",
    "print(f\"Desempenho para Extreme Gradient Boosting:\")\n",
    "print(f'Acurácia: {acuracia:.2f}')\n",
    "print('Relatório de Classificação:')\n",
    "print(relatorio_classificacao)"
   ]
  },
  {
   "cell_type": "markdown",
   "id": "6f760345",
   "metadata": {},
   "source": [
    "# Predição"
   ]
  },
  {
   "cell_type": "code",
   "execution_count": null,
   "id": "c03415bd",
   "metadata": {
    "scrolled": true
   },
   "outputs": [],
   "source": [
    "# Valor único para fazer a previsão\n",
    "X_prev = np.array([6]).reshape(-1, 1) # Colocar os valores pedidos\n",
    "\n",
    "# Faça a previsão\n",
    "previsao = modelo_carregado.predict(X_prev)\n",
    "\n",
    "# Imprima a previsão\n",
    "print(f'A previsão para X_prev é: {previsao[0]:.2f}')"
   ]
  }
 ],
 "metadata": {
  "kernelspec": {
   "display_name": "Python 3 (ipykernel)",
   "language": "python",
   "name": "python3"
  },
  "language_info": {
   "codemirror_mode": {
    "name": "ipython",
    "version": 3
   },
   "file_extension": ".py",
   "mimetype": "text/x-python",
   "name": "python",
   "nbconvert_exporter": "python",
   "pygments_lexer": "ipython3",
   "version": "3.9.7"
  }
 },
 "nbformat": 4,
 "nbformat_minor": 5
}

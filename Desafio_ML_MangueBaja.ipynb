{
 "cells": [
  {
   "cell_type": "code",
   "execution_count": null,
   "id": "740a0c9e-634b-494f-b7a9-d4e6bbd56249",
   "metadata": {},
   "outputs": [],
   "source": [
    "import shap\n",
    "import numpy as np\n",
    "import pandas as pd\n",
    "import seaborn as sns\n",
    "from matplotlib import pyplot as plt\n",
    "import joblib\n",
    "from openpyxl import load_workbook"
   ]
  },
  {
   "cell_type": "code",
   "execution_count": null,
   "id": "4b15479d",
   "metadata": {},
   "outputs": [],
   "source": [
    "# Bibliotecas dos Modelos Utilizados\n",
    "from sklearn.tree import DecisionTreeClassifier      # Árvore de Decisões de Classificação.\n",
    "from sklearn.ensemble import RandomForestClassifier  # Floresta Aleatória.\n",
    "from xgboost import XGBClassifier                    # Extreme Gradient Boosting."
   ]
  },
  {
   "cell_type": "code",
   "execution_count": null,
   "id": "b0e9571a",
   "metadata": {},
   "outputs": [],
   "source": [
    "# Análise de Dados\n",
    "from sklearn.decomposition import PCA\n",
    "\n",
    "# Treinamento\n",
    "from sklearn.model_selection import train_test_split\n",
    "from sklearn.metrics import accuracy_score, classification_report\n",
    "\n",
    "# Avalição\n",
    "from sklearn.model_selection import KFold, cross_val_score, cross_val_predict\n",
    "from sklearn.inspection import plot_partial_dependence\n",
    "from sklearn.metrics import precision_recall_curve, confusion_matrix, roc_curve, auc, roc_auc_score, accuracy_score, precision_score, recall_score, classification_report\n",
    "from sklearn.preprocessing import label_binarize\n",
    "\n",
    "# Tuning\n",
    "from sklearn.model_selection import GridSearchCV"
   ]
  },
  {
   "cell_type": "markdown",
   "id": "8c69ece5",
   "metadata": {},
   "source": [
    "# Análise de Dados"
   ]
  },
  {
   "cell_type": "code",
   "execution_count": null,
   "id": "a741b4b4",
   "metadata": {},
   "outputs": [],
   "source": [
    "# Carregar o DataFrame a partir de um arquivo Excel\n",
    "caminho_arquivo_excel = 'C:\\\\Users\\\\Andre\\\\Desktop\\\\Julia\\\\Mangue_Baja\\\\DESAFIO TÉCNICO\\\\anonymizedData.xlsx'\n",
    "nome_da_pagina = 'P_Manobrabilidade'  # Nome da página desejada\n",
    "\n",
    "# Lê o arquivo Excel com todas as páginas/sheets\n",
    "xl = pd.ExcelFile(caminho_arquivo_excel)\n",
    "\n",
    "df = xl.parse(nome_da_pagina)\n",
    "\n",
    "# Vê dados \n",
    "df.head()"
   ]
  },
  {
   "cell_type": "code",
   "execution_count": null,
   "id": "2f6b20a5",
   "metadata": {},
   "outputs": [],
   "source": [
    "# Remove as colunas que não trazem dados relevantes as provas\n",
    "colunas_a_remover = [\n",
    "    'SD_Curso Positivo de projeto',\n",
    "    'SD_Curso Negativo de projeto',\n",
    "    'SD_Dimensoes dos pneus',\n",
    "    'ST_Curso Positivo de projeto',\n",
    "    'ST_Curso Negativo de projeto',\n",
    "    'ST_Dimensoes dos pneus',\n",
    "    'FD_Pressao no sistema a 07g ',\n",
    "    'FD_Forca no pedal a 07g ',\n",
    "    'FD_Curso total do pedal ',\n",
    "    'FD_Diametro do disco ',\n",
    "    'FT_Pressao no sistema a 07g ',\n",
    "    'FT_Diametro do disco ',\n",
    "    'MT_Potência maxima do motor',\n",
    "    'MT_Torque maximo do motor',\n",
    "    'MT_Relacao total_max',\n",
    "    'MT_Relacao total_min',\n",
    "    'CD_Distancia de frenagem de 35 a 0 em asfalto',\n",
    "    'CD_Distancia de frenagem de 35 a 0 em terra batida',\n",
    "    'CD_Velocidade maxima de 0 a 100 metros em asfalto ',\n",
    "    'CD_Tempo para atingir velocidade maxima em asfalto', \n",
    "]\n",
    "\n",
    "# Remove as colunas especificadas\n",
    "df = df.drop(colunas_a_remover, axis=1)"
   ]
  },
  {
   "cell_type": "code",
   "execution_count": null,
   "id": "f9e8154d-e126-4caf-a2b0-25307fa17407",
   "metadata": {},
   "outputs": [],
   "source": [
    "# Informação básica\n",
    "df.info()"
   ]
  },
  {
   "cell_type": "code",
   "execution_count": null,
   "id": "b999b48d",
   "metadata": {},
   "outputs": [],
   "source": [
    "# Descrição de dados\n",
    "df.describe()"
   ]
  },
  {
   "cell_type": "code",
   "execution_count": null,
   "id": "4413251d",
   "metadata": {},
   "outputs": [],
   "source": [
    "# Inicialize um dicionário para armazenar o número de zeros em cada coluna\n",
    "contagem_zeros = {}\n",
    "\n",
    "# Loop através de todas as colunas\n",
    "for coluna in df.columns:\n",
    "    # Use a função sum() para contar a quantidade de zeros (0) na coluna\n",
    "    zeros_na_coluna = (df[coluna] == 0).sum()\n",
    "    \n",
    "    # Armazene o resultado no dicionário\n",
    "    contagem_zeros[coluna] = zeros_na_coluna\n",
    "\n",
    "# Exiba a contagem de zeros em cada coluna\n",
    "for coluna, zeros in contagem_zeros.items():\n",
    "    print(f\"'{coluna}' tem {zeros}.\") "
   ]
  },
  {
   "cell_type": "markdown",
   "id": "b553b54c",
   "metadata": {},
   "source": [
    "## Limpeza"
   ]
  },
  {
   "cell_type": "code",
   "execution_count": null,
   "id": "e74ba481",
   "metadata": {},
   "outputs": [],
   "source": [
    "# Limpar o Dataset das colunas com muitos valores nulos\n",
    "\n",
    "limite_nulos = 850 # Define o limite de valores nulos permitidos\n",
    "\n",
    "# Remove as colunas com mais de limite_nulos valores nulos\n",
    "df = df.dropna(thresh=len(df) - limite_nulos, axis=1)\n",
    "\n",
    "# Checar \n",
    "df.isnull().sum()"
   ]
  },
  {
   "cell_type": "code",
   "execution_count": null,
   "id": "84d71f7d",
   "metadata": {},
   "outputs": [],
   "source": [
    "# Verifique quais linhas têm mais de 8 valores iguais nulos\n",
    "linhas_quase_nulas = df[df.isnull().sum(axis=1) > 8]\n",
    "\n",
    "# Exiba as linhas que atendem à condição\n",
    "print(linhas_quase_nulas.index)\n",
    "\n",
    "# Exclua as linhas com base nos índices coletados\n",
    "df = df.drop(linhas_quase_nulas.index)\n",
    "\n",
    "# Exiba o DataFrame resultante\n",
    "print(df)"
   ]
  },
  {
   "cell_type": "code",
   "execution_count": null,
   "id": "906cdfae",
   "metadata": {},
   "outputs": [],
   "source": [
    "# Mapeie os valores existentes para os novos valores\n",
    "mapeamento = {1: 0, 2: 1, 3: 2, 4: 3, 5: 4}\n",
    "\n",
    "# Use a função 'replace' para fazer a substituição\n",
    "df['P_Manobrabilidade'] = df['P_Manobrabilidade'].replace(mapeamento)\n",
    "\n",
    "print(df['P_Manobrabilidade'])"
   ]
  },
  {
   "cell_type": "code",
   "execution_count": null,
   "id": "eeff6d86",
   "metadata": {},
   "outputs": [],
   "source": [
    "# Especifique o caminho para o arquivo Excel\n",
    "caminho_arquivo = \"C:\\\\Users\\\\Andre\\\\Desktop\\\\Julia\\\\Mangue_Baja\\\\DESAFIO TÉCNICO\\\\Arquivo_Processado.xlsx\"\n",
    "\n",
    "# Salvar o DataFrame na planilha 'P_Aceleration'\n",
    "df.to_excel(caminho_arquivo, sheet_name='P_Aceleration', index=False)"
   ]
  },
  {
   "cell_type": "code",
   "execution_count": null,
   "id": "2560af82",
   "metadata": {},
   "outputs": [],
   "source": [
    "# Boxplots por Classes\n",
    "for coluna in df.columns:\n",
    "    if coluna != 'P_Manobrabilidade':  # Excluindo a coluna de classe das análises\n",
    "        plt.figure(figsize=(8, 6))\n",
    "        sns.boxplot(x='P_Manobrabilidade', y=coluna, data=df)\n",
    "        plt.title(f'Boxplot da {coluna} por P_Manobrabilidade')\n",
    "        plt.ylabel(coluna)\n",
    "        plt.xlabel('P_Manobrabilidade')\n",
    "        plt.show()"
   ]
  },
  {
   "cell_type": "code",
   "execution_count": null,
   "id": "75410781",
   "metadata": {},
   "outputs": [],
   "source": [
    "# Tratar Outliers e valores nulos\n",
    "colunas_a_tratar = df.columns.difference(['P_Manobrabilidade']) # Lista das colunas a serem tratadas \n",
    "\n",
    "\n",
    "# Lista das classes únicas na coluna 'Classe'\n",
    "classes_unicas = df['P_Manobrabilidade'].unique()\n",
    "\n",
    "# Função para tratar uma coluna específica em uma classe\n",
    "def tratar_coluna_para_classe(data, classe, coluna):\n",
    "    dados_classe = data[data['P_Manobrabilidade'] == classe]\n",
    "    \n",
    "    # Calcula a mediana dos valores não nulos da coluna para esta classe\n",
    "    mediana = dados_classe[coluna].median()\n",
    "    \n",
    "    # Calcula o desvio padrão dos valores não nulos da coluna para esta classe\n",
    "    desvio_padrao = dados_classe[coluna].std()\n",
    "    \n",
    "    # Define o limite superior e inferior com base no desvio padrão\n",
    "    limite_superior = mediana + (2 * desvio_padrao)\n",
    "    limite_inferior = mediana - (2 * desvio_padrao)\n",
    "    \n",
    "    # Substitui os valores que são nulos ou estão fora do limite pelo valor da mediana\n",
    "    dados_classe[coluna] = dados_classe[coluna].apply(lambda x: mediana if pd.isna(x) or x > limite_superior or x < limite_inferior else x)\n",
    "    \n",
    "    return dados_classe\n",
    "\n",
    "# Loop para tratar todas as colunas para cada classe\n",
    "dados_tratados = []\n",
    "for classe in classes_unicas:\n",
    "    dados_classe = df[df['P_Manobrabilidade'] == classe].copy()  # Crie uma cópia dos dados da classe\n",
    "    for coluna in colunas_a_tratar:\n",
    "        dados_classe = tratar_coluna_para_classe(dados_classe, classe, coluna)\n",
    "    dados_tratados.append(dados_classe)\n",
    "\n",
    "# Concatena os dados tratados de volta em um único DataFrame\n",
    "df_tratado = pd.concat(dados_tratados)\n",
    "\n",
    "#print(df)"
   ]
  },
  {
   "cell_type": "code",
   "execution_count": null,
   "id": "800798d3",
   "metadata": {},
   "outputs": [],
   "source": [
    "# Boxplots por Classes\n",
    "for coluna in df_tratado.columns:\n",
    "    if coluna != 'P_Manobrabilidade':  # Excluindo a coluna de classe das análises\n",
    "        plt.figure(figsize=(8, 6))\n",
    "        sns.boxplot(x='P_Manobrabilidade', y=coluna, data=df_tratado)\n",
    "        plt.title(f'Boxplot da {coluna} por P_Manobrabilidade')\n",
    "        plt.ylabel(coluna)\n",
    "        plt.xlabel('P_Manobrabilidade')\n",
    "        plt.show()"
   ]
  },
  {
   "cell_type": "code",
   "execution_count": null,
   "id": "0b2157ee",
   "metadata": {},
   "outputs": [],
   "source": [
    "df = df_tratado"
   ]
  },
  {
   "cell_type": "code",
   "execution_count": null,
   "id": "b0a07932",
   "metadata": {},
   "outputs": [],
   "source": [
    "# Especifique o caminho para o arquivo Excel\n",
    "caminho_arquivo = \"C:\\\\Users\\\\Andre\\\\Desktop\\\\Julia\\\\Mangue_Baja\\\\DESAFIO TÉCNICO\\\\Arquivo_Processado_semO.xlsx\"\n",
    "\n",
    "# Carregar o arquivo Excel existente\n",
    "book = load_workbook(caminho_arquivo)\n",
    "\n",
    "# Adicionar o DataFrame como um novo sheet\n",
    "with pd.ExcelWriter(caminho_arquivo, engine='openpyxl', mode='a') as writer:\n",
    "    writer.book = book\n",
    "    novo_dataframe.to_excel(writer, sheet_name='P_Velocidade', index=False)"
   ]
  },
  {
   "cell_type": "markdown",
   "id": "a4eb5c81",
   "metadata": {},
   "source": [
    "## Análise de Variáveis"
   ]
  },
  {
   "cell_type": "code",
   "execution_count": null,
   "id": "9d147f96",
   "metadata": {},
   "outputs": [],
   "source": [
    "data_corr = df.drop(['P_Manobrabilidade'], axis=1)\n",
    "# Análise de correlação dos parâmetros\n",
    "correlation = df.corr()"
   ]
  },
  {
   "cell_type": "code",
   "execution_count": null,
   "id": "19d54352",
   "metadata": {},
   "outputs": [],
   "source": [
    "# Plot da matriz de correlação\n",
    "plt.figure(figsize=(10, 8))\n",
    "\n",
    "plot = sns.heatmap(correlation, annot = True, fmt=\".1f\", linewidths=0.5)\n",
    "plt.show()"
   ]
  },
  {
   "cell_type": "code",
   "execution_count": null,
   "id": "34f0ff76",
   "metadata": {},
   "outputs": [],
   "source": [
    "# Aplicar PCA para reduzir variáveis de alta correlação - Massa\n",
    "variaveis_reduzidas = df[['MV_Eixo dianteiro', 'MV_Eixo Traseiro']]\n",
    "\n",
    "pca = PCA(n_components=1)\n",
    "variavel_reduzida = pca.fit_transform(variaveis_reduzidas)\n",
    "\n",
    "# Remove as colunas reduzidas\n",
    "colunas_a_remover = [\n",
    "    'MV_Eixo dianteiro',\n",
    "    'MV_Eixo Traseiro',\n",
    "]\n",
    "\n",
    "df = df.drop(colunas_a_remover, axis=1)\n",
    "\n",
    "# Escolha a posição (índice) onde deseja inserir a nova coluna\n",
    "posicao_desejada = 5\n",
    "\n",
    "# Insira a nova coluna no DataFrame na posição desejada\n",
    "df.insert(posicao_desejada, 'Massa', variavel_reduzida)\n",
    "\n",
    "print(df)"
   ]
  },
  {
   "cell_type": "code",
   "execution_count": null,
   "id": "de5e1fcd",
   "metadata": {},
   "outputs": [],
   "source": [
    "# Dividir o conjunto de dados em treinamento e teste\n",
    "dados_treino, dados_teste = train_test_split(df, test_size=0.3)\n",
    "\n",
    "# Separar X e Y\n",
    "X = df.iloc[:, :-1]\n",
    "Y = df.iloc[:, -1]\n",
    "\n",
    "X_treino = dados_treino.iloc[:, :-1]\n",
    "Y_treino = dados_treino.iloc[:, -1]\n",
    "\n",
    "X_teste = dados_teste.iloc[:, :-1]\n",
    "Y_teste = dados_teste.iloc[:, -1]\n",
    "\n",
    "print(dados_teste)"
   ]
  },
  {
   "cell_type": "markdown",
   "id": "6ec742fb",
   "metadata": {},
   "source": [
    "# Pré-seleção do Modelo"
   ]
  },
  {
   "cell_type": "markdown",
   "id": "9ccc13df",
   "metadata": {},
   "source": [
    "## Decision Tree Classifier"
   ]
  },
  {
   "cell_type": "code",
   "execution_count": null,
   "id": "7f4b40e0",
   "metadata": {},
   "outputs": [],
   "source": [
    "# Modelo de Árvore de Decisão de Classificação.\n",
    "model_DTC = DecisionTreeClassifier()\n",
    "model_DTC.fit(X_treino, Y_treino)"
   ]
  },
  {
   "cell_type": "code",
   "execution_count": null,
   "id": "c5a4658a",
   "metadata": {},
   "outputs": [],
   "source": [
    "# Avaliação do desempenho do modelo usando as métricas de erro quadrático médio (RMSE) e o coeficiente de determinação (R2).\n",
    "Y_pred = model_DTC.predict(X_teste)\n",
    "\n",
    "acuracia = accuracy_score(Y_teste, Y_pred)\n",
    "relatorio_classificacao = classification_report(Y_teste, Y_pred)\n",
    "    \n",
    "print(f\"Desempenho para Árvore de Decisão de Classificação:\")\n",
    "print(f'Acurácia: {acuracia:.2f}')\n",
    "print('Relatório de Classificação:')\n",
    "print(relatorio_classificacao)"
   ]
  },
  {
   "cell_type": "code",
   "execution_count": null,
   "id": "a6d48304",
   "metadata": {},
   "outputs": [],
   "source": [
    "# Supondo que Y_teste é um array de rótulos multiclasse\n",
    "# E Y_pred é a saída do modelo\n",
    "\n",
    "# Binarize as saídas e rótulos\n",
    "Y_teste_bin = label_binarize(Y_teste, classes=list(range(5)))\n",
    "Y_pred_bin = label_binarize(Y_pred, classes=list(range(5)))\n",
    "\n",
    "# Calcule a AUC para cada classe\n",
    "auc_scores = []\n",
    "for i in range(5):\n",
    "    auc_score_i = roc_auc_score(Y_teste_bin[:, i], Y_pred_bin[:, i])\n",
    "    auc_scores.append(auc_score_i)\n",
    "\n",
    "# Calcule a média do AUC\n",
    "media_auc = sum(auc_scores) / len(auc_scores)\n",
    "\n",
    "print(f'Média do AUC: {media_auc:.4f}')"
   ]
  },
  {
   "cell_type": "markdown",
   "id": "eda417dd",
   "metadata": {},
   "source": [
    "## Random Forest Classifier"
   ]
  },
  {
   "cell_type": "code",
   "execution_count": null,
   "id": "bcd0c505",
   "metadata": {},
   "outputs": [],
   "source": [
    "# Modelo de Regressão de Floresta Aleatória.\n",
    "model_RFC = RandomForestClassifier()\n",
    "model_RFC.fit(X_treino, Y_treino)"
   ]
  },
  {
   "cell_type": "code",
   "execution_count": null,
   "id": "43ed6de8",
   "metadata": {},
   "outputs": [],
   "source": [
    "# Avaliação do desempenho do modelo.\n",
    "Y_pred = model_RFC.predict(X_teste)\n",
    "\n",
    "acuracia = accuracy_score(Y_teste, Y_pred)\n",
    "relatorio_classificacao = classification_report(Y_teste, Y_pred)\n",
    "    \n",
    "print(f\"Desempenho para Regressão de Floresta Aleatória:\")\n",
    "print(f'Acurácia: {acuracia:.2f}')\n",
    "print('Relatório de Classificação:')\n",
    "print(relatorio_classificacao)"
   ]
  },
  {
   "cell_type": "code",
   "execution_count": null,
   "id": "66da8ceb",
   "metadata": {},
   "outputs": [],
   "source": [
    "# Supondo que Y_teste é um array de rótulos multiclasse\n",
    "# E Y_pred é a saída do modelo\n",
    "\n",
    "# Binarize as saídas e rótulos\n",
    "Y_teste_bin = label_binarize(Y_teste, classes=list(range(5)))\n",
    "Y_pred_bin = label_binarize(Y_pred, classes=list(range(5)))\n",
    "\n",
    "# Calcule a AUC para cada classe\n",
    "auc_scores = []\n",
    "for i in range(5):\n",
    "    auc_score_i = roc_auc_score(Y_teste_bin[:, i], Y_pred_bin[:, i])\n",
    "    auc_scores.append(auc_score_i)\n",
    "\n",
    "# Calcule a média do AUC\n",
    "media_auc = sum(auc_scores) / len(auc_scores)\n",
    "\n",
    "print(f'Média do AUC: {media_auc:.4f}')"
   ]
  },
  {
   "cell_type": "markdown",
   "id": "d20c5a1a",
   "metadata": {},
   "source": [
    "## XGBoost"
   ]
  },
  {
   "cell_type": "code",
   "execution_count": null,
   "id": "043ca87d",
   "metadata": {},
   "outputs": [],
   "source": [
    "# Modelo de Extreme Gradient Boosting.\n",
    "model_XGB = XGBClassifier()\n",
    "model_XGB.fit(X_treinamento, y_treinamento)"
   ]
  },
  {
   "cell_type": "code",
   "execution_count": null,
   "id": "d5a9dbf6",
   "metadata": {},
   "outputs": [],
   "source": [
    "# Avaliação do desempenho do modelo usando as métricas de erro quadrático médio (RMSE) e o coeficiente de determinação (R2).\n",
    "Y_pred = model_XGB.predict(X_teste)\n",
    "\n",
    "acuracia = accuracy_score(Y_teste, Y_pred)\n",
    "relatorio_classificacao = classification_report(Y_teste, Y_pred)\n",
    "    \n",
    "print(f\"Desempenho para Extreme Gradient Boosting:\")\n",
    "print(f'Acurácia: {acuracia:.2f}')\n",
    "print('Relatório de Classificação:')\n",
    "print(relatorio_classificacao)"
   ]
  },
  {
   "cell_type": "code",
   "execution_count": null,
   "id": "1c005554",
   "metadata": {},
   "outputs": [],
   "source": [
    "# Supondo que Y_teste é um array de rótulos multiclasse\n",
    "# E Y_pred é a saída do modelo\n",
    "\n",
    "# Binarize as saídas e rótulos\n",
    "Y_teste_bin = label_binarize(Y_teste, classes=list(range(5)))\n",
    "Y_pred_bin = label_binarize(Y_pred, classes=list(range(5)))\n",
    "\n",
    "# Calcule a AUC para cada classe\n",
    "auc_scores = []\n",
    "for i in range(5):\n",
    "    auc_score_i = roc_auc_score(Y_teste_bin[:, i], Y_pred_bin[:, i])\n",
    "    auc_scores.append(auc_score_i)\n",
    "\n",
    "# Calcule a média do AUC\n",
    "media_auc = sum(auc_scores) / len(auc_scores)\n",
    "\n",
    "print(f'Média do AUC: {media_auc:.4f}')"
   ]
  },
  {
   "cell_type": "markdown",
   "id": "2c2755bc",
   "metadata": {},
   "source": [
    "# Treinamento do Modelo"
   ]
  },
  {
   "cell_type": "markdown",
   "id": "3bdaf487",
   "metadata": {},
   "source": [
    "## Bootstraps"
   ]
  },
  {
   "cell_type": "code",
   "execution_count": null,
   "id": "9ea575e3",
   "metadata": {},
   "outputs": [],
   "source": [
    "n_iterations = 100  # Número de iterações do Bootstrap\n",
    "\n",
    "# Lista para armazenar as métricas de desempenho em cada iteração\n",
    "performance_metrics = []\n",
    "\n",
    "for _ in range(n_iterations):\n",
    "    # Amostragem Bootstrap: crie um conjunto de treinamento com reamostragem\n",
    "    indices_amostra = np.random.choice(len(X_treino), size=len(X_treino), replace=True)\n",
    "    X_bootstrap = X_treino[indices_amostra]\n",
    "    y_bootstrap = Y_treino[indices_amostra]\n",
    "\n",
    "    # Crie e treine seu modelo\n",
    "    model_XGB.fit(X_bootstrap, y_bootstrap)\n",
    "\n",
    "    # Avalie o modelo no conjunto de teste\n",
    "    desempenho = model_XGB.score(X_teste, Y_teste)  # Use a métrica apropriada para o seu problema\n",
    "    performance_metrics.append(desempenho)"
   ]
  },
  {
   "cell_type": "code",
   "execution_count": null,
   "id": "1b1e60b6",
   "metadata": {},
   "outputs": [],
   "source": [
    "# Calcule as métricas resumidas (por exemplo, média e desvio padrão)\n",
    "media_desempenho = np.mean(performance_metrics)\n",
    "desvio_padrao_desempenho = np.std(performance_metrics)\n",
    "\n",
    "# Imprima as métricas resumidas\n",
    "print(f'Média do desempenho: {media_desempenho:.4f}')\n",
    "print(f'Desvio Padrão do desempenho: {desvio_padrao_desempenho:.4f}')"
   ]
  },
  {
   "cell_type": "markdown",
   "id": "3e3017c1",
   "metadata": {},
   "source": [
    "# Avaliação do Modelo"
   ]
  },
  {
   "cell_type": "markdown",
   "id": "0dac3811",
   "metadata": {},
   "source": [
    "## Cross-Validation"
   ]
  },
  {
   "cell_type": "code",
   "execution_count": null,
   "id": "91201032",
   "metadata": {},
   "outputs": [],
   "source": [
    "# Número de classes\n",
    "n_classes = 5\n",
    "\n",
    "kfold = KFold(n_splits=5, shuffle=True, random_state=42)\n",
    "#kfold = StratifiedKFold(n_splits = 5, shuffle = True) # Caso uma classe prevaleça muita em função da outra"
   ]
  },
  {
   "cell_type": "code",
   "execution_count": null,
   "id": "6dff749b",
   "metadata": {},
   "outputs": [],
   "source": [
    "# Calcule a média das pontuações para avaliação de Acurácia do modelo\n",
    "def intervalo(results):\n",
    "    mean = results.mean()\n",
    "    dv = results.std()\n",
    "    print('Acurácia média: {:.2f}%'.format(mean * 100))\n",
    "    print('Intervalo de acurácia: [{:.2f}% ~ {:.2f}%]'.format((mean - 2 * dv) * 100, (mean + 2 * dv) * 100))\n",
    "\n",
    "scores = cross_val_score(model_XGB, X_treino, Y_treino, cv=kfold, scoring='accuracy') # Checar Modelo\n",
    "intervalo(scores)"
   ]
  },
  {
   "cell_type": "code",
   "execution_count": null,
   "id": "6ea56f70",
   "metadata": {},
   "outputs": [],
   "source": [
    "# Calcule a média das pontuações para avaliação de Precisão do modelo\n",
    "def intervalo_prec(results):\n",
    "    mean = results.mean()\n",
    "    dv = results.std()\n",
    "    print('Precisão média: {:.2f}%'.format(mean * 100))\n",
    "    print('Intervalo de Precisão: [{:.2f}% ~ {:.2f}%]'.format((mean - 2 * dv) * 100, (mean + 2 * dv) * 100))\n",
    "\n",
    "scores = cross_val_score(model_XGB, X_treino, Y_treino, cv=kfold, scoring='precision_macro') # Checar Modelo\n",
    "intervalo_prec(scores)"
   ]
  },
  {
   "cell_type": "code",
   "execution_count": null,
   "id": "dcd27d3e",
   "metadata": {},
   "outputs": [],
   "source": [
    "# Calcule a média das pontuações para avaliação de Recall do modelo\n",
    "def intervalo_recall(results):\n",
    "    mean = results.mean()\n",
    "    dv = results.std()\n",
    "    print('Recall médio: {:.2f}%'.format(mean * 100))\n",
    "    print('Intervalo de Recall: [{:.2f}% ~ {:.2f}%]'.format((mean - 2 * dv) * 100, (mean + 2 * dv) * 100))\n",
    "\n",
    "scores = cross_val_score(model_XGB, X_treino, Y_treino, cv=kfold, scoring='recall_macro') # Checar Modelo\n",
    "intervalo_recall(scores)"
   ]
  },
  {
   "cell_type": "code",
   "execution_count": null,
   "id": "cfff3831",
   "metadata": {},
   "outputs": [],
   "source": [
    "# Comparar scores de Previsão e Recall\n",
    "# Converta Y_treino para uma matriz binária de classes\n",
    "Y_bin = label_binarize(Y_treino, classes=list(range(5)))\n",
    "\n",
    "# Obter as probabilidades em vez das previsões\n",
    "y_scores = cross_val_predict(model_XGB, X_treino, Y_treino, cv=kfold, method='predict_proba')\n",
    "\n",
    "# Calcula as curvas de precisão e recall para cada classe\n",
    "precisions = dict()\n",
    "recalls = dict()\n",
    "for i in range(5):\n",
    "    precision, recall, _ = precision_recall_curve(Y_bin[:, i], y_scores[:, i])\n",
    "    precisions[i] = precision\n",
    "    recalls[i] = recall\n",
    "\n",
    "# Plote as curvas de precisão e recall para cada classe\n",
    "fig, ax = plt.subplots(figsize=(12, 3))\n",
    "colors = ['b', 'g', 'r', 'c', 'm']\n",
    "for i, color in zip(range(5), colors):\n",
    "    plt.plot(recalls[i], precisions[i], color, lw=2, label='Classe {}'.format(i))\n",
    "\n",
    "plt.xlabel('Recall')\n",
    "plt.ylabel('Precisão')\n",
    "plt.legend(loc='center')\n",
    "plt.title('Curvas de Precisão x Recall para Classes', fontsize=14)\n",
    "plt.show()"
   ]
  },
  {
   "cell_type": "code",
   "execution_count": null,
   "id": "bdbc48e8",
   "metadata": {},
   "outputs": [],
   "source": [
    "# Matriz de Confusão\n",
    "Y_pred = cross_val_predict(model_XGB, X_treino, Y_treino, cv=kfold) # Checar Modelo\n",
    "\n",
    "fig, ax = plt.subplots()\n",
    "sns.heatmap(confusion_matrix(Y_treino, Y_pred), annot=True, ax=ax, fmt='d', cmap='Reds', cbar=False, square=True)\n",
    "ax.set_title(\"Matriz de Confusão\", fontsize=18)\n",
    "ax.set_ylabel(\"True label\")\n",
    "ax.set_xlabel(\"Predicted Label\")\n",
    "plt.tight_layout()"
   ]
  },
  {
   "cell_type": "code",
   "execution_count": null,
   "id": "d1470dc0",
   "metadata": {},
   "outputs": [],
   "source": [
    "# Relatório do modelo\n",
    "print('Relatório de classificação:\\n', classification_report(Y_treino, Y_pred, digits=4))"
   ]
  },
  {
   "cell_type": "code",
   "execution_count": null,
   "id": "74539aab",
   "metadata": {},
   "outputs": [],
   "source": [
    "# Receiver operating characteristic — ROC\n",
    "\n",
    "# Converta Y_treino para uma matriz binária de classes\n",
    "Y_bin = label_binarize(Y_treino, classes=list(range(5)))\n",
    "\n",
    "# Calcula as curvas ROC para cada classe\n",
    "fpr = dict()\n",
    "tpr = dict()\n",
    "roc_auc = dict()\n",
    "for i in range(5):\n",
    "    fpr[i], tpr[i], _ = roc_curve(Y_bin[:, i], y_scores[:, i])\n",
    "    roc_auc[i] = auc(fpr[i], tpr[i])\n",
    "\n",
    "# Plote as curvas ROC para cada classe\n",
    "fig, ax = plt.subplots(figsize=(12, 4))\n",
    "colors = ['b', 'g', 'r', 'c', 'm']\n",
    "for i, color in zip(range(5), colors):\n",
    "    plt.plot(fpr[i], tpr[i], color, lw=2, label='Classe {}'.format(i))\n",
    "\n",
    "plt.plot([0, 1], [0, 1], 'k--')\n",
    "plt.xlim([0.0, 1.0])\n",
    "plt.ylim([0.0, 1.05])\n",
    "plt.xlabel('Taxa de Falsos Positivos')\n",
    "plt.ylabel('Taxa de Verdadeiros Positivos')\n",
    "plt.legend(loc='lower right')\n",
    "plt.title('Curvas ROC para Classes', fontsize=14)\n",
    "plt.show()"
   ]
  },
  {
   "cell_type": "code",
   "execution_count": null,
   "id": "6a42ecb9",
   "metadata": {},
   "outputs": [],
   "source": [
    "# Área sob a Curva\n",
    "print('Área sob a curva ROC: {:.4f}'.format(roc_auc_score(Y_treino, y_scores, multi_class='ovr', average='macro')))"
   ]
  },
  {
   "cell_type": "code",
   "execution_count": null,
   "id": "8334b100",
   "metadata": {},
   "outputs": [],
   "source": [
    "# Treinamento do modelo \n",
    "# model_XGB.fit(X_treino, Y_treino) # Checar modelo\n",
    "\n",
    "# Fazer previsões no conjunto de teste\n",
    "Y_pred_teste = model_XGB.predict(X_teste)\n",
    "\n",
    "# Acurácia no conjunto de teste\n",
    "accuracy = accuracy_score(Y_teste, Y_pred_teste)\n",
    "print('Acurácia no conjunto de teste: {:.2f}%'.format(accuracy * 100))\n",
    "\n",
    "# Precisão no conjunto de teste\n",
    "precision = precision_score(Y_teste, Y_pred_teste, average='macro')\n",
    "print('Precisão no conjunto de teste: {:.2f}%'.format(precision * 100))\n",
    "\n",
    "# Recall no conjunto de teste\n",
    "recall = recall_score(Y_teste, Y_pred_teste, average='macro')\n",
    "print('Recall no conjunto de teste: {:.2f}%'.format(recall * 100))\n",
    "\n",
    "# Relatório de classificação no conjunto de teste\n",
    "print('Relatório de classificação no conjunto de teste:\\n', classification_report(Y_teste, Y_pred_teste, digits=4))"
   ]
  },
  {
   "cell_type": "markdown",
   "id": "855c4d7a",
   "metadata": {},
   "source": [
    "## Análise de Variáveis "
   ]
  },
  {
   "cell_type": "code",
   "execution_count": null,
   "id": "5d189752",
   "metadata": {},
   "outputs": [],
   "source": [
    "# Analisar variáveis que mais afetam o modelo\n",
    "importances = model_XGB.feature_importances_\n",
    "\n",
    "# Classifique as importâncias das características\n",
    "indices_ordenados = np.argsort(importances)[::-1]\n",
    "\n",
    "print(importances)"
   ]
  },
  {
   "cell_type": "code",
   "execution_count": null,
   "id": "ebd5e713",
   "metadata": {},
   "outputs": [],
   "source": [
    "# Analisar como uma variável afeta as previsões\n",
    "colunas = df.columns[:-1].tolist() # Separar as variáveis\n",
    "\n",
    "plt.figure(figsize=(20, 16))\n",
    "\n",
    "# Crie PDPs para as variáveis escolhidas\n",
    "plot_partial_dependence(model_XGB, X_treino, features=colunas, target=Y_treino.all(), grid_resolution=100)\n",
    "\n",
    "# Obter a figura atual e definir o tamanho\n",
    "fig = plt.gcf()\n",
    "fig.set_size_inches(12, 10)\n",
    "\n",
    "plt.show()"
   ]
  },
  {
   "cell_type": "code",
   "execution_count": null,
   "id": "63ffa90b",
   "metadata": {},
   "outputs": [],
   "source": [
    "# Crie um objeto explainer\n",
    "explainer = shap.Explainer(model_XGB, X_treino)\n",
    "\n",
    "# Calcule os valores Shapley para um exemplo de dado específico\n",
    "shap_values = explainer.shap_values(X_teste)\n",
    "\n",
    "# Visualize os valores Shapley\n",
    "shap.summary_plot(shap_values, X_teste)"
   ]
  },
  {
   "cell_type": "markdown",
   "id": "9854cec8",
   "metadata": {},
   "source": [
    "# Aprimoramento de Parâmetros"
   ]
  },
  {
   "cell_type": "markdown",
   "id": "84cbe274",
   "metadata": {},
   "source": [
    "## Tuning"
   ]
  },
  {
   "cell_type": "code",
   "execution_count": null,
   "id": "8a7a6963",
   "metadata": {},
   "outputs": [],
   "source": [
    "# Exemplo de Tuning\n",
    "param_grid = {\n",
    "    'n_estimators': [100, 200, 300],  # Número de árvores na floresta\n",
    "    'max_depth': [3, 4, 5],         # Profundidade máxima das árvores\n",
    "    'learning_rate': [0.1, 0.01],   # Taxa de aprendizado\n",
    "    'subsample': [0.8, 0.9, 1.0],   # Fração de amostras usadas para treinamento de cada árvore\n",
    "    'colsample_bytree': [0.8, 0.9, 1.0],  # Fração de colunas usadas para treinamento de cada árvore\n",
    "    'min_child_weight': [1, 5, 10],  # Peso mínimo das amostras necessárias em uma folha\n",
    "    'gamma': [0, 0.1, 0.2],         # Regularização gamma (parâmetro de penalização)\n",
    "    'reg_alpha': [0, 0.1, 0.2],     # Regularização L1 (parâmetro de penalização)\n",
    "    'reg_lambda': [1, 1.1, 1.2]     # Regularização L2 (parâmetro de penalização)\n",
    "}\n",
    "\n",
    "grid_search = GridSearchCV(estimator=model_XGB, param_grid=param_grid, cv=5)\n",
    "\n",
    "grid_search.fit(X_treino, Y_treino)\n",
    "\n",
    "best_params = grid_search.best_params_\n",
    "best_estimator = grid_search.best_estimator_"
   ]
  },
  {
   "cell_type": "code",
   "execution_count": null,
   "id": "e94cf007",
   "metadata": {},
   "outputs": [],
   "source": [
    "# Guardar os parâmetros encontrados fora do código\n",
    "melhores_parametros = grid_search.best_params_\n",
    "\n",
    "# Salvar os melhores parâmetros em um arquivo\n",
    "joblib.dump(melhores_parametros, 'melhores_parametros_man.pkl')\n",
    "\n",
    "# Carregar os melhores parâmetros a partir do arquivo\n",
    "#melhores_parametros = joblib.load('melhores_parametros_man.pkl')"
   ]
  },
  {
   "cell_type": "code",
   "execution_count": null,
   "id": "93ce91df",
   "metadata": {},
   "outputs": [],
   "source": [
    "# Ajustar um modelo de XGBoost\n",
    "model_XGB.fit(X_treino, Y_treino)\n",
    "\n",
    "# Configure o modelo com os melhores parâmetros\n",
    "model_XGB.set_params(**best_params)"
   ]
  },
  {
   "cell_type": "code",
   "execution_count": null,
   "id": "66a9cc7f",
   "metadata": {},
   "outputs": [],
   "source": [
    "# Avaliação do desempenho do modelo \n",
    "Y_pred = model_XGB.predict(X_teste)\n",
    "\n",
    "acuracia = accuracy_score(Y_teste, Y_pred)\n",
    "relatorio_classificacao = classification_report(Y_teste, Y_pred)\n",
    "    \n",
    "print(f\"Desempenho para Extreme Gradient Boosting:\")\n",
    "print(f'Acurácia: {acuracia:.2f}')\n",
    "print('Relatório de Classificação:')\n",
    "print(relatorio_classificacao)"
   ]
  },
  {
   "cell_type": "markdown",
   "id": "6f760345",
   "metadata": {},
   "source": [
    "# Predição"
   ]
  },
  {
   "cell_type": "code",
   "execution_count": null,
   "id": "c03415bd",
   "metadata": {},
   "outputs": [],
   "source": [
    "# Valor único para fazer a previsão\n",
    "X_prev = np.array([6]).reshape(-1, 1) # Colocar os valores pedidos\n",
    "\n",
    "# Faça a previsão\n",
    "previsao = modelo_carregado.predict(X_prev)\n",
    "\n",
    "# Imprima a previsão\n",
    "print(f'A previsão para X_prev é: {previsao[0]:.2f}')"
   ]
  }
 ],
 "metadata": {
  "kernelspec": {
   "display_name": "Python 3 (ipykernel)",
   "language": "python",
   "name": "python3"
  },
  "language_info": {
   "codemirror_mode": {
    "name": "ipython",
    "version": 3
   },
   "file_extension": ".py",
   "mimetype": "text/x-python",
   "name": "python",
   "nbconvert_exporter": "python",
   "pygments_lexer": "ipython3",
   "version": "3.9.7"
  }
 },
 "nbformat": 4,
 "nbformat_minor": 5
}

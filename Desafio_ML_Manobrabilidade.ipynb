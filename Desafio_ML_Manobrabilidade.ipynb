{
 "cells": [
  {
   "cell_type": "code",
   "execution_count": null,
   "id": "740a0c9e-634b-494f-b7a9-d4e6bbd56249",
   "metadata": {},
   "outputs": [],
   "source": [
    "import shap\n",
    "import numpy as np\n",
    "import pandas as pd\n",
    "import seaborn as sns\n",
    "from matplotlib import pyplot as plt"
   ]
  },
  {
   "cell_type": "code",
   "execution_count": null,
   "id": "4b15479d",
   "metadata": {},
   "outputs": [],
   "source": [
    "# Bibliotecas dos Modelos Utilizados\n",
    "from sklearn.linear_model import LogisticRegression  # Regressão Logística.\n",
    "from sklearn.svm import SVC                          # Máquinas de Vetores de Suporte (SVM).\n",
    "from sklearn.neighbors import KNeighborsClassifier   # K-Vizinhos Mais Próximos\n",
    "from sklearn.tree import DecisionTreeClassifier      # Árvore de Decisões de Classificação.\n",
    "from sklearn.ensemble import RandomForestClassifier  # Floresta Aleatória.\n",
    "from xgboost import XGBClassifier                    # Extreme Gradient Boosting."
   ]
  },
  {
   "cell_type": "code",
   "execution_count": null,
   "id": "b0e9571a",
   "metadata": {},
   "outputs": [],
   "source": [
    "# Análise de Dados\n",
    "from sklearn.decomposition import PCA\n",
    "\n",
    "# Treinamento\n",
    "from sklearn.model_selection import train_test_split\n",
    "from sklearn.metrics import accuracy_score, classification_report\n",
    "\n",
    "# Avalição\n",
    "from sklearn.model_selection import KFold\n",
    "from sklearn.model_selection import cross_val_score\n",
    "from sklearn.inspection import plot_partial_dependence\n",
    "from sklearn.model_selection import cross_val_predict\n",
    "from sklearn.metrics import precision_recall_curve\n",
    "from sklearn.metrics import confusion_matrix\n",
    "from sklearn.metrics import roc_curve\n",
    "from sklearn.metrics import roc_auc_score\n",
    "\n",
    "# Tuning\n",
    "from sklearn.model_selection import GridSearchCV"
   ]
  },
  {
   "cell_type": "markdown",
   "id": "8c69ece5",
   "metadata": {},
   "source": [
    "# Análise de Dados"
   ]
  },
  {
   "cell_type": "code",
   "execution_count": null,
   "id": "a741b4b4",
   "metadata": {},
   "outputs": [],
   "source": [
    "# Carregar o DataFrame a partir de um arquivo Excel\n",
    "caminho_arquivo_excel = 'C:\\\\Users\\\\Andre\\\\Desktop\\\\Julia\\\\Mangue_Baja\\\\DESAFIO TÉCNICO\\\\anonymizedData.xlsx'\n",
    "nome_da_pagina = 'P_Manobrabilidade'  # Nome da página desejada\n",
    "\n",
    "# Lê o arquivo Excel com todas as páginas/sheets\n",
    "xl = pd.ExcelFile(caminho_arquivo_excel)\n",
    "\n",
    "df = xl.parse(nome_da_pagina)\n",
    "\n",
    "# Vê dados \n",
    "df.head()"
   ]
  },
  {
   "cell_type": "code",
   "execution_count": null,
   "id": "2f6b20a5",
   "metadata": {},
   "outputs": [],
   "source": [
    "# Informação básica\n",
    "df.info()"
   ]
  },
  {
   "cell_type": "code",
   "execution_count": null,
   "id": "83830cdb",
   "metadata": {},
   "outputs": [],
   "source": [
    "#Descrição de dados\n",
    "df.describe()"
   ]
  },
  {
   "cell_type": "code",
   "execution_count": null,
   "id": "f9e8154d-e126-4caf-a2b0-25307fa17407",
   "metadata": {},
   "outputs": [],
   "source": [
    "# Achar duplicatas\n",
    "df.duplicated().sum()"
   ]
  },
  {
   "cell_type": "code",
   "execution_count": null,
   "id": "b999b48d",
   "metadata": {},
   "outputs": [],
   "source": [
    "# Achar valores nulos\n",
    "df.isnull().sum()"
   ]
  },
  {
   "cell_type": "code",
   "execution_count": null,
   "id": "662ca05f",
   "metadata": {},
   "outputs": [],
   "source": [
    "# Limpar o Dataset das colunas com muitos valores nulos\n",
    "\n",
    "limite_nulos = 700 # Define o limite de valores nulos permitidos\n",
    "\n",
    "# Remove as colunas com mais de limite_nulos valores nulos\n",
    "df = df.dropna(thresh=len(df) - limite_nulos, axis=1)\n",
    "\n",
    "# Checar \n",
    "df.isnull().sum()"
   ]
  },
  {
   "cell_type": "code",
   "execution_count": null,
   "id": "4413251d",
   "metadata": {},
   "outputs": [],
   "source": [
    "# Substituir valores nulos \n",
    "df.replace(np.nan,'0',inplace = True)\n",
    "\n",
    "# Checar \n",
    "df.isnull().sum()"
   ]
  },
  {
   "cell_type": "code",
   "execution_count": null,
   "id": "aa314838",
   "metadata": {},
   "outputs": [],
   "source": [
    "# Manter todas as colunas em float\n",
    "for coluna in df.columns:\n",
    "    if df[coluna].dtype != float:\n",
    "        df[coluna] = pd.to_numeric(df[coluna], errors='coerce')\n",
    "\n",
    "# Checar\n",
    "df.info()"
   ]
  },
  {
   "cell_type": "code",
   "execution_count": null,
   "id": "3fe08090",
   "metadata": {},
   "outputs": [],
   "source": [
    "# Verifique quais linhas têm mais de 10 valores iguais a zero\n",
    "linhas_quase_nulas = df[(df == 0).sum(axis=1) > 15]\n",
    "\n",
    "# Exiba as linhas que atendem à condição\n",
    "print(linhas_quase_nulas.index)\n",
    "\n",
    "# Exclua as linhas com base nos índices coletados\n",
    "df = df.drop(linhas_quase_nulas.index)\n",
    "\n",
    "# Exiba o DataFrame resultante\n",
    "print(df)"
   ]
  },
  {
   "cell_type": "code",
   "execution_count": null,
   "id": "c8233afb",
   "metadata": {},
   "outputs": [],
   "source": [
    "# Especifique o caminho para o arquivo Excel\n",
    "caminho_arquivo = \"C:\\\\Users\\\\Andre\\\\Desktop\\\\Julia\\\\Mangue_Baja\\\\DESAFIO TÉCNICO\\\\Arquivo_Processado.xlsx\"\n",
    "\n",
    "# Salvar o DataFrame na planilha 'P_Aceleration'\n",
    "df.to_excel(caminho_arquivo, sheet_name='P_Aceleration', index=False)"
   ]
  },
  {
   "cell_type": "code",
   "execution_count": null,
   "id": "e74ba481",
   "metadata": {},
   "outputs": [],
   "source": [
    "# Boxplot\n",
    "for coluna in df.columns:          # Loop para gerar boxplots para cada variável\n",
    "    plt.boxplot(df[coluna])\n",
    "    plt.title(f'Boxplot da {coluna}')\n",
    "    plt.ylabel(coluna)\n",
    "    plt.show()"
   ]
  },
  {
   "cell_type": "code",
   "execution_count": null,
   "id": "7fed5516",
   "metadata": {
    "scrolled": true
   },
   "outputs": [],
   "source": [
    "iqr_limit = 1.5\n",
    "\n",
    "def remove_outliers(df, iqr_limit=1.5):\n",
    "    outliers_removed = df.copy()\n",
    "    for coluna in df.columns:\n",
    "        Q1 = df[coluna].quantile(0.25)\n",
    "        Q3 = df[coluna].quantile(0.75)\n",
    "        IQR = Q3 - Q1\n",
    "        lower_bound = Q1 - iqr_limit * IQR\n",
    "        upper_bound = Q3 + iqr_limit * IQR\n",
    "        outliers_removed = outliers_removed[(outliers_removed[coluna] >= lower_bound) & (outliers_removed[coluna] <= upper_bound)]\n",
    "    return outliers_removed\n",
    "\n",
    "data_sem_outliers = remove_outliers(df, iqr_limit)"
   ]
  },
  {
   "cell_type": "code",
   "execution_count": null,
   "id": "84d71f7d",
   "metadata": {
    "scrolled": true
   },
   "outputs": [],
   "source": [
    "data_corr = df.drop(['P_Manobrabilidade'], axis=1)\n",
    "# Análise de correlação dos parâmetros\n",
    "correlation = df.corr()"
   ]
  },
  {
   "cell_type": "code",
   "execution_count": null,
   "id": "906cdfae",
   "metadata": {},
   "outputs": [],
   "source": [
    "# Plot da matriz de correlação\n",
    "plt.figure(figsize=(10, 8))\n",
    "\n",
    "plot = sns.heatmap(correlation, annot = True, fmt=\".1f\", linewidths=0.5)\n",
    "plt.show()"
   ]
  },
  {
   "cell_type": "code",
   "execution_count": null,
   "id": "eeff6d86",
   "metadata": {},
   "outputs": [],
   "source": [
    "# Selecionar as duas variáveis a serem reduzidas (Variavel1 e Variavel2)\n",
    "variaveis_reduzidas = df[['SD_Dimensoes dos pneus', 'ST_Dimensoes dos pneus']]\n",
    "\n",
    "# Aplicar PCA para reduzir as duas variáveis em uma única variável\n",
    "pca = PCA(n_components=1)\n",
    "variavel_reduzida = pca.fit_transform(variaveis_reduzidas)\n",
    "\n",
    "# Adicione a variável reduzida de volta ao DataFrame original\n",
    "#df['Dimensoes dos pneus'] = variavel_reduzida"
   ]
  },
  {
   "cell_type": "code",
   "execution_count": null,
   "id": "2560af82",
   "metadata": {
    "scrolled": true
   },
   "outputs": [],
   "source": [
    "# Dividir o conjunto de dados em treinamento e teste\n",
    "np.random.seed(456)  # Outra semente para divisão aleatória\n",
    "dados_treino, dados_teste = train_test_split(dados, test_size=0.3)\n",
    "\n",
    "# Separar X e Y\n",
    "X = dados[['Covariate1', 'Covariate2']]\n",
    "Y = dados['Nota']\n",
    "\n",
    "X_treino = dados_treino[['Covariate1', 'Covariate2']]\n",
    "Y_treino = dados_treino['Nota']\n",
    "\n",
    "X_teste = dados_teste[['Covariate1', 'Covariate2']]\n",
    "Y_teste = dados_teste['Nota']\n",
    "\n",
    "print(dados_treino)"
   ]
  },
  {
   "cell_type": "markdown",
   "id": "6ec742fb",
   "metadata": {},
   "source": [
    "# Escolha do Modelo"
   ]
  },
  {
   "cell_type": "markdown",
   "id": "2551aa5a",
   "metadata": {},
   "source": [
    "## Regressão Logística:"
   ]
  },
  {
   "cell_type": "code",
   "execution_count": null,
   "id": "d8929d1a-63a4-45ae-bfab-b17c284253a9",
   "metadata": {
    "scrolled": true
   },
   "outputs": [],
   "source": [
    "# Modelo de regressão logística.\n",
    "model_LR = LogisticRegression()\n",
    "model_LR.fit(X_treino, Y_treino)"
   ]
  },
  {
   "cell_type": "code",
   "execution_count": null,
   "id": "5f300c28-a56b-498a-a619-37c70f934234",
   "metadata": {
    "scrolled": true
   },
   "outputs": [],
   "source": [
    "# Avaliação do desempenho do modelo.\n",
    "Y_pred = model_LR.predict(X_teste)\n",
    "\n",
    "acuracia = accuracy_score(Y_teste, Y_pred)\n",
    "relatorio_classificacao = classification_report(Y_teste, Y_pred)\n",
    "    \n",
    "print(f\"Desempenho para Regressão Logística:\")\n",
    "print(f'Acurácia: {acuracia:.2f}')\n",
    "print('Relatório de Classificação:')\n",
    "print(relatorio_classificacao)"
   ]
  },
  {
   "cell_type": "code",
   "execution_count": null,
   "id": "95474d74",
   "metadata": {
    "scrolled": true
   },
   "outputs": [],
   "source": [
    "# Analisar os resíduos\n",
    "residuos = Y_teste - Y_pred\n",
    "\n",
    "# Plote um gráfico de dispersão dos resíduos em relação às previsões\n",
    "plt.scatter(Y_pred, residuos)\n",
    "plt.xlabel('Previsões')\n",
    "plt.ylabel('Resíduos')\n",
    "plt.show()"
   ]
  },
  {
   "cell_type": "markdown",
   "id": "9ecf29b2",
   "metadata": {},
   "source": [
    "## Máquinas de Vetores de Suporte (SVM)"
   ]
  },
  {
   "cell_type": "code",
   "execution_count": null,
   "id": "6f19f784-20cd-4184-b54c-68c55174dcd0",
   "metadata": {
    "scrolled": true
   },
   "outputs": [],
   "source": [
    "# Modelo SVM com um kernel linear e \"um contra todos\"\n",
    "model_SVM = SVC(kernel='linear', decision_function_shape='ovr')\n",
    "model_SVM.fit(X_treino, Y_treino)"
   ]
  },
  {
   "cell_type": "code",
   "execution_count": null,
   "id": "c134d47e",
   "metadata": {
    "scrolled": true
   },
   "outputs": [],
   "source": [
    "# Avaliação do desempenho do modelo.\n",
    "Y_pred = model_SVM.predict(X_teste)\n",
    "\n",
    "acuracia = accuracy_score(Y_teste, Y_pred)\n",
    "relatorio_classificacao = classification_report(Y_teste, Y_pred)\n",
    "    \n",
    "print(f\"Desempenho para Máquinas de Vetores de Suporte:\")\n",
    "print(f'Acurácia: {acuracia:.2f}')\n",
    "print('Relatório de Classificação:')\n",
    "print(relatorio_classificacao)"
   ]
  },
  {
   "cell_type": "code",
   "execution_count": null,
   "id": "68c1e3a5",
   "metadata": {
    "scrolled": true
   },
   "outputs": [],
   "source": [
    "# Analisar os resíduos\n",
    "residuos = Y_teste - Y_pred\n",
    "\n",
    "# Plote um gráfico de dispersão dos resíduos em relação às previsões\n",
    "plt.scatter(Y_pred, residuos)\n",
    "plt.xlabel('Previsões')\n",
    "plt.ylabel('Resíduos')\n",
    "plt.show()"
   ]
  },
  {
   "cell_type": "markdown",
   "id": "cd21bad2",
   "metadata": {},
   "source": [
    "## K-Nearest Neighbors"
   ]
  },
  {
   "cell_type": "code",
   "execution_count": null,
   "id": "43b03294",
   "metadata": {
    "scrolled": true
   },
   "outputs": [],
   "source": [
    "k = 3  # Número de vizinhos (Altere por necessidade)\n",
    "\n",
    "# Modelo de K-Vizinhos Mais Próximos (K-Nearest Neighbors - KNN).\n",
    "model_KNN = KNeighborsClassifier(n_neighbors=k)\n",
    "model_KNN.fit(X_treino, Y_treino)"
   ]
  },
  {
   "cell_type": "code",
   "execution_count": null,
   "id": "ed68dfa3",
   "metadata": {
    "scrolled": true
   },
   "outputs": [],
   "source": [
    "# Avaliação do desempenho do modelo usando as métricas de erro quadrático médio (RMSE) e o coeficiente de determinação (R2).\n",
    "Y_pred = model_KNN.predict(X_teste)\n",
    "\n",
    "acuracia = accuracy_score(Y_teste, Y_pred)\n",
    "relatorio_classificacao = classification_report(Y_teste, Y_pred)\n",
    "    \n",
    "print(f\"Desempenho para K-Vizinhos Mais Próximos:\")\n",
    "print(f'Acurácia: {acuracia:.2f}')\n",
    "print('Relatório de Classificação:')\n",
    "print(relatorio_classificacao)"
   ]
  },
  {
   "cell_type": "code",
   "execution_count": null,
   "id": "9c5ebdfc",
   "metadata": {
    "scrolled": true
   },
   "outputs": [],
   "source": [
    "# Analisar os resíduos\n",
    "residuos = Y_teste - Y_pred\n",
    "\n",
    "# Plote um gráfico de dispersão dos resíduos em relação às previsões\n",
    "plt.scatter(Y_pred, residuos)\n",
    "plt.xlabel('Previsões')\n",
    "plt.ylabel('Resíduos')\n",
    "plt.show()"
   ]
  },
  {
   "cell_type": "markdown",
   "id": "9ccc13df",
   "metadata": {},
   "source": [
    "## Decision Tree Classifier"
   ]
  },
  {
   "cell_type": "code",
   "execution_count": null,
   "id": "7f4b40e0",
   "metadata": {
    "scrolled": true
   },
   "outputs": [],
   "source": [
    "# Modelo de Árvore de Decisão de Classificação.\n",
    "model_DTC = DecisionTreeClassifier()\n",
    "model_DTC.fit(X_treino, Y_treino)"
   ]
  },
  {
   "cell_type": "code",
   "execution_count": null,
   "id": "c5a4658a",
   "metadata": {
    "scrolled": true
   },
   "outputs": [],
   "source": [
    "# Avaliação do desempenho do modelo usando as métricas de erro quadrático médio (RMSE) e o coeficiente de determinação (R2).\n",
    "Y_pred = model_DTC.predict(X_teste)\n",
    "\n",
    "acuracia = accuracy_score(Y_teste, Y_pred)\n",
    "relatorio_classificacao = classification_report(Y_teste, Y_pred)\n",
    "    \n",
    "print(f\"Desempenho para Árvore de Decisão de Classificação:\")\n",
    "print(f'Acurácia: {acuracia:.2f}')\n",
    "print('Relatório de Classificação:')\n",
    "print(relatorio_classificacao)"
   ]
  },
  {
   "cell_type": "code",
   "execution_count": null,
   "id": "a6d48304",
   "metadata": {
    "scrolled": true
   },
   "outputs": [],
   "source": [
    "# Analisar os resíduos\n",
    "residuos = Y_teste - Y_pred\n",
    "\n",
    "# Plote um gráfico de dispersão dos resíduos em relação às previsões\n",
    "plt.scatter(Y_pred, residuos)\n",
    "plt.xlabel('Previsões')\n",
    "plt.ylabel('Resíduos')\n",
    "plt.show()"
   ]
  },
  {
   "cell_type": "markdown",
   "id": "eda417dd",
   "metadata": {},
   "source": [
    "## Random Forest Classifier"
   ]
  },
  {
   "cell_type": "code",
   "execution_count": null,
   "id": "bcd0c505",
   "metadata": {
    "scrolled": true
   },
   "outputs": [],
   "source": [
    "# Modelo de Regressão de Floresta Aleatória.\n",
    "model_RFC = RandomForestClassifier()\n",
    "model_RFC.fit(X_treino, Y_treino)"
   ]
  },
  {
   "cell_type": "code",
   "execution_count": null,
   "id": "43ed6de8",
   "metadata": {
    "scrolled": true
   },
   "outputs": [],
   "source": [
    "# Avaliação do desempenho do modelo.\n",
    "Y_pred = model_RFC.predict(X_teste)\n",
    "\n",
    "acuracia = accuracy_score(Y_teste, Y_pred)\n",
    "relatorio_classificacao = classification_report(Y_teste, Y_pred)\n",
    "    \n",
    "print(f\"Desempenho para Regressão de Floresta Aleatória:\")\n",
    "print(f'Acurácia: {acuracia:.2f}')\n",
    "print('Relatório de Classificação:')\n",
    "print(relatorio_classificacao)"
   ]
  },
  {
   "cell_type": "code",
   "execution_count": null,
   "id": "66da8ceb",
   "metadata": {
    "scrolled": true
   },
   "outputs": [],
   "source": [
    "# Analisar os resíduos.\n",
    "residuos = Y_teste - Y_pred\n",
    "\n",
    "# Plote um gráfico de dispersão dos resíduos em relação às previsões\n",
    "plt.scatter(Y_pred, residuos)\n",
    "plt.xlabel('Previsões')\n",
    "plt.ylabel('Resíduos')\n",
    "plt.show()"
   ]
  },
  {
   "cell_type": "markdown",
   "id": "d20c5a1a",
   "metadata": {},
   "source": [
    "## XGBoost"
   ]
  },
  {
   "cell_type": "code",
   "execution_count": null,
   "id": "043ca87d",
   "metadata": {
    "scrolled": true
   },
   "outputs": [],
   "source": [
    "# Modelo de Extreme Gradient Boosting.\n",
    "model_XGB = XGBClassifier()\n",
    "model_XGB.fit(X_treinamento, y_treinamento)"
   ]
  },
  {
   "cell_type": "code",
   "execution_count": null,
   "id": "d5a9dbf6",
   "metadata": {
    "scrolled": true
   },
   "outputs": [],
   "source": [
    "# Avaliação do desempenho do modelo usando as métricas de erro quadrático médio (RMSE) e o coeficiente de determinação (R2).\n",
    "Y_pred = model_XGB.predict(X_teste)\n",
    "\n",
    "acuracia = accuracy_score(Y_teste, Y_pred)\n",
    "relatorio_classificacao = classification_report(Y_teste, Y_pred)\n",
    "    \n",
    "print(f\"Desempenho para Extreme Gradient Boosting:\")\n",
    "print(f'Acurácia: {acuracia:.2f}')\n",
    "print('Relatório de Classificação:')\n",
    "print(relatorio_classificacao)"
   ]
  },
  {
   "cell_type": "code",
   "execution_count": null,
   "id": "1c005554",
   "metadata": {
    "scrolled": true
   },
   "outputs": [],
   "source": [
    "# Analisar os resíduos\n",
    "residuos = Y_teste - Y_pred\n",
    "\n",
    "# Plote um gráfico de dispersão dos resíduos em relação às previsões\n",
    "plt.scatter(Y_pred, residuos)\n",
    "plt.xlabel('Previsões')\n",
    "plt.ylabel('Resíduos')\n",
    "plt.show()"
   ]
  },
  {
   "cell_type": "markdown",
   "id": "2c2755bc",
   "metadata": {},
   "source": [
    "# Treinamento do Modelo"
   ]
  },
  {
   "cell_type": "markdown",
   "id": "3bdaf487",
   "metadata": {},
   "source": [
    "## Bootstraps"
   ]
  },
  {
   "cell_type": "code",
   "execution_count": null,
   "id": "9ea575e3",
   "metadata": {
    "scrolled": true
   },
   "outputs": [],
   "source": [
    "n_iterations = 100  # Número de iterações do Bootstrap\n",
    "\n",
    "# Lista para armazenar as métricas de desempenho em cada iteração\n",
    "performance_metrics = []\n",
    "\n",
    "for _ in range(n_iterations):\n",
    "    # Amostragem Bootstrap: crie um conjunto de treinamento com reamostragem\n",
    "    indices_amostra = np.random.choice(len(X_treino), size=len(X_treino), replace=True)\n",
    "    X_bootstrap = X_treino[indices_amostra]\n",
    "    y_bootstrap = Y_treino[indices_amostra]\n",
    "\n",
    "    # Crie e treine seu modelo\n",
    "    model_XGB.fit(X_bootstrap, y_bootstrap)\n",
    "\n",
    "    # Avalie o modelo no conjunto de teste\n",
    "    desempenho = model_XGB.score(X_teste, Y_teste)  # Use a métrica apropriada para o seu problema\n",
    "    performance_metrics.append(desempenho)"
   ]
  },
  {
   "cell_type": "code",
   "execution_count": null,
   "id": "1b1e60b6",
   "metadata": {
    "scrolled": true
   },
   "outputs": [],
   "source": [
    "# Calcule as métricas resumidas (por exemplo, média e desvio padrão)\n",
    "media_desempenho = np.mean(performance_metrics)\n",
    "desvio_padrao_desempenho = np.std(performance_metrics)\n",
    "\n",
    "# Imprima as métricas resumidas\n",
    "print(f'Média do desempenho: {media_desempenho:.4f}')\n",
    "print(f'Desvio Padrão do desempenho: {desvio_padrao_desempenho:.4f}')"
   ]
  },
  {
   "cell_type": "markdown",
   "id": "3e3017c1",
   "metadata": {},
   "source": [
    "# Avaliação do Modelo"
   ]
  },
  {
   "cell_type": "markdown",
   "id": "0dac3811",
   "metadata": {},
   "source": [
    "## Cross-Validation"
   ]
  },
  {
   "cell_type": "code",
   "execution_count": null,
   "id": "91201032",
   "metadata": {
    "scrolled": true
   },
   "outputs": [],
   "source": [
    "# Número de classes\n",
    "n_classes = 5\n",
    "\n",
    "kfold = KFold(n_splits=5, shuffle=True, random_state=42)\n",
    "#kfold = StratifiedKFold(n_splits = 5, shuffle = True) # Caso uma classe prevaleça muita em função da outra"
   ]
  },
  {
   "cell_type": "code",
   "execution_count": null,
   "id": "6dff749b",
   "metadata": {
    "scrolled": true
   },
   "outputs": [],
   "source": [
    "# Calcule a média das pontuações para avaliação de Acurácia do modelo\n",
    "def intervalo(results):\n",
    "    mean = results.mean()\n",
    "    dv = results.std()\n",
    "    print('Acurácia média: {:.2f}%'.format(mean * 100))\n",
    "    print('Intervalo de acurácia: [{:.2f}% ~ {:.2f}%]'.format((mean - 2 * dv) * 100, (mean + 2 * dv) * 100)\n",
    "\n",
    "scores = cross_val_score(model_XGB, X_treino, Y_treino, cv=kfold, scoring='accuracy') # Checar Modelo\n",
    "intervalo(scores)"
   ]
  },
  {
   "cell_type": "code",
   "execution_count": null,
   "id": "6ea56f70",
   "metadata": {
    "scrolled": true
   },
   "outputs": [],
   "source": [
    "# Calcule a média das pontuações para avaliação de Precisão do modelo\n",
    "def intervalo_prec(results):\n",
    "    mean = results.mean()\n",
    "    dv = results.std()\n",
    "    print('Precisão média: {:.2f}%'.format(mean * 100))\n",
    "    print('Intervalo de Precisão: [{:.2f}% ~ {:.2f}%]'.format((mean - 2 * dv) * 100, (mean + 2 * dv) * 100)\n",
    "\n",
    "scores = cross_val_score(model_XGB, X_treino, Y_treino, cv=kfold, scoring='precision_macro') # Checar Modelo\n",
    "intervalo_prec(scores)"
   ]
  },
  {
   "cell_type": "code",
   "execution_count": null,
   "id": "dcd27d3e",
   "metadata": {
    "scrolled": true
   },
   "outputs": [],
   "source": [
    "# Calcule a média das pontuações para avaliação de Recall do modelo\n",
    "def intervalo_recall(results):\n",
    "    mean = results.mean()\n",
    "    dv = results.std()\n",
    "    print('Recall médio: {:.2f}%'.format(mean * 100))\n",
    "    print('Intervalo de Recall: [{:.2f}% ~ {:.2f}%]'.format((mean - 2 * dv) * 100, (mean + 2 * dv) * 100)\n",
    "\n",
    "scores = cross_val_score(model_XGB, X_treino, Y_treino, cv=kfold, scoring='recall_macro') # Checar Modelo\n",
    "intervalo_recall(scores)"
   ]
  },
  {
   "cell_type": "code",
   "execution_count": null,
   "id": "cfff3831",
   "metadata": {
    "scrolled": true
   },
   "outputs": [],
   "source": [
    "# Comparar scores de Previsão e Recall\n",
    "y_scores = cross_val_predict(model_XGB, X_treino, Y_treino, cv=kfold, method='predict_proba')\n",
    "\n",
    "precisions, recalls, thresholds = precision_recall_curve(Y_treino, y_scores, pos_label=1) # Certifique-se de especificar a classe positiva correta\n",
    "\n",
    "fig, ax = plt.subplots(figsize=(12, 3))\n",
    "plt.plot(thresholds, precisions, 'b--', label='Precisão')\n",
    "plt.plot(thresholds, recalls, 'g-', label='Recall')\n",
    "plt.xlabel('Threshold')\n",
    "plt.legend(loc='center right')\n",
    "plt.ylim([0, 1])\n",
    "plt.title('Precisão x Recall', fontsize=14)\n",
    "plt.show()"
   ]
  },
  {
   "cell_type": "code",
   "execution_count": null,
   "id": "bdbc48e8",
   "metadata": {
    "scrolled": true
   },
   "outputs": [],
   "source": [
    "# Matriz de Confusão\n",
    "Y_pred = cross_val_predict(model_XGB, X_treino, Y_treino, cv=kfold) # Checar Modelo\n",
    "\n",
    "fig, ax = plt.subplots()\n",
    "sns.heatmap(confusion_matrix(Y_treino, Y_pred), annot=True, ax=ax, fmt='d', cmap='Reds', cbar=False, square=True)\n",
    "ax.set_title(\"Matriz de Confusão\", fontsize=18)\n",
    "ax.set_ylabel(\"True label\")\n",
    "ax.set_xlabel(\"Predicted Label\")\n",
    "plt.tight_layout()"
   ]
  },
  {
   "cell_type": "code",
   "execution_count": null,
   "id": "d1470dc0",
   "metadata": {
    "scrolled": true
   },
   "outputs": [],
   "source": [
    "# Relatório do modelo\n",
    "print('Relatório de classificação:\\n', classification_report(Y_treino, Y_pred, digits=4))"
   ]
  },
  {
   "cell_type": "code",
   "execution_count": null,
   "id": "74539aab",
   "metadata": {
    "scrolled": true
   },
   "outputs": [],
   "source": [
    "# Receiver operating characteristic — ROC\n",
    "fpr, tpr, thresholds = roc_curve(Y_treino, y_scores[:, 1]) # Certifique-se de especificar a classe positiva correta\n",
    "\n",
    "fig, ax = plt.subplots(figsize=(12, 4))\n",
    "plt.plot(fpr, tpr, linewidth=2, label='Logistic Regression') # Checar Modelo\n",
    "plt.plot([0, 1], [0, 1], 'k--')\n",
    "plt.axis([0, 1, 0, 1])\n",
    "plt.xlabel('Taxa de Falsos Positivos')\n",
    "plt.ylabel('Taxa de Verdadeiros Positivos')\n",
    "plt.legend(loc='lower right')\n",
    "plt.title('Curva ROC', fontsize=14)\n",
    "plt.show()"
   ]
  },
  {
   "cell_type": "code",
   "execution_count": null,
   "id": "6a42ecb9",
   "metadata": {
    "scrolled": true
   },
   "outputs": [],
   "source": [
    "# Área sob a Curva\n",
    "print('Área sob a curva ROC: {:.4f}'.format(roc_auc_score(Y_treino, y_scores, multi_class='ovr', average='macro'))"
   ]
  },
  {
   "cell_type": "code",
   "execution_count": null,
   "id": "8334b100",
   "metadata": {
    "scrolled": true
   },
   "outputs": [],
   "source": [
    "# Treinamento do modelo \n",
    "model_XGB.fit(X_treino, Y_treino) # Checar modelo\n",
    "\n",
    "# Fazer previsões no conjunto de teste\n",
    "Y_pred_teste = model_XGB.predict(X_teste)\n",
    "\n",
    "# Acurácia no conjunto de teste\n",
    "accuracy = accuracy_score(Y_teste, Y_pred_teste)\n",
    "print('Acurácia no conjunto de teste: {:.2f}%'.format(accuracy * 100))\n",
    "\n",
    "# Precisão no conjunto de teste\n",
    "precision = precision_score(Y_teste, Y_pred_teste, average='macro')\n",
    "print('Precisão no conjunto de teste: {:.2f}%'.format(precision * 100))\n",
    "\n",
    "# Recall no conjunto de teste\n",
    "recall = recall_score(Y_teste, Y_pred_teste, average='macro')\n",
    "print('Recall no conjunto de teste: {:.2f}%'.format(recall * 100))\n",
    "\n",
    "# Relatório de classificação no conjunto de teste\n",
    "print('Relatório de classificação no conjunto de teste:\\n', classification_report(Y_teste, Y_pred_teste, digits=4))"
   ]
  },
  {
   "cell_type": "markdown",
   "id": "855c4d7a",
   "metadata": {},
   "source": [
    "## Análise de Variáveis "
   ]
  },
  {
   "cell_type": "code",
   "execution_count": null,
   "id": "5d189752",
   "metadata": {
    "scrolled": true
   },
   "outputs": [],
   "source": [
    "# Analisar variáveis que mais afetam o modelo\n",
    "importances = model_XGB.feature_importances_\n",
    "\n",
    "# Classifique as importâncias das características\n",
    "indices_ordenados = np.argsort(importances)[::-1]\n",
    "\n",
    "print(importances)"
   ]
  },
  {
   "cell_type": "code",
   "execution_count": null,
   "id": "ebd5e713",
   "metadata": {
    "scrolled": true
   },
   "outputs": [],
   "source": [
    "# Analisar como uma variável afeta as previsões\n",
    "features_to_plot = [['Covariate1', 'Covariate2']]\n",
    "\n",
    "# Crie PDPs para as variáveis escolhidas\n",
    "plot_partial_dependence(model_XGB, X_treino, features=features_to_plot)\n",
    "plt.show()"
   ]
  },
  {
   "cell_type": "code",
   "execution_count": null,
   "id": "63ffa90b",
   "metadata": {
    "scrolled": true
   },
   "outputs": [],
   "source": [
    "# Crie um objeto explainer\n",
    "explainer = shap.Explainer(model_XGB, X_treino)\n",
    "\n",
    "# Calcule os valores Shapley para um exemplo de dado específico\n",
    "shap_values = explainer.shap_values(X_teste)\n",
    "\n",
    "# Visualize os valores Shapley\n",
    "shap.summary_plot(shap_values, X_teste)"
   ]
  },
  {
   "cell_type": "markdown",
   "id": "9854cec8",
   "metadata": {},
   "source": [
    "# Aprimoramento de Parâmetros"
   ]
  },
  {
   "cell_type": "markdown",
   "id": "84cbe274",
   "metadata": {},
   "source": [
    "## Tuning"
   ]
  },
  {
   "cell_type": "code",
   "execution_count": null,
   "id": "8a7a6963",
   "metadata": {
    "scrolled": true
   },
   "outputs": [],
   "source": [
    "# Exemplo de Tuning\n",
    "param_grid = {\n",
    "    'n_estimators': [10, 20, 30],           # Número de árvores na floresta\n",
    "    'max_depth': [None, 10, 20, 30],        # Profundidade máxima das árvores\n",
    "    'min_samples_split': [2, 5, 10],        # Número mínimo de amostras necessárias para dividir um nó\n",
    "    'min_samples_leaf': [1, 2, 4],          # Número mínimo de amostras em uma folha\n",
    "    'max_features': ['auto', 'sqrt']        # Número máximo de recursos a serem considerados em cada divisão\n",
    "}\n",
    "\n",
    "grid_search = GridSearchCV(estimator=model_XGB, param_grid=param_grid, cv=5)\n",
    "\n",
    "grid_search.fit(X_treino, Y_treino)\n",
    "\n",
    "best_params = grid_search.best_params_\n",
    "best_estimator = grid_search.best_estimator_"
   ]
  },
  {
   "cell_type": "code",
   "execution_count": null,
   "id": "93ce91df",
   "metadata": {
    "scrolled": true
   },
   "outputs": [],
   "source": [
    "# Ajustar um modelo de RandomForestRegressor\n",
    "model_XGB.fit(X_treino, Y_treino)\n",
    "\n",
    "# Configure o modelo com os melhores parâmetros\n",
    "model_XGB.set_params(**best_params)"
   ]
  },
  {
   "cell_type": "code",
   "execution_count": null,
   "id": "66a9cc7f",
   "metadata": {
    "scrolled": true
   },
   "outputs": [],
   "source": [
    "# Avaliação do desempenho do modelo usando as métricas de erro quadrático médio (RMSE) e o coeficiente de determinação (R2).\n",
    "Y_pred = model_XGB.predict(X_teste)\n",
    "\n",
    "acuracia = accuracy_score(Y_teste, Y_pred)\n",
    "relatorio_classificacao = classification_report(Y_teste, Y_pred)\n",
    "    \n",
    "print(f\"Desempenho para Extreme Gradient Boosting:\")\n",
    "print(f'Acurácia: {acuracia:.2f}')\n",
    "print('Relatório de Classificação:')\n",
    "print(relatorio_classificacao)"
   ]
  },
  {
   "cell_type": "markdown",
   "id": "8fcf1e59",
   "metadata": {},
   "source": [
    "## Redução de Dimensão"
   ]
  },
  {
   "cell_type": "code",
   "execution_count": null,
   "id": "e2033b6a",
   "metadata": {
    "scrolled": true
   },
   "outputs": [],
   "source": [
    "# Selecione um número específico de características mais importantes\n",
    "num_caracteristicas_selecionadas = 3  # Por exemplo, selecione as 3 mais importantes\n",
    "\n",
    "X_treino_selecionado = X_treino[:, indices_ordenados[:num_caracteristicas_selecionadas]]\n",
    "X_teste_selecionado = X_teste[:, indices_ordenados[:num_caracteristicas_selecionadas]]\n",
    "\n",
    "# Em seguida, treine seu modelo no conjunto de dados com características selecionadas\n",
    "model_XGB.fit(X_treino_selecionado, Y_treino)"
   ]
  },
  {
   "cell_type": "code",
   "execution_count": null,
   "id": "563f0f98",
   "metadata": {
    "scrolled": true
   },
   "outputs": [],
   "source": [
    "# Avaliação do desempenho do modelo usando as métricas de erro quadrático médio (RMSE) e o coeficiente de determinação (R2).\n",
    "Y_pred = model_XGB.predict(X_teste)\n",
    "\n",
    "acuracia = accuracy_score(Y_teste, Y_pred)\n",
    "relatorio_classificacao = classification_report(Y_teste, Y_pred)\n",
    "    \n",
    "print(f\"Desempenho para Extreme Gradient Boosting:\")\n",
    "print(f'Acurácia: {acuracia:.2f}')\n",
    "print('Relatório de Classificação:')\n",
    "print(relatorio_classificacao)"
   ]
  },
  {
   "cell_type": "markdown",
   "id": "6f760345",
   "metadata": {},
   "source": [
    "# Predição"
   ]
  },
  {
   "cell_type": "code",
   "execution_count": null,
   "id": "c03415bd",
   "metadata": {
    "scrolled": true
   },
   "outputs": [],
   "source": [
    "# Valor único para fazer a previsão\n",
    "X_prev = np.array([6]).reshape(-1, 1) # Colocar os valores pedidos\n",
    "\n",
    "# Faça a previsão\n",
    "previsao = modelo_carregado.predict(X_prev)\n",
    "\n",
    "# Imprima a previsão\n",
    "print(f'A previsão para X_prev é: {previsao[0]:.2f}')"
   ]
  }
 ],
 "metadata": {
  "kernelspec": {
   "display_name": "Python 3 (ipykernel)",
   "language": "python",
   "name": "python3"
  },
  "language_info": {
   "codemirror_mode": {
    "name": "ipython",
    "version": 3
   },
   "file_extension": ".py",
   "mimetype": "text/x-python",
   "name": "python",
   "nbconvert_exporter": "python",
   "pygments_lexer": "ipython3",
   "version": "3.9.7"
  }
 },
 "nbformat": 4,
 "nbformat_minor": 5
}
